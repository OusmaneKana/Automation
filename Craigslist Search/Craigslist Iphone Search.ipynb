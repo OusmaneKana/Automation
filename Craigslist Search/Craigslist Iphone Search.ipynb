{
 "cells": [
  {
   "cell_type": "code",
   "execution_count": 1,
   "metadata": {
    "collapsed": true
   },
   "outputs": [],
   "source": [
    "from urllib.request import urlopen as Ureq"
   ]
  },
  {
   "cell_type": "code",
   "execution_count": 2,
   "metadata": {
    "collapsed": true
   },
   "outputs": [],
   "source": [
    "from bs4 import BeautifulSoup as Bsoup"
   ]
  },
  {
   "cell_type": "code",
   "execution_count": 3,
   "metadata": {
    "collapsed": true
   },
   "outputs": [],
   "source": [
    "from IPython.display import Image"
   ]
  },
  {
   "cell_type": "code",
   "execution_count": 44,
   "metadata": {},
   "outputs": [],
   "source": [
    "def parse_page(url):\n",
    "    x= Ureq(url)\n",
    "    page = x.read()\n",
    "    x.close()\n",
    "    page_parsed = Bsoup(page, 'html.parser')\n",
    "    return (page_parsed)\n",
    "    \n",
    "    "
   ]
  },
  {
   "cell_type": "code",
   "execution_count": 45,
   "metadata": {},
   "outputs": [],
   "source": [
    "url ='https://houston.craigslist.org/wan/d/buyer-h-town-iphone-1112-pro-buying/7230420545.html'"
   ]
  },
  {
   "cell_type": "code",
   "execution_count": null,
   "metadata": {},
   "outputs": [],
   "source": []
  },
  {
   "cell_type": "code",
   "execution_count": 46,
   "metadata": {},
   "outputs": [],
   "source": [
    "url = 'https://houston.craigslist.org/search/sss?query=Iphone'\n",
    "x= Ureq(url)\n",
    "page = x.read()\n",
    "x.close()"
   ]
  },
  {
   "cell_type": "code",
   "execution_count": 47,
   "metadata": {},
   "outputs": [],
   "source": [
    "page_parsed = Bsoup(page, 'html.parser')"
   ]
  },
  {
   "cell_type": "code",
   "execution_count": 6,
   "metadata": {
    "collapsed": true
   },
   "outputs": [],
   "source": [
    "results= page_parsed.findAll(\"li\", {\"class\": \"result-row\"})"
   ]
  },
  {
   "cell_type": "code",
   "execution_count": 38,
   "metadata": {
    "collapsed": true
   },
   "outputs": [],
   "source": [
    "item =  results[0]\n"
   ]
  },
  {
   "cell_type": "code",
   "execution_count": 12,
   "metadata": {
    "collapsed": true
   },
   "outputs": [],
   "source": [
    "item_parse = item.findAll(\"a\",{\"class\":\"result-title hdrlnk\"})"
   ]
  },
  {
   "cell_type": "code",
   "execution_count": 32,
   "metadata": {
    "collapsed": true
   },
   "outputs": [],
   "source": [
    "post_url = (results[0].a[\"href\"]) \n"
   ]
  },
  {
   "cell_type": "code",
   "execution_count": null,
   "metadata": {
    "collapsed": true
   },
   "outputs": [],
   "source": []
  },
  {
   "cell_type": "code",
   "execution_count": 43,
   "metadata": {
    "collapsed": true
   },
   "outputs": [
    {
     "name": "stdout",
     "output_type": "stream",
     "text": [
      "https://houston.craigslist.org/wan/d/buyer-h-town-iphone-1112-pro-buying/7230420545.html\n",
      "\n",
      "\n",
      "QR Code Link to This Post\n",
      "\n",
      "\n",
      "Selling a brand new Xbox Series X\n",
      "\n",
      "Ordered from Amazon.com. arrives 11/15/20 (late shipment. Was suppose to be release day delivery)\n",
      "\n",
      "Asking $900 Perfect Condition! Price negotiable.\n",
      "\n",
      "Just moved apt and need to downsize. More stuff at https://www.Twitter.com/lombarter\n",
      "I just ordered an Apple Watch 6 so I'm selling my Watch 5. Comes with box/papers/charger, etc. I never used the band so it's NIB. 44mm in Space Gray Aluminum. \n",
      "\n",
      "I take care of my stuff so it's in excellent condition with a few very light scratches only visible under heavy light.\n",
      "\n",
      "First come. I'm in Hurst.    \n",
      "True\n",
      "\n",
      "\n",
      "\n",
      "https://houston.craigslist.org/ele/d/brenham-unlocked-gorgeous-iphone7-orig/7234617375.html\n",
      "\n",
      "\n",
      "QR Code Link to This Post\n",
      "\n",
      "\n",
      "WOULD BE A GREAT GIFT. This is my IPhone, I purchased it new, It is gold and is 32 gb. I had an Otterbox Defender Case waiting for it when it arrived. It has never been out of its case, except for cleaning the case. I did purchase a new battery for it about 6 months ago at the Phone place in Bryan, cost was $50 plus tax. The Otterbox Defender is by far the best case to protect IPhones. I have upgraded to a newer phone is the only reason I am selling this IPhone. Again, one owner (me), never had any issues, no cracks etc. It comes with 2 Otterbox Defender cases w/holster clips, a home charger, its original box. Would be a great gift. It is unlocked so it can be used with AT&T, Verizon or any carrier.\n",
      "\n",
      "TO AVOID SCAMMERS:\n",
      "Must See in Person, and Pay in Cash\n",
      "MUST PAY CASH (No Paypal, No Personal Checks, No Cashier’s Checks, No Money Orders, etc.)\n",
      "Will Not Ship\n",
      "No Extra Money Accepted    \n",
      "False\n",
      "\n",
      "\n",
      "\n",
      "https://houston.craigslist.org/vgm/d/sugar-land-unused-open-box-bnext-vr/7245497881.html\n",
      "\n",
      "\n",
      "QR Code Link to This Post\n",
      "\n",
      "\n",
      "#1 Best Seller in Video Display Glasses in Amazon has 2,541 ratings. Sells in Amazon for $38+ tax\n",
      "\n",
      "Cash Only no shipping.\n",
      "\n",
      "Play Your Best Mobile Games 360 Movies with Soft & Comfortable New 3D VR Glasses | Blue | w/Eye Protection\n",
      "\n",
      "PERFECT GIFT FOR KIDS & ADULTS – Premium VR set present for father's day, Halloween, Easter, Christmas, Black Friday, Cyber Monday sale. Virtual reality VR glasses for kids. Compatible with smartphones and other mobile phone devices with a 4\"-6.3” screen to bring you a totally immersive visual 360 experience. with an eBook\n",
      "\n",
      "VR SMARTPHONE COMPATIBILITY: Smartphones with a gyro sensor (almost all models) and with a 4\"-6.3” screen. Examples: Bnext VR goggles are compatible with models X, XR, XS, 8, 8 plus, 9, 9 plus, 10, 7, 7 plus, 6, 6s, 6s plus, 6 plus, 6, 5, 5 plus, 5c, 5s, SE, etc. Also compatible with Samsung Android Galaxy s8, s7, j3, s7 edge, s6, s6 edge, note5, a8+, note 3, note 4, note 5, note 7, note 8, note 9, s5 s6, s7, s8, s8 plus, s9, s9 plus, s10, s10 plus, one plus, Box VR etc. And compatible w/ m\n",
      "\n",
      "ADVANCED VR GAMING TECHNOLOGY - Gaming and watching movies with virtual reality headsets work best when your eyes properly align with the screen box. That’s why our VR headset offers FD and OD adjustments (wide FOV) to expand the viewing angle and perfectly match focal distance and unilateral myopic alignment for reduced distortion\n",
      "\n",
      "COMFORTABLE, EXTENDED WEAR DESIGN – Once you start gaming and watching VR movies with Bnext 3D goggles, you’re never going to want to take it off. That’s why we offer a comfort-fit experience with a fully adjustable head strap, eyesight protection system, and a soft nose piece to reduce pressure. Can also support drones that require a phone VR headset\n",
      "\n",
      "EXCLUSIVE VR CONTENT & ONLINE SUPPORT BY BNEXT – The VR headset (viewer) is delivered with our special free VR content list of VR games & VR experiences. Compatible with google cardboard apps that DON'T require a button (some of them), and many other VR apps & adventures that can be found on the Applications Stores. Para gafas de realidad virtual\n",
      "\n",
      "False\n",
      "\n",
      "\n",
      "\n",
      "https://houston.craigslist.org/mod/d/houston-iphone-unlock-here-sprint-all/7245574727.html\n",
      "\n",
      "\n",
      "QR Code Link to This Post\n",
      "\n",
      "\n",
      "We unlock \n",
      "SPRINT $40\n",
      "T-mobile \n",
      "ATT\n",
      "VERIZON \n",
      "CRICKET\n",
      "METRO PCS \n",
      "WE UNLOCK AND ACTIVATE SPRINT TMOBILE ATT ALL NETWORKS \n",
      "REPAIRS ON MACBOOK, IPHONES, SAMSUNG \n",
      " 832.290.2072 sam\n",
      "1000 west oaks mall Houston 77082    \n",
      "False\n",
      "\n",
      "\n",
      "\n",
      "https://houston.craigslist.org/mob/d/houston-apple-iphone-6s-64gb-for-att/7245565739.html\n",
      "\n",
      "\n",
      "QR Code Link to This Post\n",
      "\n",
      "\n",
      "This is an Apple iPhone 6s 64GB cell phone that was NEVER used. Only just now activated to show it is not locked or anything.\n",
      "\n",
      "It is for use on the AT&T network and is in perfect condition, no scratches or damage of any kind.    \n",
      "False\n",
      "\n",
      "\n",
      "\n",
      "https://houston.craigslist.org/mob/d/waller-iphone-gb/7245556694.html\n",
      "\n",
      "\n",
      "QR Code Link to This Post\n",
      "\n",
      "\n",
      "I have an iPhone n8 with 256 gb. Has some wear on the edges. Original box and accessories never used. I live by 290 and 2920..   $250 OBO    \n",
      "False\n",
      "\n",
      "\n",
      "\n",
      "https://houston.craigslist.org/wad/d/houston-iphone-12-pro-buyerbuy-ipads/7245538670.html\n",
      "\n",
      "\n",
      "QR Code Link to This Post\n",
      "\n",
      "\n",
      "I DO NOT BUY LOST / STOLEN / ICLOUD / PASSWORD LOCK PHONES\n",
      "\n",
      "CALL / TEXT : 281-725-6080\n",
      "\n",
      "CALL US WE BUY ANY QTY NEW & USED PHONES , WE BUY ALL CARRIERS\n",
      "\n",
      "SELL US TODAY\n",
      "\n",
      "IPhone 12, 12 mini, 12 pro, 12 pro max\n",
      "\n",
      "IPHONE 11 PRO MAX | IPHONE 11 PRO | IPHONE 11 | IPHONE SE | IPHONE XS MAX | IPHONE XS | IPHONE XR | IPHONE X | IPHONE 8 PLUS | IPHONE 8 | IPHONE 7 PLUS | IPHONE 7 | ALL OTHER IPHONES\n",
      "\n",
      "WE PAY PREMIUM PRICE FOR BULK QTY ( 10 OR MORE UNITS GETS PAID MORE $$)\n",
      "\n",
      "WE PAY INSTANT CASH $$ NO HUSTLING\n",
      "\n",
      "BUYING IPADS | MACBOOKS | AIR PODS | APPLE WATCH | APPLE PENCIL\n",
      "\n",
      "CALL / TEXT : 281-725-6080    \n",
      "False\n",
      "\n",
      "\n",
      "\n",
      "https://houston.craigslist.org/wad/d/houston-buy-iphone-12-pro-maxbuying/7245537157.html\n",
      "\n",
      "\n",
      "QR Code Link to This Post\n",
      "\n",
      "\n",
      "🛑I Do not Buy stolen devices🛑\n",
      "\n",
      "Call or text me 832-916-9596 \n",
      "\n",
      "Buying\n",
      "iPhone 12, 12 mini, 12 pro. 12 pro max \n",
      "iPhone 11 Pro / 11 pro max / iPhone 11 \n",
      "MacBook Pro 16inch 13inch 15inch \n",
      "Apple watch series 5\n",
      "AirPods / AirPods pro / wireless case \n",
      "\n",
      "All carrier and Gb accepted \n",
      "\n",
      "Brand new in box \n",
      "\n",
      "Call or text now 832-916-9596    \n",
      "False\n",
      "\n",
      "\n",
      "\n",
      "https://houston.craigslist.org/wad/d/houston-iphone-12-pro-max-buyer-buying/7245537925.html\n",
      "\n",
      "\n",
      "QR Code Link to This Post\n",
      "\n",
      "\n",
      "Call or text - 713 588 9717 \n",
      "\n",
      "Buying iPhone 12, 12 mini, 12 pro, 12 pro max\n",
      "Buying iPhone 11 11 pro 11 pro max \n",
      "Macbooks Ipads \n",
      "AirPods Appel watches \n",
      "Brand new \n",
      "\n",
      "Paying the best and top \n",
      "\n",
      "Text me now 713 588 9717 \n",
      "\n",
      "🔴I DO NOT HUY STOLEN DEVICES🔴    \n",
      "False\n",
      "\n",
      "\n",
      "\n"
     ]
    }
   ],
   "source": [
    "\"\"\"\n",
    "    So if the description of the element I am looking at doesn have a kyeboard then skip:\n",
    "    \n",
    "    list of keyword I should be looking forward to, in my search\n",
    "\"\"\" \n",
    "for i in range(9):\n",
    "    post= (results[i].a[\"href\"])\n",
    "    description = parse_page(post).findAll(\"section\",{\"id\":\"postingbody\"})[0].text\n",
    "    print(post)\n",
    "    print(description)\n",
    "    print(\"Perfect\" in description)\n",
    "    print(\"\\n\\n\")\n",
    "    \n",
    "#     print(results[i].a[\"href\"])\n",
    "#     print(results[i].findAll(\"a\",{\"class\":\"result-title hdrlnk\"})[0].text)\n",
    "#     print(results[i].findAll(\"span\",{\"class\":\"result-price\"})[0].text)\n",
    "#     print(\"----------------------------\")\n"
   ]
  },
  {
   "cell_type": "code",
   "execution_count": null,
   "metadata": {
    "collapsed": true
   },
   "outputs": [],
   "source": []
  },
  {
   "cell_type": "code",
   "execution_count": null,
   "metadata": {
    "collapsed": true
   },
   "outputs": [],
   "source": []
  },
  {
   "cell_type": "code",
   "execution_count": 11,
   "metadata": {
    "collapsed": true
   },
   "outputs": [],
   "source": [
    "item=results[0]"
   ]
  },
  {
   "cell_type": "code",
   "execution_count": 35,
   "metadata": {
    "collapsed": true
   },
   "outputs": [
    {
     "data": {
      "text/plain": [
       "'https://houston.craigslist.org/wan/d/buyer-h-town-iphone-1112-pro-buying/7230420545.html'"
      ]
     },
     "execution_count": 35,
     "metadata": {},
     "output_type": "execute_result"
    }
   ],
   "source": [
    "item_post= item.a[\"href\"]"
   ]
  },
  {
   "cell_type": "code",
   "execution_count": 13,
   "metadata": {
    "collapsed": true
   },
   "outputs": [],
   "source": [
    "y = Ureq(item_post)"
   ]
  },
  {
   "cell_type": "code",
   "execution_count": 14,
   "metadata": {
    "collapsed": true
   },
   "outputs": [],
   "source": [
    "post = y.read()"
   ]
  },
  {
   "cell_type": "code",
   "execution_count": 15,
   "metadata": {
    "collapsed": true
   },
   "outputs": [],
   "source": [
    "post_parsed = Bsoup(post, \"html.parser\")"
   ]
  },
  {
   "cell_type": "code",
   "execution_count": 16,
   "metadata": {},
   "outputs": [
    {
     "data": {
      "image/jpeg": "[encoded data removed]",
      "text/plain": [
       "<IPython.core.display.Image object>"
      ]
     },
     "execution_count": 16,
     "metadata": {},
     "output_type": "execute_result"
    }
   ],
   "source": [
    "Image(post_parsed.img[\"src\"])"
   ]
  },
  {
   "cell_type": "code",
   "execution_count": 29,
   "metadata": {
    "collapsed": true
   },
   "outputs": [],
   "source": [
    "description = post_parsed.findAll(\"section\",{\"id\":\"postingbody\"})[0].text"
   ]
  },
  {
   "cell_type": "code",
   "execution_count": null,
   "metadata": {
    "collapsed": true
   },
   "outputs": [],
   "source": []
  },
  {
   "cell_type": "code",
   "execution_count": 19,
   "metadata": {
    "collapsed": true
   },
   "outputs": [],
   "source": [
    "item= results"
   ]
  },
  {
   "cell_type": "code",
   "execution_count": 20,
   "metadata": {
    "collapsed": true
   },
   "outputs": [
    {
     "name": "stdout",
     "output_type": "stream",
     "text": [
      "$0\n",
      "$0\n",
      "$0\n",
      "$0\n",
      "$500\n",
      "$180\n",
      "$280\n",
      "$150\n",
      "$300\n",
      "$180\n",
      "$0\n",
      "$0\n",
      "$600\n",
      "$425\n",
      "$0\n",
      "$135\n",
      "$100\n",
      "$180\n",
      "$0\n",
      "$0\n",
      "$775\n",
      "$0\n",
      "$0\n",
      "$0\n",
      "$0\n",
      "$550\n",
      "$0\n",
      "$0\n",
      "$0\n",
      "$0\n",
      "$0\n",
      "$0\n",
      "$0\n",
      "$50\n",
      "$375\n",
      "$159\n",
      "$280\n",
      "$350\n",
      "$20\n",
      "$20\n",
      "$300\n",
      "$950\n",
      "$0\n",
      "$245\n",
      "$365\n",
      "$1\n",
      "$99\n",
      "$1\n",
      "$40\n",
      "$0\n",
      "$0\n",
      "$0\n",
      "$9,999\n",
      "$475\n",
      "$0\n",
      "$20\n",
      "$0\n",
      "$0\n",
      "$0\n",
      "$0\n",
      "$0\n",
      "$300\n",
      "$99\n",
      "$450\n",
      "$280\n",
      "$115\n",
      "$850\n",
      "$750\n",
      "$150\n",
      "$245\n",
      "$999\n",
      "$20\n",
      "$385\n",
      "$135\n",
      "$155\n",
      "$390\n",
      "$5\n",
      "$575\n",
      "$155\n",
      "$159\n",
      "$120\n",
      "$245\n",
      "$285\n",
      "$180\n",
      "$180\n",
      "$0\n",
      "$0\n",
      "$145\n",
      "$0\n",
      "$380\n",
      "$0\n",
      "$250\n",
      "$0\n",
      "$0\n",
      "$0\n",
      "$0\n",
      "$0\n",
      "$0\n",
      "$0\n",
      "$80\n",
      "$120\n",
      "$150\n",
      "$55\n",
      "$0\n",
      "$0\n",
      "$0\n",
      "$0\n",
      "$0\n",
      "$0\n",
      "$0\n",
      "$185\n",
      "$45\n",
      "$0\n",
      "$0\n",
      "$250\n",
      "$0\n",
      "$0\n",
      "$0\n",
      "$0\n",
      "$0\n"
     ]
    }
   ],
   "source": [
    "for item in results:\n",
    "   \n",
    "    print(item.findAll(\"span\",{\"class\":\"result-price\"})[0].text)"
   ]
  },
  {
   "cell_type": "code",
   "execution_count": null,
   "metadata": {
    "collapsed": true
   },
   "outputs": [],
   "source": []
  },
  {
   "cell_type": "code",
   "execution_count": null,
   "metadata": {
    "collapsed": true
   },
   "outputs": [],
   "source": []
  },
  {
   "cell_type": "code",
   "execution_count": null,
   "metadata": {
    "collapsed": true
   },
   "outputs": [],
   "source": []
  },
  {
   "cell_type": "code",
   "execution_count": null,
   "metadata": {
    "collapsed": true
   },
   "outputs": [],
   "source": []
  }
 ],
 "metadata": {
  "kernelspec": {
   "display_name": "Python 3",
   "language": "python",
   "name": "python3"
  },
  "language_info": {
   "codemirror_mode": {
    "name": "ipython",
    "version": 3
   },
   "file_extension": ".py",
   "mimetype": "text/x-python",
   "name": "python",
   "nbconvert_exporter": "python",
   "pygments_lexer": "ipython3",
   "version": "3.7.3"
  }
 },
 "nbformat": 4,
 "nbformat_minor": 4
}
