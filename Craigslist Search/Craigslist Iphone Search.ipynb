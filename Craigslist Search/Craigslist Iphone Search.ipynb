{
 "cells": [
  {
   "cell_type": "code",
   "execution_count": 1,
   "metadata": {},
   "outputs": [],
   "source": [
    "from urllib.request import urlopen as Ureq"
   ]
  },
  {
   "cell_type": "code",
   "execution_count": 2,
   "metadata": {},
   "outputs": [],
   "source": [
    "from bs4 import BeautifulSoup as Bsoup"
   ]
  },
  {
   "cell_type": "code",
   "execution_count": 3,
   "metadata": {},
   "outputs": [],
   "source": [
    "from IPython.display import Image "
   ]
  },
  {
   "cell_type": "code",
   "execution_count": 4,
   "metadata": {},
   "outputs": [],
   "source": [
    "url = 'https://houston.craigslist.org/search/sss?query=Iphone'\n",
    "x= Ureq(url)\n",
    "page = x.read()\n",
    "x.close()"
   ]
  },
  {
   "cell_type": "code",
   "execution_count": 5,
   "metadata": {},
   "outputs": [],
   "source": [
    "page_parsed = Bsoup(page, 'html.parser')"
   ]
  },
  {
   "cell_type": "code",
   "execution_count": 6,
   "metadata": {},
   "outputs": [],
   "source": [
    "results= page_parsed.findAll(\"li\", {\"class\": \"result-row\"})"
   ]
  },
  {
   "cell_type": "code",
   "execution_count": 11,
   "metadata": {},
   "outputs": [
    {
     "data": {
      "text/plain": [
       "<li class=\"result-row\" data-pid=\"7240563146\">\n",
       "<a class=\"result-image gallery\" data-ids=\"3:00B0B_chZz8cuQyx4_0t20CI\" href=\"https://houston.craigslist.org/ele/d/porter-apple-iphone-usb-to-lightning/7240563146.html\">\n",
       "<span class=\"result-price\">$15</span>\n",
       "</a>\n",
       "<div class=\"result-info\">\n",
       "<span class=\"icon icon-star\" role=\"button\">\n",
       "<span class=\"screen-reader-text\">favorite this post</span>\n",
       "</span>\n",
       "<time class=\"result-date\" datetime=\"2020-12-02 14:16\" title=\"Wed 02 Dec 02:16:57 PM\">Dec  2</time>\n",
       "<h3 class=\"result-heading\">\n",
       "<a class=\"result-title hdrlnk\" data-id=\"7240563146\" href=\"https://houston.craigslist.org/ele/d/porter-apple-iphone-usb-to-lightning/7240563146.html\" id=\"postid_7240563146\">Apple iPhone usb-c to lightning cable</a>\n",
       "</h3>\n",
       "<span class=\"result-meta\">\n",
       "<span class=\"result-price\">$15</span>\n",
       "<span class=\"result-hood\"> (Porter)</span>\n",
       "<span class=\"result-tags\">\n",
       "<span class=\"pictag\">pic</span>\n",
       "</span>\n",
       "<span class=\"banish icon icon-trash\" role=\"button\">\n",
       "<span class=\"screen-reader-text\">hide this posting</span>\n",
       "</span>\n",
       "<span aria-hidden=\"true\" class=\"unbanish icon icon-trash red\" role=\"button\"></span>\n",
       "<a class=\"restore-link\" href=\"#\">\n",
       "<span class=\"restore-narrow-text\">restore</span>\n",
       "<span class=\"restore-wide-text\">restore this posting</span>\n",
       "</a>\n",
       "</span>\n",
       "</div>\n",
       "</li>"
      ]
     },
     "execution_count": 11,
     "metadata": {},
     "output_type": "execute_result"
    }
   ],
   "source": [
    "item =  results[0]\n",
    "item"
   ]
  },
  {
   "cell_type": "code",
   "execution_count": 12,
   "metadata": {},
   "outputs": [],
   "source": [
    "item_parse = item.findAll(\"a\",{\"class\":\"result-title hdrlnk\"})"
   ]
  },
  {
   "cell_type": "code",
   "execution_count": 13,
   "metadata": {},
   "outputs": [],
   "source": [
    "post_url = (results[0].a[\"href\"]) \n"
   ]
  },
  {
   "cell_type": "code",
   "execution_count": 10,
   "metadata": {},
   "outputs": [
    {
     "name": "stdout",
     "output_type": "stream",
     "text": [
      "https://houston.craigslist.org/ele/d/porter-apple-iphone-usb-to-lightning/7240563146.html\n",
      "Apple iPhone usb-c to lightning cable\n",
      "$15\n",
      "----------------------------\n",
      "https://houston.craigslist.org/wad/d/houston-top-iphone-buyer-we-buy-iphone/7240569487.html\n",
      "Top Iphone Buyer We Buy Iphone 12pro max,iphone12pro,iphone 12,iphone\n",
      "$0\n",
      "----------------------------\n",
      "https://houston.craigslist.org/mob/d/houston-soooper-super-iphone-se-only/7237653576.html\n",
      "Soooper  super iphone SE only $79 (3506 chimney rock 77056)\n",
      "$79\n",
      "----------------------------\n",
      "https://houston.craigslist.org/mob/d/houston-december-soooooooper-offerta/7237656309.html\n",
      "December  soooooooper offerta iphone SE $79 (3506 chimney rock 77056)\n",
      "$79\n",
      "----------------------------\n",
      "https://houston.craigslist.org/ele/d/humble-iphone-new-like-check-out-the/7240523316.html\n",
      "iPhone (X) New like, check out the pics\n",
      "$450\n",
      "----------------------------\n",
      "https://houston.craigslist.org/ele/d/humble-iphone-new-like-check-out-the/7240527099.html\n",
      "iPhone (X) New like, check out the pics\n",
      "$450\n",
      "----------------------------\n",
      "https://houston.craigslist.org/mob/d/houston-iphone-xr/7240524005.html\n",
      "iphone xr\n",
      "$250\n",
      "----------------------------\n",
      "https://houston.craigslist.org/mob/d/houston-iphone-xs-max-64gb/7240456055.html\n",
      "iPhone XS Max 64GB\n",
      "$500\n",
      "----------------------------\n",
      "https://houston.craigslist.org/ele/d/houston-iphone-11-purple/7240496476.html\n",
      "iPhone 11 purple\n",
      "$200\n",
      "----------------------------\n"
     ]
    }
   ],
   "source": [
    "for i in range(9):\n",
    "    print(results[i].a[\"href\"])\n",
    "    print(results[i].findAll(\"a\",{\"class\":\"result-title hdrlnk\"})[0].text)\n",
    "    print(results[i].findAll(\"span\",{\"class\":\"result-price\"})[0].text)\n",
    "    print(\"----------------------------\")\n"
   ]
  },
  {
   "cell_type": "code",
   "execution_count": null,
   "metadata": {},
   "outputs": [],
   "source": []
  },
  {
   "cell_type": "code",
   "execution_count": null,
   "metadata": {},
   "outputs": [],
   "source": []
  },
  {
   "cell_type": "code",
   "execution_count": 11,
   "metadata": {},
   "outputs": [],
   "source": [
    "item=results[0]"
   ]
  },
  {
   "cell_type": "code",
   "execution_count": 12,
   "metadata": {},
   "outputs": [],
   "source": [
    "item_post= item.a[\"href\"]"
   ]
  },
  {
   "cell_type": "code",
   "execution_count": 14,
   "metadata": {},
   "outputs": [],
   "source": [
    "y = Ureq(item_post)"
   ]
  },
  {
   "cell_type": "code",
   "execution_count": 15,
   "metadata": {},
   "outputs": [],
   "source": [
    "post = y.read()"
   ]
  },
  {
   "cell_type": "code",
   "execution_count": 16,
   "metadata": {},
   "outputs": [],
   "source": [
    "post_parsed = Bsoup(post, \"html.parser\")"
   ]
  },
  {
   "cell_type": "code",
   "execution_count": 17,
   "metadata": {},
   "outputs": [
    {
     "data": {
      "image/jpeg": "[encoded data removed]",
      "text/plain": [
       "<IPython.core.display.Image object>"
      ]
     },
     "execution_count": 17,
     "metadata": {},
     "output_type": "execute_result"
    }
   ],
   "source": [
    "Image(post_parsed.img[\"src\"])"
   ]
  },
  {
   "cell_type": "code",
   "execution_count": 18,
   "metadata": {},
   "outputs": [
    {
     "data": {
      "text/plain": [
       "'\\n\\nQR Code Link to This Post\\n\\n\\nTop MacBook Buyer We Buy Iphone 11 Pro Max Iphone XS Max XR XS X 8 Plus Iphone 12 Iphone 12 Pro\\nI Buy Smartphones, Iphone, Samsung, LG, Androids, Laptops, Gaming systems, Video Games, Drones, Speakers, Cameras, DVD Players, Gaming Controllers, Coffee Makers, Blenders, Juicers, Music Equipment, Headsets, Airpods, Apple Pens, and more! - TOP BUYER\\nText (713-445-6038) For a fast and free quote\\nMost Conditions Condition - Broken, Water Damaged, Cracked, Bad LCD, Bad Camera, Bad Touch, Bad Home Button, etc.\\nFor phones, Any Carrier, Sprint, ATT, Verizon, Tmobile, Boost, Etc.\\nNo photos are required, unless requested. I trust my sellers to provide accurate descriptions of the device, if you don\\'t know\\nwhat device you have, let me know and I will help you figure it out.\\nYou\\'ve got nothing to lose, I\\'ll let you know exactly what the item is worth to me, don\\'t be afraid to ask even if you don\\'t think the item is worth anything it might still be worth something!\\nI can meet up today with cash\\nSafe meetup at a local precinct, starbucks, or local public space.\\nMost Conditions Condition - Broken, Water Damaged, Cracked, Bad LCD, Bad Camera, Bad Touch, Bad Home Button, etc.\\nSome Phones I buy:\\n\\niphone 11\\niphone 11 pro iphone 11 pro max\\nIphone 6, Iphone 6s, Iphone 6s plus, Iphone 6 plus, Iphone 7, Iphone 7 plus, Iphone 8, Iphone 8 plus, Iphone X, Iphone XS Max, Iphone XR, Iphone XS\\nSamsung Galaxy Note 4, Samsung Galaxy Note 5, Samsung Galaxy Note 6, Samsung Galaxy Note 7, Samsung Galaxy Note 8, Samsung Galaxy Note 9, Samsung Galaxy Note 10, Samsung Galaxy Note 10 Plus\\nSamsung Galaxy S5, Samsung Galaxy S6, Samsung Galaxy S7, Samsung Galaxy S8, Samsung Galaxy S9, Samsung Galaxy S10, Samsung Galaxy S10E, Samsung Galaxy S10+, Samsung Galaxy S10 Plus Samsung Galaxy S20, Samsung Galaxy S20 Plus, Samsung Galaxy S20 Ultra\\nGoogle Pixel 1, Google Pixel 2, Google Pixel 3\\nLG Phones - ASK\\n\\nHuawei Phones - ASK\\nMotorola - ASK\\nNot Listed? ASK\\nCash Paid For Electronics\\nI Buy Smartphones and more! - TOP BUYER\\nSome iPads I Buy:\\niPad, iPad 2, iPad (3rd generation), iPad (4th generation), iPad\\n\\nAir, iPad Air 2, iPad Pro (12.9-inch), iPad Pro (9.7-inch), iPad (5th generation), iPad Pro (12.9-inch) (2nd generation), iPad Pro (10.5-inch), iPad (6th generation), iPad Pro (11-inch), iPad Pro (12.9-inch) (3rd generation), iPad Air (3rd generation)\\nSome Laptops I buy:\\nMacbook Air 2008, Macbook Air 2009, Macbook Air 2010, Macbook Air 2011, Macbook Air 2012, Macbook Air 2013, Macbook Air 2014, Macbook Air 2015, Macbook Air 2016, Macbook Air 2017, Macbook Air 2018, Macbook Air 2019\\nMacbook Pro 2008, Macbook Pro 2009, Macbook Pro 2010, Macbook Pro 2011, Macbook Pro 2012, Macbook Pro 2013, Macbook Pro 2014, Macbook Pro 2015, Macbook Pro 2017, Macbook Pro 2018, Macbook pro 2019\\nMacbook 2008, Macbook 2009, Macbook 2010, Macbook 2011, Macbook 2012, Macbook 2013, Macbook 2014, Macbook 2015, Macbook 2016, Macbook 2017, Macbook 2018, Macbook 2019\\nDell Laptops - ASK\\n\\nLenovo Laptops - ASK\\nChromebook - ASK\\nOther Laptop not listed above? - ASK\\nSome Apple Watches I buy:\\nApple Watch Series 1, Apple Watch Series 2, Apple Watch Series 3, Apple Watch Series 4\\nSome Phones I buy:\\nIphone 6, Iphone 6s, Iphone 6s plus, Iphone 6 plus, Iphone 7, Iphone 7 plus, Iphone 8, Iphone 8 plus, Iphone X, Iphone XS\\n\\nMax, Iphone XR, Iphone XS\\nSamsung Galaxy Note 4, Samsung Galaxy Note 5, Samsung Galaxy Note 6, Samsung Galaxy Note 7, Samsung Galaxy Note 8, Samsung Galaxy Note 9, Samsung Galaxy Note 10,\\nSamsung Galaxy S5, Samsung Galaxy S6, Samsung Galaxy S7, Samsung Galaxy S8, Samsung Galaxy S9, Samsung Galaxy S10, Samsung Galaxy S10E, Samsung Galaxy S10+, Samsung Galaxy S10 Plus\\nGoogle Pixel 1, Google Pixel 2, Google Pixel 3\\nLG Phones - ASK\\nHuawei Phones - ASK\\nMotorola - ASK\\n\\nNot Listed? ASK\\nI also purchase other electronics like Smartphones, Laptops, Cameras, Gaming Systems, Coffee Makers, Toasters, Soundbars, Drones, Handheld Gaming systems, GoPro, pretty much any electronic device you can think of. So please don\\'t be discouraged if you don\\'t see your item listed here.\\nTop Cash Buyer, Top Iphone Buyer, Top Samsung Buyer, Top Macbook Buyer, Top Dollar Paid, Cash Today, Cash paid\\nI buy College text books and other books as well\\nWe Buy Smartphone We Buy Iphone\\nWe Buy Samsung We Buy Electronic We Buy Macbook We Buy Phone\\n\\nWe Buy\\nCash Buy\\nSell My\\nIphone Sell\\nIphone Buy Samsung Buy Apple Watch Sell Apple Watch Buyer\\nSell my phone Sell my phones Sell my iPhone Sell my iphones Sell my iPad\\nSell my iPads Sell my MacBook\\n\\nSell my MacBooks Sell my galaxy Sell my android Sell my androids Sell my note\\nSell my galaxy note Sell my Samsung Sell my electronics Sell my electronic Sell my smartphones Sell my smartphone\\n<><><><><><><><><><><>\\nCash 4 phone Cash 4 phones\\n\\nCash 4 iPhones Cash 4 iPhone Cash 4 iPads Cash 4 ipad\\nCash 4 MacBook Cash 4 MacBooks Cash 4 galaxy Cash 4 android Cash 4 androids Cash 4 note\\nCash 4 Samsung note Cash 4 galaxy note Cash 4 Samsung Cash 4 electronics Cash 4 electronic Cash 4 smartphone\\n\\ncash 4 smartphones Cash 4 xbox\\nCash 4 playstation\\n<><><><><><><><><><><>\\nCash for iPhone Cash for iPhones Cash for phone Cash for phones Cash for iPad\\nCash for ipads Cash for MacBook Cash for MacBooks Cash for galaxy Cash for android\\n\\nCash for androids\\nCash for note\\nCash for Samsung note Cash for galaxy note\\nCash for Samsung\\nCash for Samsung products Cash for electronic\\nCash for electronics Cash for smartphone Cash for smartphones Cash for xbox\\nCash for playstion\\n<><><><><><><><><><><>\\nIphone buyer\\n\\niPhones buyer iPhone buyers iPhones buyers Phone buyer Phone buyers Phones buyer Phones buyers iPads buyer\\niPads buyers\\niPad buyer\\niPad buyers\\niPads buyer MacBook buyer MacBook buyers MacBooks buyer MacBooks Buyers\\n\\nGalaxy buyer\\nGalaxy buyers\\nAndroid buyer\\nAndroid buyers\\nAndroids buyers Androids buyers\\nNote buyers\\nNotes buyers\\nNote buyer\\nGalaxy note buyer Galaxy note buyers Samsung note buyers Samsung note buyer Samsung buyer\\nSamsung buyers Samsung products buyers\\n\\nSamsung products buyer Electronics buyer Electronic buyers Electronics buyers Smartphone buyer Smartphone buyers Smartphones buyer Xbox buyer\\nXbox buyers Playstation buyers Playstation buyer Cash for video games Cash for Xbox\\nCash for playstation Cash for Nintendo Switch We Buy Nintendo Switch\\n\\nWe Buy Wii U Sell Wii U\\nSell Laptop Laptop Buyer We Buy Laptops Lenovo Buyer Sell Lenovo Cash for Lenovo\\n<><><><><><><><><><><>\\nWe buy iPhone We buy iPhones We buy phone We buy phones\\n\\nWe buy iPad\\nWe buy ipads\\nWe buy MacBook\\nWe buy MacBooks\\nWe buy Macbook Pro\\nWe Buy Macbook Air\\nWe buy galaxy\\nWe buy android\\nWe buy androids\\nWe buy note\\nWe buy Samsung note\\nWe buy galaxy note\\nWe buy Samsung\\nWe buy Samsung products We buy electronic\\nWe buy electronics\\n\\nWe buy smartphone We buy smartphones We buy xbox\\nWe buy playstation\\n<><><><><><><><><><><>\\nPlaystation 4 Ps4 pro Playstation 4 pro IPhone XS MAX IPhone XS\\nIPhone X 64gb 256gb\\n\\nIphone 8\\nIphone 8 Plus iPhone 8plus iPhone 8+\\niPhone 7 plus iphone 7+\\niPhone 7\\niPhone 6\\niPhone 6 plus iPhone 6+\\nIpad pro 10.5 64gb Ipad pro 10.5 256gb Ipad pro 10.5 512gb\\nGalaxy s8 plus Galaxy s8 +\\n\\nGalaxy s8+ Galaxy s8plus Galaxy s9 Galaxy s9 plus Galaxy s9plus Galaxy s9+ Galaxy s9 + Galaxy s10 Galaxy s10 + Galaxy s20 Galaxy s20 + Galaxy s20 Ultra Note 8\\nGoogle Pixel 2 Galaxy note 8 ipad pro\\n\\nIpad pro 9.7 Ipad pro 12.9 Ipad pro 10.5 Ipads\\nIpad 6th generation iPad 5th generation Iphone 7 6 6s plus Ipad pro 9.7 12.9 wifi Macbook pro\\nEcobee 4\\nNest thermostat 3rd generation camera doorbell ring\\nRing video doorbell Ring doorbell pro Smartlock smartkey\\n\\nPs4 pro uncharted call of duty Nest thermostat E\\nXbox one battlefield\\nGopro hero 5 black\\nGopro hero 6 black Nintendo switch Psvita\\nPsvr\\nXbox controller\\nTelefonos\\nGalaxy s8 s7 note 5 note 6 note 8\\nFactory unlocked\\napple watch series 1 series 2 42mm 38mm smartlock smart watch\\ndrones\\nDyson vacuum\\n\\nLooking for your Electronics in general Apple Products and Galaxy\\nApple buyers for Years\\nSell laptops, tablets, phones and more\\nQuestions welcomed, responsible, fair, honest, Cash Buyer\\nany electronics New In the box.\\nUsed cell phones and Tablets welcome new electronics and Video games, call us today for more information.\\nBuying, buy, wanted purchase purchasing samsung galaxy\\niPhones new or used\\niphone 7\\niPhone 6 Plus iPhone 6s iPhone 6s Plus Samsung s6\\n\\nSamsung s7 edge Galaxy ANY\\nSamsung note 7 EDGE Passcode\\niPads sealed\\nUsed iPad\\niPad Air\\niPad Air 2\\niPad mini 2\\niPad mini 3\\niPad mini 4\\niPad pro 32gb , 128gb ,256 (12 and 9\") MacBook\\nMacBook Air\\nApple Watch (42mm & 38) new or used Samsung Watch\\n\\nGo pro 4 and 5 (silver, black, session) Ps4 uncharted\\nPs4 destiny\\nPs4 call of duty (COD)\\nXbox one S 1 tb,2 tb Xbox one S 500gb Xbox One X 1tb Ps4 pro\\nPs4 slim\\nPs4 slim 1tb\\nNest THERMOSTAT AND CAMERA SYSTEMS Honeywell\\npower tool tools\\ndewalt\\nmakita\\nhilti\\n\\nryobi\\nrigid\\nmilwaukee\\nbosch\\nRoomba 680\\nRoomba 650\\nRoomba 801\\nRoomba 880\\nRoomba 980\\nMicrosoft Surface Pro 4 Tablet\\nParrot Drone, Drones ,any electronics New In the box DJI Phantom 3 Professional\\nIPAD MINI 1 2 3 4 WII U\\nNINTENDO SWITCH HP LAPTOP\\n\\nBose, Sonos, Samsung etc. Beats studio Wireless Schlage\\nKwikset\\nSmartlock\\nWe buy iphones We buy ipads\\nWe buy ps4\\nWe buy xbox\\nWe buy macbooks We buy electronics\\nLocations \\nHouston\\nGalveston\\nBeaumont\\nLeague City\\nPasadena\\nPearland\\nMissouri City\\nWest University Place\\nSpring\\nHumble\\nJersey Village\\nThe Woodlands\\nChannelview\\nAlvin\\nManvel\\nLa Porte\\nBaytown\\nTexas City\\nFresno\\nSugar Land\\nStafford\\nMeadows Place\\nBellaire\\nHunters Creek Village\\nRichmond\\nSouth Houston\\nCrosby\\nJacinto City\\nGalena Park\\nWebster\\nDickinson\\nSpring Valley\\nMeadows Place\\nPiney Point Village\\nWest University Place\\nBellaire\\nStafford\\nTaylor Lake Village\\nRosenburg\\nKaty\\nConroe\\nLa Marque\\nPrairie View\\nTomball\\nSanta Fe\\nBunker Hill Village\\nAngleton\\nFreeport\\nLake Jackson\\n\\nText Me 7134456038\\n'"
      ]
     },
     "execution_count": 18,
     "metadata": {},
     "output_type": "execute_result"
    }
   ],
   "source": [
    "post_parsed.findAll(\"section\",{\"id\":\"postingbody\"})[0].text"
   ]
  },
  {
   "cell_type": "code",
   "execution_count": 19,
   "metadata": {},
   "outputs": [],
   "source": [
    "item= results"
   ]
  },
  {
   "cell_type": "code",
   "execution_count": 20,
   "metadata": {},
   "outputs": [
    {
     "name": "stdout",
     "output_type": "stream",
     "text": [
      "$0\n",
      "$0\n",
      "$0\n",
      "$0\n",
      "$500\n",
      "$180\n",
      "$280\n",
      "$150\n",
      "$300\n",
      "$180\n",
      "$0\n",
      "$0\n",
      "$600\n",
      "$425\n",
      "$0\n",
      "$135\n",
      "$100\n",
      "$180\n",
      "$0\n",
      "$0\n",
      "$775\n",
      "$0\n",
      "$0\n",
      "$0\n",
      "$0\n",
      "$550\n",
      "$0\n",
      "$0\n",
      "$0\n",
      "$0\n",
      "$0\n",
      "$0\n",
      "$0\n",
      "$50\n",
      "$375\n",
      "$159\n",
      "$280\n",
      "$350\n",
      "$20\n",
      "$20\n",
      "$300\n",
      "$950\n",
      "$0\n",
      "$245\n",
      "$365\n",
      "$1\n",
      "$99\n",
      "$1\n",
      "$40\n",
      "$0\n",
      "$0\n",
      "$0\n",
      "$9,999\n",
      "$475\n",
      "$0\n",
      "$20\n",
      "$0\n",
      "$0\n",
      "$0\n",
      "$0\n",
      "$0\n",
      "$300\n",
      "$99\n",
      "$450\n",
      "$280\n",
      "$115\n",
      "$850\n",
      "$750\n",
      "$150\n",
      "$245\n",
      "$999\n",
      "$20\n",
      "$385\n",
      "$135\n",
      "$155\n",
      "$390\n",
      "$5\n",
      "$575\n",
      "$155\n",
      "$159\n",
      "$120\n",
      "$245\n",
      "$285\n",
      "$180\n",
      "$180\n",
      "$0\n",
      "$0\n",
      "$145\n",
      "$0\n",
      "$380\n",
      "$0\n",
      "$250\n",
      "$0\n",
      "$0\n",
      "$0\n",
      "$0\n",
      "$0\n",
      "$0\n",
      "$0\n",
      "$80\n",
      "$120\n",
      "$150\n",
      "$55\n",
      "$0\n",
      "$0\n",
      "$0\n",
      "$0\n",
      "$0\n",
      "$0\n",
      "$0\n",
      "$185\n",
      "$45\n",
      "$0\n",
      "$0\n",
      "$250\n",
      "$0\n",
      "$0\n",
      "$0\n",
      "$0\n",
      "$0\n"
     ]
    }
   ],
   "source": [
    "for item in results:\n",
    "   \n",
    "    print(item.findAll(\"span\",{\"class\":\"result-price\"})[0].text)"
   ]
  },
  {
   "cell_type": "code",
   "execution_count": null,
   "metadata": {},
   "outputs": [],
   "source": []
  },
  {
   "cell_type": "code",
   "execution_count": null,
   "metadata": {},
   "outputs": [],
   "source": []
  },
  {
   "cell_type": "code",
   "execution_count": null,
   "metadata": {},
   "outputs": [],
   "source": []
  },
  {
   "cell_type": "code",
   "execution_count": null,
   "metadata": {},
   "outputs": [],
   "source": []
  }
 ],
 "metadata": {
  "kernelspec": {
   "display_name": "Python 3",
   "language": "python",
   "name": "python3"
  },
  "language_info": {
   "codemirror_mode": {
    "name": "ipython",
    "version": 3
   },
   "file_extension": ".py",
   "mimetype": "text/x-python",
   "name": "python",
   "nbconvert_exporter": "python",
   "pygments_lexer": "ipython3",
   "version": "3.6.8"
  }
 },
 "nbformat": 4,
 "nbformat_minor": 4
}
