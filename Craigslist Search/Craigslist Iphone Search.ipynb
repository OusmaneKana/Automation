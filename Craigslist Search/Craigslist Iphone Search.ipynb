{
 "cells": [
  {
   "cell_type": "code",
   "execution_count": 2,
   "metadata": {},
   "outputs": [],
   "source": [
    "from urllib.request import urlopen as Ureq"
   ]
  },
  {
   "cell_type": "code",
   "execution_count": 107,
   "metadata": {},
   "outputs": [],
   "source": [
    "from bs4 import BeautifulSoup as Bsoup"
   ]
  },
  {
   "cell_type": "code",
   "execution_count": 108,
   "metadata": {},
   "outputs": [],
   "source": [
    "from IPython.display import Image "
   ]
  },
  {
   "cell_type": "code",
   "execution_count": 188,
   "metadata": {},
   "outputs": [],
   "source": [
    "url = 'https://houston.craigslist.org/search/sss?query=Iphone'\n",
    "x= Ureq(url)\n",
    "page = x.read()\n",
    "x.close()"
   ]
  },
  {
   "cell_type": "code",
   "execution_count": 189,
   "metadata": {},
   "outputs": [],
   "source": [
    "page_parsed = Bsoup(page, 'html.parser')"
   ]
  },
  {
   "cell_type": "code",
   "execution_count": 190,
   "metadata": {},
   "outputs": [],
   "source": [
    "results= page_parsed.findAll(\"li\", {\"class\": \"result-row\"})"
   ]
  },
  {
   "cell_type": "code",
   "execution_count": 196,
   "metadata": {},
   "outputs": [
    {
     "data": {
      "text/plain": [
       "<li class=\"result-row\" data-pid=\"7200007475\">\n",
       "<a class=\"result-image gallery\" data-ids=\"3:00b0b_6J3lNIfGFRH_0t20CI,3:00C0C_6dwziBkPv6I_0t20CI,3:00t0t_8UmKT0z2QJv_0t20CI,3:00303_d0TdO54xCAF_0t20CI\" href=\"https://houston.craigslist.org/mob/d/houston-iphone-8/7200007475.html\">\n",
       "<span class=\"result-price\">$250</span>\n",
       "</a>\n",
       "<p class=\"result-info\">\n",
       "<span class=\"icon icon-star\" role=\"button\">\n",
       "<span class=\"screen-reader-text\">favorite this post</span>\n",
       "</span>\n",
       "<time class=\"result-date\" datetime=\"2020-09-20 22:26\" title=\"Sun 20 Sep 10:26:50 PM\">Sep 20</time>\n",
       "<a class=\"result-title hdrlnk\" data-id=\"7200007475\" href=\"https://houston.craigslist.org/mob/d/houston-iphone-8/7200007475.html\">iPhone 8</a>\n",
       "<span class=\"result-meta\">\n",
       "<span class=\"result-price\">$250</span>\n",
       "<span class=\"result-hood\"> (Houston)</span>\n",
       "<span class=\"result-tags\">\n",
       "<span class=\"pictag\">pic</span>\n",
       "</span>\n",
       "<span class=\"banish icon icon-trash\" role=\"button\">\n",
       "<span class=\"screen-reader-text\">hide this posting</span>\n",
       "</span>\n",
       "<span aria-hidden=\"true\" class=\"unbanish icon icon-trash red\" role=\"button\"></span>\n",
       "<a class=\"restore-link\" href=\"#\">\n",
       "<span class=\"restore-narrow-text\">restore</span>\n",
       "<span class=\"restore-wide-text\">restore this posting</span>\n",
       "</a>\n",
       "</span>\n",
       "</p>\n",
       "</li>"
      ]
     },
     "execution_count": 196,
     "metadata": {},
     "output_type": "execute_result"
    }
   ],
   "source": [
    "item =  results[0]\n",
    "item"
   ]
  },
  {
   "cell_type": "code",
   "execution_count": 192,
   "metadata": {},
   "outputs": [],
   "source": [
    "item_parse = item.findAll(\"a\",{\"class\":\"result-title hdrlnk\"})"
   ]
  },
  {
   "cell_type": "code",
   "execution_count": 193,
   "metadata": {},
   "outputs": [],
   "source": [
    "post_url = (results[0].a[\"href\"]) \n"
   ]
  },
  {
   "cell_type": "code",
   "execution_count": 194,
   "metadata": {},
   "outputs": [
    {
     "name": "stdout",
     "output_type": "stream",
     "text": [
      "https://houston.craigslist.org/mob/d/houston-iphone-8/7200007475.html\n",
      "iPhone 8\n",
      "$250\n",
      "----------------------------\n",
      "https://houston.craigslist.org/mob/d/conroe-iphone-xr-64gb-att-cricket/7196053425.html\n",
      "iPhone XR 64gb AT&T/ Cricket\n",
      "$440\n",
      "----------------------------\n",
      "https://houston.craigslist.org/mob/d/sugar-land-iphone-8-plus-64-gb-factory/7193645600.html\n",
      "iPhone 8 plus 64 gb factory unlocked\n",
      "$325\n",
      "----------------------------\n",
      "https://houston.craigslist.org/mob/d/sugar-land-iphone-xs-max-256-gb-factory/7193584020.html\n",
      "Iphone xs max 256 gb factory unlocked factory unlock too\n",
      "$599\n",
      "----------------------------\n",
      "https://houston.craigslist.org/mob/d/mobile-metro-pcs-sale-iphone-7-new-1998/7193585951.html\n",
      "T-Mobile metro pcs sale iphone 7 new 199$8 is 249$ xs max 549$ xr 399$\n",
      "$549\n",
      "----------------------------\n",
      "https://houston.craigslist.org/mob/d/phones-for-nigeria-iphone-256-gb/7193588428.html\n",
      "phones for nigeria iPhone X 256 gb factory unlocked any sim ok clean\n",
      "$465\n",
      "----------------------------\n",
      "https://houston.craigslist.org/for/d/houston-iphone-64-gb/7199948210.html\n",
      "IPhone X 64 gb\n",
      "$350\n",
      "----------------------------\n",
      "https://houston.craigslist.org/mob/d/houston-iphone-64gb-factory-unlocked/7190745827.html\n",
      "IPHONE X 64GB FACTORY UNLOCKED - PAID OFF - CLEAN IMEI - IN WARRANTY !\n",
      "$445\n",
      "----------------------------\n",
      "https://houston.craigslist.org/mob/d/houston-iphone-xs-max-64gb-factory/7190758175.html\n",
      "IPHONE XS MAX 64GB FACTORY UNLOCKED - CLEAN IMEI & PAID - IN WARRANTY\n",
      "$595\n",
      "----------------------------\n"
     ]
    }
   ],
   "source": [
    "for i in range(9):\n",
    "    print(results[i].a[\"href\"])\n",
    "    print(results[i].findAll(\"a\",{\"class\":\"result-title hdrlnk\"})[0].text)\n",
    "    print(results[i].findAll(\"span\",{\"class\":\"result-price\"})[0].text)\n",
    "    print(\"----------------------------\")\n"
   ]
  },
  {
   "cell_type": "code",
   "execution_count": 55,
   "metadata": {},
   "outputs": [],
   "source": []
  },
  {
   "cell_type": "code",
   "execution_count": 80,
   "metadata": {},
   "outputs": [],
   "source": []
  },
  {
   "cell_type": "code",
   "execution_count": 85,
   "metadata": {},
   "outputs": [],
   "source": [
    "item=results[0]"
   ]
  },
  {
   "cell_type": "code",
   "execution_count": 98,
   "metadata": {},
   "outputs": [],
   "source": [
    "item_post= item.a[\"href\"]"
   ]
  },
  {
   "cell_type": "code",
   "execution_count": 99,
   "metadata": {},
   "outputs": [],
   "source": [
    "y = Ureq(item_post)"
   ]
  },
  {
   "cell_type": "code",
   "execution_count": 100,
   "metadata": {},
   "outputs": [],
   "source": [
    "post = y.read()"
   ]
  },
  {
   "cell_type": "code",
   "execution_count": 101,
   "metadata": {},
   "outputs": [],
   "source": [
    "post_parsed = Bsoup(post, \"html.parser\")"
   ]
  },
  {
   "cell_type": "code",
   "execution_count": 110,
   "metadata": {},
   "outputs": [
    {
     "data": {
      "image/jpeg": "[encoded data removed]",
      "text/plain": [
       "<IPython.core.display.Image object>"
      ]
     },
     "execution_count": 110,
     "metadata": {},
     "output_type": "execute_result"
    }
   ],
   "source": [
    "Image(post_parsed.img[\"src\"])"
   ]
  },
  {
   "cell_type": "code",
   "execution_count": 173,
   "metadata": {},
   "outputs": [
    {
     "data": {
      "text/plain": [
       "'\\n\\nQR Code Link to This Post\\n\\n\\nMemory: 64gb\\nColor: Space Grey\\nUnlocked    '"
      ]
     },
     "execution_count": 173,
     "metadata": {},
     "output_type": "execute_result"
    }
   ],
   "source": [
    "post_parsed.findAll(\"section\",{\"id\":\"postingbody\"})[0].text"
   ]
  },
  {
   "cell_type": "code",
   "execution_count": 114,
   "metadata": {},
   "outputs": [
    {
     "data": {
      "text/plain": [
       "'$250'"
      ]
     },
     "execution_count": 114,
     "metadata": {},
     "output_type": "execute_result"
    }
   ],
   "source": [
    "item= results"
   ]
  },
  {
   "cell_type": "code",
   "execution_count": 63,
   "metadata": {},
   "outputs": [
    {
     "name": "stdout",
     "output_type": "stream",
     "text": [
      "$250\n",
      "$440\n",
      "$325\n",
      "$599\n",
      "$549\n",
      "$465\n",
      "$350\n",
      "$445\n",
      "$595\n",
      "$445\n",
      "$250\n",
      "$6\n",
      "$380\n",
      "$100\n",
      "$180\n",
      "$180\n",
      "$0\n",
      "$2,060\n",
      "$80\n",
      "$135\n",
      "$1\n",
      "$35\n",
      "$160\n",
      "$40\n",
      "$36\n",
      "$25\n",
      "$140\n",
      "$120\n",
      "$50\n",
      "$499\n",
      "$75\n",
      "$75\n",
      "$465\n",
      "$575\n",
      "$110\n",
      "$100\n",
      "$420\n",
      "$20\n",
      "$180\n",
      "$0\n",
      "$2,000\n",
      "$0\n",
      "$59\n",
      "$0\n",
      "$0\n",
      "$400\n",
      "$0\n",
      "$0\n",
      "$0\n",
      "$0\n",
      "$0\n",
      "$0\n",
      "$0\n",
      "$0\n",
      "$0\n",
      "$0\n",
      "$0\n",
      "$0\n",
      "$0\n",
      "$0\n",
      "$0\n",
      "$50\n",
      "$420\n",
      "$10\n",
      "$599\n",
      "$37\n",
      "$645\n",
      "$599\n",
      "$40\n",
      "$250\n",
      "$39\n",
      "$0\n",
      "$39\n",
      "$2,000\n",
      "$0\n",
      "$0\n",
      "$0\n",
      "$2,060\n",
      "$0\n",
      "$0\n",
      "$0\n",
      "$0\n",
      "$0\n",
      "$22\n",
      "$300\n",
      "$0\n",
      "$0\n",
      "$0\n",
      "$1\n",
      "$399\n",
      "$1\n",
      "$175\n",
      "$25\n",
      "$9,999\n",
      "$160\n",
      "$110\n",
      "$0\n",
      "$0\n",
      "$350\n",
      "$50\n",
      "$600\n",
      "$90\n",
      "$700\n",
      "$140\n",
      "$29\n",
      "$415\n",
      "$0\n",
      "$265\n",
      "$399\n",
      "$0\n",
      "$135\n",
      "$25\n",
      "$2,000\n",
      "$0\n",
      "$0\n",
      "$25\n",
      "$0\n",
      "$0\n",
      "$0\n",
      "$40\n"
     ]
    }
   ],
   "source": [
    "for item in results:\n",
    "   \n",
    "    print(item.findAll(\"span\",{\"class\":\"result-price\"})[0].text)"
   ]
  },
  {
   "cell_type": "code",
   "execution_count": null,
   "metadata": {},
   "outputs": [],
   "source": []
  },
  {
   "cell_type": "code",
   "execution_count": null,
   "metadata": {},
   "outputs": [],
   "source": []
  },
  {
   "cell_type": "code",
   "execution_count": null,
   "metadata": {},
   "outputs": [],
   "source": []
  },
  {
   "cell_type": "code",
   "execution_count": null,
   "metadata": {},
   "outputs": [],
   "source": []
  }
 ],
 "metadata": {
  "kernelspec": {
   "display_name": "Python 3",
   "language": "python",
   "name": "python3"
  },
  "language_info": {
   "codemirror_mode": {
    "name": "ipython",
    "version": 3
   },
   "file_extension": ".py",
   "mimetype": "text/x-python",
   "name": "python",
   "nbconvert_exporter": "python",
   "pygments_lexer": "ipython3",
   "version": "3.6.8"
  }
 },
 "nbformat": 4,
 "nbformat_minor": 4
}
