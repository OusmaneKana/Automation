{
 "cells": [
  {
   "cell_type": "code",
   "execution_count": 2,
   "metadata": {},
   "outputs": [],
   "source": [
    "from selenium import webdriver\n",
    "\n",
    "driver = webdriver.Chrome(\"C:\\Program Files (x86)\\Google\\chromedriver\")"
   ]
  },
  {
   "cell_type": "code",
   "execution_count": 5,
   "metadata": {},
   "outputs": [],
   "source": [
    "url =\"https://www.facebook.com/marketplace/houston/vehicles?maxPrice=4000&minYear=2012&carType=convertible&topLevelVehicleType=car_truck&transmissionType=manual&exact=false\""
   ]
  },
  {
   "cell_type": "code",
   "execution_count": 6,
   "metadata": {},
   "outputs": [],
   "source": [
    "driver.get(url)"
   ]
  },
  {
   "cell_type": "code",
   "execution_count": 36,
   "metadata": {},
   "outputs": [],
   "source": [
    "elements = driver.find_elements_by_class_name('kbiprv82')"
   ]
  },
  {
   "cell_type": "code",
   "execution_count": 37,
   "metadata": {},
   "outputs": [
    {
     "name": "stdout",
     "output_type": "stream",
     "text": [
      "Contact Seller\n",
      "2016 Ford Mustang GT Coupe 2D\n",
      "Houston, TX\n",
      "47K miles\n",
      "-------------------\n",
      "None\n",
      "-------------------\n"
     ]
    },
    {
     "data": {
      "text/html": [
       "<div class=\"kbiprv82\"><a class=\"oajrlxb2 g5ia77u1 qu0x051f esr5mh6w e9989ue4 r7d6kgcz rq0escxv nhd2j8a9 nc684nl6 p7hjln8o kvgmc6g5 cxmmr5t8 oygrvhab hcukyx3x jb3vyjys rz4wbd8a qt6c0cv9 a8nywdso i1ao9s8h esuyzwwr f1sip0of lzcic4wl gmql0nx0 p8dawk7l\" href=\"/marketplace/item/204946857499650/\" role=\"link\" tabindex=\"0\"><div class=\"j83agx80 cbu4d94t l9j0dhe7\"><div class=\"l9j0dhe7\"><div class=\"k4urcfbm l9j0dhe7\"><div class=\"kr520xx4 j9ispegn l9j0dhe7 stjgntxs ni8dbmo4 n7fi1qx3 i09qtzwb kzx2olss aot14ch1 p86d2i9g beltcj47 t63ysoy8 linmgsc8 hop1g133 opwvks06\"><div class=\"beltcj47 p86d2i9g aot14ch1 kzx2olss ni8dbmo4 stjgntxs d5it6em2 l9j0dhe7 k4urcfbm\"><div class=\"j83agx80 lhclo0ds ihdl84by pmk7jnqg h119xb3h iylxurvu bo2ra7bd\"><div class=\"rq0escxv j83agx80 buofh1pr datstx6m ggysqto6 exrn9cbp ojkyduve abpf7j7b l9j0dhe7 k4urcfbm\"><img alt=\"2016 Ford Mustang GT Coupe 2D in Houston, TX\" class=\"idiwt2bm bixrwtb6 ni8dbmo4 stjgntxs k4urcfbm\" src=\"https://scontent.fhou1-1.fna.fbcdn.net/v/t1.0-0/c101.0.260.260a/p261x260/107872189_10157657696678299_1504353700918155908_o.jpg?_nc_cat=100&amp;_nc_sid=843cd7&amp;_nc_ohc=1Vp_R_dr57UAX9G5wnr&amp;_nc_ht=scontent.fhou1-1.fna&amp;oh=39c3e0bfad8d0164c7b4857456958522&amp;oe=5F6D5AED\"></div></div></div></div></div></div><div class=\"rq0escxv j83agx80 cbu4d94t i1fnvgqd muag1w35 pybr56ya f10w8fjw k4urcfbm c7r68pdi suyy3zvx\"><div class=\"aahdfvyu fsotbgu8\"><span class=\"j83agx80\"><div class=\"a8nywdso e5nlhep0 rz4wbd8a ecm0bbzt btwxx1t3 j83agx80\"><div class=\"hlyrhctz\"><span class=\"oi732d6d ik7dh3pa d2edcug0 qv66sw1b c1et5uql a8c37x1j s89635nw ew0dbk1b a5q79mjw g1cxx5fr lrazzd5p oo9gr5id\" dir=\"auto\">Contact Seller</span></div><div class=\"f0t0fhil mkhogb32\"><span class=\"oi732d6d ik7dh3pa d2edcug0 qv66sw1b c1et5uql a8c37x1j muag1w35 enqfppq2 jq4qci2q a3bd9o3v ekzkrbhg oo9gr5id\" dir=\"auto\">Contact Seller</span></div></div></span></div><div class=\"aahdfvyu fsotbgu8\"><span aria-hidden=\"true\"><div class=\"a8nywdso e5nlhep0 rz4wbd8a linoseic\"><span class=\"a8c37x1j ni8dbmo4 stjgntxs l9j0dhe7 oi732d6d ik7dh3pa d2edcug0 qv66sw1b c1et5uql muag1w35 enqfppq2 jq4qci2q a3bd9o3v knj5qynh oo9gr5id\" dir=\"auto\" style=\"-webkit-box-orient:vertical;-webkit-line-clamp:2;display:-webkit-box\">2016 Ford Mustang GT Coupe 2D</span></div></span></div><div class=\"aahdfvyu fsotbgu8\"><span aria-hidden=\"true\"><div class=\"a8nywdso e5nlhep0 rz4wbd8a ecm0bbzt\"><span class=\"a8c37x1j ni8dbmo4 stjgntxs l9j0dhe7 ltmttdrg g0qnabr5 oi732d6d ik7dh3pa d2edcug0 qv66sw1b c1et5uql hop8lmos enqfppq2 e9vueds3 j5wam9gi knj5qynh m9osqain\" dir=\"auto\">Houston, TX</span></div></span></div><div class=\"aahdfvyu fsotbgu8\"><div class=\"a8nywdso e5nlhep0 rz4wbd8a ecm0bbzt\"><span class=\"a8c37x1j ni8dbmo4 stjgntxs l9j0dhe7 ltmttdrg g0qnabr5 oi732d6d ik7dh3pa d2edcug0 qv66sw1b c1et5uql hop8lmos enqfppq2 e9vueds3 j5wam9gi knj5qynh m9osqain\" dir=\"auto\">47K miles</span></div></div></div></div></a></div>"
      ],
      "text/plain": [
       "<IPython.core.display.HTML object>"
      ]
     },
     "metadata": {},
     "output_type": "display_data"
    },
    {
     "name": "stdout",
     "output_type": "stream",
     "text": [
      "-------------------\n",
      "$4,000\n",
      "2014 Ford mustang. GT\n",
      "Humble, TX\n",
      "56K miles\n",
      "-------------------\n",
      "None\n",
      "-------------------\n"
     ]
    },
    {
     "data": {
      "text/html": [
       "<div class=\"kbiprv82\"><a class=\"oajrlxb2 g5ia77u1 qu0x051f esr5mh6w e9989ue4 r7d6kgcz rq0escxv nhd2j8a9 nc684nl6 p7hjln8o kvgmc6g5 cxmmr5t8 oygrvhab hcukyx3x jb3vyjys rz4wbd8a qt6c0cv9 a8nywdso i1ao9s8h esuyzwwr f1sip0of gmql0nx0 p8dawk7l\" href=\"/marketplace/item/200197337965636/\" role=\"link\" tabindex=\"0\"><div class=\"j83agx80 cbu4d94t l9j0dhe7\"><div class=\"l9j0dhe7\"><div class=\"k4urcfbm l9j0dhe7\"><div class=\"kr520xx4 j9ispegn l9j0dhe7 stjgntxs ni8dbmo4 n7fi1qx3 i09qtzwb kzx2olss aot14ch1 p86d2i9g beltcj47 t63ysoy8 linmgsc8 hop1g133 opwvks06\"><div class=\"beltcj47 p86d2i9g aot14ch1 kzx2olss ni8dbmo4 stjgntxs d5it6em2 l9j0dhe7 k4urcfbm\"><div class=\"j83agx80 lhclo0ds ihdl84by pmk7jnqg h119xb3h iylxurvu bo2ra7bd\"><div class=\"rq0escxv j83agx80 buofh1pr datstx6m ggysqto6 exrn9cbp ojkyduve abpf7j7b l9j0dhe7 k4urcfbm\"><img alt=\"2014 Ford mustang. GT in Humble, TX\" class=\"idiwt2bm bixrwtb6 ni8dbmo4 stjgntxs k4urcfbm\" src=\"https://scontent.fhou1-1.fna.fbcdn.net/v/t1.0-0/c102.0.260.260a/p261x260/83395150_1347621218762966_5879135991707198272_n.jpg?_nc_cat=106&amp;_nc_sid=843cd7&amp;_nc_ohc=akGKh2s5dkcAX8f366E&amp;_nc_ht=scontent.fhou1-1.fna&amp;oh=cd72701c6a500f8c2f494785a2f93506&amp;oe=5F6D9BF4\"></div></div></div></div></div></div><div class=\"rq0escxv j83agx80 cbu4d94t i1fnvgqd muag1w35 pybr56ya f10w8fjw k4urcfbm c7r68pdi suyy3zvx\"><div class=\"aahdfvyu fsotbgu8\"><span class=\"j83agx80\"><div class=\"a8nywdso e5nlhep0 rz4wbd8a ecm0bbzt btwxx1t3 j83agx80\"><div class=\"hlyrhctz\"><span class=\"oi732d6d ik7dh3pa d2edcug0 qv66sw1b c1et5uql a8c37x1j s89635nw ew0dbk1b a5q79mjw g1cxx5fr lrazzd5p oo9gr5id\" dir=\"auto\">$4,000</span></div><div class=\"f0t0fhil mkhogb32\"><span class=\"oi732d6d ik7dh3pa d2edcug0 qv66sw1b c1et5uql a8c37x1j muag1w35 enqfppq2 jq4qci2q a3bd9o3v ekzkrbhg oo9gr5id\" dir=\"auto\">$4,000</span></div></div></span></div><div class=\"aahdfvyu fsotbgu8\"><span aria-hidden=\"true\"><div class=\"a8nywdso e5nlhep0 rz4wbd8a linoseic\"><span class=\"a8c37x1j ni8dbmo4 stjgntxs l9j0dhe7 oi732d6d ik7dh3pa d2edcug0 qv66sw1b c1et5uql muag1w35 enqfppq2 jq4qci2q a3bd9o3v knj5qynh oo9gr5id\" dir=\"auto\" style=\"-webkit-box-orient:vertical;-webkit-line-clamp:2;display:-webkit-box\">2014 Ford mustang. GT</span></div></span></div><div class=\"aahdfvyu fsotbgu8\"><span aria-hidden=\"true\"><div class=\"a8nywdso e5nlhep0 rz4wbd8a ecm0bbzt\"><span class=\"a8c37x1j ni8dbmo4 stjgntxs l9j0dhe7 ltmttdrg g0qnabr5 oi732d6d ik7dh3pa d2edcug0 qv66sw1b c1et5uql hop8lmos enqfppq2 e9vueds3 j5wam9gi knj5qynh m9osqain\" dir=\"auto\">Humble, TX</span></div></span></div><div class=\"aahdfvyu fsotbgu8\"><div class=\"a8nywdso e5nlhep0 rz4wbd8a ecm0bbzt\"><span class=\"a8c37x1j ni8dbmo4 stjgntxs l9j0dhe7 ltmttdrg g0qnabr5 oi732d6d ik7dh3pa d2edcug0 qv66sw1b c1et5uql hop8lmos enqfppq2 e9vueds3 j5wam9gi knj5qynh m9osqain\" dir=\"auto\">56K miles</span></div></div></div></div></a></div>"
      ],
      "text/plain": [
       "<IPython.core.display.HTML object>"
      ]
     },
     "metadata": {},
     "output_type": "display_data"
    },
    {
     "name": "stdout",
     "output_type": "stream",
     "text": [
      "-------------------\n",
      "$4,000\n",
      "2014 Mitsubishi Lancer\n",
      "South Houston, TX\n",
      "61K miles\n",
      "-------------------\n",
      "None\n",
      "-------------------\n"
     ]
    },
    {
     "data": {
      "text/html": [
       "<div class=\"kbiprv82\"><a class=\"oajrlxb2 g5ia77u1 qu0x051f esr5mh6w e9989ue4 r7d6kgcz rq0escxv nhd2j8a9 nc684nl6 p7hjln8o kvgmc6g5 cxmmr5t8 oygrvhab hcukyx3x jb3vyjys rz4wbd8a qt6c0cv9 a8nywdso i1ao9s8h esuyzwwr f1sip0of lzcic4wl gmql0nx0 p8dawk7l\" href=\"/marketplace/item/2690572344517846/\" role=\"link\" tabindex=\"0\"><div class=\"j83agx80 cbu4d94t l9j0dhe7\"><div class=\"l9j0dhe7\"><div class=\"k4urcfbm l9j0dhe7\"><div class=\"kr520xx4 j9ispegn l9j0dhe7 stjgntxs ni8dbmo4 n7fi1qx3 i09qtzwb kzx2olss aot14ch1 p86d2i9g beltcj47 t63ysoy8 linmgsc8 hop1g133 opwvks06\"><div class=\"beltcj47 p86d2i9g aot14ch1 kzx2olss ni8dbmo4 stjgntxs d5it6em2 l9j0dhe7 k4urcfbm\"><div class=\"j83agx80 lhclo0ds ihdl84by pmk7jnqg h119xb3h iylxurvu bo2ra7bd\"><div class=\"rq0escxv j83agx80 buofh1pr datstx6m ggysqto6 exrn9cbp ojkyduve abpf7j7b l9j0dhe7 k4urcfbm\"><img alt=\"2014 Mitsubishi Lancer in South Houston, TX\" class=\"idiwt2bm bixrwtb6 ni8dbmo4 stjgntxs k4urcfbm\" src=\"https://scontent.fhou1-2.fna.fbcdn.net/v/t1.0-0/c43.0.260.260a/p261x260/118180082_805619026844686_1260363201157191338_o.jpg?_nc_cat=103&amp;_nc_sid=843cd7&amp;_nc_ohc=avMxddlHd9IAX87Ik-_&amp;_nc_oc=AQlbpX34scqDBu05jG8qIYMuE3XG9qxpMNP1dDMGVNNMFKdQ06HpkivTzzco8TKosQI&amp;_nc_ht=scontent.fhou1-2.fna&amp;oh=f16986fe3befbac00272b29afc7bb98d&amp;oe=5F6E7491\"></div></div></div></div></div></div><div class=\"rq0escxv j83agx80 cbu4d94t i1fnvgqd muag1w35 pybr56ya f10w8fjw k4urcfbm c7r68pdi suyy3zvx\"><div class=\"aahdfvyu fsotbgu8\"><span class=\"j83agx80\"><div class=\"a8nywdso e5nlhep0 rz4wbd8a ecm0bbzt btwxx1t3 j83agx80\"><div class=\"hlyrhctz\"><span class=\"oi732d6d ik7dh3pa d2edcug0 qv66sw1b c1et5uql a8c37x1j s89635nw ew0dbk1b a5q79mjw g1cxx5fr lrazzd5p oo9gr5id\" dir=\"auto\">$4,000</span></div><div class=\"f0t0fhil mkhogb32\"><span class=\"oi732d6d ik7dh3pa d2edcug0 qv66sw1b c1et5uql a8c37x1j muag1w35 enqfppq2 jq4qci2q a3bd9o3v ekzkrbhg oo9gr5id\" dir=\"auto\">$4,000</span></div></div></span></div><div class=\"aahdfvyu fsotbgu8\"><span aria-hidden=\"true\"><div class=\"a8nywdso e5nlhep0 rz4wbd8a linoseic\"><span class=\"a8c37x1j ni8dbmo4 stjgntxs l9j0dhe7 oi732d6d ik7dh3pa d2edcug0 qv66sw1b c1et5uql muag1w35 enqfppq2 jq4qci2q a3bd9o3v knj5qynh oo9gr5id\" dir=\"auto\" style=\"-webkit-box-orient:vertical;-webkit-line-clamp:2;display:-webkit-box\">2014 Mitsubishi Lancer</span></div></span></div><div class=\"aahdfvyu fsotbgu8\"><span aria-hidden=\"true\"><div class=\"a8nywdso e5nlhep0 rz4wbd8a ecm0bbzt\"><span class=\"a8c37x1j ni8dbmo4 stjgntxs l9j0dhe7 ltmttdrg g0qnabr5 oi732d6d ik7dh3pa d2edcug0 qv66sw1b c1et5uql hop8lmos enqfppq2 e9vueds3 j5wam9gi knj5qynh m9osqain\" dir=\"auto\">South Houston, TX</span></div></span></div><div class=\"aahdfvyu fsotbgu8\"><div class=\"a8nywdso e5nlhep0 rz4wbd8a ecm0bbzt\"><span class=\"a8c37x1j ni8dbmo4 stjgntxs l9j0dhe7 ltmttdrg g0qnabr5 oi732d6d ik7dh3pa d2edcug0 qv66sw1b c1et5uql hop8lmos enqfppq2 e9vueds3 j5wam9gi knj5qynh m9osqain\" dir=\"auto\">61K miles</span></div></div></div></div></a></div>"
      ],
      "text/plain": [
       "<IPython.core.display.HTML object>"
      ]
     },
     "metadata": {},
     "output_type": "display_data"
    },
    {
     "name": "stdout",
     "output_type": "stream",
     "text": [
      "-------------------\n",
      "$1,000\n",
      "2016 Nissan Sentra S\n",
      "Richmond, TX\n",
      "-------------------\n",
      "None\n",
      "-------------------\n"
     ]
    },
    {
     "data": {
      "text/html": [
       "<div class=\"kbiprv82\"><a class=\"oajrlxb2 g5ia77u1 qu0x051f esr5mh6w e9989ue4 r7d6kgcz rq0escxv nhd2j8a9 nc684nl6 p7hjln8o kvgmc6g5 cxmmr5t8 oygrvhab hcukyx3x jb3vyjys rz4wbd8a qt6c0cv9 a8nywdso i1ao9s8h esuyzwwr f1sip0of lzcic4wl gmql0nx0 p8dawk7l\" href=\"/marketplace/item/1128010037568425/\" role=\"link\" tabindex=\"0\"><div class=\"j83agx80 cbu4d94t l9j0dhe7\"><div class=\"l9j0dhe7\"><div class=\"k4urcfbm l9j0dhe7\"><div class=\"kr520xx4 j9ispegn l9j0dhe7 stjgntxs ni8dbmo4 n7fi1qx3 i09qtzwb kzx2olss aot14ch1 p86d2i9g beltcj47 t63ysoy8 linmgsc8 hop1g133 opwvks06\"><div class=\"beltcj47 p86d2i9g aot14ch1 kzx2olss ni8dbmo4 stjgntxs d5it6em2 l9j0dhe7 k4urcfbm\"><div class=\"j83agx80 lhclo0ds ihdl84by pmk7jnqg h119xb3h iylxurvu bo2ra7bd\"><div class=\"rq0escxv j83agx80 buofh1pr datstx6m ggysqto6 exrn9cbp ojkyduve abpf7j7b l9j0dhe7 k4urcfbm\"><img alt=\"2016 Nissan Sentra S in Richmond, TX\" class=\"idiwt2bm bixrwtb6 ni8dbmo4 stjgntxs k4urcfbm\" src=\"https://scontent.fhou1-1.fna.fbcdn.net/v/t1.0-0/c81.0.260.260a/p261x260/98309002_766985884057114_232807512573739008_n.jpg?_nc_cat=100&amp;_nc_sid=843cd7&amp;_nc_ohc=_ANrsYInBkIAX9rW8w0&amp;_nc_ht=scontent.fhou1-1.fna&amp;oh=1d8b10ed4a7a49c359238597d2af533d&amp;oe=5F6AC496\"></div></div></div></div></div></div><div class=\"rq0escxv j83agx80 cbu4d94t i1fnvgqd muag1w35 pybr56ya f10w8fjw k4urcfbm c7r68pdi suyy3zvx\"><div class=\"aahdfvyu fsotbgu8\"><span class=\"j83agx80\"><div class=\"a8nywdso e5nlhep0 rz4wbd8a ecm0bbzt btwxx1t3 j83agx80\"><div class=\"hlyrhctz\"><span class=\"oi732d6d ik7dh3pa d2edcug0 qv66sw1b c1et5uql a8c37x1j s89635nw ew0dbk1b a5q79mjw g1cxx5fr lrazzd5p oo9gr5id\" dir=\"auto\">$1,000</span></div><div class=\"f0t0fhil mkhogb32\"><span class=\"oi732d6d ik7dh3pa d2edcug0 qv66sw1b c1et5uql a8c37x1j muag1w35 enqfppq2 jq4qci2q a3bd9o3v ekzkrbhg oo9gr5id\" dir=\"auto\">$1,000</span></div></div></span></div><div class=\"aahdfvyu fsotbgu8\"><span aria-hidden=\"true\"><div class=\"a8nywdso e5nlhep0 rz4wbd8a linoseic\"><span class=\"a8c37x1j ni8dbmo4 stjgntxs l9j0dhe7 oi732d6d ik7dh3pa d2edcug0 qv66sw1b c1et5uql muag1w35 enqfppq2 jq4qci2q a3bd9o3v knj5qynh oo9gr5id\" dir=\"auto\" style=\"-webkit-box-orient:vertical;-webkit-line-clamp:2;display:-webkit-box\">2016 Nissan Sentra S</span></div></span></div><div class=\"aahdfvyu fsotbgu8\"><span aria-hidden=\"true\"><div class=\"a8nywdso e5nlhep0 rz4wbd8a ecm0bbzt\"><span class=\"a8c37x1j ni8dbmo4 stjgntxs l9j0dhe7 ltmttdrg g0qnabr5 oi732d6d ik7dh3pa d2edcug0 qv66sw1b c1et5uql hop8lmos enqfppq2 e9vueds3 j5wam9gi knj5qynh m9osqain\" dir=\"auto\">Richmond, TX</span></div></span></div><div class=\"aahdfvyu fsotbgu8\"><div class=\"a8nywdso e5nlhep0 rz4wbd8a ecm0bbzt\"><span class=\"a8c37x1j ni8dbmo4 stjgntxs l9j0dhe7 ltmttdrg g0qnabr5 oi732d6d ik7dh3pa d2edcug0 qv66sw1b c1et5uql hop8lmos enqfppq2 e9vueds3 j5wam9gi knj5qynh m9osqain\" dir=\"auto\"></span></div></div></div></div></a></div>"
      ],
      "text/plain": [
       "<IPython.core.display.HTML object>"
      ]
     },
     "metadata": {},
     "output_type": "display_data"
    },
    {
     "name": "stdout",
     "output_type": "stream",
     "text": [
      "-------------------\n",
      "Contact Seller\n",
      "2014 Ford Mustang GT Coupe 2D\n",
      "Houston, TX\n",
      "56K miles\n",
      "-------------------\n",
      "None\n",
      "-------------------\n"
     ]
    },
    {
     "data": {
      "text/html": [
       "<div class=\"kbiprv82\"><a class=\"oajrlxb2 g5ia77u1 qu0x051f esr5mh6w e9989ue4 r7d6kgcz rq0escxv nhd2j8a9 nc684nl6 p7hjln8o kvgmc6g5 cxmmr5t8 oygrvhab hcukyx3x jb3vyjys rz4wbd8a qt6c0cv9 a8nywdso i1ao9s8h esuyzwwr f1sip0of lzcic4wl gmql0nx0 p8dawk7l\" href=\"/marketplace/item/1211673909003080/\" role=\"link\" tabindex=\"0\"><div class=\"j83agx80 cbu4d94t l9j0dhe7\"><div class=\"l9j0dhe7\"><div class=\"k4urcfbm l9j0dhe7\"><div class=\"kr520xx4 j9ispegn l9j0dhe7 stjgntxs ni8dbmo4 n7fi1qx3 i09qtzwb kzx2olss aot14ch1 p86d2i9g beltcj47 t63ysoy8 linmgsc8 hop1g133 opwvks06\"><div class=\"beltcj47 p86d2i9g aot14ch1 kzx2olss ni8dbmo4 stjgntxs d5it6em2 l9j0dhe7 k4urcfbm\"><div class=\"j83agx80 lhclo0ds ihdl84by pmk7jnqg h119xb3h iylxurvu bo2ra7bd\"><div class=\"rq0escxv j83agx80 buofh1pr datstx6m ggysqto6 exrn9cbp ojkyduve abpf7j7b l9j0dhe7 k4urcfbm\"><img alt=\"2014 Ford Mustang GT Coupe 2D in Houston, TX\" class=\"idiwt2bm bixrwtb6 ni8dbmo4 stjgntxs k4urcfbm\" src=\"https://scontent.fhou1-2.fna.fbcdn.net/v/t1.0-0/c101.0.260.260a/p261x260/105978116_3338526809502535_2090106257025047356_o.jpg?_nc_cat=109&amp;_nc_sid=843cd7&amp;_nc_ohc=H8FivdF4DpoAX-J6ayj&amp;_nc_ht=scontent.fhou1-2.fna&amp;oh=bece15a9e3e588f97aed765f35a0b616&amp;oe=5F6D4053\"></div></div></div></div></div></div><div class=\"rq0escxv j83agx80 cbu4d94t i1fnvgqd muag1w35 pybr56ya f10w8fjw k4urcfbm c7r68pdi suyy3zvx\"><div class=\"aahdfvyu fsotbgu8\"><span class=\"j83agx80\"><div class=\"a8nywdso e5nlhep0 rz4wbd8a ecm0bbzt btwxx1t3 j83agx80\"><div class=\"hlyrhctz\"><span class=\"oi732d6d ik7dh3pa d2edcug0 qv66sw1b c1et5uql a8c37x1j s89635nw ew0dbk1b a5q79mjw g1cxx5fr lrazzd5p oo9gr5id\" dir=\"auto\">Contact Seller</span></div><div class=\"f0t0fhil mkhogb32\"><span class=\"oi732d6d ik7dh3pa d2edcug0 qv66sw1b c1et5uql a8c37x1j muag1w35 enqfppq2 jq4qci2q a3bd9o3v ekzkrbhg oo9gr5id\" dir=\"auto\">Contact Seller</span></div></div></span></div><div class=\"aahdfvyu fsotbgu8\"><span aria-hidden=\"true\"><div class=\"a8nywdso e5nlhep0 rz4wbd8a linoseic\"><span class=\"a8c37x1j ni8dbmo4 stjgntxs l9j0dhe7 oi732d6d ik7dh3pa d2edcug0 qv66sw1b c1et5uql muag1w35 enqfppq2 jq4qci2q a3bd9o3v knj5qynh oo9gr5id\" dir=\"auto\" style=\"-webkit-box-orient:vertical;-webkit-line-clamp:2;display:-webkit-box\">2014 Ford Mustang GT Coupe 2D</span></div></span></div><div class=\"aahdfvyu fsotbgu8\"><span aria-hidden=\"true\"><div class=\"a8nywdso e5nlhep0 rz4wbd8a ecm0bbzt\"><span class=\"a8c37x1j ni8dbmo4 stjgntxs l9j0dhe7 ltmttdrg g0qnabr5 oi732d6d ik7dh3pa d2edcug0 qv66sw1b c1et5uql hop8lmos enqfppq2 e9vueds3 j5wam9gi knj5qynh m9osqain\" dir=\"auto\">Houston, TX</span></div></span></div><div class=\"aahdfvyu fsotbgu8\"><div class=\"a8nywdso e5nlhep0 rz4wbd8a ecm0bbzt\"><span class=\"a8c37x1j ni8dbmo4 stjgntxs l9j0dhe7 ltmttdrg g0qnabr5 oi732d6d ik7dh3pa d2edcug0 qv66sw1b c1et5uql hop8lmos enqfppq2 e9vueds3 j5wam9gi knj5qynh m9osqain\" dir=\"auto\">56K miles</span></div></div></div></div></a></div>"
      ],
      "text/plain": [
       "<IPython.core.display.HTML object>"
      ]
     },
     "metadata": {},
     "output_type": "display_data"
    },
    {
     "name": "stdout",
     "output_type": "stream",
     "text": [
      "-------------------\n",
      "$4,000\n",
      "2017 Nissan Sentra NISMO\n",
      "Houston, TX\n",
      "-------------------\n",
      "None\n",
      "-------------------\n"
     ]
    },
    {
     "data": {
      "text/html": [
       "<div class=\"kbiprv82\"><a class=\"oajrlxb2 g5ia77u1 qu0x051f esr5mh6w e9989ue4 r7d6kgcz rq0escxv nhd2j8a9 nc684nl6 p7hjln8o kvgmc6g5 cxmmr5t8 oygrvhab hcukyx3x jb3vyjys rz4wbd8a qt6c0cv9 a8nywdso i1ao9s8h esuyzwwr f1sip0of lzcic4wl gmql0nx0 p8dawk7l\" href=\"/marketplace/item/1499188946932565/\" role=\"link\" tabindex=\"0\"><div class=\"j83agx80 cbu4d94t l9j0dhe7\"><div class=\"l9j0dhe7\"><div class=\"k4urcfbm l9j0dhe7\"><div class=\"kr520xx4 j9ispegn l9j0dhe7 stjgntxs ni8dbmo4 n7fi1qx3 i09qtzwb kzx2olss aot14ch1 p86d2i9g beltcj47 t63ysoy8 linmgsc8 hop1g133 opwvks06\"><div class=\"beltcj47 p86d2i9g aot14ch1 kzx2olss ni8dbmo4 stjgntxs d5it6em2 l9j0dhe7 k4urcfbm\"><div class=\"j83agx80 lhclo0ds ihdl84by pmk7jnqg h119xb3h iylxurvu bo2ra7bd\"><div class=\"rq0escxv j83agx80 buofh1pr datstx6m ggysqto6 exrn9cbp ojkyduve abpf7j7b l9j0dhe7 k4urcfbm\"><img alt=\"2017 Nissan Sentra NISMO in Houston, TX\" class=\"idiwt2bm bixrwtb6 ni8dbmo4 stjgntxs k4urcfbm\" src=\"https://scontent.fhou1-1.fna.fbcdn.net/v/t1.0-0/c43.0.260.260a/p261x260/117598204_10223857923181055_2734220219048285331_o.jpg?_nc_cat=111&amp;_nc_sid=843cd7&amp;_nc_ohc=E_qLgXcqPvsAX-6vsVk&amp;_nc_ht=scontent.fhou1-1.fna&amp;oh=6d9fb06dd434f7c4561a3bc90150ef07&amp;oe=5F6DFDF0\"></div></div></div></div></div></div><div class=\"rq0escxv j83agx80 cbu4d94t i1fnvgqd muag1w35 pybr56ya f10w8fjw k4urcfbm c7r68pdi suyy3zvx\"><div class=\"aahdfvyu fsotbgu8\"><span class=\"j83agx80\"><div class=\"a8nywdso e5nlhep0 rz4wbd8a ecm0bbzt btwxx1t3 j83agx80\"><div class=\"hlyrhctz\"><span class=\"oi732d6d ik7dh3pa d2edcug0 qv66sw1b c1et5uql a8c37x1j s89635nw ew0dbk1b a5q79mjw g1cxx5fr lrazzd5p oo9gr5id\" dir=\"auto\">$4,000</span></div><div class=\"f0t0fhil mkhogb32\"><span class=\"oi732d6d ik7dh3pa d2edcug0 qv66sw1b c1et5uql a8c37x1j muag1w35 enqfppq2 jq4qci2q a3bd9o3v ekzkrbhg oo9gr5id\" dir=\"auto\">$4,000</span></div></div></span></div><div class=\"aahdfvyu fsotbgu8\"><span aria-hidden=\"true\"><div class=\"a8nywdso e5nlhep0 rz4wbd8a linoseic\"><span class=\"a8c37x1j ni8dbmo4 stjgntxs l9j0dhe7 oi732d6d ik7dh3pa d2edcug0 qv66sw1b c1et5uql muag1w35 enqfppq2 jq4qci2q a3bd9o3v knj5qynh oo9gr5id\" dir=\"auto\" style=\"-webkit-box-orient:vertical;-webkit-line-clamp:2;display:-webkit-box\">2017 Nissan Sentra NISMO</span></div></span></div><div class=\"aahdfvyu fsotbgu8\"><span aria-hidden=\"true\"><div class=\"a8nywdso e5nlhep0 rz4wbd8a ecm0bbzt\"><span class=\"a8c37x1j ni8dbmo4 stjgntxs l9j0dhe7 ltmttdrg g0qnabr5 oi732d6d ik7dh3pa d2edcug0 qv66sw1b c1et5uql hop8lmos enqfppq2 e9vueds3 j5wam9gi knj5qynh m9osqain\" dir=\"auto\">Houston, TX</span></div></span></div><div class=\"aahdfvyu fsotbgu8\"><div class=\"a8nywdso e5nlhep0 rz4wbd8a ecm0bbzt\"><span class=\"a8c37x1j ni8dbmo4 stjgntxs l9j0dhe7 ltmttdrg g0qnabr5 oi732d6d ik7dh3pa d2edcug0 qv66sw1b c1et5uql hop8lmos enqfppq2 e9vueds3 j5wam9gi knj5qynh m9osqain\" dir=\"auto\"></span></div></div></div></div></a></div>"
      ],
      "text/plain": [
       "<IPython.core.display.HTML object>"
      ]
     },
     "metadata": {},
     "output_type": "display_data"
    },
    {
     "name": "stdout",
     "output_type": "stream",
     "text": [
      "-------------------\n",
      "$4,000\n",
      "2014 Mitsubishi Lancer\n",
      "Houston, TX\n",
      "61K miles\n",
      "-------------------\n",
      "None\n",
      "-------------------\n"
     ]
    },
    {
     "data": {
      "text/html": [
       "<div class=\"kbiprv82\"><a class=\"oajrlxb2 g5ia77u1 qu0x051f esr5mh6w e9989ue4 r7d6kgcz rq0escxv nhd2j8a9 nc684nl6 p7hjln8o kvgmc6g5 cxmmr5t8 oygrvhab hcukyx3x jb3vyjys rz4wbd8a qt6c0cv9 a8nywdso i1ao9s8h esuyzwwr f1sip0of lzcic4wl gmql0nx0 p8dawk7l\" href=\"/marketplace/item/767504017335103/\" role=\"link\" tabindex=\"0\"><div class=\"j83agx80 cbu4d94t l9j0dhe7\"><div class=\"l9j0dhe7\"><div class=\"k4urcfbm l9j0dhe7\"><div class=\"kr520xx4 j9ispegn l9j0dhe7 stjgntxs ni8dbmo4 n7fi1qx3 i09qtzwb kzx2olss aot14ch1 p86d2i9g beltcj47 t63ysoy8 linmgsc8 hop1g133 opwvks06\"><div class=\"beltcj47 p86d2i9g aot14ch1 kzx2olss ni8dbmo4 stjgntxs d5it6em2 l9j0dhe7 k4urcfbm\"><div class=\"j83agx80 lhclo0ds ihdl84by pmk7jnqg h119xb3h iylxurvu bo2ra7bd\"><div class=\"rq0escxv j83agx80 buofh1pr datstx6m ggysqto6 exrn9cbp ojkyduve abpf7j7b l9j0dhe7 k4urcfbm\"><img alt=\"2014 Mitsubishi Lancer in Houston, TX\" class=\"idiwt2bm bixrwtb6 ni8dbmo4 stjgntxs k4urcfbm\" src=\"https://scontent.fhou1-1.fna.fbcdn.net/v/t1.0-0/c43.0.260.260a/p261x260/117641596_10223965411748202_1457909805012198025_o.jpg?_nc_cat=111&amp;_nc_sid=843cd7&amp;_nc_ohc=g1GEIbDtAXcAX_RcaaI&amp;_nc_ht=scontent.fhou1-1.fna&amp;oh=4e7bcd636a57e7bf9a2807a40f8329ac&amp;oe=5F6B0C8E\"></div></div></div></div></div></div><div class=\"rq0escxv j83agx80 cbu4d94t i1fnvgqd muag1w35 pybr56ya f10w8fjw k4urcfbm c7r68pdi suyy3zvx\"><div class=\"aahdfvyu fsotbgu8\"><span class=\"j83agx80\"><div class=\"a8nywdso e5nlhep0 rz4wbd8a ecm0bbzt btwxx1t3 j83agx80\"><div class=\"hlyrhctz\"><span class=\"oi732d6d ik7dh3pa d2edcug0 qv66sw1b c1et5uql a8c37x1j s89635nw ew0dbk1b a5q79mjw g1cxx5fr lrazzd5p oo9gr5id\" dir=\"auto\">$4,000</span></div><div class=\"f0t0fhil mkhogb32\"><span class=\"oi732d6d ik7dh3pa d2edcug0 qv66sw1b c1et5uql a8c37x1j muag1w35 enqfppq2 jq4qci2q a3bd9o3v ekzkrbhg oo9gr5id\" dir=\"auto\">$4,000</span></div></div></span></div><div class=\"aahdfvyu fsotbgu8\"><span aria-hidden=\"true\"><div class=\"a8nywdso e5nlhep0 rz4wbd8a linoseic\"><span class=\"a8c37x1j ni8dbmo4 stjgntxs l9j0dhe7 oi732d6d ik7dh3pa d2edcug0 qv66sw1b c1et5uql muag1w35 enqfppq2 jq4qci2q a3bd9o3v knj5qynh oo9gr5id\" dir=\"auto\" style=\"-webkit-box-orient:vertical;-webkit-line-clamp:2;display:-webkit-box\">2014 Mitsubishi Lancer</span></div></span></div><div class=\"aahdfvyu fsotbgu8\"><span aria-hidden=\"true\"><div class=\"a8nywdso e5nlhep0 rz4wbd8a ecm0bbzt\"><span class=\"a8c37x1j ni8dbmo4 stjgntxs l9j0dhe7 ltmttdrg g0qnabr5 oi732d6d ik7dh3pa d2edcug0 qv66sw1b c1et5uql hop8lmos enqfppq2 e9vueds3 j5wam9gi knj5qynh m9osqain\" dir=\"auto\">Houston, TX</span></div></span></div><div class=\"aahdfvyu fsotbgu8\"><div class=\"a8nywdso e5nlhep0 rz4wbd8a ecm0bbzt\"><span class=\"a8c37x1j ni8dbmo4 stjgntxs l9j0dhe7 ltmttdrg g0qnabr5 oi732d6d ik7dh3pa d2edcug0 qv66sw1b c1et5uql hop8lmos enqfppq2 e9vueds3 j5wam9gi knj5qynh m9osqain\" dir=\"auto\">61K miles</span></div></div></div></div></a></div>"
      ],
      "text/plain": [
       "<IPython.core.display.HTML object>"
      ]
     },
     "metadata": {},
     "output_type": "display_data"
    },
    {
     "name": "stdout",
     "output_type": "stream",
     "text": [
      "-------------------\n",
      "$3,000\n",
      "2017 Chevrolet Camaro SS\n",
      "Houston, TX\n",
      "-------------------\n",
      "None\n",
      "-------------------\n"
     ]
    },
    {
     "data": {
      "text/html": [
       "<div class=\"kbiprv82\"><a class=\"oajrlxb2 g5ia77u1 qu0x051f esr5mh6w e9989ue4 r7d6kgcz rq0escxv nhd2j8a9 nc684nl6 p7hjln8o kvgmc6g5 cxmmr5t8 oygrvhab hcukyx3x jb3vyjys rz4wbd8a qt6c0cv9 a8nywdso i1ao9s8h esuyzwwr f1sip0of lzcic4wl gmql0nx0 p8dawk7l\" href=\"/marketplace/item/278014096764850/\" role=\"link\" tabindex=\"0\"><div class=\"j83agx80 cbu4d94t l9j0dhe7\"><div class=\"l9j0dhe7\"><div class=\"k4urcfbm l9j0dhe7\"><div class=\"kr520xx4 j9ispegn l9j0dhe7 stjgntxs ni8dbmo4 n7fi1qx3 i09qtzwb kzx2olss aot14ch1 p86d2i9g beltcj47 t63ysoy8 linmgsc8 hop1g133 opwvks06\"><div class=\"beltcj47 p86d2i9g aot14ch1 kzx2olss ni8dbmo4 stjgntxs d5it6em2 l9j0dhe7 k4urcfbm\"><div class=\"j83agx80 lhclo0ds ihdl84by pmk7jnqg h119xb3h iylxurvu bo2ra7bd\"><div class=\"rq0escxv j83agx80 buofh1pr datstx6m ggysqto6 exrn9cbp ojkyduve abpf7j7b l9j0dhe7 k4urcfbm\"><img alt=\"2017 Chevrolet Camaro SS in Houston, TX\" class=\"idiwt2bm bixrwtb6 ni8dbmo4 stjgntxs k4urcfbm\" src=\"https://scontent.fhou1-2.fna.fbcdn.net/v/t1.0-0/c0.79.720.720a/s261x260/107749878_690056408214460_9051337851054778480_n.jpg?_nc_cat=105&amp;_nc_sid=843cd7&amp;_nc_ohc=G8QZ-gM-gUkAX99aI_Y&amp;_nc_ht=scontent.fhou1-2.fna&amp;oh=b8b0a2da44c38beda65bbede5a664c92&amp;oe=5F6B4118\"></div></div></div></div></div></div><div class=\"rq0escxv j83agx80 cbu4d94t i1fnvgqd muag1w35 pybr56ya f10w8fjw k4urcfbm c7r68pdi suyy3zvx\"><div class=\"aahdfvyu fsotbgu8\"><span class=\"j83agx80\"><div class=\"a8nywdso e5nlhep0 rz4wbd8a ecm0bbzt btwxx1t3 j83agx80\"><div class=\"hlyrhctz\"><span class=\"oi732d6d ik7dh3pa d2edcug0 qv66sw1b c1et5uql a8c37x1j s89635nw ew0dbk1b a5q79mjw g1cxx5fr lrazzd5p oo9gr5id\" dir=\"auto\">$3,000</span></div><div class=\"f0t0fhil mkhogb32\"><span class=\"oi732d6d ik7dh3pa d2edcug0 qv66sw1b c1et5uql a8c37x1j muag1w35 enqfppq2 jq4qci2q a3bd9o3v ekzkrbhg oo9gr5id\" dir=\"auto\">$3,000</span></div></div></span></div><div class=\"aahdfvyu fsotbgu8\"><span aria-hidden=\"true\"><div class=\"a8nywdso e5nlhep0 rz4wbd8a linoseic\"><span class=\"a8c37x1j ni8dbmo4 stjgntxs l9j0dhe7 oi732d6d ik7dh3pa d2edcug0 qv66sw1b c1et5uql muag1w35 enqfppq2 jq4qci2q a3bd9o3v knj5qynh oo9gr5id\" dir=\"auto\" style=\"-webkit-box-orient:vertical;-webkit-line-clamp:2;display:-webkit-box\">2017 Chevrolet Camaro SS</span></div></span></div><div class=\"aahdfvyu fsotbgu8\"><span aria-hidden=\"true\"><div class=\"a8nywdso e5nlhep0 rz4wbd8a ecm0bbzt\"><span class=\"a8c37x1j ni8dbmo4 stjgntxs l9j0dhe7 ltmttdrg g0qnabr5 oi732d6d ik7dh3pa d2edcug0 qv66sw1b c1et5uql hop8lmos enqfppq2 e9vueds3 j5wam9gi knj5qynh m9osqain\" dir=\"auto\">Houston, TX</span></div></span></div><div class=\"aahdfvyu fsotbgu8\"><div class=\"a8nywdso e5nlhep0 rz4wbd8a ecm0bbzt\"><span class=\"a8c37x1j ni8dbmo4 stjgntxs l9j0dhe7 ltmttdrg g0qnabr5 oi732d6d ik7dh3pa d2edcug0 qv66sw1b c1et5uql hop8lmos enqfppq2 e9vueds3 j5wam9gi knj5qynh m9osqain\" dir=\"auto\"></span></div></div></div></div></a></div>"
      ],
      "text/plain": [
       "<IPython.core.display.HTML object>"
      ]
     },
     "metadata": {},
     "output_type": "display_data"
    },
    {
     "name": "stdout",
     "output_type": "stream",
     "text": [
      "-------------------\n",
      "$1,500\n",
      "2013 Honda Accord\n",
      "Houston, TX\n",
      "-------------------\n",
      "None\n",
      "-------------------\n"
     ]
    },
    {
     "data": {
      "text/html": [
       "<div class=\"kbiprv82\"><a class=\"oajrlxb2 g5ia77u1 qu0x051f esr5mh6w e9989ue4 r7d6kgcz rq0escxv nhd2j8a9 nc684nl6 p7hjln8o kvgmc6g5 cxmmr5t8 oygrvhab hcukyx3x jb3vyjys rz4wbd8a qt6c0cv9 a8nywdso i1ao9s8h esuyzwwr f1sip0of lzcic4wl gmql0nx0 p8dawk7l\" href=\"/marketplace/item/735876560522494/\" role=\"link\" tabindex=\"0\"><div class=\"j83agx80 cbu4d94t l9j0dhe7\"><div class=\"l9j0dhe7\"><div class=\"k4urcfbm l9j0dhe7\"><div class=\"kr520xx4 j9ispegn l9j0dhe7 stjgntxs ni8dbmo4 n7fi1qx3 i09qtzwb kzx2olss aot14ch1 p86d2i9g beltcj47 t63ysoy8 linmgsc8 hop1g133 opwvks06\"><div class=\"beltcj47 p86d2i9g aot14ch1 kzx2olss ni8dbmo4 stjgntxs d5it6em2 l9j0dhe7 k4urcfbm\"><div class=\"j83agx80 lhclo0ds ihdl84by pmk7jnqg h119xb3h iylxurvu bo2ra7bd\"><div class=\"rq0escxv j83agx80 buofh1pr datstx6m ggysqto6 exrn9cbp ojkyduve abpf7j7b l9j0dhe7 k4urcfbm\"><img alt=\"2013 Honda Accord in Houston, TX\" class=\"idiwt2bm bixrwtb6 ni8dbmo4 stjgntxs k4urcfbm\" src=\"https://scontent.fhou1-1.fna.fbcdn.net/v/t1.0-0/c43.0.260.260a/p261x260/110327791_847151772479342_3811052817339195641_o.jpg?_nc_cat=104&amp;_nc_sid=843cd7&amp;_nc_ohc=396i_eqodDoAX_RvcfL&amp;_nc_ht=scontent.fhou1-1.fna&amp;oh=90a339d1a8c17b4b6af6a20a714c18da&amp;oe=5F6DFFF6\"></div></div></div></div></div></div><div class=\"rq0escxv j83agx80 cbu4d94t i1fnvgqd muag1w35 pybr56ya f10w8fjw k4urcfbm c7r68pdi suyy3zvx\"><div class=\"aahdfvyu fsotbgu8\"><span class=\"j83agx80\"><div class=\"a8nywdso e5nlhep0 rz4wbd8a ecm0bbzt btwxx1t3 j83agx80\"><div class=\"hlyrhctz\"><span class=\"oi732d6d ik7dh3pa d2edcug0 qv66sw1b c1et5uql a8c37x1j s89635nw ew0dbk1b a5q79mjw g1cxx5fr lrazzd5p oo9gr5id\" dir=\"auto\">$1,500</span></div><div class=\"f0t0fhil mkhogb32\"><span class=\"oi732d6d ik7dh3pa d2edcug0 qv66sw1b c1et5uql a8c37x1j muag1w35 enqfppq2 jq4qci2q a3bd9o3v ekzkrbhg oo9gr5id\" dir=\"auto\">$1,500</span></div></div></span></div><div class=\"aahdfvyu fsotbgu8\"><span aria-hidden=\"true\"><div class=\"a8nywdso e5nlhep0 rz4wbd8a linoseic\"><span class=\"a8c37x1j ni8dbmo4 stjgntxs l9j0dhe7 oi732d6d ik7dh3pa d2edcug0 qv66sw1b c1et5uql muag1w35 enqfppq2 jq4qci2q a3bd9o3v knj5qynh oo9gr5id\" dir=\"auto\" style=\"-webkit-box-orient:vertical;-webkit-line-clamp:2;display:-webkit-box\">2013 Honda Accord</span></div></span></div><div class=\"aahdfvyu fsotbgu8\"><span aria-hidden=\"true\"><div class=\"a8nywdso e5nlhep0 rz4wbd8a ecm0bbzt\"><span class=\"a8c37x1j ni8dbmo4 stjgntxs l9j0dhe7 ltmttdrg g0qnabr5 oi732d6d ik7dh3pa d2edcug0 qv66sw1b c1et5uql hop8lmos enqfppq2 e9vueds3 j5wam9gi knj5qynh m9osqain\" dir=\"auto\">Houston, TX</span></div></span></div><div class=\"aahdfvyu fsotbgu8\"><div class=\"a8nywdso e5nlhep0 rz4wbd8a ecm0bbzt\"><span class=\"a8c37x1j ni8dbmo4 stjgntxs l9j0dhe7 ltmttdrg g0qnabr5 oi732d6d ik7dh3pa d2edcug0 qv66sw1b c1et5uql hop8lmos enqfppq2 e9vueds3 j5wam9gi knj5qynh m9osqain\" dir=\"auto\"></span></div></div></div></div></a></div>"
      ],
      "text/plain": [
       "<IPython.core.display.HTML object>"
      ]
     },
     "metadata": {},
     "output_type": "display_data"
    },
    {
     "name": "stdout",
     "output_type": "stream",
     "text": [
      "-------------------\n",
      "$1,400\n",
      "2016 Chevrolet Malibu LTZ Sedan 4D\n",
      "Houston, TX\n",
      "80K miles\n",
      "-------------------\n",
      "None\n",
      "-------------------\n"
     ]
    },
    {
     "data": {
      "text/html": [
       "<div class=\"kbiprv82\"><a class=\"oajrlxb2 g5ia77u1 qu0x051f esr5mh6w e9989ue4 r7d6kgcz rq0escxv nhd2j8a9 nc684nl6 p7hjln8o kvgmc6g5 cxmmr5t8 oygrvhab hcukyx3x jb3vyjys rz4wbd8a qt6c0cv9 a8nywdso i1ao9s8h esuyzwwr f1sip0of lzcic4wl gmql0nx0 p8dawk7l\" href=\"/marketplace/item/642603823254130/\" role=\"link\" tabindex=\"0\"><div class=\"j83agx80 cbu4d94t l9j0dhe7\"><div class=\"l9j0dhe7\"><div class=\"k4urcfbm l9j0dhe7\"><div class=\"kr520xx4 j9ispegn l9j0dhe7 stjgntxs ni8dbmo4 n7fi1qx3 i09qtzwb kzx2olss aot14ch1 p86d2i9g beltcj47 t63ysoy8 linmgsc8 hop1g133 opwvks06\"><div class=\"beltcj47 p86d2i9g aot14ch1 kzx2olss ni8dbmo4 stjgntxs d5it6em2 l9j0dhe7 k4urcfbm\"><div class=\"j83agx80 lhclo0ds ihdl84by pmk7jnqg h119xb3h iylxurvu bo2ra7bd\"><div class=\"rq0escxv j83agx80 buofh1pr datstx6m ggysqto6 exrn9cbp ojkyduve abpf7j7b l9j0dhe7 k4urcfbm\"><img alt=\"2016 Chevrolet Malibu LTZ Sedan 4D in Houston, TX\" class=\"idiwt2bm bixrwtb6 ni8dbmo4 stjgntxs k4urcfbm\" src=\"https://scontent.fhou1-2.fna.fbcdn.net/v/t1.0-0/c43.0.260.260a/p261x260/95443429_10222321485492179_3592086092599263232_o.jpg?_nc_cat=109&amp;_nc_sid=843cd7&amp;_nc_ohc=sKiKsvbqdlkAX85k4yA&amp;_nc_ht=scontent.fhou1-2.fna&amp;oh=230658f6dd1378cc56307f6e04a76ec9&amp;oe=5F6AA996\"></div></div></div></div></div></div><div class=\"rq0escxv j83agx80 cbu4d94t i1fnvgqd muag1w35 pybr56ya f10w8fjw k4urcfbm c7r68pdi suyy3zvx\"><div class=\"aahdfvyu fsotbgu8\"><span class=\"j83agx80\"><div class=\"a8nywdso e5nlhep0 rz4wbd8a ecm0bbzt btwxx1t3 j83agx80\"><div class=\"hlyrhctz\"><span class=\"oi732d6d ik7dh3pa d2edcug0 qv66sw1b c1et5uql a8c37x1j s89635nw ew0dbk1b a5q79mjw g1cxx5fr lrazzd5p oo9gr5id\" dir=\"auto\">$1,400</span></div><div class=\"f0t0fhil mkhogb32\"><span class=\"oi732d6d ik7dh3pa d2edcug0 qv66sw1b c1et5uql a8c37x1j muag1w35 enqfppq2 jq4qci2q a3bd9o3v ekzkrbhg oo9gr5id\" dir=\"auto\">$1,400</span></div></div></span></div><div class=\"aahdfvyu fsotbgu8\"><span aria-hidden=\"true\"><div class=\"a8nywdso e5nlhep0 rz4wbd8a linoseic\"><span class=\"a8c37x1j ni8dbmo4 stjgntxs l9j0dhe7 oi732d6d ik7dh3pa d2edcug0 qv66sw1b c1et5uql muag1w35 enqfppq2 jq4qci2q a3bd9o3v knj5qynh oo9gr5id\" dir=\"auto\" style=\"-webkit-box-orient:vertical;-webkit-line-clamp:2;display:-webkit-box\">2016 Chevrolet Malibu LTZ Sedan 4D</span></div></span></div><div class=\"aahdfvyu fsotbgu8\"><span aria-hidden=\"true\"><div class=\"a8nywdso e5nlhep0 rz4wbd8a ecm0bbzt\"><span class=\"a8c37x1j ni8dbmo4 stjgntxs l9j0dhe7 ltmttdrg g0qnabr5 oi732d6d ik7dh3pa d2edcug0 qv66sw1b c1et5uql hop8lmos enqfppq2 e9vueds3 j5wam9gi knj5qynh m9osqain\" dir=\"auto\">Houston, TX</span></div></span></div><div class=\"aahdfvyu fsotbgu8\"><div class=\"a8nywdso e5nlhep0 rz4wbd8a ecm0bbzt\"><span class=\"a8c37x1j ni8dbmo4 stjgntxs l9j0dhe7 ltmttdrg g0qnabr5 oi732d6d ik7dh3pa d2edcug0 qv66sw1b c1et5uql hop8lmos enqfppq2 e9vueds3 j5wam9gi knj5qynh m9osqain\" dir=\"auto\">80K miles</span></div></div></div></div></a></div>"
      ],
      "text/plain": [
       "<IPython.core.display.HTML object>"
      ]
     },
     "metadata": {},
     "output_type": "display_data"
    },
    {
     "name": "stdout",
     "output_type": "stream",
     "text": [
      "-------------------\n",
      "$1,500\n",
      "2014 Ford Mustang GT Coupe 2D\n",
      "Huffman, TX\n",
      "64K miles\n",
      "-------------------\n",
      "None\n",
      "-------------------\n"
     ]
    },
    {
     "data": {
      "text/html": [
       "<div class=\"kbiprv82\"><a class=\"oajrlxb2 g5ia77u1 qu0x051f esr5mh6w e9989ue4 r7d6kgcz rq0escxv nhd2j8a9 nc684nl6 p7hjln8o kvgmc6g5 cxmmr5t8 oygrvhab hcukyx3x jb3vyjys rz4wbd8a qt6c0cv9 a8nywdso i1ao9s8h esuyzwwr f1sip0of lzcic4wl gmql0nx0 p8dawk7l\" href=\"/marketplace/item/444616616405358/\" role=\"link\" tabindex=\"0\"><div class=\"j83agx80 cbu4d94t l9j0dhe7\"><div class=\"l9j0dhe7\"><div class=\"k4urcfbm l9j0dhe7\"><div class=\"kr520xx4 j9ispegn l9j0dhe7 stjgntxs ni8dbmo4 n7fi1qx3 i09qtzwb kzx2olss aot14ch1 p86d2i9g beltcj47 t63ysoy8 linmgsc8 hop1g133 opwvks06\"><div class=\"beltcj47 p86d2i9g aot14ch1 kzx2olss ni8dbmo4 stjgntxs d5it6em2 l9j0dhe7 k4urcfbm\"><div class=\"j83agx80 lhclo0ds ihdl84by pmk7jnqg h119xb3h iylxurvu bo2ra7bd\"><div class=\"rq0escxv j83agx80 buofh1pr datstx6m ggysqto6 exrn9cbp ojkyduve abpf7j7b l9j0dhe7 k4urcfbm\"><img alt=\"2014 Ford Mustang GT Coupe 2D in Huffman, TX\" class=\"idiwt2bm bixrwtb6 ni8dbmo4 stjgntxs k4urcfbm\" src=\"https://scontent.fhou1-1.fna.fbcdn.net/v/t1.0-0/c43.0.260.260a/p261x260/72408809_1600233366782929_5353017512818638848_n.jpg?_nc_cat=100&amp;_nc_sid=843cd7&amp;_nc_ohc=LIh91rglaggAX_-sq_1&amp;_nc_ht=scontent.fhou1-1.fna&amp;oh=a8d8f32ff8eabe79e0658e114f17cc7e&amp;oe=5F6AEC0C\"></div></div></div></div></div></div><div class=\"rq0escxv j83agx80 cbu4d94t i1fnvgqd muag1w35 pybr56ya f10w8fjw k4urcfbm c7r68pdi suyy3zvx\"><div class=\"aahdfvyu fsotbgu8\"><span class=\"j83agx80\"><div class=\"a8nywdso e5nlhep0 rz4wbd8a ecm0bbzt btwxx1t3 j83agx80\"><div class=\"hlyrhctz\"><span class=\"oi732d6d ik7dh3pa d2edcug0 qv66sw1b c1et5uql a8c37x1j s89635nw ew0dbk1b a5q79mjw g1cxx5fr lrazzd5p oo9gr5id\" dir=\"auto\">$1,500</span></div><div class=\"f0t0fhil mkhogb32\"><span class=\"oi732d6d ik7dh3pa d2edcug0 qv66sw1b c1et5uql a8c37x1j muag1w35 enqfppq2 jq4qci2q a3bd9o3v ekzkrbhg oo9gr5id\" dir=\"auto\">$1,500</span></div></div></span></div><div class=\"aahdfvyu fsotbgu8\"><span aria-hidden=\"true\"><div class=\"a8nywdso e5nlhep0 rz4wbd8a linoseic\"><span class=\"a8c37x1j ni8dbmo4 stjgntxs l9j0dhe7 oi732d6d ik7dh3pa d2edcug0 qv66sw1b c1et5uql muag1w35 enqfppq2 jq4qci2q a3bd9o3v knj5qynh oo9gr5id\" dir=\"auto\" style=\"-webkit-box-orient:vertical;-webkit-line-clamp:2;display:-webkit-box\">2014 Ford Mustang GT Coupe 2D</span></div></span></div><div class=\"aahdfvyu fsotbgu8\"><span aria-hidden=\"true\"><div class=\"a8nywdso e5nlhep0 rz4wbd8a ecm0bbzt\"><span class=\"a8c37x1j ni8dbmo4 stjgntxs l9j0dhe7 ltmttdrg g0qnabr5 oi732d6d ik7dh3pa d2edcug0 qv66sw1b c1et5uql hop8lmos enqfppq2 e9vueds3 j5wam9gi knj5qynh m9osqain\" dir=\"auto\">Huffman, TX</span></div></span></div><div class=\"aahdfvyu fsotbgu8\"><div class=\"a8nywdso e5nlhep0 rz4wbd8a ecm0bbzt\"><span class=\"a8c37x1j ni8dbmo4 stjgntxs l9j0dhe7 ltmttdrg g0qnabr5 oi732d6d ik7dh3pa d2edcug0 qv66sw1b c1et5uql hop8lmos enqfppq2 e9vueds3 j5wam9gi knj5qynh m9osqain\" dir=\"auto\">64K miles</span></div></div></div></div></a></div>"
      ],
      "text/plain": [
       "<IPython.core.display.HTML object>"
      ]
     },
     "metadata": {},
     "output_type": "display_data"
    },
    {
     "name": "stdout",
     "output_type": "stream",
     "text": [
      "-------------------\n",
      "$2,595\n",
      "2014 Dodge Challenger\n",
      "Houston, TX\n",
      "101K miles\n",
      "-------------------\n",
      "None\n",
      "-------------------\n"
     ]
    },
    {
     "data": {
      "text/html": [
       "<div class=\"kbiprv82\"><a class=\"oajrlxb2 g5ia77u1 qu0x051f esr5mh6w e9989ue4 r7d6kgcz rq0escxv nhd2j8a9 nc684nl6 p7hjln8o kvgmc6g5 cxmmr5t8 oygrvhab hcukyx3x jb3vyjys rz4wbd8a qt6c0cv9 a8nywdso i1ao9s8h esuyzwwr f1sip0of lzcic4wl gmql0nx0 p8dawk7l\" href=\"/marketplace/item/298005504750480/\" role=\"link\" tabindex=\"0\"><div class=\"j83agx80 cbu4d94t l9j0dhe7\"><div class=\"l9j0dhe7\"><div class=\"k4urcfbm l9j0dhe7\"><div class=\"kr520xx4 j9ispegn l9j0dhe7 stjgntxs ni8dbmo4 n7fi1qx3 i09qtzwb kzx2olss aot14ch1 p86d2i9g beltcj47 t63ysoy8 linmgsc8 hop1g133 opwvks06\"><div class=\"beltcj47 p86d2i9g aot14ch1 kzx2olss ni8dbmo4 stjgntxs d5it6em2 l9j0dhe7 k4urcfbm\"><div class=\"j83agx80 lhclo0ds ihdl84by pmk7jnqg h119xb3h iylxurvu bo2ra7bd\"><div class=\"rq0escxv j83agx80 buofh1pr datstx6m ggysqto6 exrn9cbp ojkyduve abpf7j7b l9j0dhe7 k4urcfbm\"><img alt=\"2014 Dodge Challenger in Houston, TX\" class=\"idiwt2bm bixrwtb6 ni8dbmo4 stjgntxs k4urcfbm\" src=\"https://scontent.fhou1-2.fna.fbcdn.net/v/t1.0-0/c43.0.260.260a/p261x260/117109346_3606386402729040_2590290492237364492_o.jpg?_nc_cat=108&amp;_nc_sid=843cd7&amp;_nc_ohc=q6envadwHjYAX_yFNxW&amp;_nc_ht=scontent.fhou1-2.fna&amp;oh=c63e8ff6810400f3ffe5d1324943adc0&amp;oe=5F6DE68A\"></div></div></div></div></div></div><div class=\"rq0escxv j83agx80 cbu4d94t i1fnvgqd muag1w35 pybr56ya f10w8fjw k4urcfbm c7r68pdi suyy3zvx\"><div class=\"aahdfvyu fsotbgu8\"><span class=\"j83agx80\"><div class=\"a8nywdso e5nlhep0 rz4wbd8a ecm0bbzt btwxx1t3 j83agx80\"><div class=\"hlyrhctz\"><span class=\"oi732d6d ik7dh3pa d2edcug0 qv66sw1b c1et5uql a8c37x1j s89635nw ew0dbk1b a5q79mjw g1cxx5fr lrazzd5p oo9gr5id\" dir=\"auto\">$2,595</span></div><div class=\"f0t0fhil mkhogb32\"><span class=\"oi732d6d ik7dh3pa d2edcug0 qv66sw1b c1et5uql a8c37x1j muag1w35 enqfppq2 jq4qci2q a3bd9o3v ekzkrbhg oo9gr5id\" dir=\"auto\">$2,595</span></div></div></span></div><div class=\"aahdfvyu fsotbgu8\"><span aria-hidden=\"true\"><div class=\"a8nywdso e5nlhep0 rz4wbd8a linoseic\"><span class=\"a8c37x1j ni8dbmo4 stjgntxs l9j0dhe7 oi732d6d ik7dh3pa d2edcug0 qv66sw1b c1et5uql muag1w35 enqfppq2 jq4qci2q a3bd9o3v knj5qynh oo9gr5id\" dir=\"auto\" style=\"-webkit-box-orient:vertical;-webkit-line-clamp:2;display:-webkit-box\">2014 Dodge Challenger</span></div></span></div><div class=\"aahdfvyu fsotbgu8\"><span aria-hidden=\"true\"><div class=\"a8nywdso e5nlhep0 rz4wbd8a ecm0bbzt\"><span class=\"a8c37x1j ni8dbmo4 stjgntxs l9j0dhe7 ltmttdrg g0qnabr5 oi732d6d ik7dh3pa d2edcug0 qv66sw1b c1et5uql hop8lmos enqfppq2 e9vueds3 j5wam9gi knj5qynh m9osqain\" dir=\"auto\">Houston, TX</span></div></span></div><div class=\"aahdfvyu fsotbgu8\"><div class=\"a8nywdso e5nlhep0 rz4wbd8a ecm0bbzt\"><span class=\"a8c37x1j ni8dbmo4 stjgntxs l9j0dhe7 ltmttdrg g0qnabr5 oi732d6d ik7dh3pa d2edcug0 qv66sw1b c1et5uql hop8lmos enqfppq2 e9vueds3 j5wam9gi knj5qynh m9osqain\" dir=\"auto\">101K miles</span></div></div></div></div></a></div>"
      ],
      "text/plain": [
       "<IPython.core.display.HTML object>"
      ]
     },
     "metadata": {},
     "output_type": "display_data"
    },
    {
     "name": "stdout",
     "output_type": "stream",
     "text": [
      "-------------------\n",
      "$3,000\n",
      "2014 Honda Civic\n",
      "Houston, TX\n",
      "124K miles\n",
      "-------------------\n",
      "None\n",
      "-------------------\n"
     ]
    },
    {
     "data": {
      "text/html": [
       "<div class=\"kbiprv82\"><a class=\"oajrlxb2 g5ia77u1 qu0x051f esr5mh6w e9989ue4 r7d6kgcz rq0escxv nhd2j8a9 nc684nl6 p7hjln8o kvgmc6g5 cxmmr5t8 oygrvhab hcukyx3x jb3vyjys rz4wbd8a qt6c0cv9 a8nywdso i1ao9s8h esuyzwwr f1sip0of lzcic4wl gmql0nx0 p8dawk7l\" href=\"/marketplace/item/1445594395624594/\" role=\"link\" tabindex=\"0\"><div class=\"j83agx80 cbu4d94t l9j0dhe7\"><div class=\"l9j0dhe7\"><div class=\"k4urcfbm l9j0dhe7\"><div class=\"kr520xx4 j9ispegn l9j0dhe7 stjgntxs ni8dbmo4 n7fi1qx3 i09qtzwb kzx2olss aot14ch1 p86d2i9g beltcj47 t63ysoy8 linmgsc8 hop1g133 opwvks06\"><div class=\"beltcj47 p86d2i9g aot14ch1 kzx2olss ni8dbmo4 stjgntxs d5it6em2 l9j0dhe7 k4urcfbm\"><div class=\"j83agx80 lhclo0ds ihdl84by pmk7jnqg h119xb3h iylxurvu bo2ra7bd\"><div class=\"rq0escxv j83agx80 buofh1pr datstx6m ggysqto6 exrn9cbp ojkyduve abpf7j7b l9j0dhe7 k4urcfbm\"><img alt=\"2014 Honda Civic in Houston, TX\" class=\"idiwt2bm bixrwtb6 ni8dbmo4 stjgntxs k4urcfbm\" src=\"https://scontent.fhou1-2.fna.fbcdn.net/v/t1.0-0/c0.79.720.720a/s261x260/93323724_2925084534216757_9011096413576101888_n.jpg?_nc_cat=108&amp;_nc_sid=843cd7&amp;_nc_ohc=YBhNTBJjjUQAX_z6nn6&amp;_nc_ht=scontent.fhou1-2.fna&amp;oh=a59f5f2be32f5807930c51223f058c66&amp;oe=5F6E5B84\"></div></div></div></div></div></div><div class=\"rq0escxv j83agx80 cbu4d94t i1fnvgqd muag1w35 pybr56ya f10w8fjw k4urcfbm c7r68pdi suyy3zvx\"><div class=\"aahdfvyu fsotbgu8\"><span class=\"j83agx80\"><div class=\"a8nywdso e5nlhep0 rz4wbd8a ecm0bbzt btwxx1t3 j83agx80\"><div class=\"hlyrhctz\"><span class=\"oi732d6d ik7dh3pa d2edcug0 qv66sw1b c1et5uql a8c37x1j s89635nw ew0dbk1b a5q79mjw g1cxx5fr lrazzd5p oo9gr5id\" dir=\"auto\">$3,000</span></div><div class=\"f0t0fhil mkhogb32\"><span class=\"oi732d6d ik7dh3pa d2edcug0 qv66sw1b c1et5uql a8c37x1j muag1w35 enqfppq2 jq4qci2q a3bd9o3v ekzkrbhg oo9gr5id\" dir=\"auto\">$3,000</span></div></div></span></div><div class=\"aahdfvyu fsotbgu8\"><span aria-hidden=\"true\"><div class=\"a8nywdso e5nlhep0 rz4wbd8a linoseic\"><span class=\"a8c37x1j ni8dbmo4 stjgntxs l9j0dhe7 oi732d6d ik7dh3pa d2edcug0 qv66sw1b c1et5uql muag1w35 enqfppq2 jq4qci2q a3bd9o3v knj5qynh oo9gr5id\" dir=\"auto\" style=\"-webkit-box-orient:vertical;-webkit-line-clamp:2;display:-webkit-box\">2014 Honda Civic</span></div></span></div><div class=\"aahdfvyu fsotbgu8\"><span aria-hidden=\"true\"><div class=\"a8nywdso e5nlhep0 rz4wbd8a ecm0bbzt\"><span class=\"a8c37x1j ni8dbmo4 stjgntxs l9j0dhe7 ltmttdrg g0qnabr5 oi732d6d ik7dh3pa d2edcug0 qv66sw1b c1et5uql hop8lmos enqfppq2 e9vueds3 j5wam9gi knj5qynh m9osqain\" dir=\"auto\">Houston, TX</span></div></span></div><div class=\"aahdfvyu fsotbgu8\"><div class=\"a8nywdso e5nlhep0 rz4wbd8a ecm0bbzt\"><span class=\"a8c37x1j ni8dbmo4 stjgntxs l9j0dhe7 ltmttdrg g0qnabr5 oi732d6d ik7dh3pa d2edcug0 qv66sw1b c1et5uql hop8lmos enqfppq2 e9vueds3 j5wam9gi knj5qynh m9osqain\" dir=\"auto\">124K miles</span></div></div></div></div></a></div>"
      ],
      "text/plain": [
       "<IPython.core.display.HTML object>"
      ]
     },
     "metadata": {},
     "output_type": "display_data"
    },
    {
     "name": "stdout",
     "output_type": "stream",
     "text": [
      "-------------------\n",
      "$3,500\n",
      "2017 Ford Mustang GT Premium Coupe 2D\n",
      "Cypress, TX\n",
      "37K miles\n",
      "-------------------\n",
      "None\n",
      "-------------------\n"
     ]
    },
    {
     "data": {
      "text/html": [
       "<div class=\"kbiprv82\"><a class=\"oajrlxb2 g5ia77u1 qu0x051f esr5mh6w e9989ue4 r7d6kgcz rq0escxv nhd2j8a9 nc684nl6 p7hjln8o kvgmc6g5 cxmmr5t8 oygrvhab hcukyx3x jb3vyjys rz4wbd8a qt6c0cv9 a8nywdso i1ao9s8h esuyzwwr f1sip0of lzcic4wl gmql0nx0 p8dawk7l\" href=\"/marketplace/item/2424939077750435/\" role=\"link\" tabindex=\"0\"><div class=\"j83agx80 cbu4d94t l9j0dhe7\"><div class=\"l9j0dhe7\"><div class=\"k4urcfbm l9j0dhe7\"><div class=\"kr520xx4 j9ispegn l9j0dhe7 stjgntxs ni8dbmo4 n7fi1qx3 i09qtzwb kzx2olss aot14ch1 p86d2i9g beltcj47 t63ysoy8 linmgsc8 hop1g133 opwvks06\"><div class=\"beltcj47 p86d2i9g aot14ch1 kzx2olss ni8dbmo4 stjgntxs d5it6em2 l9j0dhe7 k4urcfbm\"><div class=\"j83agx80 lhclo0ds ihdl84by pmk7jnqg h119xb3h iylxurvu bo2ra7bd\"><div class=\"rq0escxv j83agx80 buofh1pr datstx6m ggysqto6 exrn9cbp ojkyduve abpf7j7b l9j0dhe7 k4urcfbm\"><img alt=\"2017 Ford Mustang GT Premium Coupe 2D in Cypress, TX\" class=\"idiwt2bm bixrwtb6 ni8dbmo4 stjgntxs k4urcfbm\" src=\"https://scontent.fhou1-2.fna.fbcdn.net/v/t1.0-0/c101.0.260.260a/p261x260/67801580_1541161066023493_3617188278068838400_n.jpg?_nc_cat=105&amp;_nc_sid=843cd7&amp;_nc_ohc=ILlph-jJDLAAX9tYLlN&amp;_nc_ht=scontent.fhou1-2.fna&amp;oh=ef3b8725ba3d788cb3ff1b36d1ee1415&amp;oe=5F6B9852\"></div></div></div></div></div></div><div class=\"rq0escxv j83agx80 cbu4d94t i1fnvgqd muag1w35 pybr56ya f10w8fjw k4urcfbm c7r68pdi suyy3zvx\"><div class=\"aahdfvyu fsotbgu8\"><span class=\"j83agx80\"><div class=\"a8nywdso e5nlhep0 rz4wbd8a ecm0bbzt btwxx1t3 j83agx80\"><div class=\"hlyrhctz\"><span class=\"oi732d6d ik7dh3pa d2edcug0 qv66sw1b c1et5uql a8c37x1j s89635nw ew0dbk1b a5q79mjw g1cxx5fr lrazzd5p oo9gr5id\" dir=\"auto\">$3,500</span></div><div class=\"f0t0fhil mkhogb32\"><span class=\"oi732d6d ik7dh3pa d2edcug0 qv66sw1b c1et5uql a8c37x1j muag1w35 enqfppq2 jq4qci2q a3bd9o3v ekzkrbhg oo9gr5id\" dir=\"auto\">$3,500</span></div></div></span></div><div class=\"aahdfvyu fsotbgu8\"><span aria-hidden=\"true\"><div class=\"a8nywdso e5nlhep0 rz4wbd8a linoseic\"><span class=\"a8c37x1j ni8dbmo4 stjgntxs l9j0dhe7 oi732d6d ik7dh3pa d2edcug0 qv66sw1b c1et5uql muag1w35 enqfppq2 jq4qci2q a3bd9o3v knj5qynh oo9gr5id\" dir=\"auto\" style=\"-webkit-box-orient:vertical;-webkit-line-clamp:2;display:-webkit-box\">2017 Ford Mustang GT Premium Coupe 2D</span></div></span></div><div class=\"aahdfvyu fsotbgu8\"><span aria-hidden=\"true\"><div class=\"a8nywdso e5nlhep0 rz4wbd8a ecm0bbzt\"><span class=\"a8c37x1j ni8dbmo4 stjgntxs l9j0dhe7 ltmttdrg g0qnabr5 oi732d6d ik7dh3pa d2edcug0 qv66sw1b c1et5uql hop8lmos enqfppq2 e9vueds3 j5wam9gi knj5qynh m9osqain\" dir=\"auto\">Cypress, TX</span></div></span></div><div class=\"aahdfvyu fsotbgu8\"><div class=\"a8nywdso e5nlhep0 rz4wbd8a ecm0bbzt\"><span class=\"a8c37x1j ni8dbmo4 stjgntxs l9j0dhe7 ltmttdrg g0qnabr5 oi732d6d ik7dh3pa d2edcug0 qv66sw1b c1et5uql hop8lmos enqfppq2 e9vueds3 j5wam9gi knj5qynh m9osqain\" dir=\"auto\">37K miles</span></div></div></div></div></a></div>"
      ],
      "text/plain": [
       "<IPython.core.display.HTML object>"
      ]
     },
     "metadata": {},
     "output_type": "display_data"
    },
    {
     "name": "stdout",
     "output_type": "stream",
     "text": [
      "-------------------\n",
      "$3,999\n",
      "2016 Chevrolet camaro white.\n",
      "Houston, TX\n",
      "20K miles\n",
      "-------------------\n",
      "None\n",
      "-------------------\n"
     ]
    },
    {
     "data": {
      "text/html": [
       "<div class=\"kbiprv82\"><a class=\"oajrlxb2 g5ia77u1 qu0x051f esr5mh6w e9989ue4 r7d6kgcz rq0escxv nhd2j8a9 nc684nl6 p7hjln8o kvgmc6g5 cxmmr5t8 oygrvhab hcukyx3x jb3vyjys rz4wbd8a qt6c0cv9 a8nywdso i1ao9s8h esuyzwwr f1sip0of lzcic4wl gmql0nx0 p8dawk7l\" href=\"/marketplace/item/3409158725764400/\" role=\"link\" tabindex=\"0\"><div class=\"j83agx80 cbu4d94t l9j0dhe7\"><div class=\"l9j0dhe7\"><div class=\"k4urcfbm l9j0dhe7\"><div class=\"kr520xx4 j9ispegn l9j0dhe7 stjgntxs ni8dbmo4 n7fi1qx3 i09qtzwb kzx2olss aot14ch1 p86d2i9g beltcj47 t63ysoy8 linmgsc8 hop1g133 opwvks06\"><div class=\"beltcj47 p86d2i9g aot14ch1 kzx2olss ni8dbmo4 stjgntxs d5it6em2 l9j0dhe7 k4urcfbm\"><div class=\"j83agx80 lhclo0ds ihdl84by pmk7jnqg h119xb3h iylxurvu bo2ra7bd\"><div class=\"rq0escxv j83agx80 buofh1pr datstx6m ggysqto6 exrn9cbp ojkyduve abpf7j7b l9j0dhe7 k4urcfbm\"><img alt=\"2016 Chevrolet camaro white. in Houston, TX\" class=\"idiwt2bm bixrwtb6 ni8dbmo4 stjgntxs k4urcfbm\" src=\"https://scontent.fhou1-2.fna.fbcdn.net/v/t1.0-0/c65.0.260.260a/p261x260/101511173_2609332709338803_2143532859847091071_n.jpg?_nc_cat=109&amp;_nc_sid=843cd7&amp;_nc_ohc=Uai085EPyiUAX8IwNH8&amp;_nc_ht=scontent.fhou1-2.fna&amp;oh=712e752adeb4d7505e787150bd683810&amp;oe=5F6E6586\"></div></div></div></div></div></div><div class=\"rq0escxv j83agx80 cbu4d94t i1fnvgqd muag1w35 pybr56ya f10w8fjw k4urcfbm c7r68pdi suyy3zvx\"><div class=\"aahdfvyu fsotbgu8\"><span class=\"j83agx80\"><div class=\"a8nywdso e5nlhep0 rz4wbd8a ecm0bbzt btwxx1t3 j83agx80\"><div class=\"hlyrhctz\"><span class=\"oi732d6d ik7dh3pa d2edcug0 qv66sw1b c1et5uql a8c37x1j s89635nw ew0dbk1b a5q79mjw g1cxx5fr lrazzd5p oo9gr5id\" dir=\"auto\">$3,999</span></div><div class=\"f0t0fhil mkhogb32\"><span class=\"oi732d6d ik7dh3pa d2edcug0 qv66sw1b c1et5uql a8c37x1j muag1w35 enqfppq2 jq4qci2q a3bd9o3v ekzkrbhg oo9gr5id\" dir=\"auto\">$3,999</span></div></div></span></div><div class=\"aahdfvyu fsotbgu8\"><span aria-hidden=\"true\"><div class=\"a8nywdso e5nlhep0 rz4wbd8a linoseic\"><span class=\"a8c37x1j ni8dbmo4 stjgntxs l9j0dhe7 oi732d6d ik7dh3pa d2edcug0 qv66sw1b c1et5uql muag1w35 enqfppq2 jq4qci2q a3bd9o3v knj5qynh oo9gr5id\" dir=\"auto\" style=\"-webkit-box-orient:vertical;-webkit-line-clamp:2;display:-webkit-box\">2016 Chevrolet camaro white.</span></div></span></div><div class=\"aahdfvyu fsotbgu8\"><span aria-hidden=\"true\"><div class=\"a8nywdso e5nlhep0 rz4wbd8a ecm0bbzt\"><span class=\"a8c37x1j ni8dbmo4 stjgntxs l9j0dhe7 ltmttdrg g0qnabr5 oi732d6d ik7dh3pa d2edcug0 qv66sw1b c1et5uql hop8lmos enqfppq2 e9vueds3 j5wam9gi knj5qynh m9osqain\" dir=\"auto\">Houston, TX</span></div></span></div><div class=\"aahdfvyu fsotbgu8\"><div class=\"a8nywdso e5nlhep0 rz4wbd8a ecm0bbzt\"><span class=\"a8c37x1j ni8dbmo4 stjgntxs l9j0dhe7 ltmttdrg g0qnabr5 oi732d6d ik7dh3pa d2edcug0 qv66sw1b c1et5uql hop8lmos enqfppq2 e9vueds3 j5wam9gi knj5qynh m9osqain\" dir=\"auto\">20K miles</span></div></div></div></div></a></div>"
      ],
      "text/plain": [
       "<IPython.core.display.HTML object>"
      ]
     },
     "metadata": {},
     "output_type": "display_data"
    },
    {
     "name": "stdout",
     "output_type": "stream",
     "text": [
      "-------------------\n",
      "Contact Seller\n",
      "2016 Chevrolet Camaro\n",
      "Houston, TX\n",
      "15K miles\n",
      "-------------------\n",
      "None\n",
      "-------------------\n"
     ]
    },
    {
     "data": {
      "text/html": [
       "<div class=\"kbiprv82\"><a class=\"oajrlxb2 g5ia77u1 qu0x051f esr5mh6w e9989ue4 r7d6kgcz rq0escxv nhd2j8a9 nc684nl6 p7hjln8o kvgmc6g5 cxmmr5t8 oygrvhab hcukyx3x jb3vyjys rz4wbd8a qt6c0cv9 a8nywdso i1ao9s8h esuyzwwr f1sip0of lzcic4wl gmql0nx0 p8dawk7l\" href=\"/marketplace/item/272444404050806/\" role=\"link\" tabindex=\"0\"><div class=\"j83agx80 cbu4d94t l9j0dhe7\"><div class=\"l9j0dhe7\"><div class=\"k4urcfbm l9j0dhe7\"><div class=\"kr520xx4 j9ispegn l9j0dhe7 stjgntxs ni8dbmo4 n7fi1qx3 i09qtzwb kzx2olss aot14ch1 p86d2i9g beltcj47 t63ysoy8 linmgsc8 hop1g133 opwvks06\"><div class=\"beltcj47 p86d2i9g aot14ch1 kzx2olss ni8dbmo4 stjgntxs d5it6em2 l9j0dhe7 k4urcfbm\"><div class=\"j83agx80 lhclo0ds ihdl84by pmk7jnqg h119xb3h iylxurvu bo2ra7bd\"><div class=\"rq0escxv j83agx80 buofh1pr datstx6m ggysqto6 exrn9cbp ojkyduve abpf7j7b l9j0dhe7 k4urcfbm\"><img alt=\"2016 Chevrolet Camaro in Houston, TX\" class=\"idiwt2bm bixrwtb6 ni8dbmo4 stjgntxs k4urcfbm\" src=\"https://scontent.fhou1-2.fna.fbcdn.net/v/t1.0-0/c101.0.260.260a/p261x260/108778329_10163753450295403_4694242345732064619_n.jpg?_nc_cat=105&amp;_nc_sid=843cd7&amp;_nc_ohc=Yx4mBbjVdNwAX-rg0bq&amp;_nc_ht=scontent.fhou1-2.fna&amp;oh=78fe228eced8b3dde962336a29e74029&amp;oe=5F6B6EEA\"></div></div></div></div></div></div><div class=\"rq0escxv j83agx80 cbu4d94t i1fnvgqd muag1w35 pybr56ya f10w8fjw k4urcfbm c7r68pdi suyy3zvx\"><div class=\"aahdfvyu fsotbgu8\"><span class=\"j83agx80\"><div class=\"a8nywdso e5nlhep0 rz4wbd8a ecm0bbzt btwxx1t3 j83agx80\"><div class=\"hlyrhctz\"><span class=\"oi732d6d ik7dh3pa d2edcug0 qv66sw1b c1et5uql a8c37x1j s89635nw ew0dbk1b a5q79mjw g1cxx5fr lrazzd5p oo9gr5id\" dir=\"auto\">Contact Seller</span></div><div class=\"f0t0fhil mkhogb32\"><span class=\"oi732d6d ik7dh3pa d2edcug0 qv66sw1b c1et5uql a8c37x1j muag1w35 enqfppq2 jq4qci2q a3bd9o3v ekzkrbhg oo9gr5id\" dir=\"auto\">Contact Seller</span></div></div></span></div><div class=\"aahdfvyu fsotbgu8\"><span aria-hidden=\"true\"><div class=\"a8nywdso e5nlhep0 rz4wbd8a linoseic\"><span class=\"a8c37x1j ni8dbmo4 stjgntxs l9j0dhe7 oi732d6d ik7dh3pa d2edcug0 qv66sw1b c1et5uql muag1w35 enqfppq2 jq4qci2q a3bd9o3v knj5qynh oo9gr5id\" dir=\"auto\" style=\"-webkit-box-orient:vertical;-webkit-line-clamp:2;display:-webkit-box\">2016 Chevrolet Camaro</span></div></span></div><div class=\"aahdfvyu fsotbgu8\"><span aria-hidden=\"true\"><div class=\"a8nywdso e5nlhep0 rz4wbd8a ecm0bbzt\"><span class=\"a8c37x1j ni8dbmo4 stjgntxs l9j0dhe7 ltmttdrg g0qnabr5 oi732d6d ik7dh3pa d2edcug0 qv66sw1b c1et5uql hop8lmos enqfppq2 e9vueds3 j5wam9gi knj5qynh m9osqain\" dir=\"auto\">Houston, TX</span></div></span></div><div class=\"aahdfvyu fsotbgu8\"><div class=\"a8nywdso e5nlhep0 rz4wbd8a ecm0bbzt\"><span class=\"a8c37x1j ni8dbmo4 stjgntxs l9j0dhe7 ltmttdrg g0qnabr5 oi732d6d ik7dh3pa d2edcug0 qv66sw1b c1et5uql hop8lmos enqfppq2 e9vueds3 j5wam9gi knj5qynh m9osqain\" dir=\"auto\">15K miles</span></div></div></div></div></a></div>"
      ],
      "text/plain": [
       "<IPython.core.display.HTML object>"
      ]
     },
     "metadata": {},
     "output_type": "display_data"
    },
    {
     "name": "stdout",
     "output_type": "stream",
     "text": [
      "-------------------\n",
      "$2,800\n",
      "2019 Toyota Camry\n",
      "Houston, TX\n",
      "-------------------\n",
      "None\n",
      "-------------------\n"
     ]
    },
    {
     "data": {
      "text/html": [
       "<div class=\"kbiprv82\"><a class=\"oajrlxb2 g5ia77u1 qu0x051f esr5mh6w e9989ue4 r7d6kgcz rq0escxv nhd2j8a9 nc684nl6 p7hjln8o kvgmc6g5 cxmmr5t8 oygrvhab hcukyx3x jb3vyjys rz4wbd8a qt6c0cv9 a8nywdso i1ao9s8h esuyzwwr f1sip0of lzcic4wl gmql0nx0 p8dawk7l\" href=\"/marketplace/item/319170899129722/\" role=\"link\" tabindex=\"0\"><div class=\"j83agx80 cbu4d94t l9j0dhe7\"><div class=\"l9j0dhe7\"><div class=\"k4urcfbm l9j0dhe7\"><div class=\"kr520xx4 j9ispegn l9j0dhe7 stjgntxs ni8dbmo4 n7fi1qx3 i09qtzwb kzx2olss aot14ch1 p86d2i9g beltcj47 t63ysoy8 linmgsc8 hop1g133 opwvks06\"><div class=\"beltcj47 p86d2i9g aot14ch1 kzx2olss ni8dbmo4 stjgntxs d5it6em2 l9j0dhe7 k4urcfbm\"><div class=\"j83agx80 lhclo0ds ihdl84by pmk7jnqg h119xb3h iylxurvu bo2ra7bd\"><div class=\"rq0escxv j83agx80 buofh1pr datstx6m ggysqto6 exrn9cbp ojkyduve abpf7j7b l9j0dhe7 k4urcfbm\"><img alt=\"2019 Toyota Camry in Houston, TX\" class=\"idiwt2bm bixrwtb6 ni8dbmo4 stjgntxs k4urcfbm\" src=\"https://scontent.fhou1-1.fna.fbcdn.net/v/t1.0-0/c138.0.260.260a/p261x260/116326707_174941927365975_8332291269219430184_o.jpg?_nc_cat=110&amp;_nc_sid=843cd7&amp;_nc_ohc=RGlsWiHMA5cAX-DUj7X&amp;_nc_ht=scontent.fhou1-1.fna&amp;oh=ba3a4ab382657c40d1ec9f8bbcbb027f&amp;oe=5F6D58A0\"></div></div></div></div></div></div><div class=\"rq0escxv j83agx80 cbu4d94t i1fnvgqd muag1w35 pybr56ya f10w8fjw k4urcfbm c7r68pdi suyy3zvx\"><div class=\"aahdfvyu fsotbgu8\"><span class=\"j83agx80\"><div class=\"a8nywdso e5nlhep0 rz4wbd8a ecm0bbzt btwxx1t3 j83agx80\"><div class=\"hlyrhctz\"><span class=\"oi732d6d ik7dh3pa d2edcug0 qv66sw1b c1et5uql a8c37x1j s89635nw ew0dbk1b a5q79mjw g1cxx5fr lrazzd5p oo9gr5id\" dir=\"auto\">$2,800</span></div><div class=\"f0t0fhil mkhogb32\"><span class=\"oi732d6d ik7dh3pa d2edcug0 qv66sw1b c1et5uql a8c37x1j muag1w35 enqfppq2 jq4qci2q a3bd9o3v ekzkrbhg oo9gr5id\" dir=\"auto\">$2,800</span></div></div></span></div><div class=\"aahdfvyu fsotbgu8\"><span aria-hidden=\"true\"><div class=\"a8nywdso e5nlhep0 rz4wbd8a linoseic\"><span class=\"a8c37x1j ni8dbmo4 stjgntxs l9j0dhe7 oi732d6d ik7dh3pa d2edcug0 qv66sw1b c1et5uql muag1w35 enqfppq2 jq4qci2q a3bd9o3v knj5qynh oo9gr5id\" dir=\"auto\" style=\"-webkit-box-orient:vertical;-webkit-line-clamp:2;display:-webkit-box\">2019 Toyota Camry</span></div></span></div><div class=\"aahdfvyu fsotbgu8\"><span aria-hidden=\"true\"><div class=\"a8nywdso e5nlhep0 rz4wbd8a ecm0bbzt\"><span class=\"a8c37x1j ni8dbmo4 stjgntxs l9j0dhe7 ltmttdrg g0qnabr5 oi732d6d ik7dh3pa d2edcug0 qv66sw1b c1et5uql hop8lmos enqfppq2 e9vueds3 j5wam9gi knj5qynh m9osqain\" dir=\"auto\">Houston, TX</span></div></span></div><div class=\"aahdfvyu fsotbgu8\"><div class=\"a8nywdso e5nlhep0 rz4wbd8a ecm0bbzt\"><span class=\"a8c37x1j ni8dbmo4 stjgntxs l9j0dhe7 ltmttdrg g0qnabr5 oi732d6d ik7dh3pa d2edcug0 qv66sw1b c1et5uql hop8lmos enqfppq2 e9vueds3 j5wam9gi knj5qynh m9osqain\" dir=\"auto\"></span></div></div></div></div></a></div>"
      ],
      "text/plain": [
       "<IPython.core.display.HTML object>"
      ]
     },
     "metadata": {},
     "output_type": "display_data"
    },
    {
     "name": "stdout",
     "output_type": "stream",
     "text": [
      "-------------------\n",
      "$3,500\n",
      "2019 Ford Ranger Lariat Pickup 4D 5 ft\n",
      "Houston, TX\n",
      "18K miles\n",
      "-------------------\n",
      "None\n",
      "-------------------\n"
     ]
    },
    {
     "data": {
      "text/html": [
       "<div class=\"kbiprv82\"><a class=\"oajrlxb2 g5ia77u1 qu0x051f esr5mh6w e9989ue4 r7d6kgcz rq0escxv nhd2j8a9 nc684nl6 p7hjln8o kvgmc6g5 cxmmr5t8 oygrvhab hcukyx3x jb3vyjys rz4wbd8a qt6c0cv9 a8nywdso i1ao9s8h esuyzwwr f1sip0of lzcic4wl gmql0nx0 p8dawk7l\" href=\"/marketplace/item/250002526421345/\" role=\"link\" tabindex=\"0\"><div class=\"j83agx80 cbu4d94t l9j0dhe7\"><div class=\"l9j0dhe7\"><div class=\"k4urcfbm l9j0dhe7\"><div class=\"kr520xx4 j9ispegn l9j0dhe7 stjgntxs ni8dbmo4 n7fi1qx3 i09qtzwb kzx2olss aot14ch1 p86d2i9g beltcj47 t63ysoy8 linmgsc8 hop1g133 opwvks06\"><div class=\"beltcj47 p86d2i9g aot14ch1 kzx2olss ni8dbmo4 stjgntxs d5it6em2 l9j0dhe7 k4urcfbm\"><div class=\"j83agx80 lhclo0ds ihdl84by pmk7jnqg h119xb3h iylxurvu bo2ra7bd\"><div class=\"rq0escxv j83agx80 buofh1pr datstx6m ggysqto6 exrn9cbp ojkyduve abpf7j7b l9j0dhe7 k4urcfbm\"><img alt=\"2019 Ford Ranger Lariat Pickup 4D 5 ft in Houston, TX\" class=\"idiwt2bm bixrwtb6 ni8dbmo4 stjgntxs k4urcfbm\" src=\"https://scontent.fhou1-2.fna.fbcdn.net/v/t1.0-0/c43.0.260.260a/p261x260/101685111_850838538736818_2681779074271019008_o.jpg?_nc_cat=105&amp;_nc_sid=843cd7&amp;_nc_ohc=sb_-fS2p8kwAX8wSjpM&amp;_nc_ht=scontent.fhou1-2.fna&amp;oh=ac2d96775efcd5e34ed86ece979501aa&amp;oe=5F6E6C0F\"></div></div></div></div></div></div><div class=\"rq0escxv j83agx80 cbu4d94t i1fnvgqd muag1w35 pybr56ya f10w8fjw k4urcfbm c7r68pdi suyy3zvx\"><div class=\"aahdfvyu fsotbgu8\"><span class=\"j83agx80\"><div class=\"a8nywdso e5nlhep0 rz4wbd8a ecm0bbzt btwxx1t3 j83agx80\"><div class=\"hlyrhctz\"><span class=\"oi732d6d ik7dh3pa d2edcug0 qv66sw1b c1et5uql a8c37x1j s89635nw ew0dbk1b a5q79mjw g1cxx5fr lrazzd5p oo9gr5id\" dir=\"auto\">$3,500</span></div><div class=\"f0t0fhil mkhogb32\"><span class=\"oi732d6d ik7dh3pa d2edcug0 qv66sw1b c1et5uql a8c37x1j muag1w35 enqfppq2 jq4qci2q a3bd9o3v ekzkrbhg oo9gr5id\" dir=\"auto\">$3,500</span></div></div></span></div><div class=\"aahdfvyu fsotbgu8\"><span aria-hidden=\"true\"><div class=\"a8nywdso e5nlhep0 rz4wbd8a linoseic\"><span class=\"a8c37x1j ni8dbmo4 stjgntxs l9j0dhe7 oi732d6d ik7dh3pa d2edcug0 qv66sw1b c1et5uql muag1w35 enqfppq2 jq4qci2q a3bd9o3v knj5qynh oo9gr5id\" dir=\"auto\" style=\"-webkit-box-orient:vertical;-webkit-line-clamp:2;display:-webkit-box\">2019 Ford Ranger Lariat Pickup 4D 5 ft</span></div></span></div><div class=\"aahdfvyu fsotbgu8\"><span aria-hidden=\"true\"><div class=\"a8nywdso e5nlhep0 rz4wbd8a ecm0bbzt\"><span class=\"a8c37x1j ni8dbmo4 stjgntxs l9j0dhe7 ltmttdrg g0qnabr5 oi732d6d ik7dh3pa d2edcug0 qv66sw1b c1et5uql hop8lmos enqfppq2 e9vueds3 j5wam9gi knj5qynh m9osqain\" dir=\"auto\">Houston, TX</span></div></span></div><div class=\"aahdfvyu fsotbgu8\"><div class=\"a8nywdso e5nlhep0 rz4wbd8a ecm0bbzt\"><span class=\"a8c37x1j ni8dbmo4 stjgntxs l9j0dhe7 ltmttdrg g0qnabr5 oi732d6d ik7dh3pa d2edcug0 qv66sw1b c1et5uql hop8lmos enqfppq2 e9vueds3 j5wam9gi knj5qynh m9osqain\" dir=\"auto\">18K miles</span></div></div></div></div></a></div>"
      ],
      "text/plain": [
       "<IPython.core.display.HTML object>"
      ]
     },
     "metadata": {},
     "output_type": "display_data"
    },
    {
     "name": "stdout",
     "output_type": "stream",
     "text": [
      "-------------------\n",
      "$1,200\n",
      "2016 Honda Civic LX Sedan 4D\n",
      "Houston, TX\n",
      "23K miles\n",
      "-------------------\n",
      "None\n",
      "-------------------\n"
     ]
    },
    {
     "data": {
      "text/html": [
       "<div class=\"kbiprv82\"><a class=\"oajrlxb2 g5ia77u1 qu0x051f esr5mh6w e9989ue4 r7d6kgcz rq0escxv nhd2j8a9 nc684nl6 p7hjln8o kvgmc6g5 cxmmr5t8 oygrvhab hcukyx3x jb3vyjys rz4wbd8a qt6c0cv9 a8nywdso i1ao9s8h esuyzwwr f1sip0of lzcic4wl gmql0nx0 p8dawk7l\" href=\"/marketplace/item/532012744200370/\" role=\"link\" tabindex=\"0\"><div class=\"j83agx80 cbu4d94t l9j0dhe7\"><div class=\"l9j0dhe7\"><div class=\"k4urcfbm l9j0dhe7\"><div class=\"kr520xx4 j9ispegn l9j0dhe7 stjgntxs ni8dbmo4 n7fi1qx3 i09qtzwb kzx2olss aot14ch1 p86d2i9g beltcj47 t63ysoy8 linmgsc8 hop1g133 opwvks06\"><div class=\"beltcj47 p86d2i9g aot14ch1 kzx2olss ni8dbmo4 stjgntxs d5it6em2 l9j0dhe7 k4urcfbm\"><div class=\"j83agx80 lhclo0ds ihdl84by pmk7jnqg h119xb3h iylxurvu bo2ra7bd\"><div class=\"rq0escxv j83agx80 buofh1pr datstx6m ggysqto6 exrn9cbp ojkyduve abpf7j7b l9j0dhe7 k4urcfbm\"><img alt=\"2016 Honda Civic LX Sedan 4D in Houston, TX\" class=\"idiwt2bm bixrwtb6 ni8dbmo4 stjgntxs k4urcfbm\" src=\"https://scontent.fhou1-1.fna.fbcdn.net/v/t1.0-0/c43.0.260.260a/p261x260/73200133_2755504091173876_9056340827432812544_n.jpg?_nc_cat=100&amp;_nc_sid=843cd7&amp;_nc_ohc=Gs2HJStFEfgAX-Q2aXc&amp;_nc_ht=scontent.fhou1-1.fna&amp;oh=0e1686ae17c5a1fe711c945c849238ac&amp;oe=5F6AA1D9\"></div></div></div></div></div></div><div class=\"rq0escxv j83agx80 cbu4d94t i1fnvgqd muag1w35 pybr56ya f10w8fjw k4urcfbm c7r68pdi suyy3zvx\"><div class=\"aahdfvyu fsotbgu8\"><span class=\"j83agx80\"><div class=\"a8nywdso e5nlhep0 rz4wbd8a ecm0bbzt btwxx1t3 j83agx80\"><div class=\"hlyrhctz\"><span class=\"oi732d6d ik7dh3pa d2edcug0 qv66sw1b c1et5uql a8c37x1j s89635nw ew0dbk1b a5q79mjw g1cxx5fr lrazzd5p oo9gr5id\" dir=\"auto\">$1,200</span></div><div class=\"f0t0fhil mkhogb32\"><span class=\"oi732d6d ik7dh3pa d2edcug0 qv66sw1b c1et5uql a8c37x1j muag1w35 enqfppq2 jq4qci2q a3bd9o3v ekzkrbhg oo9gr5id\" dir=\"auto\">$1,200</span></div></div></span></div><div class=\"aahdfvyu fsotbgu8\"><span aria-hidden=\"true\"><div class=\"a8nywdso e5nlhep0 rz4wbd8a linoseic\"><span class=\"a8c37x1j ni8dbmo4 stjgntxs l9j0dhe7 oi732d6d ik7dh3pa d2edcug0 qv66sw1b c1et5uql muag1w35 enqfppq2 jq4qci2q a3bd9o3v knj5qynh oo9gr5id\" dir=\"auto\" style=\"-webkit-box-orient: vertical; -webkit-line-clamp: 2; display: -webkit-box;\">2016 Honda Civic LX Sedan 4D</span></div></span></div><div class=\"aahdfvyu fsotbgu8\"><span aria-hidden=\"true\"><div class=\"a8nywdso e5nlhep0 rz4wbd8a ecm0bbzt\"><span class=\"a8c37x1j ni8dbmo4 stjgntxs l9j0dhe7 ltmttdrg g0qnabr5 oi732d6d ik7dh3pa d2edcug0 qv66sw1b c1et5uql hop8lmos enqfppq2 e9vueds3 j5wam9gi knj5qynh m9osqain\" dir=\"auto\">Houston, TX</span></div></span></div><div class=\"aahdfvyu fsotbgu8\"><div class=\"a8nywdso e5nlhep0 rz4wbd8a ecm0bbzt\"><span class=\"a8c37x1j ni8dbmo4 stjgntxs l9j0dhe7 ltmttdrg g0qnabr5 oi732d6d ik7dh3pa d2edcug0 qv66sw1b c1et5uql hop8lmos enqfppq2 e9vueds3 j5wam9gi knj5qynh m9osqain\" dir=\"auto\">23K miles</span></div></div></div></div></a></div>"
      ],
      "text/plain": [
       "<IPython.core.display.HTML object>"
      ]
     },
     "metadata": {},
     "output_type": "display_data"
    },
    {
     "name": "stdout",
     "output_type": "stream",
     "text": [
      "-------------------\n",
      "$2,500\n",
      "2017 Toyota Camry\n",
      "Houston, TX\n",
      "41K miles\n",
      "-------------------\n",
      "None\n",
      "-------------------\n"
     ]
    },
    {
     "data": {
      "text/html": [
       "<div class=\"kbiprv82\"><a class=\"oajrlxb2 g5ia77u1 qu0x051f esr5mh6w e9989ue4 r7d6kgcz rq0escxv nhd2j8a9 nc684nl6 p7hjln8o kvgmc6g5 cxmmr5t8 oygrvhab hcukyx3x jb3vyjys rz4wbd8a qt6c0cv9 a8nywdso i1ao9s8h esuyzwwr f1sip0of lzcic4wl gmql0nx0 p8dawk7l\" href=\"/marketplace/item/2282062365423800/\" role=\"link\" tabindex=\"0\"><div class=\"j83agx80 cbu4d94t l9j0dhe7\"><div class=\"l9j0dhe7\"><div class=\"k4urcfbm l9j0dhe7\"><div class=\"kr520xx4 j9ispegn l9j0dhe7 stjgntxs ni8dbmo4 n7fi1qx3 i09qtzwb kzx2olss aot14ch1 p86d2i9g beltcj47 t63ysoy8 linmgsc8 hop1g133 opwvks06\"><div class=\"beltcj47 p86d2i9g aot14ch1 kzx2olss ni8dbmo4 stjgntxs d5it6em2 l9j0dhe7 k4urcfbm\"><div class=\"j83agx80 lhclo0ds ihdl84by pmk7jnqg h119xb3h iylxurvu bo2ra7bd\"><div class=\"rq0escxv j83agx80 buofh1pr datstx6m ggysqto6 exrn9cbp ojkyduve abpf7j7b l9j0dhe7 k4urcfbm\"><img alt=\"2017 Toyota Camry in Houston, TX\" class=\"idiwt2bm bixrwtb6 ni8dbmo4 stjgntxs k4urcfbm\" src=\"https://scontent.fhou1-2.fna.fbcdn.net/v/t1.0-0/c43.0.260.260a/p261x260/95096599_2964342593645723_6221547775100715008_n.jpg?_nc_cat=108&amp;_nc_sid=843cd7&amp;_nc_ohc=-R6m5EUIKzYAX_8ZwtD&amp;_nc_ht=scontent.fhou1-2.fna&amp;oh=2be3dd74b04bb944dead7b76fcccfb6f&amp;oe=5F6D65C1\"></div></div></div></div></div></div><div class=\"rq0escxv j83agx80 cbu4d94t i1fnvgqd muag1w35 pybr56ya f10w8fjw k4urcfbm c7r68pdi suyy3zvx\"><div class=\"aahdfvyu fsotbgu8\"><span class=\"j83agx80\"><div class=\"a8nywdso e5nlhep0 rz4wbd8a ecm0bbzt btwxx1t3 j83agx80\"><div class=\"hlyrhctz\"><span class=\"oi732d6d ik7dh3pa d2edcug0 qv66sw1b c1et5uql a8c37x1j s89635nw ew0dbk1b a5q79mjw g1cxx5fr lrazzd5p oo9gr5id\" dir=\"auto\">$2,500</span></div><div class=\"f0t0fhil mkhogb32\"><span class=\"oi732d6d ik7dh3pa d2edcug0 qv66sw1b c1et5uql a8c37x1j muag1w35 enqfppq2 jq4qci2q a3bd9o3v ekzkrbhg oo9gr5id\" dir=\"auto\">$2,500</span></div></div></span></div><div class=\"aahdfvyu fsotbgu8\"><span aria-hidden=\"true\"><div class=\"a8nywdso e5nlhep0 rz4wbd8a linoseic\"><span class=\"a8c37x1j ni8dbmo4 stjgntxs l9j0dhe7 oi732d6d ik7dh3pa d2edcug0 qv66sw1b c1et5uql muag1w35 enqfppq2 jq4qci2q a3bd9o3v knj5qynh oo9gr5id\" dir=\"auto\" style=\"-webkit-box-orient: vertical; -webkit-line-clamp: 2; display: -webkit-box;\">2017 Toyota Camry</span></div></span></div><div class=\"aahdfvyu fsotbgu8\"><span aria-hidden=\"true\"><div class=\"a8nywdso e5nlhep0 rz4wbd8a ecm0bbzt\"><span class=\"a8c37x1j ni8dbmo4 stjgntxs l9j0dhe7 ltmttdrg g0qnabr5 oi732d6d ik7dh3pa d2edcug0 qv66sw1b c1et5uql hop8lmos enqfppq2 e9vueds3 j5wam9gi knj5qynh m9osqain\" dir=\"auto\">Houston, TX</span></div></span></div><div class=\"aahdfvyu fsotbgu8\"><div class=\"a8nywdso e5nlhep0 rz4wbd8a ecm0bbzt\"><span class=\"a8c37x1j ni8dbmo4 stjgntxs l9j0dhe7 ltmttdrg g0qnabr5 oi732d6d ik7dh3pa d2edcug0 qv66sw1b c1et5uql hop8lmos enqfppq2 e9vueds3 j5wam9gi knj5qynh m9osqain\" dir=\"auto\">41K miles</span></div></div></div></div></a></div>"
      ],
      "text/plain": [
       "<IPython.core.display.HTML object>"
      ]
     },
     "metadata": {},
     "output_type": "display_data"
    },
    {
     "name": "stdout",
     "output_type": "stream",
     "text": [
      "-------------------\n",
      "Contact Seller\n",
      "2017 Nissan Maxima\n",
      "Houston, TX\n",
      "111K miles\n",
      "-------------------\n",
      "None\n",
      "-------------------\n"
     ]
    },
    {
     "data": {
      "text/html": [
       "<div class=\"kbiprv82\"><a class=\"oajrlxb2 g5ia77u1 qu0x051f esr5mh6w e9989ue4 r7d6kgcz rq0escxv nhd2j8a9 nc684nl6 p7hjln8o kvgmc6g5 cxmmr5t8 oygrvhab hcukyx3x jb3vyjys rz4wbd8a qt6c0cv9 a8nywdso i1ao9s8h esuyzwwr f1sip0of lzcic4wl gmql0nx0 p8dawk7l\" href=\"/marketplace/item/566600033940056/\" role=\"link\" tabindex=\"0\"><div class=\"j83agx80 cbu4d94t l9j0dhe7\"><div class=\"l9j0dhe7\"><div class=\"k4urcfbm l9j0dhe7\"><div class=\"kr520xx4 j9ispegn l9j0dhe7 stjgntxs ni8dbmo4 n7fi1qx3 i09qtzwb kzx2olss aot14ch1 p86d2i9g beltcj47 t63ysoy8 linmgsc8 hop1g133 opwvks06\"><div class=\"beltcj47 p86d2i9g aot14ch1 kzx2olss ni8dbmo4 stjgntxs d5it6em2 l9j0dhe7 k4urcfbm\"><div class=\"j83agx80 lhclo0ds ihdl84by pmk7jnqg h119xb3h iylxurvu bo2ra7bd\"><div class=\"rq0escxv j83agx80 buofh1pr datstx6m ggysqto6 exrn9cbp ojkyduve abpf7j7b l9j0dhe7 k4urcfbm\"><img alt=\"2017 Nissan Maxima in Houston, TX\" class=\"idiwt2bm bixrwtb6 ni8dbmo4 stjgntxs k4urcfbm\" src=\"https://scontent.fhou1-1.fna.fbcdn.net/v/t1.0-0/c101.0.260.260a/p261x260/105984311_10158532552639222_2229067252122327105_o.jpg?_nc_cat=106&amp;_nc_sid=843cd7&amp;_nc_ohc=m0Ki56EBp1QAX8JFtAt&amp;_nc_oc=AQn2pd47jFk3PadBsCKVcdJcaB-QmC5PlHD8UVmFeS0WYqb60j4zi83axIM5AsYw6os&amp;_nc_ht=scontent.fhou1-1.fna&amp;oh=40fb3eea03b985a33bbe3f026b44ca35&amp;oe=5F6B80F9\"></div></div></div></div></div></div><div class=\"rq0escxv j83agx80 cbu4d94t i1fnvgqd muag1w35 pybr56ya f10w8fjw k4urcfbm c7r68pdi suyy3zvx\"><div class=\"aahdfvyu fsotbgu8\"><span class=\"j83agx80\"><div class=\"a8nywdso e5nlhep0 rz4wbd8a ecm0bbzt btwxx1t3 j83agx80\"><div class=\"hlyrhctz\"><span class=\"oi732d6d ik7dh3pa d2edcug0 qv66sw1b c1et5uql a8c37x1j s89635nw ew0dbk1b a5q79mjw g1cxx5fr lrazzd5p oo9gr5id\" dir=\"auto\">Contact Seller</span></div><div class=\"f0t0fhil mkhogb32\"><span class=\"oi732d6d ik7dh3pa d2edcug0 qv66sw1b c1et5uql a8c37x1j muag1w35 enqfppq2 jq4qci2q a3bd9o3v ekzkrbhg oo9gr5id\" dir=\"auto\">Contact Seller</span></div></div></span></div><div class=\"aahdfvyu fsotbgu8\"><span aria-hidden=\"true\"><div class=\"a8nywdso e5nlhep0 rz4wbd8a linoseic\"><span class=\"a8c37x1j ni8dbmo4 stjgntxs l9j0dhe7 oi732d6d ik7dh3pa d2edcug0 qv66sw1b c1et5uql muag1w35 enqfppq2 jq4qci2q a3bd9o3v knj5qynh oo9gr5id\" dir=\"auto\" style=\"-webkit-box-orient: vertical; -webkit-line-clamp: 2; display: -webkit-box;\">2017 Nissan Maxima</span></div></span></div><div class=\"aahdfvyu fsotbgu8\"><span aria-hidden=\"true\"><div class=\"a8nywdso e5nlhep0 rz4wbd8a ecm0bbzt\"><span class=\"a8c37x1j ni8dbmo4 stjgntxs l9j0dhe7 ltmttdrg g0qnabr5 oi732d6d ik7dh3pa d2edcug0 qv66sw1b c1et5uql hop8lmos enqfppq2 e9vueds3 j5wam9gi knj5qynh m9osqain\" dir=\"auto\">Houston, TX</span></div></span></div><div class=\"aahdfvyu fsotbgu8\"><div class=\"a8nywdso e5nlhep0 rz4wbd8a ecm0bbzt\"><span class=\"a8c37x1j ni8dbmo4 stjgntxs l9j0dhe7 ltmttdrg g0qnabr5 oi732d6d ik7dh3pa d2edcug0 qv66sw1b c1et5uql hop8lmos enqfppq2 e9vueds3 j5wam9gi knj5qynh m9osqain\" dir=\"auto\">111K miles</span></div></div></div></div></a></div>"
      ],
      "text/plain": [
       "<IPython.core.display.HTML object>"
      ]
     },
     "metadata": {},
     "output_type": "display_data"
    },
    {
     "name": "stdout",
     "output_type": "stream",
     "text": [
      "-------------------\n",
      "$500\n",
      "2017 Ford focus. ST Hatchback 4D\n",
      "Pasadena, TX\n",
      "34K miles\n",
      "-------------------\n",
      "None\n",
      "-------------------\n"
     ]
    },
    {
     "data": {
      "text/html": [
       "<div class=\"kbiprv82\"><a class=\"oajrlxb2 g5ia77u1 qu0x051f esr5mh6w e9989ue4 r7d6kgcz rq0escxv nhd2j8a9 nc684nl6 p7hjln8o kvgmc6g5 cxmmr5t8 oygrvhab hcukyx3x jb3vyjys rz4wbd8a qt6c0cv9 a8nywdso i1ao9s8h esuyzwwr f1sip0of lzcic4wl gmql0nx0 p8dawk7l\" href=\"/marketplace/item/222054989216873/\" role=\"link\" tabindex=\"0\"><div class=\"j83agx80 cbu4d94t l9j0dhe7\"><div class=\"l9j0dhe7\"><div class=\"k4urcfbm l9j0dhe7\"><div class=\"kr520xx4 j9ispegn l9j0dhe7 stjgntxs ni8dbmo4 n7fi1qx3 i09qtzwb kzx2olss aot14ch1 p86d2i9g beltcj47 t63ysoy8 linmgsc8 hop1g133 opwvks06\"><div class=\"beltcj47 p86d2i9g aot14ch1 kzx2olss ni8dbmo4 stjgntxs d5it6em2 l9j0dhe7 k4urcfbm\"><div class=\"j83agx80 lhclo0ds ihdl84by pmk7jnqg h119xb3h iylxurvu bo2ra7bd\"><div class=\"rq0escxv j83agx80 buofh1pr datstx6m ggysqto6 exrn9cbp ojkyduve abpf7j7b l9j0dhe7 k4urcfbm\"><img alt=\"2017 Ford focus. ST Hatchback 4D in Pasadena, TX\" class=\"idiwt2bm bixrwtb6 ni8dbmo4 stjgntxs k4urcfbm\" src=\"https://scontent.fhou1-2.fna.fbcdn.net/v/t1.0-0/c43.0.260.260a/p261x260/117894833_1227584247588310_873381850101904583_n.jpg?_nc_cat=107&amp;_nc_sid=843cd7&amp;_nc_ohc=0x-JCfD9sGQAX9CMUXl&amp;_nc_ht=scontent.fhou1-2.fna&amp;oh=9cb3cd0fe27c45b303e4e1dc5ff4aed4&amp;oe=5F6CEBFD\"></div></div></div></div></div></div><div class=\"rq0escxv j83agx80 cbu4d94t i1fnvgqd muag1w35 pybr56ya f10w8fjw k4urcfbm c7r68pdi suyy3zvx\"><div class=\"aahdfvyu fsotbgu8\"><span class=\"j83agx80\"><div class=\"a8nywdso e5nlhep0 rz4wbd8a ecm0bbzt btwxx1t3 j83agx80\"><div class=\"hlyrhctz\"><span class=\"oi732d6d ik7dh3pa d2edcug0 qv66sw1b c1et5uql a8c37x1j s89635nw ew0dbk1b a5q79mjw g1cxx5fr lrazzd5p oo9gr5id\" dir=\"auto\">$500</span></div><div class=\"f0t0fhil mkhogb32\"><span class=\"oi732d6d ik7dh3pa d2edcug0 qv66sw1b c1et5uql a8c37x1j muag1w35 enqfppq2 jq4qci2q a3bd9o3v ekzkrbhg oo9gr5id\" dir=\"auto\">$500</span></div></div></span></div><div class=\"aahdfvyu fsotbgu8\"><span aria-hidden=\"true\"><div class=\"a8nywdso e5nlhep0 rz4wbd8a linoseic\"><span class=\"a8c37x1j ni8dbmo4 stjgntxs l9j0dhe7 oi732d6d ik7dh3pa d2edcug0 qv66sw1b c1et5uql muag1w35 enqfppq2 jq4qci2q a3bd9o3v knj5qynh oo9gr5id\" dir=\"auto\" style=\"-webkit-box-orient: vertical; -webkit-line-clamp: 2; display: -webkit-box;\">2017 Ford focus. ST Hatchback 4D</span></div></span></div><div class=\"aahdfvyu fsotbgu8\"><span aria-hidden=\"true\"><div class=\"a8nywdso e5nlhep0 rz4wbd8a ecm0bbzt\"><span class=\"a8c37x1j ni8dbmo4 stjgntxs l9j0dhe7 ltmttdrg g0qnabr5 oi732d6d ik7dh3pa d2edcug0 qv66sw1b c1et5uql hop8lmos enqfppq2 e9vueds3 j5wam9gi knj5qynh m9osqain\" dir=\"auto\">Pasadena, TX</span></div></span></div><div class=\"aahdfvyu fsotbgu8\"><div class=\"a8nywdso e5nlhep0 rz4wbd8a ecm0bbzt\"><span class=\"a8c37x1j ni8dbmo4 stjgntxs l9j0dhe7 ltmttdrg g0qnabr5 oi732d6d ik7dh3pa d2edcug0 qv66sw1b c1et5uql hop8lmos enqfppq2 e9vueds3 j5wam9gi knj5qynh m9osqain\" dir=\"auto\">34K miles</span></div></div></div></div></a></div>"
      ],
      "text/plain": [
       "<IPython.core.display.HTML object>"
      ]
     },
     "metadata": {},
     "output_type": "display_data"
    },
    {
     "name": "stdout",
     "output_type": "stream",
     "text": [
      "-------------------\n",
      "$3,000\n",
      "2012 Toyota 4Runner SR5 Sport Utility 4D\n",
      "Houston, TX\n",
      "58K miles\n",
      "-------------------\n",
      "None\n",
      "-------------------\n"
     ]
    },
    {
     "data": {
      "text/html": [
       "<div class=\"kbiprv82\"><a class=\"oajrlxb2 g5ia77u1 qu0x051f esr5mh6w e9989ue4 r7d6kgcz rq0escxv nhd2j8a9 nc684nl6 p7hjln8o kvgmc6g5 cxmmr5t8 oygrvhab hcukyx3x jb3vyjys rz4wbd8a qt6c0cv9 a8nywdso i1ao9s8h esuyzwwr f1sip0of lzcic4wl gmql0nx0 p8dawk7l\" href=\"/marketplace/item/222746662341802/\" role=\"link\" tabindex=\"0\"><div class=\"j83agx80 cbu4d94t l9j0dhe7\"><div class=\"l9j0dhe7\"><div class=\"k4urcfbm l9j0dhe7\"><div class=\"kr520xx4 j9ispegn l9j0dhe7 stjgntxs ni8dbmo4 n7fi1qx3 i09qtzwb kzx2olss aot14ch1 p86d2i9g beltcj47 t63ysoy8 linmgsc8 hop1g133 opwvks06\"><div class=\"beltcj47 p86d2i9g aot14ch1 kzx2olss ni8dbmo4 stjgntxs d5it6em2 l9j0dhe7 k4urcfbm\"><div class=\"j83agx80 lhclo0ds ihdl84by pmk7jnqg h119xb3h iylxurvu bo2ra7bd\"><div class=\"rq0escxv j83agx80 buofh1pr datstx6m ggysqto6 exrn9cbp ojkyduve abpf7j7b l9j0dhe7 k4urcfbm\"><img alt=\"2012 Toyota 4Runner SR5 Sport Utility 4D in Houston, TX\" class=\"idiwt2bm bixrwtb6 ni8dbmo4 stjgntxs k4urcfbm\" src=\"https://scontent.fhou1-1.fna.fbcdn.net/v/t1.0-0/c51.0.260.260a/p261x260/103791819_10158550933951092_6661739301919790567_n.jpg?_nc_cat=106&amp;_nc_sid=843cd7&amp;_nc_ohc=2U9uwwH78kkAX_LT0lQ&amp;_nc_oc=AQnqHjtK5OSesXFHuH7gnE4BGL1-EkYWQQ2Rr00b_MmHxU02ubiOVODynDg2f2RX8ME&amp;_nc_ht=scontent.fhou1-1.fna&amp;oh=1d5cc648a1c50bdf23f6a0e172c003e4&amp;oe=5F6D1F96\"></div></div></div></div></div></div><div class=\"rq0escxv j83agx80 cbu4d94t i1fnvgqd muag1w35 pybr56ya f10w8fjw k4urcfbm c7r68pdi suyy3zvx\"><div class=\"aahdfvyu fsotbgu8\"><span class=\"j83agx80\"><div class=\"a8nywdso e5nlhep0 rz4wbd8a ecm0bbzt btwxx1t3 j83agx80\"><div class=\"hlyrhctz\"><span class=\"oi732d6d ik7dh3pa d2edcug0 qv66sw1b c1et5uql a8c37x1j s89635nw ew0dbk1b a5q79mjw g1cxx5fr lrazzd5p oo9gr5id\" dir=\"auto\">$3,000</span></div><div class=\"f0t0fhil mkhogb32\"><span class=\"oi732d6d ik7dh3pa d2edcug0 qv66sw1b c1et5uql a8c37x1j muag1w35 enqfppq2 jq4qci2q a3bd9o3v ekzkrbhg oo9gr5id\" dir=\"auto\">$3,000</span></div></div></span></div><div class=\"aahdfvyu fsotbgu8\"><span aria-hidden=\"true\"><div class=\"a8nywdso e5nlhep0 rz4wbd8a linoseic\"><span class=\"a8c37x1j ni8dbmo4 stjgntxs l9j0dhe7 oi732d6d ik7dh3pa d2edcug0 qv66sw1b c1et5uql muag1w35 enqfppq2 jq4qci2q a3bd9o3v knj5qynh oo9gr5id\" dir=\"auto\" style=\"-webkit-box-orient: vertical; -webkit-line-clamp: 2; display: -webkit-box;\">2012 Toyota 4Runner SR5 Sport Utility 4D</span></div></span></div><div class=\"aahdfvyu fsotbgu8\"><span aria-hidden=\"true\"><div class=\"a8nywdso e5nlhep0 rz4wbd8a ecm0bbzt\"><span class=\"a8c37x1j ni8dbmo4 stjgntxs l9j0dhe7 ltmttdrg g0qnabr5 oi732d6d ik7dh3pa d2edcug0 qv66sw1b c1et5uql hop8lmos enqfppq2 e9vueds3 j5wam9gi knj5qynh m9osqain\" dir=\"auto\">Houston, TX</span></div></span></div><div class=\"aahdfvyu fsotbgu8\"><div class=\"a8nywdso e5nlhep0 rz4wbd8a ecm0bbzt\"><span class=\"a8c37x1j ni8dbmo4 stjgntxs l9j0dhe7 ltmttdrg g0qnabr5 oi732d6d ik7dh3pa d2edcug0 qv66sw1b c1et5uql hop8lmos enqfppq2 e9vueds3 j5wam9gi knj5qynh m9osqain\" dir=\"auto\">58K miles</span></div></div></div></div></a></div>"
      ],
      "text/plain": [
       "<IPython.core.display.HTML object>"
      ]
     },
     "metadata": {},
     "output_type": "display_data"
    },
    {
     "name": "stdout",
     "output_type": "stream",
     "text": [
      "-------------------\n",
      "$3,800\n",
      "2013 Mazda Mazda2 Sport Hatchback 4D\n",
      "Houston, TX\n",
      "74K miles\n",
      "-------------------\n",
      "None\n",
      "-------------------\n"
     ]
    },
    {
     "data": {
      "text/html": [
       "<div class=\"kbiprv82\"><a class=\"oajrlxb2 g5ia77u1 qu0x051f esr5mh6w e9989ue4 r7d6kgcz rq0escxv nhd2j8a9 nc684nl6 p7hjln8o kvgmc6g5 cxmmr5t8 oygrvhab hcukyx3x jb3vyjys rz4wbd8a qt6c0cv9 a8nywdso i1ao9s8h esuyzwwr f1sip0of lzcic4wl gmql0nx0 p8dawk7l\" href=\"/marketplace/item/369206610731920/\" role=\"link\" tabindex=\"0\"><div class=\"j83agx80 cbu4d94t l9j0dhe7\"><div class=\"l9j0dhe7\"><div class=\"k4urcfbm l9j0dhe7\"><div class=\"kr520xx4 j9ispegn l9j0dhe7 stjgntxs ni8dbmo4 n7fi1qx3 i09qtzwb kzx2olss aot14ch1 p86d2i9g beltcj47 t63ysoy8 linmgsc8 hop1g133 opwvks06\"><div class=\"beltcj47 p86d2i9g aot14ch1 kzx2olss ni8dbmo4 stjgntxs d5it6em2 l9j0dhe7 k4urcfbm\"><div class=\"j83agx80 lhclo0ds ihdl84by pmk7jnqg h119xb3h iylxurvu bo2ra7bd\"><div class=\"rq0escxv j83agx80 buofh1pr datstx6m ggysqto6 exrn9cbp ojkyduve abpf7j7b l9j0dhe7 k4urcfbm\"><img alt=\"2013 Mazda Mazda2 Sport Hatchback 4D in Houston, TX\" class=\"idiwt2bm bixrwtb6 ni8dbmo4 stjgntxs k4urcfbm\" src=\"https://scontent.fhou1-2.fna.fbcdn.net/v/t1.0-0/c0.79.720.720a/s261x260/106496149_3169366123141128_222113294392433112_n.jpg?_nc_cat=102&amp;_nc_sid=843cd7&amp;_nc_ohc=5OCnOfrxJY4AX-Y9ONe&amp;_nc_ht=scontent.fhou1-2.fna&amp;oh=34a0bf1230bdfbb473b1bbe004364256&amp;oe=5F6ABC30\"></div></div></div></div></div></div><div class=\"rq0escxv j83agx80 cbu4d94t i1fnvgqd muag1w35 pybr56ya f10w8fjw k4urcfbm c7r68pdi suyy3zvx\"><div class=\"aahdfvyu fsotbgu8\"><span class=\"j83agx80\"><div class=\"a8nywdso e5nlhep0 rz4wbd8a ecm0bbzt btwxx1t3 j83agx80\"><div class=\"hlyrhctz\"><span class=\"oi732d6d ik7dh3pa d2edcug0 qv66sw1b c1et5uql a8c37x1j s89635nw ew0dbk1b a5q79mjw g1cxx5fr lrazzd5p oo9gr5id\" dir=\"auto\">$3,800</span></div><div class=\"f0t0fhil mkhogb32\"><span class=\"oi732d6d ik7dh3pa d2edcug0 qv66sw1b c1et5uql a8c37x1j muag1w35 enqfppq2 jq4qci2q a3bd9o3v ekzkrbhg oo9gr5id\" dir=\"auto\">$3,800</span></div></div></span></div><div class=\"aahdfvyu fsotbgu8\"><span aria-hidden=\"true\"><div class=\"a8nywdso e5nlhep0 rz4wbd8a linoseic\"><span class=\"a8c37x1j ni8dbmo4 stjgntxs l9j0dhe7 oi732d6d ik7dh3pa d2edcug0 qv66sw1b c1et5uql muag1w35 enqfppq2 jq4qci2q a3bd9o3v knj5qynh oo9gr5id\" dir=\"auto\" style=\"-webkit-box-orient: vertical; -webkit-line-clamp: 2; display: -webkit-box;\">2013 Mazda Mazda2 Sport Hatchback 4D</span></div></span></div><div class=\"aahdfvyu fsotbgu8\"><span aria-hidden=\"true\"><div class=\"a8nywdso e5nlhep0 rz4wbd8a ecm0bbzt\"><span class=\"a8c37x1j ni8dbmo4 stjgntxs l9j0dhe7 ltmttdrg g0qnabr5 oi732d6d ik7dh3pa d2edcug0 qv66sw1b c1et5uql hop8lmos enqfppq2 e9vueds3 j5wam9gi knj5qynh m9osqain\" dir=\"auto\">Houston, TX</span></div></span></div><div class=\"aahdfvyu fsotbgu8\"><div class=\"a8nywdso e5nlhep0 rz4wbd8a ecm0bbzt\"><span class=\"a8c37x1j ni8dbmo4 stjgntxs l9j0dhe7 ltmttdrg g0qnabr5 oi732d6d ik7dh3pa d2edcug0 qv66sw1b c1et5uql hop8lmos enqfppq2 e9vueds3 j5wam9gi knj5qynh m9osqain\" dir=\"auto\">74K miles</span></div></div></div></div></a></div>"
      ],
      "text/plain": [
       "<IPython.core.display.HTML object>"
      ]
     },
     "metadata": {},
     "output_type": "display_data"
    },
    {
     "name": "stdout",
     "output_type": "stream",
     "text": [
      "-------------------\n",
      "$1,750\n",
      "2016 Cadillac ATS 2.0L Turbo Premium Sedan 4D\n",
      "Houston, TX\n",
      "42K miles\n",
      "-------------------\n",
      "None\n",
      "-------------------\n"
     ]
    },
    {
     "data": {
      "text/html": [
       "<div class=\"kbiprv82\"><a class=\"oajrlxb2 g5ia77u1 qu0x051f esr5mh6w e9989ue4 r7d6kgcz rq0escxv nhd2j8a9 nc684nl6 p7hjln8o kvgmc6g5 cxmmr5t8 oygrvhab hcukyx3x jb3vyjys rz4wbd8a qt6c0cv9 a8nywdso i1ao9s8h esuyzwwr f1sip0of lzcic4wl gmql0nx0 p8dawk7l\" href=\"/marketplace/item/469572187179732/\" role=\"link\" tabindex=\"0\"><div class=\"j83agx80 cbu4d94t l9j0dhe7\"><div class=\"l9j0dhe7\"><div class=\"k4urcfbm l9j0dhe7\"><div class=\"kr520xx4 j9ispegn l9j0dhe7 stjgntxs ni8dbmo4 n7fi1qx3 i09qtzwb kzx2olss aot14ch1 p86d2i9g beltcj47 t63ysoy8 linmgsc8 hop1g133 opwvks06\"><div class=\"beltcj47 p86d2i9g aot14ch1 kzx2olss ni8dbmo4 stjgntxs d5it6em2 l9j0dhe7 k4urcfbm\"><div class=\"j83agx80 lhclo0ds ihdl84by pmk7jnqg h119xb3h iylxurvu bo2ra7bd\"><div class=\"rq0escxv j83agx80 buofh1pr datstx6m ggysqto6 exrn9cbp ojkyduve abpf7j7b l9j0dhe7 k4urcfbm\"><img alt=\"2016 Cadillac ATS 2.0L Turbo Premium Sedan 4D in Houston, TX\" class=\"idiwt2bm bixrwtb6 ni8dbmo4 stjgntxs k4urcfbm\" src=\"https://scontent.fhou1-2.fna.fbcdn.net/v/t1.0-0/c0.29.261.261a/p261x260/62017835_10216373900313956_8349067646309761024_o.jpg?_nc_cat=109&amp;_nc_sid=843cd7&amp;_nc_ohc=3I7-pf5QFMwAX82gwfU&amp;_nc_ht=scontent.fhou1-2.fna&amp;oh=b0bb412bf663d94fae4d285d2ff8af61&amp;oe=5F6B79F2\"></div></div></div></div></div></div><div class=\"rq0escxv j83agx80 cbu4d94t i1fnvgqd muag1w35 pybr56ya f10w8fjw k4urcfbm c7r68pdi suyy3zvx\"><div class=\"aahdfvyu fsotbgu8\"><span class=\"j83agx80\"><div class=\"a8nywdso e5nlhep0 rz4wbd8a ecm0bbzt btwxx1t3 j83agx80\"><div class=\"hlyrhctz\"><span class=\"oi732d6d ik7dh3pa d2edcug0 qv66sw1b c1et5uql a8c37x1j s89635nw ew0dbk1b a5q79mjw g1cxx5fr lrazzd5p oo9gr5id\" dir=\"auto\">$1,750</span></div><div class=\"f0t0fhil mkhogb32\"><span class=\"oi732d6d ik7dh3pa d2edcug0 qv66sw1b c1et5uql a8c37x1j muag1w35 enqfppq2 jq4qci2q a3bd9o3v ekzkrbhg oo9gr5id\" dir=\"auto\">$1,750</span></div></div></span></div><div class=\"aahdfvyu fsotbgu8\"><span aria-hidden=\"true\"><div class=\"a8nywdso e5nlhep0 rz4wbd8a linoseic\"><span class=\"a8c37x1j ni8dbmo4 stjgntxs l9j0dhe7 oi732d6d ik7dh3pa d2edcug0 qv66sw1b c1et5uql muag1w35 enqfppq2 jq4qci2q a3bd9o3v knj5qynh oo9gr5id\" dir=\"auto\" style=\"-webkit-box-orient: vertical; -webkit-line-clamp: 2; display: -webkit-box;\">2016 Cadillac ATS 2.0L Turbo Premium Sedan 4D</span></div></span></div><div class=\"aahdfvyu fsotbgu8\"><span aria-hidden=\"true\"><div class=\"a8nywdso e5nlhep0 rz4wbd8a ecm0bbzt\"><span class=\"a8c37x1j ni8dbmo4 stjgntxs l9j0dhe7 ltmttdrg g0qnabr5 oi732d6d ik7dh3pa d2edcug0 qv66sw1b c1et5uql hop8lmos enqfppq2 e9vueds3 j5wam9gi knj5qynh m9osqain\" dir=\"auto\">Houston, TX</span></div></span></div><div class=\"aahdfvyu fsotbgu8\"><div class=\"a8nywdso e5nlhep0 rz4wbd8a ecm0bbzt\"><span class=\"a8c37x1j ni8dbmo4 stjgntxs l9j0dhe7 ltmttdrg g0qnabr5 oi732d6d ik7dh3pa d2edcug0 qv66sw1b c1et5uql hop8lmos enqfppq2 e9vueds3 j5wam9gi knj5qynh m9osqain\" dir=\"auto\">42K miles</span></div></div></div></div></a></div>"
      ],
      "text/plain": [
       "<IPython.core.display.HTML object>"
      ]
     },
     "metadata": {},
     "output_type": "display_data"
    },
    {
     "name": "stdout",
     "output_type": "stream",
     "text": [
      "-------------------\n",
      "$1,500\n",
      "2013 Honda Accord\n",
      "Houston, TX\n",
      "-------------------\n",
      "None\n",
      "-------------------\n"
     ]
    },
    {
     "data": {
      "text/html": [
       "<div class=\"kbiprv82\"><a class=\"oajrlxb2 g5ia77u1 qu0x051f esr5mh6w e9989ue4 r7d6kgcz rq0escxv nhd2j8a9 nc684nl6 p7hjln8o kvgmc6g5 cxmmr5t8 oygrvhab hcukyx3x jb3vyjys rz4wbd8a qt6c0cv9 a8nywdso i1ao9s8h esuyzwwr f1sip0of lzcic4wl gmql0nx0 p8dawk7l\" href=\"/marketplace/item/3762596423767227/\" role=\"link\" tabindex=\"0\"><div class=\"j83agx80 cbu4d94t l9j0dhe7\"><div class=\"l9j0dhe7\"><div class=\"k4urcfbm l9j0dhe7\"><div class=\"kr520xx4 j9ispegn l9j0dhe7 stjgntxs ni8dbmo4 n7fi1qx3 i09qtzwb kzx2olss aot14ch1 p86d2i9g beltcj47 t63ysoy8 linmgsc8 hop1g133 opwvks06\"><div class=\"beltcj47 p86d2i9g aot14ch1 kzx2olss ni8dbmo4 stjgntxs d5it6em2 l9j0dhe7 k4urcfbm\"><div class=\"j83agx80 lhclo0ds ihdl84by pmk7jnqg h119xb3h iylxurvu bo2ra7bd\"><div class=\"rq0escxv j83agx80 buofh1pr datstx6m ggysqto6 exrn9cbp ojkyduve abpf7j7b l9j0dhe7 k4urcfbm\"><img alt=\"2013 Honda Accord in Houston, TX\" class=\"idiwt2bm bixrwtb6 ni8dbmo4 stjgntxs k4urcfbm\" src=\"https://scontent.fhou1-1.fna.fbcdn.net/v/t1.0-0/c43.0.260.260a/p261x260/109294732_846884952506024_431725018283201732_o.jpg?_nc_cat=101&amp;_nc_sid=843cd7&amp;_nc_ohc=nWyNaD6ND2IAX_nyQWz&amp;_nc_ht=scontent.fhou1-1.fna&amp;oh=ecce5b4b8bd78ec52b28c90988f027c3&amp;oe=5F6B4DF8\"></div></div></div></div></div></div><div class=\"rq0escxv j83agx80 cbu4d94t i1fnvgqd muag1w35 pybr56ya f10w8fjw k4urcfbm c7r68pdi suyy3zvx\"><div class=\"aahdfvyu fsotbgu8\"><span class=\"j83agx80\"><div class=\"a8nywdso e5nlhep0 rz4wbd8a ecm0bbzt btwxx1t3 j83agx80\"><div class=\"hlyrhctz\"><span class=\"oi732d6d ik7dh3pa d2edcug0 qv66sw1b c1et5uql a8c37x1j s89635nw ew0dbk1b a5q79mjw g1cxx5fr lrazzd5p oo9gr5id\" dir=\"auto\">$1,500</span></div><div class=\"f0t0fhil mkhogb32\"><span class=\"oi732d6d ik7dh3pa d2edcug0 qv66sw1b c1et5uql a8c37x1j muag1w35 enqfppq2 jq4qci2q a3bd9o3v ekzkrbhg oo9gr5id\" dir=\"auto\">$1,500</span></div></div></span></div><div class=\"aahdfvyu fsotbgu8\"><span aria-hidden=\"true\"><div class=\"a8nywdso e5nlhep0 rz4wbd8a linoseic\"><span class=\"a8c37x1j ni8dbmo4 stjgntxs l9j0dhe7 oi732d6d ik7dh3pa d2edcug0 qv66sw1b c1et5uql muag1w35 enqfppq2 jq4qci2q a3bd9o3v knj5qynh oo9gr5id\" dir=\"auto\" style=\"-webkit-box-orient: vertical; -webkit-line-clamp: 2; display: -webkit-box;\">2013 Honda Accord</span></div></span></div><div class=\"aahdfvyu fsotbgu8\"><span aria-hidden=\"true\"><div class=\"a8nywdso e5nlhep0 rz4wbd8a ecm0bbzt\"><span class=\"a8c37x1j ni8dbmo4 stjgntxs l9j0dhe7 ltmttdrg g0qnabr5 oi732d6d ik7dh3pa d2edcug0 qv66sw1b c1et5uql hop8lmos enqfppq2 e9vueds3 j5wam9gi knj5qynh m9osqain\" dir=\"auto\">Houston, TX</span></div></span></div><div class=\"aahdfvyu fsotbgu8\"><div class=\"a8nywdso e5nlhep0 rz4wbd8a ecm0bbzt\"><span class=\"a8c37x1j ni8dbmo4 stjgntxs l9j0dhe7 ltmttdrg g0qnabr5 oi732d6d ik7dh3pa d2edcug0 qv66sw1b c1et5uql hop8lmos enqfppq2 e9vueds3 j5wam9gi knj5qynh m9osqain\" dir=\"auto\"></span></div></div></div></div></a></div>"
      ],
      "text/plain": [
       "<IPython.core.display.HTML object>"
      ]
     },
     "metadata": {},
     "output_type": "display_data"
    },
    {
     "name": "stdout",
     "output_type": "stream",
     "text": [
      "-------------------\n",
      "Contact Seller\n",
      "2016 Chevrolet Camaro\n",
      "Houston, TX\n",
      "35K miles\n",
      "-------------------\n",
      "None\n",
      "-------------------\n"
     ]
    },
    {
     "data": {
      "text/html": [
       "<div class=\"kbiprv82\"><a class=\"oajrlxb2 g5ia77u1 qu0x051f esr5mh6w e9989ue4 r7d6kgcz rq0escxv nhd2j8a9 nc684nl6 p7hjln8o kvgmc6g5 cxmmr5t8 oygrvhab hcukyx3x jb3vyjys rz4wbd8a qt6c0cv9 a8nywdso i1ao9s8h esuyzwwr f1sip0of lzcic4wl gmql0nx0 p8dawk7l\" href=\"/marketplace/item/562187341161795/\" role=\"link\" tabindex=\"0\"><div class=\"j83agx80 cbu4d94t l9j0dhe7\"><div class=\"l9j0dhe7\"><div class=\"k4urcfbm l9j0dhe7\"><div class=\"kr520xx4 j9ispegn l9j0dhe7 stjgntxs ni8dbmo4 n7fi1qx3 i09qtzwb kzx2olss aot14ch1 p86d2i9g beltcj47 t63ysoy8 linmgsc8 hop1g133 opwvks06\"><div class=\"beltcj47 p86d2i9g aot14ch1 kzx2olss ni8dbmo4 stjgntxs d5it6em2 l9j0dhe7 k4urcfbm\"><div class=\"j83agx80 lhclo0ds ihdl84by pmk7jnqg h119xb3h iylxurvu bo2ra7bd\"><div class=\"rq0escxv j83agx80 buofh1pr datstx6m ggysqto6 exrn9cbp ojkyduve abpf7j7b l9j0dhe7 k4urcfbm\"><img alt=\"2016 Chevrolet Camaro in Houston, TX\" class=\"idiwt2bm bixrwtb6 ni8dbmo4 stjgntxs k4urcfbm\" src=\"https://scontent.fhou1-2.fna.fbcdn.net/v/t1.0-0/c101.0.260.260a/p261x260/104287468_312891196400012_7865621572333096620_o.jpg?_nc_cat=102&amp;_nc_sid=843cd7&amp;_nc_ohc=_CSkuQsqCscAX84zIsB&amp;_nc_ht=scontent.fhou1-2.fna&amp;oh=313df73d499a83f0dbb1648a1047f583&amp;oe=5F6E12D9\"></div></div></div></div></div></div><div class=\"rq0escxv j83agx80 cbu4d94t i1fnvgqd muag1w35 pybr56ya f10w8fjw k4urcfbm c7r68pdi suyy3zvx\"><div class=\"aahdfvyu fsotbgu8\"><span class=\"j83agx80\"><div class=\"a8nywdso e5nlhep0 rz4wbd8a ecm0bbzt btwxx1t3 j83agx80\"><div class=\"hlyrhctz\"><span class=\"oi732d6d ik7dh3pa d2edcug0 qv66sw1b c1et5uql a8c37x1j s89635nw ew0dbk1b a5q79mjw g1cxx5fr lrazzd5p oo9gr5id\" dir=\"auto\">Contact Seller</span></div><div class=\"f0t0fhil mkhogb32\"><span class=\"oi732d6d ik7dh3pa d2edcug0 qv66sw1b c1et5uql a8c37x1j muag1w35 enqfppq2 jq4qci2q a3bd9o3v ekzkrbhg oo9gr5id\" dir=\"auto\">Contact Seller</span></div></div></span></div><div class=\"aahdfvyu fsotbgu8\"><span aria-hidden=\"true\"><div class=\"a8nywdso e5nlhep0 rz4wbd8a linoseic\"><span class=\"a8c37x1j ni8dbmo4 stjgntxs l9j0dhe7 oi732d6d ik7dh3pa d2edcug0 qv66sw1b c1et5uql muag1w35 enqfppq2 jq4qci2q a3bd9o3v knj5qynh oo9gr5id\" dir=\"auto\" style=\"-webkit-box-orient: vertical; -webkit-line-clamp: 2; display: -webkit-box;\">2016 Chevrolet Camaro</span></div></span></div><div class=\"aahdfvyu fsotbgu8\"><span aria-hidden=\"true\"><div class=\"a8nywdso e5nlhep0 rz4wbd8a ecm0bbzt\"><span class=\"a8c37x1j ni8dbmo4 stjgntxs l9j0dhe7 ltmttdrg g0qnabr5 oi732d6d ik7dh3pa d2edcug0 qv66sw1b c1et5uql hop8lmos enqfppq2 e9vueds3 j5wam9gi knj5qynh m9osqain\" dir=\"auto\">Houston, TX</span></div></span></div><div class=\"aahdfvyu fsotbgu8\"><div class=\"a8nywdso e5nlhep0 rz4wbd8a ecm0bbzt\"><span class=\"a8c37x1j ni8dbmo4 stjgntxs l9j0dhe7 ltmttdrg g0qnabr5 oi732d6d ik7dh3pa d2edcug0 qv66sw1b c1et5uql hop8lmos enqfppq2 e9vueds3 j5wam9gi knj5qynh m9osqain\" dir=\"auto\">35K miles</span></div></div></div></div></a></div>"
      ],
      "text/plain": [
       "<IPython.core.display.HTML object>"
      ]
     },
     "metadata": {},
     "output_type": "display_data"
    },
    {
     "name": "stdout",
     "output_type": "stream",
     "text": [
      "-------------------\n",
      "$1,500\n",
      "2013 Honda Accord\n",
      "Houston, TX\n",
      "-------------------\n",
      "None\n",
      "-------------------\n"
     ]
    },
    {
     "data": {
      "text/html": [
       "<div class=\"kbiprv82\"><a class=\"oajrlxb2 g5ia77u1 qu0x051f esr5mh6w e9989ue4 r7d6kgcz rq0escxv nhd2j8a9 nc684nl6 p7hjln8o kvgmc6g5 cxmmr5t8 oygrvhab hcukyx3x jb3vyjys rz4wbd8a qt6c0cv9 a8nywdso i1ao9s8h esuyzwwr f1sip0of lzcic4wl gmql0nx0 p8dawk7l\" href=\"/marketplace/item/1016610138777063/\" role=\"link\" tabindex=\"0\"><div class=\"j83agx80 cbu4d94t l9j0dhe7\"><div class=\"l9j0dhe7\"><div class=\"k4urcfbm l9j0dhe7\"><div class=\"kr520xx4 j9ispegn l9j0dhe7 stjgntxs ni8dbmo4 n7fi1qx3 i09qtzwb kzx2olss aot14ch1 p86d2i9g beltcj47 t63ysoy8 linmgsc8 hop1g133 opwvks06\"><div class=\"beltcj47 p86d2i9g aot14ch1 kzx2olss ni8dbmo4 stjgntxs d5it6em2 l9j0dhe7 k4urcfbm\"><div class=\"j83agx80 lhclo0ds ihdl84by pmk7jnqg h119xb3h iylxurvu bo2ra7bd\"><div class=\"rq0escxv j83agx80 buofh1pr datstx6m ggysqto6 exrn9cbp ojkyduve abpf7j7b l9j0dhe7 k4urcfbm\"><img alt=\"2013 Honda Accord in Houston, TX\" class=\"idiwt2bm bixrwtb6 ni8dbmo4 stjgntxs k4urcfbm\" src=\"https://scontent.fhou1-2.fna.fbcdn.net/v/t1.0-0/c43.0.260.260a/p261x260/116103497_849202662274253_7007515916791368533_o.jpg?_nc_cat=109&amp;_nc_sid=843cd7&amp;_nc_ohc=GZCRGG8nnQ4AX-3Bnu4&amp;_nc_ht=scontent.fhou1-2.fna&amp;oh=b558f28accac6eb5816653a24e09c35d&amp;oe=5F6DBFE7\"></div></div></div></div></div></div><div class=\"rq0escxv j83agx80 cbu4d94t i1fnvgqd muag1w35 pybr56ya f10w8fjw k4urcfbm c7r68pdi suyy3zvx\"><div class=\"aahdfvyu fsotbgu8\"><span class=\"j83agx80\"><div class=\"a8nywdso e5nlhep0 rz4wbd8a ecm0bbzt btwxx1t3 j83agx80\"><div class=\"hlyrhctz\"><span class=\"oi732d6d ik7dh3pa d2edcug0 qv66sw1b c1et5uql a8c37x1j s89635nw ew0dbk1b a5q79mjw g1cxx5fr lrazzd5p oo9gr5id\" dir=\"auto\">$1,500</span></div><div class=\"f0t0fhil mkhogb32\"><span class=\"oi732d6d ik7dh3pa d2edcug0 qv66sw1b c1et5uql a8c37x1j muag1w35 enqfppq2 jq4qci2q a3bd9o3v ekzkrbhg oo9gr5id\" dir=\"auto\">$1,500</span></div></div></span></div><div class=\"aahdfvyu fsotbgu8\"><span aria-hidden=\"true\"><div class=\"a8nywdso e5nlhep0 rz4wbd8a linoseic\"><span class=\"a8c37x1j ni8dbmo4 stjgntxs l9j0dhe7 oi732d6d ik7dh3pa d2edcug0 qv66sw1b c1et5uql muag1w35 enqfppq2 jq4qci2q a3bd9o3v knj5qynh oo9gr5id\" dir=\"auto\" style=\"-webkit-box-orient: vertical; -webkit-line-clamp: 2; display: -webkit-box;\">2013 Honda Accord</span></div></span></div><div class=\"aahdfvyu fsotbgu8\"><span aria-hidden=\"true\"><div class=\"a8nywdso e5nlhep0 rz4wbd8a ecm0bbzt\"><span class=\"a8c37x1j ni8dbmo4 stjgntxs l9j0dhe7 ltmttdrg g0qnabr5 oi732d6d ik7dh3pa d2edcug0 qv66sw1b c1et5uql hop8lmos enqfppq2 e9vueds3 j5wam9gi knj5qynh m9osqain\" dir=\"auto\">Houston, TX</span></div></span></div><div class=\"aahdfvyu fsotbgu8\"><div class=\"a8nywdso e5nlhep0 rz4wbd8a ecm0bbzt\"><span class=\"a8c37x1j ni8dbmo4 stjgntxs l9j0dhe7 ltmttdrg g0qnabr5 oi732d6d ik7dh3pa d2edcug0 qv66sw1b c1et5uql hop8lmos enqfppq2 e9vueds3 j5wam9gi knj5qynh m9osqain\" dir=\"auto\"></span></div></div></div></div></a></div>"
      ],
      "text/plain": [
       "<IPython.core.display.HTML object>"
      ]
     },
     "metadata": {},
     "output_type": "display_data"
    },
    {
     "name": "stdout",
     "output_type": "stream",
     "text": [
      "-------------------\n",
      "$1,500\n",
      "2019 Chevrolet Malibu\n",
      "Houston, TX\n",
      "41K miles\n",
      "-------------------\n",
      "None\n",
      "-------------------\n"
     ]
    },
    {
     "data": {
      "text/html": [
       "<div class=\"kbiprv82\"><a class=\"oajrlxb2 g5ia77u1 qu0x051f esr5mh6w e9989ue4 r7d6kgcz rq0escxv nhd2j8a9 nc684nl6 p7hjln8o kvgmc6g5 cxmmr5t8 oygrvhab hcukyx3x jb3vyjys rz4wbd8a qt6c0cv9 a8nywdso i1ao9s8h esuyzwwr f1sip0of lzcic4wl gmql0nx0 p8dawk7l\" href=\"/marketplace/item/691821648026719/\" role=\"link\" tabindex=\"0\"><div class=\"j83agx80 cbu4d94t l9j0dhe7\"><div class=\"l9j0dhe7\"><div class=\"k4urcfbm l9j0dhe7\"><div class=\"kr520xx4 j9ispegn l9j0dhe7 stjgntxs ni8dbmo4 n7fi1qx3 i09qtzwb kzx2olss aot14ch1 p86d2i9g beltcj47 t63ysoy8 linmgsc8 hop1g133 opwvks06\"><div class=\"beltcj47 p86d2i9g aot14ch1 kzx2olss ni8dbmo4 stjgntxs d5it6em2 l9j0dhe7 k4urcfbm\"><div class=\"j83agx80 lhclo0ds ihdl84by pmk7jnqg h119xb3h iylxurvu bo2ra7bd\"><div class=\"rq0escxv j83agx80 buofh1pr datstx6m ggysqto6 exrn9cbp ojkyduve abpf7j7b l9j0dhe7 k4urcfbm\"><img alt=\"2019 Chevrolet Malibu in Houston, TX\" class=\"idiwt2bm bixrwtb6 ni8dbmo4 stjgntxs k4urcfbm\" src=\"https://scontent.fhou1-2.fna.fbcdn.net/v/t1.0-0/c65.0.260.260a/p261x260/96247440_2977529432327039_750455417972195328_n.jpg?_nc_cat=105&amp;_nc_sid=843cd7&amp;_nc_ohc=vmD-dOdgibgAX9BAI6d&amp;_nc_ht=scontent.fhou1-2.fna&amp;oh=7330716eafd74777480b058ed92754b2&amp;oe=5F6AB744\"></div></div></div></div></div></div><div class=\"rq0escxv j83agx80 cbu4d94t i1fnvgqd muag1w35 pybr56ya f10w8fjw k4urcfbm c7r68pdi suyy3zvx\"><div class=\"aahdfvyu fsotbgu8\"><span class=\"j83agx80\"><div class=\"a8nywdso e5nlhep0 rz4wbd8a ecm0bbzt btwxx1t3 j83agx80\"><div class=\"hlyrhctz\"><span class=\"oi732d6d ik7dh3pa d2edcug0 qv66sw1b c1et5uql a8c37x1j s89635nw ew0dbk1b a5q79mjw g1cxx5fr lrazzd5p oo9gr5id\" dir=\"auto\">$1,500</span></div><div class=\"f0t0fhil mkhogb32\"><span class=\"oi732d6d ik7dh3pa d2edcug0 qv66sw1b c1et5uql a8c37x1j muag1w35 enqfppq2 jq4qci2q a3bd9o3v ekzkrbhg oo9gr5id\" dir=\"auto\">$1,500</span></div></div></span></div><div class=\"aahdfvyu fsotbgu8\"><span aria-hidden=\"true\"><div class=\"a8nywdso e5nlhep0 rz4wbd8a linoseic\"><span class=\"a8c37x1j ni8dbmo4 stjgntxs l9j0dhe7 oi732d6d ik7dh3pa d2edcug0 qv66sw1b c1et5uql muag1w35 enqfppq2 jq4qci2q a3bd9o3v knj5qynh oo9gr5id\" dir=\"auto\" style=\"-webkit-box-orient: vertical; -webkit-line-clamp: 2; display: -webkit-box;\">2019 Chevrolet Malibu</span></div></span></div><div class=\"aahdfvyu fsotbgu8\"><span aria-hidden=\"true\"><div class=\"a8nywdso e5nlhep0 rz4wbd8a ecm0bbzt\"><span class=\"a8c37x1j ni8dbmo4 stjgntxs l9j0dhe7 ltmttdrg g0qnabr5 oi732d6d ik7dh3pa d2edcug0 qv66sw1b c1et5uql hop8lmos enqfppq2 e9vueds3 j5wam9gi knj5qynh m9osqain\" dir=\"auto\">Houston, TX</span></div></span></div><div class=\"aahdfvyu fsotbgu8\"><div class=\"a8nywdso e5nlhep0 rz4wbd8a ecm0bbzt\"><span class=\"a8c37x1j ni8dbmo4 stjgntxs l9j0dhe7 ltmttdrg g0qnabr5 oi732d6d ik7dh3pa d2edcug0 qv66sw1b c1et5uql hop8lmos enqfppq2 e9vueds3 j5wam9gi knj5qynh m9osqain\" dir=\"auto\">41K miles</span></div></div></div></div></a></div>"
      ],
      "text/plain": [
       "<IPython.core.display.HTML object>"
      ]
     },
     "metadata": {},
     "output_type": "display_data"
    },
    {
     "name": "stdout",
     "output_type": "stream",
     "text": [
      "-------------------\n",
      "$3,700\n",
      "2012 Nissan Versa SV Sedan 4D\n",
      "Missouri City, TX\n",
      "112K miles\n",
      "-------------------\n",
      "None\n",
      "-------------------\n"
     ]
    },
    {
     "data": {
      "text/html": [
       "<div class=\"kbiprv82\"><a class=\"oajrlxb2 g5ia77u1 qu0x051f esr5mh6w e9989ue4 r7d6kgcz rq0escxv nhd2j8a9 nc684nl6 p7hjln8o kvgmc6g5 cxmmr5t8 oygrvhab hcukyx3x jb3vyjys rz4wbd8a qt6c0cv9 a8nywdso i1ao9s8h esuyzwwr f1sip0of lzcic4wl gmql0nx0 p8dawk7l\" href=\"/marketplace/item/225105108520661/\" role=\"link\" tabindex=\"0\"><div class=\"j83agx80 cbu4d94t l9j0dhe7\"><div class=\"l9j0dhe7\"><div class=\"k4urcfbm l9j0dhe7\"><div class=\"kr520xx4 j9ispegn l9j0dhe7 stjgntxs ni8dbmo4 n7fi1qx3 i09qtzwb kzx2olss aot14ch1 p86d2i9g beltcj47 t63ysoy8 linmgsc8 hop1g133 opwvks06\"><div class=\"beltcj47 p86d2i9g aot14ch1 kzx2olss ni8dbmo4 stjgntxs d5it6em2 l9j0dhe7 k4urcfbm\"><div class=\"j83agx80 lhclo0ds ihdl84by pmk7jnqg h119xb3h iylxurvu bo2ra7bd\"><div class=\"rq0escxv j83agx80 buofh1pr datstx6m ggysqto6 exrn9cbp ojkyduve abpf7j7b l9j0dhe7 k4urcfbm\"><img alt=\"2012 Nissan Versa SV Sedan 4D in Missouri City, TX\" class=\"idiwt2bm bixrwtb6 ni8dbmo4 stjgntxs k4urcfbm\" src=\"https://scontent.fhou1-1.fna.fbcdn.net/v/t1.0-0/c43.0.260.260a/p261x260/107104889_324393758961274_4451779958376941076_n.jpg?_nc_cat=101&amp;_nc_sid=843cd7&amp;_nc_ohc=DizzANj8_IsAX-r8XeN&amp;_nc_ht=scontent.fhou1-1.fna&amp;oh=e08b74fea8aa0e1220b1a811e63fa74c&amp;oe=5F6C8F36\"></div></div></div></div></div></div><div class=\"rq0escxv j83agx80 cbu4d94t i1fnvgqd muag1w35 pybr56ya f10w8fjw k4urcfbm c7r68pdi suyy3zvx\"><div class=\"aahdfvyu fsotbgu8\"><span class=\"j83agx80\"><div class=\"a8nywdso e5nlhep0 rz4wbd8a ecm0bbzt btwxx1t3 j83agx80\"><div class=\"hlyrhctz\"><span class=\"oi732d6d ik7dh3pa d2edcug0 qv66sw1b c1et5uql a8c37x1j s89635nw ew0dbk1b a5q79mjw g1cxx5fr lrazzd5p oo9gr5id\" dir=\"auto\">$3,700</span></div><div class=\"f0t0fhil mkhogb32\"><span class=\"oi732d6d ik7dh3pa d2edcug0 qv66sw1b c1et5uql a8c37x1j muag1w35 enqfppq2 jq4qci2q a3bd9o3v ekzkrbhg oo9gr5id\" dir=\"auto\">$3,700</span></div></div></span></div><div class=\"aahdfvyu fsotbgu8\"><span aria-hidden=\"true\"><div class=\"a8nywdso e5nlhep0 rz4wbd8a linoseic\"><span class=\"a8c37x1j ni8dbmo4 stjgntxs l9j0dhe7 oi732d6d ik7dh3pa d2edcug0 qv66sw1b c1et5uql muag1w35 enqfppq2 jq4qci2q a3bd9o3v knj5qynh oo9gr5id\" dir=\"auto\" style=\"-webkit-box-orient: vertical; -webkit-line-clamp: 2; display: -webkit-box;\">2012 Nissan Versa SV Sedan 4D</span></div></span></div><div class=\"aahdfvyu fsotbgu8\"><span aria-hidden=\"true\"><div class=\"a8nywdso e5nlhep0 rz4wbd8a ecm0bbzt\"><span class=\"a8c37x1j ni8dbmo4 stjgntxs l9j0dhe7 ltmttdrg g0qnabr5 oi732d6d ik7dh3pa d2edcug0 qv66sw1b c1et5uql hop8lmos enqfppq2 e9vueds3 j5wam9gi knj5qynh m9osqain\" dir=\"auto\">Missouri City, TX</span></div></span></div><div class=\"aahdfvyu fsotbgu8\"><div class=\"a8nywdso e5nlhep0 rz4wbd8a ecm0bbzt\"><span class=\"a8c37x1j ni8dbmo4 stjgntxs l9j0dhe7 ltmttdrg g0qnabr5 oi732d6d ik7dh3pa d2edcug0 qv66sw1b c1et5uql hop8lmos enqfppq2 e9vueds3 j5wam9gi knj5qynh m9osqain\" dir=\"auto\">112K miles</span></div></div></div></div></a></div>"
      ],
      "text/plain": [
       "<IPython.core.display.HTML object>"
      ]
     },
     "metadata": {},
     "output_type": "display_data"
    },
    {
     "name": "stdout",
     "output_type": "stream",
     "text": [
      "-------------------\n",
      "$499\n",
      "2017 Ford fiesta. ST Hatchback 4D\n",
      "Houston, TX\n",
      "34K miles\n",
      "-------------------\n",
      "None\n",
      "-------------------\n"
     ]
    },
    {
     "data": {
      "text/html": [
       "<div class=\"kbiprv82\"><a class=\"oajrlxb2 g5ia77u1 qu0x051f esr5mh6w e9989ue4 r7d6kgcz rq0escxv nhd2j8a9 nc684nl6 p7hjln8o kvgmc6g5 cxmmr5t8 oygrvhab hcukyx3x jb3vyjys rz4wbd8a qt6c0cv9 a8nywdso i1ao9s8h esuyzwwr f1sip0of lzcic4wl gmql0nx0 p8dawk7l\" href=\"/marketplace/item/618369929109050/\" role=\"link\" tabindex=\"0\"><div class=\"j83agx80 cbu4d94t l9j0dhe7\"><div class=\"l9j0dhe7\"><div class=\"k4urcfbm l9j0dhe7\"><div class=\"kr520xx4 j9ispegn l9j0dhe7 stjgntxs ni8dbmo4 n7fi1qx3 i09qtzwb kzx2olss aot14ch1 p86d2i9g beltcj47 t63ysoy8 linmgsc8 hop1g133 opwvks06\"><div class=\"beltcj47 p86d2i9g aot14ch1 kzx2olss ni8dbmo4 stjgntxs d5it6em2 l9j0dhe7 k4urcfbm\"><div class=\"j83agx80 lhclo0ds ihdl84by pmk7jnqg h119xb3h iylxurvu bo2ra7bd\"><div class=\"rq0escxv j83agx80 buofh1pr datstx6m ggysqto6 exrn9cbp ojkyduve abpf7j7b l9j0dhe7 k4urcfbm\"><img alt=\"2017 Ford fiesta. ST Hatchback 4D in Houston, TX\" class=\"idiwt2bm bixrwtb6 ni8dbmo4 stjgntxs k4urcfbm\" src=\"https://scontent.fhou1-2.fna.fbcdn.net/v/t1.0-0/c43.0.260.260a/p261x260/118035757_3499426263442906_2421013378784241040_o.jpg?_nc_cat=107&amp;_nc_sid=843cd7&amp;_nc_ohc=CqG04LXJZbYAX8p1I_8&amp;_nc_ht=scontent.fhou1-2.fna&amp;oh=b9d0114cf1e65c371ffd074af0d9ebe2&amp;oe=5F6BDC4A\"></div></div></div></div></div></div><div class=\"rq0escxv j83agx80 cbu4d94t i1fnvgqd muag1w35 pybr56ya f10w8fjw k4urcfbm c7r68pdi suyy3zvx\"><div class=\"aahdfvyu fsotbgu8\"><span class=\"j83agx80\"><div class=\"a8nywdso e5nlhep0 rz4wbd8a ecm0bbzt btwxx1t3 j83agx80\"><div class=\"hlyrhctz\"><span class=\"oi732d6d ik7dh3pa d2edcug0 qv66sw1b c1et5uql a8c37x1j s89635nw ew0dbk1b a5q79mjw g1cxx5fr lrazzd5p oo9gr5id\" dir=\"auto\">$499</span></div><div class=\"f0t0fhil mkhogb32\"><span class=\"oi732d6d ik7dh3pa d2edcug0 qv66sw1b c1et5uql a8c37x1j muag1w35 enqfppq2 jq4qci2q a3bd9o3v ekzkrbhg oo9gr5id\" dir=\"auto\">$499</span></div></div></span></div><div class=\"aahdfvyu fsotbgu8\"><span aria-hidden=\"true\"><div class=\"a8nywdso e5nlhep0 rz4wbd8a linoseic\"><span class=\"a8c37x1j ni8dbmo4 stjgntxs l9j0dhe7 oi732d6d ik7dh3pa d2edcug0 qv66sw1b c1et5uql muag1w35 enqfppq2 jq4qci2q a3bd9o3v knj5qynh oo9gr5id\" dir=\"auto\" style=\"-webkit-box-orient: vertical; -webkit-line-clamp: 2; display: -webkit-box;\">2017 Ford fiesta. ST Hatchback 4D</span></div></span></div><div class=\"aahdfvyu fsotbgu8\"><span aria-hidden=\"true\"><div class=\"a8nywdso e5nlhep0 rz4wbd8a ecm0bbzt\"><span class=\"a8c37x1j ni8dbmo4 stjgntxs l9j0dhe7 ltmttdrg g0qnabr5 oi732d6d ik7dh3pa d2edcug0 qv66sw1b c1et5uql hop8lmos enqfppq2 e9vueds3 j5wam9gi knj5qynh m9osqain\" dir=\"auto\">Houston, TX</span></div></span></div><div class=\"aahdfvyu fsotbgu8\"><div class=\"a8nywdso e5nlhep0 rz4wbd8a ecm0bbzt\"><span class=\"a8c37x1j ni8dbmo4 stjgntxs l9j0dhe7 ltmttdrg g0qnabr5 oi732d6d ik7dh3pa d2edcug0 qv66sw1b c1et5uql hop8lmos enqfppq2 e9vueds3 j5wam9gi knj5qynh m9osqain\" dir=\"auto\">34K miles</span></div></div></div></div></a></div>"
      ],
      "text/plain": [
       "<IPython.core.display.HTML object>"
      ]
     },
     "metadata": {},
     "output_type": "display_data"
    },
    {
     "name": "stdout",
     "output_type": "stream",
     "text": [
      "-------------------\n",
      "$1,000\n",
      "2019 Ford Mustang GT Premium Coupe 2D\n",
      "Pasadena, TX\n",
      "12K miles\n",
      "-------------------\n",
      "None\n",
      "-------------------\n"
     ]
    },
    {
     "data": {
      "text/html": [
       "<div class=\"kbiprv82\"><a class=\"oajrlxb2 g5ia77u1 qu0x051f esr5mh6w e9989ue4 r7d6kgcz rq0escxv nhd2j8a9 nc684nl6 p7hjln8o kvgmc6g5 cxmmr5t8 oygrvhab hcukyx3x jb3vyjys rz4wbd8a qt6c0cv9 a8nywdso i1ao9s8h esuyzwwr f1sip0of lzcic4wl gmql0nx0 p8dawk7l\" href=\"/marketplace/item/601253724000669/\" role=\"link\" tabindex=\"0\"><div class=\"j83agx80 cbu4d94t l9j0dhe7\"><div class=\"l9j0dhe7\"><div class=\"k4urcfbm l9j0dhe7\"><div class=\"kr520xx4 j9ispegn l9j0dhe7 stjgntxs ni8dbmo4 n7fi1qx3 i09qtzwb kzx2olss aot14ch1 p86d2i9g beltcj47 t63ysoy8 linmgsc8 hop1g133 opwvks06\"><div class=\"beltcj47 p86d2i9g aot14ch1 kzx2olss ni8dbmo4 stjgntxs d5it6em2 l9j0dhe7 k4urcfbm\"><div class=\"j83agx80 lhclo0ds ihdl84by pmk7jnqg h119xb3h iylxurvu bo2ra7bd\"><div class=\"rq0escxv j83agx80 buofh1pr datstx6m ggysqto6 exrn9cbp ojkyduve abpf7j7b l9j0dhe7 k4urcfbm\"><img alt=\"2019 Ford Mustang GT Premium Coupe 2D in Pasadena, TX\" class=\"idiwt2bm bixrwtb6 ni8dbmo4 stjgntxs k4urcfbm\" src=\"https://scontent.fhou1-1.fna.fbcdn.net/v/t1.0-0/c43.0.260.260a/p261x260/82798805_1060155724331164_2372703722888232960_n.jpg?_nc_cat=110&amp;_nc_sid=843cd7&amp;_nc_ohc=06TGBvqmwKQAX9-Iv42&amp;_nc_ht=scontent.fhou1-1.fna&amp;oh=f6f4b7dfa1619a9ed0c6b63284aec2ab&amp;oe=5F6D16AB\"></div></div></div></div></div></div><div class=\"rq0escxv j83agx80 cbu4d94t i1fnvgqd muag1w35 pybr56ya f10w8fjw k4urcfbm c7r68pdi suyy3zvx\"><div class=\"aahdfvyu fsotbgu8\"><span class=\"j83agx80\"><div class=\"a8nywdso e5nlhep0 rz4wbd8a ecm0bbzt btwxx1t3 j83agx80\"><div class=\"hlyrhctz\"><span class=\"oi732d6d ik7dh3pa d2edcug0 qv66sw1b c1et5uql a8c37x1j s89635nw ew0dbk1b a5q79mjw g1cxx5fr lrazzd5p oo9gr5id\" dir=\"auto\">$1,000</span></div><div class=\"f0t0fhil mkhogb32\"><span class=\"oi732d6d ik7dh3pa d2edcug0 qv66sw1b c1et5uql a8c37x1j muag1w35 enqfppq2 jq4qci2q a3bd9o3v ekzkrbhg oo9gr5id\" dir=\"auto\">$1,000</span></div></div></span></div><div class=\"aahdfvyu fsotbgu8\"><span aria-hidden=\"true\"><div class=\"a8nywdso e5nlhep0 rz4wbd8a linoseic\"><span class=\"a8c37x1j ni8dbmo4 stjgntxs l9j0dhe7 oi732d6d ik7dh3pa d2edcug0 qv66sw1b c1et5uql muag1w35 enqfppq2 jq4qci2q a3bd9o3v knj5qynh oo9gr5id\" dir=\"auto\" style=\"-webkit-box-orient: vertical; -webkit-line-clamp: 2; display: -webkit-box;\">2019 Ford Mustang GT Premium Coupe 2D</span></div></span></div><div class=\"aahdfvyu fsotbgu8\"><span aria-hidden=\"true\"><div class=\"a8nywdso e5nlhep0 rz4wbd8a ecm0bbzt\"><span class=\"a8c37x1j ni8dbmo4 stjgntxs l9j0dhe7 ltmttdrg g0qnabr5 oi732d6d ik7dh3pa d2edcug0 qv66sw1b c1et5uql hop8lmos enqfppq2 e9vueds3 j5wam9gi knj5qynh m9osqain\" dir=\"auto\">Pasadena, TX</span></div></span></div><div class=\"aahdfvyu fsotbgu8\"><div class=\"a8nywdso e5nlhep0 rz4wbd8a ecm0bbzt\"><span class=\"a8c37x1j ni8dbmo4 stjgntxs l9j0dhe7 ltmttdrg g0qnabr5 oi732d6d ik7dh3pa d2edcug0 qv66sw1b c1et5uql hop8lmos enqfppq2 e9vueds3 j5wam9gi knj5qynh m9osqain\" dir=\"auto\">12K miles</span></div></div></div></div></a></div>"
      ],
      "text/plain": [
       "<IPython.core.display.HTML object>"
      ]
     },
     "metadata": {},
     "output_type": "display_data"
    },
    {
     "name": "stdout",
     "output_type": "stream",
     "text": [
      "-------------------\n",
      "$3,500\n",
      "2019 Ford Ranger Lariat Pickup 4D 5 ft\n",
      "Houston, TX\n",
      "18K miles\n",
      "-------------------\n",
      "None\n",
      "-------------------\n"
     ]
    },
    {
     "data": {
      "text/html": [
       "<div class=\"kbiprv82\"><a class=\"oajrlxb2 g5ia77u1 qu0x051f esr5mh6w e9989ue4 r7d6kgcz rq0escxv nhd2j8a9 nc684nl6 p7hjln8o kvgmc6g5 cxmmr5t8 oygrvhab hcukyx3x jb3vyjys rz4wbd8a qt6c0cv9 a8nywdso i1ao9s8h esuyzwwr f1sip0of lzcic4wl gmql0nx0 p8dawk7l\" href=\"/marketplace/item/249512772983446/\" role=\"link\" tabindex=\"0\"><div class=\"j83agx80 cbu4d94t l9j0dhe7\"><div class=\"l9j0dhe7\"><div class=\"k4urcfbm l9j0dhe7\"><div class=\"kr520xx4 j9ispegn l9j0dhe7 stjgntxs ni8dbmo4 n7fi1qx3 i09qtzwb kzx2olss aot14ch1 p86d2i9g beltcj47 t63ysoy8 linmgsc8 hop1g133 opwvks06\"><div class=\"beltcj47 p86d2i9g aot14ch1 kzx2olss ni8dbmo4 stjgntxs d5it6em2 l9j0dhe7 k4urcfbm\"><div class=\"j83agx80 lhclo0ds ihdl84by pmk7jnqg h119xb3h iylxurvu bo2ra7bd\"><div class=\"rq0escxv j83agx80 buofh1pr datstx6m ggysqto6 exrn9cbp ojkyduve abpf7j7b l9j0dhe7 k4urcfbm\"><img alt=\"2019 Ford Ranger Lariat Pickup 4D 5 ft in Houston, TX\" class=\"idiwt2bm bixrwtb6 ni8dbmo4 stjgntxs k4urcfbm\" src=\"https://scontent.fhou1-2.fna.fbcdn.net/v/t1.0-0/c43.0.260.260a/p261x260/101301094_118703013185729_153844543131746304_o.jpg?_nc_cat=102&amp;_nc_sid=843cd7&amp;_nc_ohc=KhQMtI8hzSYAX_1gyVM&amp;_nc_ht=scontent.fhou1-2.fna&amp;oh=c96df2b2c2107ec5f31dbed5c089cbfc&amp;oe=5F6D1481\"></div></div></div></div></div></div><div class=\"rq0escxv j83agx80 cbu4d94t i1fnvgqd muag1w35 pybr56ya f10w8fjw k4urcfbm c7r68pdi suyy3zvx\"><div class=\"aahdfvyu fsotbgu8\"><span class=\"j83agx80\"><div class=\"a8nywdso e5nlhep0 rz4wbd8a ecm0bbzt btwxx1t3 j83agx80\"><div class=\"hlyrhctz\"><span class=\"oi732d6d ik7dh3pa d2edcug0 qv66sw1b c1et5uql a8c37x1j s89635nw ew0dbk1b a5q79mjw g1cxx5fr lrazzd5p oo9gr5id\" dir=\"auto\">$3,500</span></div><div class=\"f0t0fhil mkhogb32\"><span class=\"oi732d6d ik7dh3pa d2edcug0 qv66sw1b c1et5uql a8c37x1j muag1w35 enqfppq2 jq4qci2q a3bd9o3v ekzkrbhg oo9gr5id\" dir=\"auto\">$3,500</span></div></div></span></div><div class=\"aahdfvyu fsotbgu8\"><span aria-hidden=\"true\"><div class=\"a8nywdso e5nlhep0 rz4wbd8a linoseic\"><span class=\"a8c37x1j ni8dbmo4 stjgntxs l9j0dhe7 oi732d6d ik7dh3pa d2edcug0 qv66sw1b c1et5uql muag1w35 enqfppq2 jq4qci2q a3bd9o3v knj5qynh oo9gr5id\" dir=\"auto\" style=\"-webkit-box-orient: vertical; -webkit-line-clamp: 2; display: -webkit-box;\">2019 Ford Ranger Lariat Pickup 4D 5 ft</span></div></span></div><div class=\"aahdfvyu fsotbgu8\"><span aria-hidden=\"true\"><div class=\"a8nywdso e5nlhep0 rz4wbd8a ecm0bbzt\"><span class=\"a8c37x1j ni8dbmo4 stjgntxs l9j0dhe7 ltmttdrg g0qnabr5 oi732d6d ik7dh3pa d2edcug0 qv66sw1b c1et5uql hop8lmos enqfppq2 e9vueds3 j5wam9gi knj5qynh m9osqain\" dir=\"auto\">Houston, TX</span></div></span></div><div class=\"aahdfvyu fsotbgu8\"><div class=\"a8nywdso e5nlhep0 rz4wbd8a ecm0bbzt\"><span class=\"a8c37x1j ni8dbmo4 stjgntxs l9j0dhe7 ltmttdrg g0qnabr5 oi732d6d ik7dh3pa d2edcug0 qv66sw1b c1et5uql hop8lmos enqfppq2 e9vueds3 j5wam9gi knj5qynh m9osqain\" dir=\"auto\">18K miles</span></div></div></div></div></a></div>"
      ],
      "text/plain": [
       "<IPython.core.display.HTML object>"
      ]
     },
     "metadata": {},
     "output_type": "display_data"
    },
    {
     "name": "stdout",
     "output_type": "stream",
     "text": [
      "-------------------\n",
      "$4,000\n",
      "2020 Chevrolet Camaro\n",
      "Houston, TX\n",
      "111K miles\n",
      "-------------------\n",
      "None\n",
      "-------------------\n"
     ]
    },
    {
     "data": {
      "text/html": [
       "<div class=\"kbiprv82\"><a class=\"oajrlxb2 g5ia77u1 qu0x051f esr5mh6w e9989ue4 r7d6kgcz rq0escxv nhd2j8a9 nc684nl6 p7hjln8o kvgmc6g5 cxmmr5t8 oygrvhab hcukyx3x jb3vyjys rz4wbd8a qt6c0cv9 a8nywdso i1ao9s8h esuyzwwr f1sip0of lzcic4wl gmql0nx0 p8dawk7l\" href=\"/marketplace/item/2815892121812354/\" role=\"link\" tabindex=\"0\"><div class=\"j83agx80 cbu4d94t l9j0dhe7\"><div class=\"l9j0dhe7\"><div class=\"k4urcfbm l9j0dhe7\"><div class=\"kr520xx4 j9ispegn l9j0dhe7 stjgntxs ni8dbmo4 n7fi1qx3 i09qtzwb kzx2olss aot14ch1 p86d2i9g beltcj47 t63ysoy8 linmgsc8 hop1g133 opwvks06\"><div class=\"beltcj47 p86d2i9g aot14ch1 kzx2olss ni8dbmo4 stjgntxs d5it6em2 l9j0dhe7 k4urcfbm\"><div class=\"j83agx80 lhclo0ds ihdl84by pmk7jnqg h119xb3h iylxurvu bo2ra7bd\"><div class=\"rq0escxv j83agx80 buofh1pr datstx6m ggysqto6 exrn9cbp ojkyduve abpf7j7b l9j0dhe7 k4urcfbm\"><img alt=\"2020 Chevrolet Camaro in Houston, TX\" class=\"idiwt2bm bixrwtb6 ni8dbmo4 stjgntxs k4urcfbm\" src=\"https://scontent.fhou1-1.fna.fbcdn.net/v/t1.0-0/c43.0.260.260a/p261x260/91565302_1363391497185791_4423996596132249600_o.jpg?_nc_cat=104&amp;_nc_sid=843cd7&amp;_nc_ohc=HJnZmh_b-6oAX8UOr3I&amp;_nc_ht=scontent.fhou1-1.fna&amp;oh=d3200f2fed9039682560d6c735dd20ed&amp;oe=5F6C6768\"></div></div></div></div></div></div><div class=\"rq0escxv j83agx80 cbu4d94t i1fnvgqd muag1w35 pybr56ya f10w8fjw k4urcfbm c7r68pdi suyy3zvx\"><div class=\"aahdfvyu fsotbgu8\"><span class=\"j83agx80\"><div class=\"a8nywdso e5nlhep0 rz4wbd8a ecm0bbzt btwxx1t3 j83agx80\"><div class=\"hlyrhctz\"><span class=\"oi732d6d ik7dh3pa d2edcug0 qv66sw1b c1et5uql a8c37x1j s89635nw ew0dbk1b a5q79mjw g1cxx5fr lrazzd5p oo9gr5id\" dir=\"auto\">$4,000</span></div><div class=\"f0t0fhil mkhogb32\"><span class=\"oi732d6d ik7dh3pa d2edcug0 qv66sw1b c1et5uql a8c37x1j muag1w35 enqfppq2 jq4qci2q a3bd9o3v ekzkrbhg oo9gr5id\" dir=\"auto\">$4,000</span></div></div></span></div><div class=\"aahdfvyu fsotbgu8\"><span aria-hidden=\"true\"><div class=\"a8nywdso e5nlhep0 rz4wbd8a linoseic\"><span class=\"a8c37x1j ni8dbmo4 stjgntxs l9j0dhe7 oi732d6d ik7dh3pa d2edcug0 qv66sw1b c1et5uql muag1w35 enqfppq2 jq4qci2q a3bd9o3v knj5qynh oo9gr5id\" dir=\"auto\" style=\"-webkit-box-orient: vertical; -webkit-line-clamp: 2; display: -webkit-box;\">2020 Chevrolet Camaro</span></div></span></div><div class=\"aahdfvyu fsotbgu8\"><span aria-hidden=\"true\"><div class=\"a8nywdso e5nlhep0 rz4wbd8a ecm0bbzt\"><span class=\"a8c37x1j ni8dbmo4 stjgntxs l9j0dhe7 ltmttdrg g0qnabr5 oi732d6d ik7dh3pa d2edcug0 qv66sw1b c1et5uql hop8lmos enqfppq2 e9vueds3 j5wam9gi knj5qynh m9osqain\" dir=\"auto\">Houston, TX</span></div></span></div><div class=\"aahdfvyu fsotbgu8\"><div class=\"a8nywdso e5nlhep0 rz4wbd8a ecm0bbzt\"><span class=\"a8c37x1j ni8dbmo4 stjgntxs l9j0dhe7 ltmttdrg g0qnabr5 oi732d6d ik7dh3pa d2edcug0 qv66sw1b c1et5uql hop8lmos enqfppq2 e9vueds3 j5wam9gi knj5qynh m9osqain\" dir=\"auto\">111K miles</span></div></div></div></div></a></div>"
      ],
      "text/plain": [
       "<IPython.core.display.HTML object>"
      ]
     },
     "metadata": {},
     "output_type": "display_data"
    },
    {
     "name": "stdout",
     "output_type": "stream",
     "text": [
      "-------------------\n",
      "$2,000\n",
      "2019 Chevrolet Malibu LT Sedan 4D\n",
      "Houston, TX\n",
      "60K miles\n",
      "-------------------\n",
      "None\n",
      "-------------------\n"
     ]
    },
    {
     "data": {
      "text/html": [
       "<div class=\"kbiprv82\"><a class=\"oajrlxb2 g5ia77u1 qu0x051f esr5mh6w e9989ue4 r7d6kgcz rq0escxv nhd2j8a9 nc684nl6 p7hjln8o kvgmc6g5 cxmmr5t8 oygrvhab hcukyx3x jb3vyjys rz4wbd8a qt6c0cv9 a8nywdso i1ao9s8h esuyzwwr f1sip0of lzcic4wl gmql0nx0 p8dawk7l\" href=\"/marketplace/item/1690317361108702/\" role=\"link\" tabindex=\"0\"><div class=\"j83agx80 cbu4d94t l9j0dhe7\"><div class=\"l9j0dhe7\"><div class=\"k4urcfbm l9j0dhe7\"><div class=\"kr520xx4 j9ispegn l9j0dhe7 stjgntxs ni8dbmo4 n7fi1qx3 i09qtzwb kzx2olss aot14ch1 p86d2i9g beltcj47 t63ysoy8 linmgsc8 hop1g133 opwvks06\"><div class=\"beltcj47 p86d2i9g aot14ch1 kzx2olss ni8dbmo4 stjgntxs d5it6em2 l9j0dhe7 k4urcfbm\"><div class=\"j83agx80 lhclo0ds ihdl84by pmk7jnqg h119xb3h iylxurvu bo2ra7bd\"><div class=\"rq0escxv j83agx80 buofh1pr datstx6m ggysqto6 exrn9cbp ojkyduve abpf7j7b l9j0dhe7 k4urcfbm\"><img alt=\"2019 Chevrolet Malibu LT Sedan 4D in Houston, TX\" class=\"idiwt2bm bixrwtb6 ni8dbmo4 stjgntxs k4urcfbm\" src=\"https://scontent.fhou1-1.fna.fbcdn.net/v/t1.0-0/c43.0.260.260a/p261x260/95257507_10222298156748975_7328020140409225216_o.jpg?_nc_cat=104&amp;_nc_sid=843cd7&amp;_nc_ohc=ler4peqJ4OMAX99VlHI&amp;_nc_ht=scontent.fhou1-1.fna&amp;oh=cf29455fb0cd80ebf3fd169efd143f51&amp;oe=5F6BEBEC\"></div></div></div></div></div></div><div class=\"rq0escxv j83agx80 cbu4d94t i1fnvgqd muag1w35 pybr56ya f10w8fjw k4urcfbm c7r68pdi suyy3zvx\"><div class=\"aahdfvyu fsotbgu8\"><span class=\"j83agx80\"><div class=\"a8nywdso e5nlhep0 rz4wbd8a ecm0bbzt btwxx1t3 j83agx80\"><div class=\"hlyrhctz\"><span class=\"oi732d6d ik7dh3pa d2edcug0 qv66sw1b c1et5uql a8c37x1j s89635nw ew0dbk1b a5q79mjw g1cxx5fr lrazzd5p oo9gr5id\" dir=\"auto\">$2,000</span></div><div class=\"f0t0fhil mkhogb32\"><span class=\"oi732d6d ik7dh3pa d2edcug0 qv66sw1b c1et5uql a8c37x1j muag1w35 enqfppq2 jq4qci2q a3bd9o3v ekzkrbhg oo9gr5id\" dir=\"auto\">$2,000</span></div></div></span></div><div class=\"aahdfvyu fsotbgu8\"><span aria-hidden=\"true\"><div class=\"a8nywdso e5nlhep0 rz4wbd8a linoseic\"><span class=\"a8c37x1j ni8dbmo4 stjgntxs l9j0dhe7 oi732d6d ik7dh3pa d2edcug0 qv66sw1b c1et5uql muag1w35 enqfppq2 jq4qci2q a3bd9o3v knj5qynh oo9gr5id\" dir=\"auto\" style=\"-webkit-box-orient: vertical; -webkit-line-clamp: 2; display: -webkit-box;\">2019 Chevrolet Malibu LT Sedan 4D</span></div></span></div><div class=\"aahdfvyu fsotbgu8\"><span aria-hidden=\"true\"><div class=\"a8nywdso e5nlhep0 rz4wbd8a ecm0bbzt\"><span class=\"a8c37x1j ni8dbmo4 stjgntxs l9j0dhe7 ltmttdrg g0qnabr5 oi732d6d ik7dh3pa d2edcug0 qv66sw1b c1et5uql hop8lmos enqfppq2 e9vueds3 j5wam9gi knj5qynh m9osqain\" dir=\"auto\">Houston, TX</span></div></span></div><div class=\"aahdfvyu fsotbgu8\"><div class=\"a8nywdso e5nlhep0 rz4wbd8a ecm0bbzt\"><span class=\"a8c37x1j ni8dbmo4 stjgntxs l9j0dhe7 ltmttdrg g0qnabr5 oi732d6d ik7dh3pa d2edcug0 qv66sw1b c1et5uql hop8lmos enqfppq2 e9vueds3 j5wam9gi knj5qynh m9osqain\" dir=\"auto\">60K miles</span></div></div></div></div></a></div>"
      ],
      "text/plain": [
       "<IPython.core.display.HTML object>"
      ]
     },
     "metadata": {},
     "output_type": "display_data"
    },
    {
     "name": "stdout",
     "output_type": "stream",
     "text": [
      "-------------------\n",
      "$2,500\n",
      "2019 Nissan tucson\n",
      "Houston, TX\n",
      "111K miles\n",
      "-------------------\n",
      "None\n",
      "-------------------\n"
     ]
    },
    {
     "data": {
      "text/html": [
       "<div class=\"kbiprv82\"><a class=\"oajrlxb2 g5ia77u1 qu0x051f esr5mh6w e9989ue4 r7d6kgcz rq0escxv nhd2j8a9 nc684nl6 p7hjln8o kvgmc6g5 cxmmr5t8 oygrvhab hcukyx3x jb3vyjys rz4wbd8a qt6c0cv9 a8nywdso i1ao9s8h esuyzwwr f1sip0of lzcic4wl gmql0nx0 p8dawk7l\" href=\"/marketplace/item/707744123403276/\" role=\"link\" tabindex=\"0\"><div class=\"j83agx80 cbu4d94t l9j0dhe7\"><div class=\"l9j0dhe7\"><div class=\"k4urcfbm l9j0dhe7\"><div class=\"kr520xx4 j9ispegn l9j0dhe7 stjgntxs ni8dbmo4 n7fi1qx3 i09qtzwb kzx2olss aot14ch1 p86d2i9g beltcj47 t63ysoy8 linmgsc8 hop1g133 opwvks06\"><div class=\"beltcj47 p86d2i9g aot14ch1 kzx2olss ni8dbmo4 stjgntxs d5it6em2 l9j0dhe7 k4urcfbm\"><div class=\"j83agx80 lhclo0ds ihdl84by pmk7jnqg h119xb3h iylxurvu bo2ra7bd\"><div class=\"rq0escxv j83agx80 buofh1pr datstx6m ggysqto6 exrn9cbp ojkyduve abpf7j7b l9j0dhe7 k4urcfbm\"><img alt=\"2019 Nissan tucson in Houston, TX\" class=\"idiwt2bm bixrwtb6 ni8dbmo4 stjgntxs k4urcfbm\" src=\"https://scontent.fhou1-1.fna.fbcdn.net/v/t1.0-0/c102.0.260.260a/p261x260/108205143_10214595295074964_5438038932903324911_n.jpg?_nc_cat=100&amp;_nc_sid=843cd7&amp;_nc_ohc=UYKJdM1sTXwAX9zOgij&amp;_nc_ht=scontent.fhou1-1.fna&amp;oh=cd13ae71a6cb60804601da8e1b060eed&amp;oe=5F6AAC41\"></div></div></div></div></div></div><div class=\"rq0escxv j83agx80 cbu4d94t i1fnvgqd muag1w35 pybr56ya f10w8fjw k4urcfbm c7r68pdi suyy3zvx\"><div class=\"aahdfvyu fsotbgu8\"><span class=\"j83agx80\"><div class=\"a8nywdso e5nlhep0 rz4wbd8a ecm0bbzt btwxx1t3 j83agx80\"><div class=\"hlyrhctz\"><span class=\"oi732d6d ik7dh3pa d2edcug0 qv66sw1b c1et5uql a8c37x1j s89635nw ew0dbk1b a5q79mjw g1cxx5fr lrazzd5p oo9gr5id\" dir=\"auto\">$2,500</span></div><div class=\"f0t0fhil mkhogb32\"><span class=\"oi732d6d ik7dh3pa d2edcug0 qv66sw1b c1et5uql a8c37x1j muag1w35 enqfppq2 jq4qci2q a3bd9o3v ekzkrbhg oo9gr5id\" dir=\"auto\">$2,500</span></div></div></span></div><div class=\"aahdfvyu fsotbgu8\"><span aria-hidden=\"true\"><div class=\"a8nywdso e5nlhep0 rz4wbd8a linoseic\"><span class=\"a8c37x1j ni8dbmo4 stjgntxs l9j0dhe7 oi732d6d ik7dh3pa d2edcug0 qv66sw1b c1et5uql muag1w35 enqfppq2 jq4qci2q a3bd9o3v knj5qynh oo9gr5id\" dir=\"auto\" style=\"-webkit-box-orient: vertical; -webkit-line-clamp: 2; display: -webkit-box;\">2019 Nissan tucson</span></div></span></div><div class=\"aahdfvyu fsotbgu8\"><span aria-hidden=\"true\"><div class=\"a8nywdso e5nlhep0 rz4wbd8a ecm0bbzt\"><span class=\"a8c37x1j ni8dbmo4 stjgntxs l9j0dhe7 ltmttdrg g0qnabr5 oi732d6d ik7dh3pa d2edcug0 qv66sw1b c1et5uql hop8lmos enqfppq2 e9vueds3 j5wam9gi knj5qynh m9osqain\" dir=\"auto\">Houston, TX</span></div></span></div><div class=\"aahdfvyu fsotbgu8\"><div class=\"a8nywdso e5nlhep0 rz4wbd8a ecm0bbzt\"><span class=\"a8c37x1j ni8dbmo4 stjgntxs l9j0dhe7 ltmttdrg g0qnabr5 oi732d6d ik7dh3pa d2edcug0 qv66sw1b c1et5uql hop8lmos enqfppq2 e9vueds3 j5wam9gi knj5qynh m9osqain\" dir=\"auto\">111K miles</span></div></div></div></div></a></div>"
      ],
      "text/plain": [
       "<IPython.core.display.HTML object>"
      ]
     },
     "metadata": {},
     "output_type": "display_data"
    },
    {
     "name": "stdout",
     "output_type": "stream",
     "text": [
      "-------------------\n",
      "$500\n",
      "2018 Dodge charger.\n",
      "Houston, TX\n",
      "32K miles\n",
      "-------------------\n",
      "None\n",
      "-------------------\n"
     ]
    },
    {
     "data": {
      "text/html": [
       "<div class=\"kbiprv82\"><a class=\"oajrlxb2 g5ia77u1 qu0x051f esr5mh6w e9989ue4 r7d6kgcz rq0escxv nhd2j8a9 nc684nl6 p7hjln8o kvgmc6g5 cxmmr5t8 oygrvhab hcukyx3x jb3vyjys rz4wbd8a qt6c0cv9 a8nywdso i1ao9s8h esuyzwwr f1sip0of lzcic4wl gmql0nx0 p8dawk7l\" href=\"/marketplace/item/930020717515404/\" role=\"link\" tabindex=\"0\"><div class=\"j83agx80 cbu4d94t l9j0dhe7\"><div class=\"l9j0dhe7\"><div class=\"k4urcfbm l9j0dhe7\"><div class=\"kr520xx4 j9ispegn l9j0dhe7 stjgntxs ni8dbmo4 n7fi1qx3 i09qtzwb kzx2olss aot14ch1 p86d2i9g beltcj47 t63ysoy8 linmgsc8 hop1g133 opwvks06\"><div class=\"beltcj47 p86d2i9g aot14ch1 kzx2olss ni8dbmo4 stjgntxs d5it6em2 l9j0dhe7 k4urcfbm\"><div class=\"j83agx80 lhclo0ds ihdl84by pmk7jnqg h119xb3h iylxurvu bo2ra7bd\"><div class=\"rq0escxv j83agx80 buofh1pr datstx6m ggysqto6 exrn9cbp ojkyduve abpf7j7b l9j0dhe7 k4urcfbm\"><img alt=\"2018 Dodge charger. in Houston, TX\" class=\"idiwt2bm bixrwtb6 ni8dbmo4 stjgntxs k4urcfbm\" src=\"https://scontent.fhou1-2.fna.fbcdn.net/v/t1.0-0/c43.0.260.260a/p261x260/108811095_3200641419991921_7332245022046752134_n.jpg?_nc_cat=107&amp;_nc_sid=843cd7&amp;_nc_ohc=dAEr4xanY6oAX-2UIAf&amp;_nc_ht=scontent.fhou1-2.fna&amp;oh=24ffa6c347ae0b55734bb6848c7c1e1a&amp;oe=5F6D80E3\"></div></div></div></div></div></div><div class=\"rq0escxv j83agx80 cbu4d94t i1fnvgqd muag1w35 pybr56ya f10w8fjw k4urcfbm c7r68pdi suyy3zvx\"><div class=\"aahdfvyu fsotbgu8\"><span class=\"j83agx80\"><div class=\"a8nywdso e5nlhep0 rz4wbd8a ecm0bbzt btwxx1t3 j83agx80\"><div class=\"hlyrhctz\"><span class=\"oi732d6d ik7dh3pa d2edcug0 qv66sw1b c1et5uql a8c37x1j s89635nw ew0dbk1b a5q79mjw g1cxx5fr lrazzd5p oo9gr5id\" dir=\"auto\">$500</span></div><div class=\"f0t0fhil mkhogb32\"><span class=\"oi732d6d ik7dh3pa d2edcug0 qv66sw1b c1et5uql a8c37x1j muag1w35 enqfppq2 jq4qci2q a3bd9o3v ekzkrbhg oo9gr5id\" dir=\"auto\">$500</span></div></div></span></div><div class=\"aahdfvyu fsotbgu8\"><span aria-hidden=\"true\"><div class=\"a8nywdso e5nlhep0 rz4wbd8a linoseic\"><span class=\"a8c37x1j ni8dbmo4 stjgntxs l9j0dhe7 oi732d6d ik7dh3pa d2edcug0 qv66sw1b c1et5uql muag1w35 enqfppq2 jq4qci2q a3bd9o3v knj5qynh oo9gr5id\" dir=\"auto\" style=\"-webkit-box-orient: vertical; -webkit-line-clamp: 2; display: -webkit-box;\">2018 Dodge charger.</span></div></span></div><div class=\"aahdfvyu fsotbgu8\"><span aria-hidden=\"true\"><div class=\"a8nywdso e5nlhep0 rz4wbd8a ecm0bbzt\"><span class=\"a8c37x1j ni8dbmo4 stjgntxs l9j0dhe7 ltmttdrg g0qnabr5 oi732d6d ik7dh3pa d2edcug0 qv66sw1b c1et5uql hop8lmos enqfppq2 e9vueds3 j5wam9gi knj5qynh m9osqain\" dir=\"auto\">Houston, TX</span></div></span></div><div class=\"aahdfvyu fsotbgu8\"><div class=\"a8nywdso e5nlhep0 rz4wbd8a ecm0bbzt\"><span class=\"a8c37x1j ni8dbmo4 stjgntxs l9j0dhe7 ltmttdrg g0qnabr5 oi732d6d ik7dh3pa d2edcug0 qv66sw1b c1et5uql hop8lmos enqfppq2 e9vueds3 j5wam9gi knj5qynh m9osqain\" dir=\"auto\">32K miles</span></div></div></div></div></a></div>"
      ],
      "text/plain": [
       "<IPython.core.display.HTML object>"
      ]
     },
     "metadata": {},
     "output_type": "display_data"
    },
    {
     "name": "stdout",
     "output_type": "stream",
     "text": [
      "-------------------\n",
      "$3,700\n",
      "2012 Chevrolet Sonic LTZ Hatchback Sedan 4D\n",
      "Hitchcock, TX\n",
      "15K miles\n",
      "-------------------\n",
      "None\n",
      "-------------------\n"
     ]
    },
    {
     "data": {
      "text/html": [
       "<div class=\"kbiprv82\"><a class=\"oajrlxb2 g5ia77u1 qu0x051f esr5mh6w e9989ue4 r7d6kgcz rq0escxv nhd2j8a9 nc684nl6 p7hjln8o kvgmc6g5 cxmmr5t8 oygrvhab hcukyx3x jb3vyjys rz4wbd8a qt6c0cv9 a8nywdso i1ao9s8h esuyzwwr f1sip0of lzcic4wl gmql0nx0 p8dawk7l\" href=\"/marketplace/item/298393774763778/\" role=\"link\" tabindex=\"0\"><div class=\"j83agx80 cbu4d94t l9j0dhe7\"><div class=\"l9j0dhe7\"><div class=\"k4urcfbm l9j0dhe7\"><div class=\"kr520xx4 j9ispegn l9j0dhe7 stjgntxs ni8dbmo4 n7fi1qx3 i09qtzwb kzx2olss aot14ch1 p86d2i9g beltcj47 t63ysoy8 linmgsc8 hop1g133 opwvks06\"><div class=\"beltcj47 p86d2i9g aot14ch1 kzx2olss ni8dbmo4 stjgntxs d5it6em2 l9j0dhe7 k4urcfbm\"><div class=\"j83agx80 lhclo0ds ihdl84by pmk7jnqg h119xb3h iylxurvu bo2ra7bd\"><div class=\"rq0escxv j83agx80 buofh1pr datstx6m ggysqto6 exrn9cbp ojkyduve abpf7j7b l9j0dhe7 k4urcfbm\"><img alt=\"2012 Chevrolet Sonic LTZ Hatchback Sedan 4D in Hitchcock, TX\" class=\"idiwt2bm bixrwtb6 ni8dbmo4 stjgntxs k4urcfbm\" src=\"https://scontent.fhou1-1.fna.fbcdn.net/v/t1.0-0/c43.0.260.260a/p261x260/118347808_646342312932059_6263334645517387034_n.jpg?_nc_cat=104&amp;_nc_sid=843cd7&amp;_nc_ohc=KrnI1srTDHAAX_CAWaU&amp;_nc_ht=scontent.fhou1-1.fna&amp;oh=dd9f30c28950a90fbea67b9110b7d9d5&amp;oe=5F6CC326\"></div></div></div></div></div></div><div class=\"rq0escxv j83agx80 cbu4d94t i1fnvgqd muag1w35 pybr56ya f10w8fjw k4urcfbm c7r68pdi suyy3zvx\"><div class=\"aahdfvyu fsotbgu8\"><span class=\"j83agx80\"><div class=\"a8nywdso e5nlhep0 rz4wbd8a ecm0bbzt btwxx1t3 j83agx80\"><div class=\"hlyrhctz\"><span class=\"oi732d6d ik7dh3pa d2edcug0 qv66sw1b c1et5uql a8c37x1j s89635nw ew0dbk1b a5q79mjw g1cxx5fr lrazzd5p oo9gr5id\" dir=\"auto\">$3,700</span></div><div class=\"f0t0fhil mkhogb32\"><span class=\"oi732d6d ik7dh3pa d2edcug0 qv66sw1b c1et5uql a8c37x1j muag1w35 enqfppq2 jq4qci2q a3bd9o3v ekzkrbhg oo9gr5id\" dir=\"auto\">$3,700</span></div></div></span></div><div class=\"aahdfvyu fsotbgu8\"><span aria-hidden=\"true\"><div class=\"a8nywdso e5nlhep0 rz4wbd8a linoseic\"><span class=\"a8c37x1j ni8dbmo4 stjgntxs l9j0dhe7 oi732d6d ik7dh3pa d2edcug0 qv66sw1b c1et5uql muag1w35 enqfppq2 jq4qci2q a3bd9o3v knj5qynh oo9gr5id\" dir=\"auto\" style=\"-webkit-box-orient: vertical; -webkit-line-clamp: 2; display: -webkit-box;\">2012 Chevrolet Sonic LTZ Hatchback Sedan 4D</span></div></span></div><div class=\"aahdfvyu fsotbgu8\"><span aria-hidden=\"true\"><div class=\"a8nywdso e5nlhep0 rz4wbd8a ecm0bbzt\"><span class=\"a8c37x1j ni8dbmo4 stjgntxs l9j0dhe7 ltmttdrg g0qnabr5 oi732d6d ik7dh3pa d2edcug0 qv66sw1b c1et5uql hop8lmos enqfppq2 e9vueds3 j5wam9gi knj5qynh m9osqain\" dir=\"auto\">Hitchcock, TX</span></div></span></div><div class=\"aahdfvyu fsotbgu8\"><div class=\"a8nywdso e5nlhep0 rz4wbd8a ecm0bbzt\"><span class=\"a8c37x1j ni8dbmo4 stjgntxs l9j0dhe7 ltmttdrg g0qnabr5 oi732d6d ik7dh3pa d2edcug0 qv66sw1b c1et5uql hop8lmos enqfppq2 e9vueds3 j5wam9gi knj5qynh m9osqain\" dir=\"auto\">15K miles</span></div></div></div></div></a></div>"
      ],
      "text/plain": [
       "<IPython.core.display.HTML object>"
      ]
     },
     "metadata": {},
     "output_type": "display_data"
    },
    {
     "name": "stdout",
     "output_type": "stream",
     "text": [
      "-------------------\n",
      "$990\n",
      "2012 Volkswagen Jetta\n",
      "Houston, TX\n",
      "1.8K miles\n",
      "-------------------\n",
      "None\n",
      "-------------------\n"
     ]
    },
    {
     "data": {
      "text/html": [
       "<div class=\"kbiprv82\"><a class=\"oajrlxb2 g5ia77u1 qu0x051f esr5mh6w e9989ue4 r7d6kgcz rq0escxv nhd2j8a9 nc684nl6 p7hjln8o kvgmc6g5 cxmmr5t8 oygrvhab hcukyx3x jb3vyjys rz4wbd8a qt6c0cv9 a8nywdso i1ao9s8h esuyzwwr f1sip0of lzcic4wl gmql0nx0 p8dawk7l\" href=\"/marketplace/item/985285345233274/\" role=\"link\" tabindex=\"0\"><div class=\"j83agx80 cbu4d94t l9j0dhe7\"><div class=\"l9j0dhe7\"><div class=\"k4urcfbm l9j0dhe7\"><div class=\"kr520xx4 j9ispegn l9j0dhe7 stjgntxs ni8dbmo4 n7fi1qx3 i09qtzwb kzx2olss aot14ch1 p86d2i9g beltcj47 t63ysoy8 linmgsc8 hop1g133 opwvks06\"><div class=\"beltcj47 p86d2i9g aot14ch1 kzx2olss ni8dbmo4 stjgntxs d5it6em2 l9j0dhe7 k4urcfbm\"><div class=\"j83agx80 lhclo0ds ihdl84by pmk7jnqg h119xb3h iylxurvu bo2ra7bd\"><div class=\"rq0escxv j83agx80 buofh1pr datstx6m ggysqto6 exrn9cbp ojkyduve abpf7j7b l9j0dhe7 k4urcfbm\"><img alt=\"2012 Volkswagen Jetta in Houston, TX\" class=\"idiwt2bm bixrwtb6 ni8dbmo4 stjgntxs k4urcfbm\" src=\"https://scontent.fhou1-1.fna.fbcdn.net/v/t1.0-0/c43.0.260.260a/p261x260/117241403_799497680587160_4378810329745913919_n.jpg?_nc_cat=110&amp;_nc_sid=843cd7&amp;_nc_ohc=A8Xc8P-3upUAX9IHEDD&amp;_nc_ht=scontent.fhou1-1.fna&amp;oh=1a5205f24484dba083f4219cf0dae903&amp;oe=5F6B0406\"></div></div></div></div></div></div><div class=\"rq0escxv j83agx80 cbu4d94t i1fnvgqd muag1w35 pybr56ya f10w8fjw k4urcfbm c7r68pdi suyy3zvx\"><div class=\"aahdfvyu fsotbgu8\"><span class=\"j83agx80\"><div class=\"a8nywdso e5nlhep0 rz4wbd8a ecm0bbzt btwxx1t3 j83agx80\"><div class=\"hlyrhctz\"><span class=\"oi732d6d ik7dh3pa d2edcug0 qv66sw1b c1et5uql a8c37x1j s89635nw ew0dbk1b a5q79mjw g1cxx5fr lrazzd5p oo9gr5id\" dir=\"auto\">$990</span></div><div class=\"f0t0fhil mkhogb32\"><span class=\"oi732d6d ik7dh3pa d2edcug0 qv66sw1b c1et5uql a8c37x1j muag1w35 enqfppq2 jq4qci2q a3bd9o3v ekzkrbhg oo9gr5id\" dir=\"auto\">$990</span></div></div></span></div><div class=\"aahdfvyu fsotbgu8\"><span aria-hidden=\"true\"><div class=\"a8nywdso e5nlhep0 rz4wbd8a linoseic\"><span class=\"a8c37x1j ni8dbmo4 stjgntxs l9j0dhe7 oi732d6d ik7dh3pa d2edcug0 qv66sw1b c1et5uql muag1w35 enqfppq2 jq4qci2q a3bd9o3v knj5qynh oo9gr5id\" dir=\"auto\" style=\"-webkit-box-orient: vertical; -webkit-line-clamp: 2; display: -webkit-box;\">2012 Volkswagen Jetta</span></div></span></div><div class=\"aahdfvyu fsotbgu8\"><span aria-hidden=\"true\"><div class=\"a8nywdso e5nlhep0 rz4wbd8a ecm0bbzt\"><span class=\"a8c37x1j ni8dbmo4 stjgntxs l9j0dhe7 ltmttdrg g0qnabr5 oi732d6d ik7dh3pa d2edcug0 qv66sw1b c1et5uql hop8lmos enqfppq2 e9vueds3 j5wam9gi knj5qynh m9osqain\" dir=\"auto\">Houston, TX</span></div></span></div><div class=\"aahdfvyu fsotbgu8\"><div class=\"a8nywdso e5nlhep0 rz4wbd8a ecm0bbzt\"><span class=\"a8c37x1j ni8dbmo4 stjgntxs l9j0dhe7 ltmttdrg g0qnabr5 oi732d6d ik7dh3pa d2edcug0 qv66sw1b c1et5uql hop8lmos enqfppq2 e9vueds3 j5wam9gi knj5qynh m9osqain\" dir=\"auto\">1.8K miles</span></div></div></div></div></a></div>"
      ],
      "text/plain": [
       "<IPython.core.display.HTML object>"
      ]
     },
     "metadata": {},
     "output_type": "display_data"
    },
    {
     "name": "stdout",
     "output_type": "stream",
     "text": [
      "-------------------\n",
      "$2,000\n",
      "2015 Dodge CHARGER (red)\n",
      "Houston, TX\n",
      "90K miles\n",
      "-------------------\n",
      "None\n",
      "-------------------\n"
     ]
    },
    {
     "data": {
      "text/html": [
       "<div class=\"kbiprv82\"><a class=\"oajrlxb2 g5ia77u1 qu0x051f esr5mh6w e9989ue4 r7d6kgcz rq0escxv nhd2j8a9 nc684nl6 p7hjln8o kvgmc6g5 cxmmr5t8 oygrvhab hcukyx3x jb3vyjys rz4wbd8a qt6c0cv9 a8nywdso i1ao9s8h esuyzwwr f1sip0of lzcic4wl gmql0nx0 p8dawk7l\" href=\"/marketplace/item/3012263655468933/\" role=\"link\" tabindex=\"0\"><div class=\"j83agx80 cbu4d94t l9j0dhe7\"><div class=\"l9j0dhe7\"><div class=\"k4urcfbm l9j0dhe7\"><div class=\"kr520xx4 j9ispegn l9j0dhe7 stjgntxs ni8dbmo4 n7fi1qx3 i09qtzwb kzx2olss aot14ch1 p86d2i9g beltcj47 t63ysoy8 linmgsc8 hop1g133 opwvks06\"><div class=\"beltcj47 p86d2i9g aot14ch1 kzx2olss ni8dbmo4 stjgntxs d5it6em2 l9j0dhe7 k4urcfbm\"><div class=\"j83agx80 lhclo0ds ihdl84by pmk7jnqg h119xb3h iylxurvu bo2ra7bd\"><div class=\"rq0escxv j83agx80 buofh1pr datstx6m ggysqto6 exrn9cbp ojkyduve abpf7j7b l9j0dhe7 k4urcfbm\"><img alt=\"2015 Dodge CHARGER (red) in Houston, TX\" class=\"idiwt2bm bixrwtb6 ni8dbmo4 stjgntxs k4urcfbm\" src=\"https://scontent.fhou1-2.fna.fbcdn.net/v/t1.0-0/c43.0.260.260a/p261x260/77426607_10215940620450800_6310219655554269184_o.jpg?_nc_cat=102&amp;_nc_sid=843cd7&amp;_nc_ohc=AIq1NVHaCzMAX_ynKiQ&amp;_nc_ht=scontent.fhou1-2.fna&amp;oh=52525951ec800d2804c3eab9ce99a568&amp;oe=5F6D8FE6\"></div></div></div></div></div></div><div class=\"rq0escxv j83agx80 cbu4d94t i1fnvgqd muag1w35 pybr56ya f10w8fjw k4urcfbm c7r68pdi suyy3zvx\"><div class=\"aahdfvyu fsotbgu8\"><span class=\"j83agx80\"><div class=\"a8nywdso e5nlhep0 rz4wbd8a ecm0bbzt btwxx1t3 j83agx80\"><div class=\"hlyrhctz\"><span class=\"oi732d6d ik7dh3pa d2edcug0 qv66sw1b c1et5uql a8c37x1j s89635nw ew0dbk1b a5q79mjw g1cxx5fr lrazzd5p oo9gr5id\" dir=\"auto\">$2,000</span></div><div class=\"f0t0fhil mkhogb32\"><span class=\"oi732d6d ik7dh3pa d2edcug0 qv66sw1b c1et5uql a8c37x1j muag1w35 enqfppq2 jq4qci2q a3bd9o3v ekzkrbhg oo9gr5id\" dir=\"auto\">$2,000</span></div></div></span></div><div class=\"aahdfvyu fsotbgu8\"><span aria-hidden=\"true\"><div class=\"a8nywdso e5nlhep0 rz4wbd8a linoseic\"><span class=\"a8c37x1j ni8dbmo4 stjgntxs l9j0dhe7 oi732d6d ik7dh3pa d2edcug0 qv66sw1b c1et5uql muag1w35 enqfppq2 jq4qci2q a3bd9o3v knj5qynh oo9gr5id\" dir=\"auto\" style=\"-webkit-box-orient: vertical; -webkit-line-clamp: 2; display: -webkit-box;\">2015 Dodge CHARGER (red)</span></div></span></div><div class=\"aahdfvyu fsotbgu8\"><span aria-hidden=\"true\"><div class=\"a8nywdso e5nlhep0 rz4wbd8a ecm0bbzt\"><span class=\"a8c37x1j ni8dbmo4 stjgntxs l9j0dhe7 ltmttdrg g0qnabr5 oi732d6d ik7dh3pa d2edcug0 qv66sw1b c1et5uql hop8lmos enqfppq2 e9vueds3 j5wam9gi knj5qynh m9osqain\" dir=\"auto\">Houston, TX</span></div></span></div><div class=\"aahdfvyu fsotbgu8\"><div class=\"a8nywdso e5nlhep0 rz4wbd8a ecm0bbzt\"><span class=\"a8c37x1j ni8dbmo4 stjgntxs l9j0dhe7 ltmttdrg g0qnabr5 oi732d6d ik7dh3pa d2edcug0 qv66sw1b c1et5uql hop8lmos enqfppq2 e9vueds3 j5wam9gi knj5qynh m9osqain\" dir=\"auto\">90K miles</span></div></div></div></div></a></div>"
      ],
      "text/plain": [
       "<IPython.core.display.HTML object>"
      ]
     },
     "metadata": {},
     "output_type": "display_data"
    },
    {
     "name": "stdout",
     "output_type": "stream",
     "text": [
      "-------------------\n",
      "$1,500\n",
      "2013 Honda Accord\n",
      "Houston, TX\n",
      "-------------------\n",
      "None\n",
      "-------------------\n"
     ]
    },
    {
     "data": {
      "text/html": [
       "<div class=\"kbiprv82\"><a class=\"oajrlxb2 g5ia77u1 qu0x051f esr5mh6w e9989ue4 r7d6kgcz rq0escxv nhd2j8a9 nc684nl6 p7hjln8o kvgmc6g5 cxmmr5t8 oygrvhab hcukyx3x jb3vyjys rz4wbd8a qt6c0cv9 a8nywdso i1ao9s8h esuyzwwr f1sip0of lzcic4wl gmql0nx0 p8dawk7l\" href=\"/marketplace/item/306975070522911/\" role=\"link\" tabindex=\"0\"><div class=\"j83agx80 cbu4d94t l9j0dhe7\"><div class=\"l9j0dhe7\"><div class=\"k4urcfbm l9j0dhe7\"><div class=\"kr520xx4 j9ispegn l9j0dhe7 stjgntxs ni8dbmo4 n7fi1qx3 i09qtzwb kzx2olss aot14ch1 p86d2i9g beltcj47 t63ysoy8 linmgsc8 hop1g133 opwvks06\"><div class=\"beltcj47 p86d2i9g aot14ch1 kzx2olss ni8dbmo4 stjgntxs d5it6em2 l9j0dhe7 k4urcfbm\"><div class=\"j83agx80 lhclo0ds ihdl84by pmk7jnqg h119xb3h iylxurvu bo2ra7bd\"><div class=\"rq0escxv j83agx80 buofh1pr datstx6m ggysqto6 exrn9cbp ojkyduve abpf7j7b l9j0dhe7 k4urcfbm\"><img alt=\"2013 Honda Accord in Houston, TX\" class=\"idiwt2bm bixrwtb6 ni8dbmo4 stjgntxs k4urcfbm\" src=\"https://scontent.fhou1-2.fna.fbcdn.net/v/t1.0-0/c43.0.260.260a/p261x260/117888452_864453147415871_657282848057469697_o.jpg?_nc_cat=108&amp;_nc_sid=843cd7&amp;_nc_ohc=k6hcyIHNebYAX-eAlHp&amp;_nc_ht=scontent.fhou1-2.fna&amp;oh=e10a3d12897f31c63a34ce62dfe21195&amp;oe=5F6E80C7\"></div></div></div></div></div></div><div class=\"rq0escxv j83agx80 cbu4d94t i1fnvgqd muag1w35 pybr56ya f10w8fjw k4urcfbm c7r68pdi suyy3zvx\"><div class=\"aahdfvyu fsotbgu8\"><span class=\"j83agx80\"><div class=\"a8nywdso e5nlhep0 rz4wbd8a ecm0bbzt btwxx1t3 j83agx80\"><div class=\"hlyrhctz\"><span class=\"oi732d6d ik7dh3pa d2edcug0 qv66sw1b c1et5uql a8c37x1j s89635nw ew0dbk1b a5q79mjw g1cxx5fr lrazzd5p oo9gr5id\" dir=\"auto\">$1,500</span></div><div class=\"f0t0fhil mkhogb32\"><span class=\"oi732d6d ik7dh3pa d2edcug0 qv66sw1b c1et5uql a8c37x1j muag1w35 enqfppq2 jq4qci2q a3bd9o3v ekzkrbhg oo9gr5id\" dir=\"auto\">$1,500</span></div></div></span></div><div class=\"aahdfvyu fsotbgu8\"><span aria-hidden=\"true\"><div class=\"a8nywdso e5nlhep0 rz4wbd8a linoseic\"><span class=\"a8c37x1j ni8dbmo4 stjgntxs l9j0dhe7 oi732d6d ik7dh3pa d2edcug0 qv66sw1b c1et5uql muag1w35 enqfppq2 jq4qci2q a3bd9o3v knj5qynh oo9gr5id\" dir=\"auto\" style=\"-webkit-box-orient: vertical; -webkit-line-clamp: 2; display: -webkit-box;\">2013 Honda Accord</span></div></span></div><div class=\"aahdfvyu fsotbgu8\"><span aria-hidden=\"true\"><div class=\"a8nywdso e5nlhep0 rz4wbd8a ecm0bbzt\"><span class=\"a8c37x1j ni8dbmo4 stjgntxs l9j0dhe7 ltmttdrg g0qnabr5 oi732d6d ik7dh3pa d2edcug0 qv66sw1b c1et5uql hop8lmos enqfppq2 e9vueds3 j5wam9gi knj5qynh m9osqain\" dir=\"auto\">Houston, TX</span></div></span></div><div class=\"aahdfvyu fsotbgu8\"><div class=\"a8nywdso e5nlhep0 rz4wbd8a ecm0bbzt\"><span class=\"a8c37x1j ni8dbmo4 stjgntxs l9j0dhe7 ltmttdrg g0qnabr5 oi732d6d ik7dh3pa d2edcug0 qv66sw1b c1et5uql hop8lmos enqfppq2 e9vueds3 j5wam9gi knj5qynh m9osqain\" dir=\"auto\"></span></div></div></div></div></a></div>"
      ],
      "text/plain": [
       "<IPython.core.display.HTML object>"
      ]
     },
     "metadata": {},
     "output_type": "display_data"
    },
    {
     "name": "stdout",
     "output_type": "stream",
     "text": [
      "-------------------\n",
      "$2,500\n",
      "2012 Jeep Wrangler Unlimited sport 4WD / $2000 DOWN / BLACK\n",
      "Houston, TX\n",
      "550 miles\n",
      "-------------------\n",
      "None\n",
      "-------------------\n"
     ]
    },
    {
     "data": {
      "text/html": [
       "<div class=\"kbiprv82\"><a class=\"oajrlxb2 g5ia77u1 qu0x051f esr5mh6w e9989ue4 r7d6kgcz rq0escxv nhd2j8a9 nc684nl6 p7hjln8o kvgmc6g5 cxmmr5t8 oygrvhab hcukyx3x jb3vyjys rz4wbd8a qt6c0cv9 a8nywdso i1ao9s8h esuyzwwr f1sip0of lzcic4wl gmql0nx0 p8dawk7l\" href=\"/marketplace/item/2521266061442958/\" role=\"link\" tabindex=\"0\"><div class=\"j83agx80 cbu4d94t l9j0dhe7\"><div class=\"l9j0dhe7\"><div class=\"k4urcfbm l9j0dhe7\"><div class=\"kr520xx4 j9ispegn l9j0dhe7 stjgntxs ni8dbmo4 n7fi1qx3 i09qtzwb kzx2olss aot14ch1 p86d2i9g beltcj47 t63ysoy8 linmgsc8 hop1g133 opwvks06\"><div class=\"beltcj47 p86d2i9g aot14ch1 kzx2olss ni8dbmo4 stjgntxs d5it6em2 l9j0dhe7 k4urcfbm\"><div class=\"j83agx80 lhclo0ds ihdl84by pmk7jnqg h119xb3h iylxurvu bo2ra7bd\"><div class=\"rq0escxv j83agx80 buofh1pr datstx6m ggysqto6 exrn9cbp ojkyduve abpf7j7b l9j0dhe7 k4urcfbm\"><img alt=\"2012 Jeep Wrangler Unlimited sport 4WD / $2000 DOWN / BLACK in Houston, TX\" class=\"idiwt2bm bixrwtb6 ni8dbmo4 stjgntxs k4urcfbm\" src=\"https://scontent.fhou1-1.fna.fbcdn.net/v/t1.0-0/s261x260/82008744_2492349081024170_6308553564725706752_n.jpg?_nc_cat=106&amp;_nc_sid=843cd7&amp;_nc_ohc=IpQx3tQdIpwAX_n9E7J&amp;_nc_ht=scontent.fhou1-1.fna&amp;tp=7&amp;oh=d305c609c0987fbdb54fccfa5bcabdc0&amp;oe=5F6D566D\"></div></div></div></div></div></div><div class=\"rq0escxv j83agx80 cbu4d94t i1fnvgqd muag1w35 pybr56ya f10w8fjw k4urcfbm c7r68pdi suyy3zvx\"><div class=\"aahdfvyu fsotbgu8\"><span class=\"j83agx80\"><div class=\"a8nywdso e5nlhep0 rz4wbd8a ecm0bbzt btwxx1t3 j83agx80\"><div class=\"hlyrhctz\"><span class=\"oi732d6d ik7dh3pa d2edcug0 qv66sw1b c1et5uql a8c37x1j s89635nw ew0dbk1b a5q79mjw g1cxx5fr lrazzd5p oo9gr5id\" dir=\"auto\">$2,500</span></div><div class=\"f0t0fhil mkhogb32\"><span class=\"oi732d6d ik7dh3pa d2edcug0 qv66sw1b c1et5uql a8c37x1j muag1w35 enqfppq2 jq4qci2q a3bd9o3v ekzkrbhg oo9gr5id\" dir=\"auto\">$2,500</span></div></div></span></div><div class=\"aahdfvyu fsotbgu8\"><span aria-hidden=\"true\"><div class=\"a8nywdso e5nlhep0 rz4wbd8a linoseic\"><span class=\"a8c37x1j ni8dbmo4 stjgntxs l9j0dhe7 oi732d6d ik7dh3pa d2edcug0 qv66sw1b c1et5uql muag1w35 enqfppq2 jq4qci2q a3bd9o3v knj5qynh oo9gr5id\" dir=\"auto\" style=\"-webkit-box-orient: vertical; -webkit-line-clamp: 2; display: -webkit-box;\">2012 Jeep Wrangler Unlimited sport 4WD / $2000 DOWN / BLACK</span></div></span></div><div class=\"aahdfvyu fsotbgu8\"><span aria-hidden=\"true\"><div class=\"a8nywdso e5nlhep0 rz4wbd8a ecm0bbzt\"><span class=\"a8c37x1j ni8dbmo4 stjgntxs l9j0dhe7 ltmttdrg g0qnabr5 oi732d6d ik7dh3pa d2edcug0 qv66sw1b c1et5uql hop8lmos enqfppq2 e9vueds3 j5wam9gi knj5qynh m9osqain\" dir=\"auto\">Houston, TX</span></div></span></div><div class=\"aahdfvyu fsotbgu8\"><div class=\"a8nywdso e5nlhep0 rz4wbd8a ecm0bbzt\"><span class=\"a8c37x1j ni8dbmo4 stjgntxs l9j0dhe7 ltmttdrg g0qnabr5 oi732d6d ik7dh3pa d2edcug0 qv66sw1b c1et5uql hop8lmos enqfppq2 e9vueds3 j5wam9gi knj5qynh m9osqain\" dir=\"auto\">550 miles</span></div></div></div></div></a></div>"
      ],
      "text/plain": [
       "<IPython.core.display.HTML object>"
      ]
     },
     "metadata": {},
     "output_type": "display_data"
    },
    {
     "name": "stdout",
     "output_type": "stream",
     "text": [
      "-------------------\n",
      "$2,000\n",
      "2013 Scion FR-S\n",
      "Houston, TX\n",
      "77K miles\n",
      "-------------------\n",
      "None\n",
      "-------------------\n"
     ]
    },
    {
     "data": {
      "text/html": [
       "<div class=\"kbiprv82\"><a class=\"oajrlxb2 g5ia77u1 qu0x051f esr5mh6w e9989ue4 r7d6kgcz rq0escxv nhd2j8a9 nc684nl6 p7hjln8o kvgmc6g5 cxmmr5t8 oygrvhab hcukyx3x jb3vyjys rz4wbd8a qt6c0cv9 a8nywdso i1ao9s8h esuyzwwr f1sip0of lzcic4wl gmql0nx0 p8dawk7l\" href=\"/marketplace/item/170876080215175/\" role=\"link\" tabindex=\"0\"><div class=\"j83agx80 cbu4d94t l9j0dhe7\"><div class=\"l9j0dhe7\"><div class=\"k4urcfbm l9j0dhe7\"><div class=\"kr520xx4 j9ispegn l9j0dhe7 stjgntxs ni8dbmo4 n7fi1qx3 i09qtzwb kzx2olss aot14ch1 p86d2i9g beltcj47 t63ysoy8 linmgsc8 hop1g133 opwvks06\"><div class=\"beltcj47 p86d2i9g aot14ch1 kzx2olss ni8dbmo4 stjgntxs d5it6em2 l9j0dhe7 k4urcfbm\"><div class=\"j83agx80 lhclo0ds ihdl84by pmk7jnqg h119xb3h iylxurvu bo2ra7bd\"><div class=\"rq0escxv j83agx80 buofh1pr datstx6m ggysqto6 exrn9cbp ojkyduve abpf7j7b l9j0dhe7 k4urcfbm\"><img alt=\"2013 Scion FR-S in Houston, TX\" class=\"idiwt2bm bixrwtb6 ni8dbmo4 stjgntxs k4urcfbm\" src=\"https://scontent.fhou1-1.fna.fbcdn.net/v/t1.0-0/c90.0.260.260a/p261x260/31384987_452879758479075_7154098454824747008_n.jpg?_nc_cat=101&amp;_nc_sid=843cd7&amp;_nc_ohc=luibGnyXp24AX_Zk1an&amp;_nc_ht=scontent.fhou1-1.fna&amp;oh=0f6055228380120000efcd6c00cfe696&amp;oe=5F6C1BCB\"></div></div></div></div></div></div><div class=\"rq0escxv j83agx80 cbu4d94t i1fnvgqd muag1w35 pybr56ya f10w8fjw k4urcfbm c7r68pdi suyy3zvx\"><div class=\"aahdfvyu fsotbgu8\"><span class=\"j83agx80\"><div class=\"a8nywdso e5nlhep0 rz4wbd8a ecm0bbzt btwxx1t3 j83agx80\"><div class=\"hlyrhctz\"><span class=\"oi732d6d ik7dh3pa d2edcug0 qv66sw1b c1et5uql a8c37x1j s89635nw ew0dbk1b a5q79mjw g1cxx5fr lrazzd5p oo9gr5id\" dir=\"auto\">$2,000</span></div><div class=\"f0t0fhil mkhogb32\"><span class=\"oi732d6d ik7dh3pa d2edcug0 qv66sw1b c1et5uql a8c37x1j muag1w35 enqfppq2 jq4qci2q a3bd9o3v ekzkrbhg oo9gr5id\" dir=\"auto\">$2,000</span></div></div></span></div><div class=\"aahdfvyu fsotbgu8\"><span aria-hidden=\"true\"><div class=\"a8nywdso e5nlhep0 rz4wbd8a linoseic\"><span class=\"a8c37x1j ni8dbmo4 stjgntxs l9j0dhe7 oi732d6d ik7dh3pa d2edcug0 qv66sw1b c1et5uql muag1w35 enqfppq2 jq4qci2q a3bd9o3v knj5qynh oo9gr5id\" dir=\"auto\" style=\"-webkit-box-orient: vertical; -webkit-line-clamp: 2; display: -webkit-box;\">2013 Scion FR-S</span></div></span></div><div class=\"aahdfvyu fsotbgu8\"><span aria-hidden=\"true\"><div class=\"a8nywdso e5nlhep0 rz4wbd8a ecm0bbzt\"><span class=\"a8c37x1j ni8dbmo4 stjgntxs l9j0dhe7 ltmttdrg g0qnabr5 oi732d6d ik7dh3pa d2edcug0 qv66sw1b c1et5uql hop8lmos enqfppq2 e9vueds3 j5wam9gi knj5qynh m9osqain\" dir=\"auto\">Houston, TX</span></div></span></div><div class=\"aahdfvyu fsotbgu8\"><div class=\"a8nywdso e5nlhep0 rz4wbd8a ecm0bbzt\"><span class=\"a8c37x1j ni8dbmo4 stjgntxs l9j0dhe7 ltmttdrg g0qnabr5 oi732d6d ik7dh3pa d2edcug0 qv66sw1b c1et5uql hop8lmos enqfppq2 e9vueds3 j5wam9gi knj5qynh m9osqain\" dir=\"auto\">77K miles</span></div></div></div></div></a></div>"
      ],
      "text/plain": [
       "<IPython.core.display.HTML object>"
      ]
     },
     "metadata": {},
     "output_type": "display_data"
    },
    {
     "name": "stdout",
     "output_type": "stream",
     "text": [
      "-------------------\n",
      "$1\n",
      "2016 Dodge Challenger SRT 392\n",
      "Houston, TX\n",
      "9K miles\n",
      "-------------------\n",
      "None\n",
      "-------------------\n"
     ]
    },
    {
     "data": {
      "text/html": [
       "<div class=\"kbiprv82\"><a class=\"oajrlxb2 g5ia77u1 qu0x051f esr5mh6w e9989ue4 r7d6kgcz rq0escxv nhd2j8a9 nc684nl6 p7hjln8o kvgmc6g5 cxmmr5t8 oygrvhab hcukyx3x jb3vyjys rz4wbd8a qt6c0cv9 a8nywdso i1ao9s8h esuyzwwr f1sip0of lzcic4wl gmql0nx0 p8dawk7l\" href=\"/marketplace/item/349198745942042/\" role=\"link\" tabindex=\"0\"><div class=\"j83agx80 cbu4d94t l9j0dhe7\"><div class=\"l9j0dhe7\"><div class=\"k4urcfbm l9j0dhe7\"><div class=\"kr520xx4 j9ispegn l9j0dhe7 stjgntxs ni8dbmo4 n7fi1qx3 i09qtzwb kzx2olss aot14ch1 p86d2i9g beltcj47 t63ysoy8 linmgsc8 hop1g133 opwvks06\"><div class=\"beltcj47 p86d2i9g aot14ch1 kzx2olss ni8dbmo4 stjgntxs d5it6em2 l9j0dhe7 k4urcfbm\"><div class=\"j83agx80 lhclo0ds ihdl84by pmk7jnqg h119xb3h iylxurvu bo2ra7bd\"><div class=\"rq0escxv j83agx80 buofh1pr datstx6m ggysqto6 exrn9cbp ojkyduve abpf7j7b l9j0dhe7 k4urcfbm\"><img alt=\"2016 Dodge Challenger SRT 392 in Houston, TX\" class=\"idiwt2bm bixrwtb6 ni8dbmo4 stjgntxs k4urcfbm\" src=\"https://scontent.fhou1-1.fna.fbcdn.net/v/t1.0-0/c43.0.260.260a/p261x260/57504533_2256740004387896_6327625568867057664_o.jpg?_nc_cat=101&amp;_nc_sid=843cd7&amp;_nc_ohc=MDVEi8csKSoAX-AT0hU&amp;_nc_ht=scontent.fhou1-1.fna&amp;oh=51b031ab125919868f0bc4754f0b8ab2&amp;oe=5F6B3D1A\"></div></div></div></div></div></div><div class=\"rq0escxv j83agx80 cbu4d94t i1fnvgqd muag1w35 pybr56ya f10w8fjw k4urcfbm c7r68pdi suyy3zvx\"><div class=\"aahdfvyu fsotbgu8\"><span class=\"j83agx80\"><div class=\"a8nywdso e5nlhep0 rz4wbd8a ecm0bbzt btwxx1t3 j83agx80\"><div class=\"hlyrhctz\"><span class=\"oi732d6d ik7dh3pa d2edcug0 qv66sw1b c1et5uql a8c37x1j s89635nw ew0dbk1b a5q79mjw g1cxx5fr lrazzd5p oo9gr5id\" dir=\"auto\">$1</span></div><div class=\"f0t0fhil mkhogb32\"><span class=\"oi732d6d ik7dh3pa d2edcug0 qv66sw1b c1et5uql a8c37x1j muag1w35 enqfppq2 jq4qci2q a3bd9o3v ekzkrbhg oo9gr5id\" dir=\"auto\">$1</span></div></div></span></div><div class=\"aahdfvyu fsotbgu8\"><span aria-hidden=\"true\"><div class=\"a8nywdso e5nlhep0 rz4wbd8a linoseic\"><span class=\"a8c37x1j ni8dbmo4 stjgntxs l9j0dhe7 oi732d6d ik7dh3pa d2edcug0 qv66sw1b c1et5uql muag1w35 enqfppq2 jq4qci2q a3bd9o3v knj5qynh oo9gr5id\" dir=\"auto\" style=\"-webkit-box-orient: vertical; -webkit-line-clamp: 2; display: -webkit-box;\">2016 Dodge Challenger SRT 392</span></div></span></div><div class=\"aahdfvyu fsotbgu8\"><span aria-hidden=\"true\"><div class=\"a8nywdso e5nlhep0 rz4wbd8a ecm0bbzt\"><span class=\"a8c37x1j ni8dbmo4 stjgntxs l9j0dhe7 ltmttdrg g0qnabr5 oi732d6d ik7dh3pa d2edcug0 qv66sw1b c1et5uql hop8lmos enqfppq2 e9vueds3 j5wam9gi knj5qynh m9osqain\" dir=\"auto\">Houston, TX</span></div></span></div><div class=\"aahdfvyu fsotbgu8\"><div class=\"a8nywdso e5nlhep0 rz4wbd8a ecm0bbzt\"><span class=\"a8c37x1j ni8dbmo4 stjgntxs l9j0dhe7 ltmttdrg g0qnabr5 oi732d6d ik7dh3pa d2edcug0 qv66sw1b c1et5uql hop8lmos enqfppq2 e9vueds3 j5wam9gi knj5qynh m9osqain\" dir=\"auto\">9K miles</span></div></div></div></div></a></div>"
      ],
      "text/plain": [
       "<IPython.core.display.HTML object>"
      ]
     },
     "metadata": {},
     "output_type": "display_data"
    },
    {
     "name": "stdout",
     "output_type": "stream",
     "text": [
      "-------------------\n",
      "$3,499\n",
      "2012 Kia Soul ! Wagon 4D\n",
      "Houston, TX\n",
      "165K miles\n",
      "-------------------\n",
      "None\n",
      "-------------------\n"
     ]
    },
    {
     "data": {
      "text/html": [
       "<div class=\"kbiprv82\"><a class=\"oajrlxb2 g5ia77u1 qu0x051f esr5mh6w e9989ue4 r7d6kgcz rq0escxv nhd2j8a9 nc684nl6 p7hjln8o kvgmc6g5 cxmmr5t8 oygrvhab hcukyx3x jb3vyjys rz4wbd8a qt6c0cv9 a8nywdso i1ao9s8h esuyzwwr f1sip0of lzcic4wl gmql0nx0 p8dawk7l\" href=\"/marketplace/item/671825166554411/\" role=\"link\" tabindex=\"0\"><div class=\"j83agx80 cbu4d94t l9j0dhe7\"><div class=\"l9j0dhe7\"><div class=\"k4urcfbm l9j0dhe7\"><div class=\"kr520xx4 j9ispegn l9j0dhe7 stjgntxs ni8dbmo4 n7fi1qx3 i09qtzwb kzx2olss aot14ch1 p86d2i9g beltcj47 t63ysoy8 linmgsc8 hop1g133 opwvks06\"><div class=\"beltcj47 p86d2i9g aot14ch1 kzx2olss ni8dbmo4 stjgntxs d5it6em2 l9j0dhe7 k4urcfbm\"><div class=\"j83agx80 lhclo0ds ihdl84by pmk7jnqg h119xb3h iylxurvu bo2ra7bd\"><div class=\"rq0escxv j83agx80 buofh1pr datstx6m ggysqto6 exrn9cbp ojkyduve abpf7j7b l9j0dhe7 k4urcfbm\"><img alt=\"2012 Kia Soul ! Wagon 4D in Houston, TX\" class=\"idiwt2bm bixrwtb6 ni8dbmo4 stjgntxs k4urcfbm\" src=\"https://scontent.fhou1-1.fna.fbcdn.net/v/t1.0-0/c43.0.260.260a/p261x260/73097882_531413530949773_7734975601739563008_n.jpg?_nc_cat=100&amp;_nc_sid=843cd7&amp;_nc_ohc=85azQMkyOhEAX_jy7pJ&amp;_nc_ht=scontent.fhou1-1.fna&amp;oh=89db168ee9d2ccc5ea8b74cc74a2634f&amp;oe=5F6BEE79\"></div></div></div></div></div></div><div class=\"rq0escxv j83agx80 cbu4d94t i1fnvgqd muag1w35 pybr56ya f10w8fjw k4urcfbm c7r68pdi suyy3zvx\"><div class=\"aahdfvyu fsotbgu8\"><span class=\"j83agx80\"><div class=\"a8nywdso e5nlhep0 rz4wbd8a ecm0bbzt btwxx1t3 j83agx80\"><div class=\"hlyrhctz\"><span class=\"oi732d6d ik7dh3pa d2edcug0 qv66sw1b c1et5uql a8c37x1j s89635nw ew0dbk1b a5q79mjw g1cxx5fr lrazzd5p oo9gr5id\" dir=\"auto\">$3,499</span></div><div class=\"f0t0fhil mkhogb32\"><span class=\"oi732d6d ik7dh3pa d2edcug0 qv66sw1b c1et5uql a8c37x1j muag1w35 enqfppq2 jq4qci2q a3bd9o3v ekzkrbhg oo9gr5id\" dir=\"auto\">$3,499</span></div></div></span></div><div class=\"aahdfvyu fsotbgu8\"><span aria-hidden=\"true\"><div class=\"a8nywdso e5nlhep0 rz4wbd8a linoseic\"><span class=\"a8c37x1j ni8dbmo4 stjgntxs l9j0dhe7 oi732d6d ik7dh3pa d2edcug0 qv66sw1b c1et5uql muag1w35 enqfppq2 jq4qci2q a3bd9o3v knj5qynh oo9gr5id\" dir=\"auto\" style=\"-webkit-box-orient: vertical; -webkit-line-clamp: 2; display: -webkit-box;\">2012 Kia Soul ! Wagon 4D</span></div></span></div><div class=\"aahdfvyu fsotbgu8\"><span aria-hidden=\"true\"><div class=\"a8nywdso e5nlhep0 rz4wbd8a ecm0bbzt\"><span class=\"a8c37x1j ni8dbmo4 stjgntxs l9j0dhe7 ltmttdrg g0qnabr5 oi732d6d ik7dh3pa d2edcug0 qv66sw1b c1et5uql hop8lmos enqfppq2 e9vueds3 j5wam9gi knj5qynh m9osqain\" dir=\"auto\">Houston, TX</span></div></span></div><div class=\"aahdfvyu fsotbgu8\"><div class=\"a8nywdso e5nlhep0 rz4wbd8a ecm0bbzt\"><span class=\"a8c37x1j ni8dbmo4 stjgntxs l9j0dhe7 ltmttdrg g0qnabr5 oi732d6d ik7dh3pa d2edcug0 qv66sw1b c1et5uql hop8lmos enqfppq2 e9vueds3 j5wam9gi knj5qynh m9osqain\" dir=\"auto\">165K miles</span></div></div></div></div></a></div>"
      ],
      "text/plain": [
       "<IPython.core.display.HTML object>"
      ]
     },
     "metadata": {},
     "output_type": "display_data"
    },
    {
     "name": "stdout",
     "output_type": "stream",
     "text": [
      "-------------------\n",
      "$2,500\n",
      "2017 Chevrolet Camaro 1SS\n",
      "Houston, TX\n",
      "20K miles\n",
      "-------------------\n",
      "None\n",
      "-------------------\n"
     ]
    },
    {
     "data": {
      "text/html": [
       "<div class=\"kbiprv82\"><a class=\"oajrlxb2 g5ia77u1 qu0x051f esr5mh6w e9989ue4 r7d6kgcz rq0escxv nhd2j8a9 nc684nl6 p7hjln8o kvgmc6g5 cxmmr5t8 oygrvhab hcukyx3x jb3vyjys rz4wbd8a qt6c0cv9 a8nywdso i1ao9s8h esuyzwwr f1sip0of lzcic4wl gmql0nx0 p8dawk7l\" href=\"/marketplace/item/332422964264247/\" role=\"link\" tabindex=\"0\"><div class=\"j83agx80 cbu4d94t l9j0dhe7\"><div class=\"l9j0dhe7\"><div class=\"k4urcfbm l9j0dhe7\"><div class=\"kr520xx4 j9ispegn l9j0dhe7 stjgntxs ni8dbmo4 n7fi1qx3 i09qtzwb kzx2olss aot14ch1 p86d2i9g beltcj47 t63ysoy8 linmgsc8 hop1g133 opwvks06\"><div class=\"beltcj47 p86d2i9g aot14ch1 kzx2olss ni8dbmo4 stjgntxs d5it6em2 l9j0dhe7 k4urcfbm\"><div class=\"j83agx80 lhclo0ds ihdl84by pmk7jnqg h119xb3h iylxurvu bo2ra7bd\"><div class=\"rq0escxv j83agx80 buofh1pr datstx6m ggysqto6 exrn9cbp ojkyduve abpf7j7b l9j0dhe7 k4urcfbm\"><img alt=\"2017 Chevrolet Camaro 1SS in Houston, TX\" class=\"idiwt2bm bixrwtb6 ni8dbmo4 stjgntxs k4urcfbm\" src=\"https://scontent.fhou1-2.fna.fbcdn.net/v/t1.0-0/c43.0.260.260a/p261x260/49517966_178850916407992_5339106332790226944_o.jpg?_nc_cat=107&amp;_nc_sid=843cd7&amp;_nc_ohc=g03wiYdfZ7MAX9txR7W&amp;_nc_ht=scontent.fhou1-2.fna&amp;oh=2afbfc9b631d6a4dd35315a2b7846301&amp;oe=5F6AD113\"></div></div></div></div></div></div><div class=\"rq0escxv j83agx80 cbu4d94t i1fnvgqd muag1w35 pybr56ya f10w8fjw k4urcfbm c7r68pdi suyy3zvx\"><div class=\"aahdfvyu fsotbgu8\"><span class=\"j83agx80\"><div class=\"a8nywdso e5nlhep0 rz4wbd8a ecm0bbzt btwxx1t3 j83agx80\"><div class=\"hlyrhctz\"><span class=\"oi732d6d ik7dh3pa d2edcug0 qv66sw1b c1et5uql a8c37x1j s89635nw ew0dbk1b a5q79mjw g1cxx5fr lrazzd5p oo9gr5id\" dir=\"auto\">$2,500</span></div><div class=\"f0t0fhil mkhogb32\"><span class=\"oi732d6d ik7dh3pa d2edcug0 qv66sw1b c1et5uql a8c37x1j muag1w35 enqfppq2 jq4qci2q a3bd9o3v ekzkrbhg oo9gr5id\" dir=\"auto\">$2,500</span></div></div></span></div><div class=\"aahdfvyu fsotbgu8\"><span aria-hidden=\"true\"><div class=\"a8nywdso e5nlhep0 rz4wbd8a linoseic\"><span class=\"a8c37x1j ni8dbmo4 stjgntxs l9j0dhe7 oi732d6d ik7dh3pa d2edcug0 qv66sw1b c1et5uql muag1w35 enqfppq2 jq4qci2q a3bd9o3v knj5qynh oo9gr5id\" dir=\"auto\" style=\"-webkit-box-orient: vertical; -webkit-line-clamp: 2; display: -webkit-box;\">2017 Chevrolet Camaro 1SS</span></div></span></div><div class=\"aahdfvyu fsotbgu8\"><span aria-hidden=\"true\"><div class=\"a8nywdso e5nlhep0 rz4wbd8a ecm0bbzt\"><span class=\"a8c37x1j ni8dbmo4 stjgntxs l9j0dhe7 ltmttdrg g0qnabr5 oi732d6d ik7dh3pa d2edcug0 qv66sw1b c1et5uql hop8lmos enqfppq2 e9vueds3 j5wam9gi knj5qynh m9osqain\" dir=\"auto\">Houston, TX</span></div></span></div><div class=\"aahdfvyu fsotbgu8\"><div class=\"a8nywdso e5nlhep0 rz4wbd8a ecm0bbzt\"><span class=\"a8c37x1j ni8dbmo4 stjgntxs l9j0dhe7 ltmttdrg g0qnabr5 oi732d6d ik7dh3pa d2edcug0 qv66sw1b c1et5uql hop8lmos enqfppq2 e9vueds3 j5wam9gi knj5qynh m9osqain\" dir=\"auto\">20K miles</span></div></div></div></div></a></div>"
      ],
      "text/plain": [
       "<IPython.core.display.HTML object>"
      ]
     },
     "metadata": {},
     "output_type": "display_data"
    },
    {
     "name": "stdout",
     "output_type": "stream",
     "text": [
      "-------------------\n",
      "$3,000\n",
      "2016 Ford f-150. down payment $ 3000\n",
      "Houston, TX\n",
      "45K miles\n",
      "-------------------\n",
      "None\n",
      "-------------------\n"
     ]
    },
    {
     "data": {
      "text/html": [
       "<div class=\"kbiprv82\"><a class=\"oajrlxb2 g5ia77u1 qu0x051f esr5mh6w e9989ue4 r7d6kgcz rq0escxv nhd2j8a9 nc684nl6 p7hjln8o kvgmc6g5 cxmmr5t8 oygrvhab hcukyx3x jb3vyjys rz4wbd8a qt6c0cv9 a8nywdso i1ao9s8h esuyzwwr f1sip0of lzcic4wl gmql0nx0 p8dawk7l\" href=\"/marketplace/item/588246178515459/\" role=\"link\" tabindex=\"0\"><div class=\"j83agx80 cbu4d94t l9j0dhe7\"><div class=\"l9j0dhe7\"><div class=\"k4urcfbm l9j0dhe7\"><div class=\"kr520xx4 j9ispegn l9j0dhe7 stjgntxs ni8dbmo4 n7fi1qx3 i09qtzwb kzx2olss aot14ch1 p86d2i9g beltcj47 t63ysoy8 linmgsc8 hop1g133 opwvks06\"><div class=\"beltcj47 p86d2i9g aot14ch1 kzx2olss ni8dbmo4 stjgntxs d5it6em2 l9j0dhe7 k4urcfbm\"><div class=\"j83agx80 lhclo0ds ihdl84by pmk7jnqg h119xb3h iylxurvu bo2ra7bd\"><div class=\"rq0escxv j83agx80 buofh1pr datstx6m ggysqto6 exrn9cbp ojkyduve abpf7j7b l9j0dhe7 k4urcfbm\"><img alt=\"2016 Ford f-150. down payment $ 3000 in Houston, TX\" class=\"idiwt2bm bixrwtb6 ni8dbmo4 stjgntxs k4urcfbm\" src=\"https://scontent.fhou1-1.fna.fbcdn.net/v/t1.0-0/c0.79.720.720a/s261x260/116154342_3190489577701187_3007210237201637223_n.jpg?_nc_cat=110&amp;_nc_sid=843cd7&amp;_nc_ohc=yNnKNe7r2ooAX9qyr43&amp;_nc_ht=scontent.fhou1-1.fna&amp;oh=b452afe79e3201cdf88060317b7cddbc&amp;oe=5F6E5217\"></div></div></div></div></div></div><div class=\"rq0escxv j83agx80 cbu4d94t i1fnvgqd muag1w35 pybr56ya f10w8fjw k4urcfbm c7r68pdi suyy3zvx\"><div class=\"aahdfvyu fsotbgu8\"><span class=\"j83agx80\"><div class=\"a8nywdso e5nlhep0 rz4wbd8a ecm0bbzt btwxx1t3 j83agx80\"><div class=\"hlyrhctz\"><span class=\"oi732d6d ik7dh3pa d2edcug0 qv66sw1b c1et5uql a8c37x1j s89635nw ew0dbk1b a5q79mjw g1cxx5fr lrazzd5p oo9gr5id\" dir=\"auto\">$3,000</span></div><div class=\"f0t0fhil mkhogb32\"><span class=\"oi732d6d ik7dh3pa d2edcug0 qv66sw1b c1et5uql a8c37x1j muag1w35 enqfppq2 jq4qci2q a3bd9o3v ekzkrbhg oo9gr5id\" dir=\"auto\">$3,000</span></div></div></span></div><div class=\"aahdfvyu fsotbgu8\"><span aria-hidden=\"true\"><div class=\"a8nywdso e5nlhep0 rz4wbd8a linoseic\"><span class=\"a8c37x1j ni8dbmo4 stjgntxs l9j0dhe7 oi732d6d ik7dh3pa d2edcug0 qv66sw1b c1et5uql muag1w35 enqfppq2 jq4qci2q a3bd9o3v knj5qynh oo9gr5id\" dir=\"auto\" style=\"-webkit-box-orient: vertical; -webkit-line-clamp: 2; display: -webkit-box;\">2016 Ford f-150. down payment $ 3000</span></div></span></div><div class=\"aahdfvyu fsotbgu8\"><span aria-hidden=\"true\"><div class=\"a8nywdso e5nlhep0 rz4wbd8a ecm0bbzt\"><span class=\"a8c37x1j ni8dbmo4 stjgntxs l9j0dhe7 ltmttdrg g0qnabr5 oi732d6d ik7dh3pa d2edcug0 qv66sw1b c1et5uql hop8lmos enqfppq2 e9vueds3 j5wam9gi knj5qynh m9osqain\" dir=\"auto\">Houston, TX</span></div></span></div><div class=\"aahdfvyu fsotbgu8\"><div class=\"a8nywdso e5nlhep0 rz4wbd8a ecm0bbzt\"><span class=\"a8c37x1j ni8dbmo4 stjgntxs l9j0dhe7 ltmttdrg g0qnabr5 oi732d6d ik7dh3pa d2edcug0 qv66sw1b c1et5uql hop8lmos enqfppq2 e9vueds3 j5wam9gi knj5qynh m9osqain\" dir=\"auto\">45K miles</span></div></div></div></div></a></div>"
      ],
      "text/plain": [
       "<IPython.core.display.HTML object>"
      ]
     },
     "metadata": {},
     "output_type": "display_data"
    },
    {
     "name": "stdout",
     "output_type": "stream",
     "text": [
      "-------------------\n",
      "$990\n",
      "2012 Volkswagen Jetta\n",
      "Houston, TX\n",
      "1.8K miles\n",
      "-------------------\n",
      "None\n",
      "-------------------\n"
     ]
    },
    {
     "data": {
      "text/html": [
       "<div class=\"kbiprv82\"><a class=\"oajrlxb2 g5ia77u1 qu0x051f esr5mh6w e9989ue4 r7d6kgcz rq0escxv nhd2j8a9 nc684nl6 p7hjln8o kvgmc6g5 cxmmr5t8 oygrvhab hcukyx3x jb3vyjys rz4wbd8a qt6c0cv9 a8nywdso i1ao9s8h esuyzwwr f1sip0of lzcic4wl gmql0nx0 p8dawk7l\" href=\"/marketplace/item/689221811629825/\" role=\"link\" tabindex=\"0\"><div class=\"j83agx80 cbu4d94t l9j0dhe7\"><div class=\"l9j0dhe7\"><div class=\"k4urcfbm l9j0dhe7\"><div class=\"kr520xx4 j9ispegn l9j0dhe7 stjgntxs ni8dbmo4 n7fi1qx3 i09qtzwb kzx2olss aot14ch1 p86d2i9g beltcj47 t63ysoy8 linmgsc8 hop1g133 opwvks06\"><div class=\"beltcj47 p86d2i9g aot14ch1 kzx2olss ni8dbmo4 stjgntxs d5it6em2 l9j0dhe7 k4urcfbm\"><div class=\"j83agx80 lhclo0ds ihdl84by pmk7jnqg h119xb3h iylxurvu bo2ra7bd\"><div class=\"rq0escxv j83agx80 buofh1pr datstx6m ggysqto6 exrn9cbp ojkyduve abpf7j7b l9j0dhe7 k4urcfbm\"><img alt=\"2012 Volkswagen Jetta in Houston, TX\" class=\"idiwt2bm bixrwtb6 ni8dbmo4 stjgntxs k4urcfbm\" src=\"https://scontent.fhou1-2.fna.fbcdn.net/v/t1.0-0/c43.0.260.260a/p261x260/116794692_1373465389522984_5056224292016401353_n.jpg?_nc_cat=107&amp;_nc_sid=843cd7&amp;_nc_ohc=EC9POkFgYDoAX-fyWl2&amp;_nc_ht=scontent.fhou1-2.fna&amp;oh=f574b67f4eb4169e6b2799219149edf4&amp;oe=5F6CDEA9\"></div></div></div></div></div></div><div class=\"rq0escxv j83agx80 cbu4d94t i1fnvgqd muag1w35 pybr56ya f10w8fjw k4urcfbm c7r68pdi suyy3zvx\"><div class=\"aahdfvyu fsotbgu8\"><span class=\"j83agx80\"><div class=\"a8nywdso e5nlhep0 rz4wbd8a ecm0bbzt btwxx1t3 j83agx80\"><div class=\"hlyrhctz\"><span class=\"oi732d6d ik7dh3pa d2edcug0 qv66sw1b c1et5uql a8c37x1j s89635nw ew0dbk1b a5q79mjw g1cxx5fr lrazzd5p oo9gr5id\" dir=\"auto\">$990</span></div><div class=\"f0t0fhil mkhogb32\"><span class=\"oi732d6d ik7dh3pa d2edcug0 qv66sw1b c1et5uql a8c37x1j muag1w35 enqfppq2 jq4qci2q a3bd9o3v ekzkrbhg oo9gr5id\" dir=\"auto\">$990</span></div></div></span></div><div class=\"aahdfvyu fsotbgu8\"><span aria-hidden=\"true\"><div class=\"a8nywdso e5nlhep0 rz4wbd8a linoseic\"><span class=\"a8c37x1j ni8dbmo4 stjgntxs l9j0dhe7 oi732d6d ik7dh3pa d2edcug0 qv66sw1b c1et5uql muag1w35 enqfppq2 jq4qci2q a3bd9o3v knj5qynh oo9gr5id\" dir=\"auto\" style=\"-webkit-box-orient: vertical; -webkit-line-clamp: 2; display: -webkit-box;\">2012 Volkswagen Jetta</span></div></span></div><div class=\"aahdfvyu fsotbgu8\"><span aria-hidden=\"true\"><div class=\"a8nywdso e5nlhep0 rz4wbd8a ecm0bbzt\"><span class=\"a8c37x1j ni8dbmo4 stjgntxs l9j0dhe7 ltmttdrg g0qnabr5 oi732d6d ik7dh3pa d2edcug0 qv66sw1b c1et5uql hop8lmos enqfppq2 e9vueds3 j5wam9gi knj5qynh m9osqain\" dir=\"auto\">Houston, TX</span></div></span></div><div class=\"aahdfvyu fsotbgu8\"><div class=\"a8nywdso e5nlhep0 rz4wbd8a ecm0bbzt\"><span class=\"a8c37x1j ni8dbmo4 stjgntxs l9j0dhe7 ltmttdrg g0qnabr5 oi732d6d ik7dh3pa d2edcug0 qv66sw1b c1et5uql hop8lmos enqfppq2 e9vueds3 j5wam9gi knj5qynh m9osqain\" dir=\"auto\">1.8K miles</span></div></div></div></div></a></div>"
      ],
      "text/plain": [
       "<IPython.core.display.HTML object>"
      ]
     },
     "metadata": {},
     "output_type": "display_data"
    },
    {
     "name": "stdout",
     "output_type": "stream",
     "text": [
      "-------------------\n",
      "$2,000\n",
      "2014 Jeep Patriot /$2000 Down\n",
      "Houston, TX\n",
      "71K miles\n",
      "-------------------\n",
      "None\n",
      "-------------------\n"
     ]
    },
    {
     "data": {
      "text/html": [
       "<div class=\"kbiprv82\"><a class=\"oajrlxb2 g5ia77u1 qu0x051f esr5mh6w e9989ue4 r7d6kgcz rq0escxv nhd2j8a9 nc684nl6 p7hjln8o kvgmc6g5 cxmmr5t8 oygrvhab hcukyx3x jb3vyjys rz4wbd8a qt6c0cv9 a8nywdso i1ao9s8h esuyzwwr f1sip0of lzcic4wl gmql0nx0 p8dawk7l\" href=\"/marketplace/item/778046956026978/\" role=\"link\" tabindex=\"0\"><div class=\"j83agx80 cbu4d94t l9j0dhe7\"><div class=\"l9j0dhe7\"><div class=\"k4urcfbm l9j0dhe7\"><div class=\"kr520xx4 j9ispegn l9j0dhe7 stjgntxs ni8dbmo4 n7fi1qx3 i09qtzwb kzx2olss aot14ch1 p86d2i9g beltcj47 t63ysoy8 linmgsc8 hop1g133 opwvks06\"><div class=\"beltcj47 p86d2i9g aot14ch1 kzx2olss ni8dbmo4 stjgntxs d5it6em2 l9j0dhe7 k4urcfbm\"><div class=\"j83agx80 lhclo0ds ihdl84by pmk7jnqg h119xb3h iylxurvu bo2ra7bd\"><div class=\"rq0escxv j83agx80 buofh1pr datstx6m ggysqto6 exrn9cbp ojkyduve abpf7j7b l9j0dhe7 k4urcfbm\"><img alt=\"2014 Jeep Patriot /$2000 Down in Houston, TX\" class=\"idiwt2bm bixrwtb6 ni8dbmo4 stjgntxs k4urcfbm\" src=\"https://scontent.fhou1-1.fna.fbcdn.net/v/t1.0-0/c65.0.260.260a/p261x260/83522657_2508140106111734_8222533004916948992_n.jpg?_nc_cat=100&amp;_nc_sid=843cd7&amp;_nc_ohc=mGxEsCovkvEAX-rWxdv&amp;_nc_ht=scontent.fhou1-1.fna&amp;oh=66f5178c59561aef71f1280af62fa20e&amp;oe=5F6C670D\"></div></div></div></div></div></div><div class=\"rq0escxv j83agx80 cbu4d94t i1fnvgqd muag1w35 pybr56ya f10w8fjw k4urcfbm c7r68pdi suyy3zvx\"><div class=\"aahdfvyu fsotbgu8\"><span class=\"j83agx80\"><div class=\"a8nywdso e5nlhep0 rz4wbd8a ecm0bbzt btwxx1t3 j83agx80\"><div class=\"hlyrhctz\"><span class=\"oi732d6d ik7dh3pa d2edcug0 qv66sw1b c1et5uql a8c37x1j s89635nw ew0dbk1b a5q79mjw g1cxx5fr lrazzd5p oo9gr5id\" dir=\"auto\">$2,000</span></div><div class=\"f0t0fhil mkhogb32\"><span class=\"oi732d6d ik7dh3pa d2edcug0 qv66sw1b c1et5uql a8c37x1j muag1w35 enqfppq2 jq4qci2q a3bd9o3v ekzkrbhg oo9gr5id\" dir=\"auto\">$2,000</span></div></div></span></div><div class=\"aahdfvyu fsotbgu8\"><span aria-hidden=\"true\"><div class=\"a8nywdso e5nlhep0 rz4wbd8a linoseic\"><span class=\"a8c37x1j ni8dbmo4 stjgntxs l9j0dhe7 oi732d6d ik7dh3pa d2edcug0 qv66sw1b c1et5uql muag1w35 enqfppq2 jq4qci2q a3bd9o3v knj5qynh oo9gr5id\" dir=\"auto\" style=\"-webkit-box-orient: vertical; -webkit-line-clamp: 2; display: -webkit-box;\">2014 Jeep Patriot /$2000 Down</span></div></span></div><div class=\"aahdfvyu fsotbgu8\"><span aria-hidden=\"true\"><div class=\"a8nywdso e5nlhep0 rz4wbd8a ecm0bbzt\"><span class=\"a8c37x1j ni8dbmo4 stjgntxs l9j0dhe7 ltmttdrg g0qnabr5 oi732d6d ik7dh3pa d2edcug0 qv66sw1b c1et5uql hop8lmos enqfppq2 e9vueds3 j5wam9gi knj5qynh m9osqain\" dir=\"auto\">Houston, TX</span></div></span></div><div class=\"aahdfvyu fsotbgu8\"><div class=\"a8nywdso e5nlhep0 rz4wbd8a ecm0bbzt\"><span class=\"a8c37x1j ni8dbmo4 stjgntxs l9j0dhe7 ltmttdrg g0qnabr5 oi732d6d ik7dh3pa d2edcug0 qv66sw1b c1et5uql hop8lmos enqfppq2 e9vueds3 j5wam9gi knj5qynh m9osqain\" dir=\"auto\">71K miles</span></div></div></div></div></a></div>"
      ],
      "text/plain": [
       "<IPython.core.display.HTML object>"
      ]
     },
     "metadata": {},
     "output_type": "display_data"
    },
    {
     "name": "stdout",
     "output_type": "stream",
     "text": [
      "-------------------\n",
      "Contact Seller\n",
      "2016 Chevrolet Camaro LT Coupe 2D\n",
      "Houston, TX\n",
      "35K miles\n",
      "-------------------\n",
      "None\n",
      "-------------------\n"
     ]
    },
    {
     "data": {
      "text/html": [
       "<div class=\"kbiprv82\"><a class=\"oajrlxb2 g5ia77u1 qu0x051f esr5mh6w e9989ue4 r7d6kgcz rq0escxv nhd2j8a9 nc684nl6 p7hjln8o kvgmc6g5 cxmmr5t8 oygrvhab hcukyx3x jb3vyjys rz4wbd8a qt6c0cv9 a8nywdso i1ao9s8h esuyzwwr f1sip0of lzcic4wl gmql0nx0 p8dawk7l\" href=\"/marketplace/item/862000090977584/\" role=\"link\" tabindex=\"0\"><div class=\"j83agx80 cbu4d94t l9j0dhe7\"><div class=\"l9j0dhe7\"><div class=\"k4urcfbm l9j0dhe7\"><div class=\"kr520xx4 j9ispegn l9j0dhe7 stjgntxs ni8dbmo4 n7fi1qx3 i09qtzwb kzx2olss aot14ch1 p86d2i9g beltcj47 t63ysoy8 linmgsc8 hop1g133 opwvks06\"><div class=\"beltcj47 p86d2i9g aot14ch1 kzx2olss ni8dbmo4 stjgntxs d5it6em2 l9j0dhe7 k4urcfbm\"><div class=\"j83agx80 lhclo0ds ihdl84by pmk7jnqg h119xb3h iylxurvu bo2ra7bd\"><div class=\"rq0escxv j83agx80 buofh1pr datstx6m ggysqto6 exrn9cbp ojkyduve abpf7j7b l9j0dhe7 k4urcfbm\"><img alt=\"2016 Chevrolet Camaro LT Coupe 2D in Houston, TX\" class=\"idiwt2bm bixrwtb6 ni8dbmo4 stjgntxs k4urcfbm\" src=\"https://scontent.fhou1-2.fna.fbcdn.net/v/t1.0-0/c101.0.260.260a/p261x260/104433401_10157341109432828_4292969286670633615_o.jpg?_nc_cat=102&amp;_nc_sid=843cd7&amp;_nc_ohc=513rkG-iQoAAX_FWj16&amp;_nc_ht=scontent.fhou1-2.fna&amp;oh=6255434e00b06d0d45bb24f0aef988e0&amp;oe=5F6B05C8\"></div></div></div></div></div></div><div class=\"rq0escxv j83agx80 cbu4d94t i1fnvgqd muag1w35 pybr56ya f10w8fjw k4urcfbm c7r68pdi suyy3zvx\"><div class=\"aahdfvyu fsotbgu8\"><span class=\"j83agx80\"><div class=\"a8nywdso e5nlhep0 rz4wbd8a ecm0bbzt btwxx1t3 j83agx80\"><div class=\"hlyrhctz\"><span class=\"oi732d6d ik7dh3pa d2edcug0 qv66sw1b c1et5uql a8c37x1j s89635nw ew0dbk1b a5q79mjw g1cxx5fr lrazzd5p oo9gr5id\" dir=\"auto\">Contact Seller</span></div><div class=\"f0t0fhil mkhogb32\"><span class=\"oi732d6d ik7dh3pa d2edcug0 qv66sw1b c1et5uql a8c37x1j muag1w35 enqfppq2 jq4qci2q a3bd9o3v ekzkrbhg oo9gr5id\" dir=\"auto\">Contact Seller</span></div></div></span></div><div class=\"aahdfvyu fsotbgu8\"><span aria-hidden=\"true\"><div class=\"a8nywdso e5nlhep0 rz4wbd8a linoseic\"><span class=\"a8c37x1j ni8dbmo4 stjgntxs l9j0dhe7 oi732d6d ik7dh3pa d2edcug0 qv66sw1b c1et5uql muag1w35 enqfppq2 jq4qci2q a3bd9o3v knj5qynh oo9gr5id\" dir=\"auto\" style=\"-webkit-box-orient: vertical; -webkit-line-clamp: 2; display: -webkit-box;\">2016 Chevrolet Camaro LT Coupe 2D</span></div></span></div><div class=\"aahdfvyu fsotbgu8\"><span aria-hidden=\"true\"><div class=\"a8nywdso e5nlhep0 rz4wbd8a ecm0bbzt\"><span class=\"a8c37x1j ni8dbmo4 stjgntxs l9j0dhe7 ltmttdrg g0qnabr5 oi732d6d ik7dh3pa d2edcug0 qv66sw1b c1et5uql hop8lmos enqfppq2 e9vueds3 j5wam9gi knj5qynh m9osqain\" dir=\"auto\">Houston, TX</span></div></span></div><div class=\"aahdfvyu fsotbgu8\"><div class=\"a8nywdso e5nlhep0 rz4wbd8a ecm0bbzt\"><span class=\"a8c37x1j ni8dbmo4 stjgntxs l9j0dhe7 ltmttdrg g0qnabr5 oi732d6d ik7dh3pa d2edcug0 qv66sw1b c1et5uql hop8lmos enqfppq2 e9vueds3 j5wam9gi knj5qynh m9osqain\" dir=\"auto\">35K miles</span></div></div></div></div></a></div>"
      ],
      "text/plain": [
       "<IPython.core.display.HTML object>"
      ]
     },
     "metadata": {},
     "output_type": "display_data"
    },
    {
     "name": "stdout",
     "output_type": "stream",
     "text": [
      "-------------------\n",
      "$1,795\n",
      "2013 Nissan Pathfinder SL Sport Utility 4D\n",
      "Houston, TX\n",
      "113K miles\n",
      "-------------------\n",
      "None\n",
      "-------------------\n"
     ]
    },
    {
     "data": {
      "text/html": [
       "<div class=\"kbiprv82\"><a class=\"oajrlxb2 g5ia77u1 qu0x051f esr5mh6w e9989ue4 r7d6kgcz rq0escxv nhd2j8a9 nc684nl6 p7hjln8o kvgmc6g5 cxmmr5t8 oygrvhab hcukyx3x jb3vyjys rz4wbd8a qt6c0cv9 a8nywdso i1ao9s8h esuyzwwr f1sip0of lzcic4wl gmql0nx0 p8dawk7l\" href=\"/marketplace/item/1223450514525880/\" role=\"link\" tabindex=\"0\"><div class=\"j83agx80 cbu4d94t l9j0dhe7\"><div class=\"l9j0dhe7\"><div class=\"k4urcfbm l9j0dhe7\"><div class=\"kr520xx4 j9ispegn l9j0dhe7 stjgntxs ni8dbmo4 n7fi1qx3 i09qtzwb kzx2olss aot14ch1 p86d2i9g beltcj47 t63ysoy8 linmgsc8 hop1g133 opwvks06\"><div class=\"beltcj47 p86d2i9g aot14ch1 kzx2olss ni8dbmo4 stjgntxs d5it6em2 l9j0dhe7 k4urcfbm\"><div class=\"j83agx80 lhclo0ds ihdl84by pmk7jnqg h119xb3h iylxurvu bo2ra7bd\"><div class=\"rq0escxv j83agx80 buofh1pr datstx6m ggysqto6 exrn9cbp ojkyduve abpf7j7b l9j0dhe7 k4urcfbm\"><img alt=\"2013 Nissan Pathfinder SL Sport Utility 4D in Houston, TX\" class=\"idiwt2bm bixrwtb6 ni8dbmo4 stjgntxs k4urcfbm\" src=\"https://scontent.fhou1-1.fna.fbcdn.net/v/t1.0-0/c101.0.260.260a/p261x260/93994241_10216033752093605_2030044377245548544_o.jpg?_nc_cat=104&amp;_nc_sid=843cd7&amp;_nc_ohc=4fnrE3LeEP0AX-WoI4y&amp;_nc_ht=scontent.fhou1-1.fna&amp;oh=e783f495cc3dae058c5b10f9e1d6cd76&amp;oe=5F6E53D9\"></div></div></div></div></div></div><div class=\"rq0escxv j83agx80 cbu4d94t i1fnvgqd muag1w35 pybr56ya f10w8fjw k4urcfbm c7r68pdi suyy3zvx\"><div class=\"aahdfvyu fsotbgu8\"><span class=\"j83agx80\"><div class=\"a8nywdso e5nlhep0 rz4wbd8a ecm0bbzt btwxx1t3 j83agx80\"><div class=\"hlyrhctz\"><span class=\"oi732d6d ik7dh3pa d2edcug0 qv66sw1b c1et5uql a8c37x1j s89635nw ew0dbk1b a5q79mjw g1cxx5fr lrazzd5p oo9gr5id\" dir=\"auto\">$1,795</span></div><div class=\"f0t0fhil mkhogb32\"><span class=\"oi732d6d ik7dh3pa d2edcug0 qv66sw1b c1et5uql a8c37x1j muag1w35 enqfppq2 jq4qci2q a3bd9o3v ekzkrbhg oo9gr5id\" dir=\"auto\">$1,795</span></div></div></span></div><div class=\"aahdfvyu fsotbgu8\"><span aria-hidden=\"true\"><div class=\"a8nywdso e5nlhep0 rz4wbd8a linoseic\"><span class=\"a8c37x1j ni8dbmo4 stjgntxs l9j0dhe7 oi732d6d ik7dh3pa d2edcug0 qv66sw1b c1et5uql muag1w35 enqfppq2 jq4qci2q a3bd9o3v knj5qynh oo9gr5id\" dir=\"auto\" style=\"-webkit-box-orient: vertical; -webkit-line-clamp: 2; display: -webkit-box;\">2013 Nissan Pathfinder SL Sport Utility 4D</span></div></span></div><div class=\"aahdfvyu fsotbgu8\"><span aria-hidden=\"true\"><div class=\"a8nywdso e5nlhep0 rz4wbd8a ecm0bbzt\"><span class=\"a8c37x1j ni8dbmo4 stjgntxs l9j0dhe7 ltmttdrg g0qnabr5 oi732d6d ik7dh3pa d2edcug0 qv66sw1b c1et5uql hop8lmos enqfppq2 e9vueds3 j5wam9gi knj5qynh m9osqain\" dir=\"auto\">Houston, TX</span></div></span></div><div class=\"aahdfvyu fsotbgu8\"><div class=\"a8nywdso e5nlhep0 rz4wbd8a ecm0bbzt\"><span class=\"a8c37x1j ni8dbmo4 stjgntxs l9j0dhe7 ltmttdrg g0qnabr5 oi732d6d ik7dh3pa d2edcug0 qv66sw1b c1et5uql hop8lmos enqfppq2 e9vueds3 j5wam9gi knj5qynh m9osqain\" dir=\"auto\">113K miles</span></div></div></div></div></a></div>"
      ],
      "text/plain": [
       "<IPython.core.display.HTML object>"
      ]
     },
     "metadata": {},
     "output_type": "display_data"
    },
    {
     "name": "stdout",
     "output_type": "stream",
     "text": [
      "-------------------\n",
      "$3,000\n",
      "2015 Toyota tundra. down payment $ 3000\n",
      "Houston, TX\n",
      "55K miles\n",
      "-------------------\n",
      "None\n",
      "-------------------\n"
     ]
    },
    {
     "data": {
      "text/html": [
       "<div class=\"kbiprv82\"><a class=\"oajrlxb2 g5ia77u1 qu0x051f esr5mh6w e9989ue4 r7d6kgcz rq0escxv nhd2j8a9 nc684nl6 p7hjln8o kvgmc6g5 cxmmr5t8 oygrvhab hcukyx3x jb3vyjys rz4wbd8a qt6c0cv9 a8nywdso i1ao9s8h esuyzwwr f1sip0of lzcic4wl gmql0nx0 p8dawk7l\" href=\"/marketplace/item/2589791061282389/\" role=\"link\" tabindex=\"0\"><div class=\"j83agx80 cbu4d94t l9j0dhe7\"><div class=\"l9j0dhe7\"><div class=\"k4urcfbm l9j0dhe7\"><div class=\"kr520xx4 j9ispegn l9j0dhe7 stjgntxs ni8dbmo4 n7fi1qx3 i09qtzwb kzx2olss aot14ch1 p86d2i9g beltcj47 t63ysoy8 linmgsc8 hop1g133 opwvks06\"><div class=\"beltcj47 p86d2i9g aot14ch1 kzx2olss ni8dbmo4 stjgntxs d5it6em2 l9j0dhe7 k4urcfbm\"><div class=\"j83agx80 lhclo0ds ihdl84by pmk7jnqg h119xb3h iylxurvu bo2ra7bd\"><div class=\"rq0escxv j83agx80 buofh1pr datstx6m ggysqto6 exrn9cbp ojkyduve abpf7j7b l9j0dhe7 k4urcfbm\"><img alt=\"2015 Toyota tundra. down payment $ 3000 in Houston, TX\" class=\"idiwt2bm bixrwtb6 ni8dbmo4 stjgntxs k4urcfbm\" src=\"https://scontent.fhou1-2.fna.fbcdn.net/v/t1.0-0/c101.0.260.260a/p261x260/114870865_3190483851035093_2734450375122922249_n.jpg?_nc_cat=108&amp;_nc_sid=843cd7&amp;_nc_ohc=Ukqsk1B8zaIAX8aYkr6&amp;_nc_oc=AQme7QnuVxuUSTYQ2lkHyxQ-D7XvP_pO-7_VAj-elVACA4qQnM3Za0PM__wCtNR3nUA&amp;_nc_ht=scontent.fhou1-2.fna&amp;oh=8b6813a61fe8a52719c332454fe6c859&amp;oe=5F6E1FF4\"></div></div></div></div></div></div><div class=\"rq0escxv j83agx80 cbu4d94t i1fnvgqd muag1w35 pybr56ya f10w8fjw k4urcfbm c7r68pdi suyy3zvx\"><div class=\"aahdfvyu fsotbgu8\"><span class=\"j83agx80\"><div class=\"a8nywdso e5nlhep0 rz4wbd8a ecm0bbzt btwxx1t3 j83agx80\"><div class=\"hlyrhctz\"><span class=\"oi732d6d ik7dh3pa d2edcug0 qv66sw1b c1et5uql a8c37x1j s89635nw ew0dbk1b a5q79mjw g1cxx5fr lrazzd5p oo9gr5id\" dir=\"auto\">$3,000</span></div><div class=\"f0t0fhil mkhogb32\"><span class=\"oi732d6d ik7dh3pa d2edcug0 qv66sw1b c1et5uql a8c37x1j muag1w35 enqfppq2 jq4qci2q a3bd9o3v ekzkrbhg oo9gr5id\" dir=\"auto\">$3,000</span></div></div></span></div><div class=\"aahdfvyu fsotbgu8\"><span aria-hidden=\"true\"><div class=\"a8nywdso e5nlhep0 rz4wbd8a linoseic\"><span class=\"a8c37x1j ni8dbmo4 stjgntxs l9j0dhe7 oi732d6d ik7dh3pa d2edcug0 qv66sw1b c1et5uql muag1w35 enqfppq2 jq4qci2q a3bd9o3v knj5qynh oo9gr5id\" dir=\"auto\" style=\"-webkit-box-orient: vertical; -webkit-line-clamp: 2; display: -webkit-box;\">2015 Toyota tundra. down payment $ 3000</span></div></span></div><div class=\"aahdfvyu fsotbgu8\"><span aria-hidden=\"true\"><div class=\"a8nywdso e5nlhep0 rz4wbd8a ecm0bbzt\"><span class=\"a8c37x1j ni8dbmo4 stjgntxs l9j0dhe7 ltmttdrg g0qnabr5 oi732d6d ik7dh3pa d2edcug0 qv66sw1b c1et5uql hop8lmos enqfppq2 e9vueds3 j5wam9gi knj5qynh m9osqain\" dir=\"auto\">Houston, TX</span></div></span></div><div class=\"aahdfvyu fsotbgu8\"><div class=\"a8nywdso e5nlhep0 rz4wbd8a ecm0bbzt\"><span class=\"a8c37x1j ni8dbmo4 stjgntxs l9j0dhe7 ltmttdrg g0qnabr5 oi732d6d ik7dh3pa d2edcug0 qv66sw1b c1et5uql hop8lmos enqfppq2 e9vueds3 j5wam9gi knj5qynh m9osqain\" dir=\"auto\">55K miles</span></div></div></div></div></a></div>"
      ],
      "text/plain": [
       "<IPython.core.display.HTML object>"
      ]
     },
     "metadata": {},
     "output_type": "display_data"
    },
    {
     "name": "stdout",
     "output_type": "stream",
     "text": [
      "-------------------\n",
      "$1,000\n",
      "2016 Nissan Sentra S\n",
      "Richmond, TX\n",
      "-------------------\n",
      "None\n",
      "-------------------\n"
     ]
    },
    {
     "data": {
      "text/html": [
       "<div class=\"kbiprv82\"><a class=\"oajrlxb2 g5ia77u1 qu0x051f esr5mh6w e9989ue4 r7d6kgcz rq0escxv nhd2j8a9 nc684nl6 p7hjln8o kvgmc6g5 cxmmr5t8 oygrvhab hcukyx3x jb3vyjys rz4wbd8a qt6c0cv9 a8nywdso i1ao9s8h esuyzwwr f1sip0of lzcic4wl gmql0nx0 p8dawk7l\" href=\"/marketplace/item/497564924249184/\" role=\"link\" tabindex=\"0\"><div class=\"j83agx80 cbu4d94t l9j0dhe7\"><div class=\"l9j0dhe7\"><div class=\"k4urcfbm l9j0dhe7\"><div class=\"kr520xx4 j9ispegn l9j0dhe7 stjgntxs ni8dbmo4 n7fi1qx3 i09qtzwb kzx2olss aot14ch1 p86d2i9g beltcj47 t63ysoy8 linmgsc8 hop1g133 opwvks06\"><div class=\"beltcj47 p86d2i9g aot14ch1 kzx2olss ni8dbmo4 stjgntxs d5it6em2 l9j0dhe7 k4urcfbm\"><div class=\"j83agx80 lhclo0ds ihdl84by pmk7jnqg h119xb3h iylxurvu bo2ra7bd\"><div class=\"rq0escxv j83agx80 buofh1pr datstx6m ggysqto6 exrn9cbp ojkyduve abpf7j7b l9j0dhe7 k4urcfbm\"><img alt=\"2016 Nissan Sentra S in Richmond, TX\" class=\"idiwt2bm bixrwtb6 ni8dbmo4 stjgntxs k4urcfbm\" src=\"https://scontent.fhou1-2.fna.fbcdn.net/v/t1.0-0/c82.0.260.260a/p261x260/89840234_721884305233939_2489522826134945792_n.jpg?_nc_cat=102&amp;_nc_sid=843cd7&amp;_nc_ohc=x2vqdW09O5EAX87t4R_&amp;_nc_ht=scontent.fhou1-2.fna&amp;oh=b8c480b3c5a9aace101cff57b051a535&amp;oe=5F6E1FE0\"></div></div></div></div></div></div><div class=\"rq0escxv j83agx80 cbu4d94t i1fnvgqd muag1w35 pybr56ya f10w8fjw k4urcfbm c7r68pdi suyy3zvx\"><div class=\"aahdfvyu fsotbgu8\"><span class=\"j83agx80\"><div class=\"a8nywdso e5nlhep0 rz4wbd8a ecm0bbzt btwxx1t3 j83agx80\"><div class=\"hlyrhctz\"><span class=\"oi732d6d ik7dh3pa d2edcug0 qv66sw1b c1et5uql a8c37x1j s89635nw ew0dbk1b a5q79mjw g1cxx5fr lrazzd5p oo9gr5id\" dir=\"auto\">$1,000</span></div><div class=\"f0t0fhil mkhogb32\"><span class=\"oi732d6d ik7dh3pa d2edcug0 qv66sw1b c1et5uql a8c37x1j muag1w35 enqfppq2 jq4qci2q a3bd9o3v ekzkrbhg oo9gr5id\" dir=\"auto\">$1,000</span></div></div></span></div><div class=\"aahdfvyu fsotbgu8\"><span aria-hidden=\"true\"><div class=\"a8nywdso e5nlhep0 rz4wbd8a linoseic\"><span class=\"a8c37x1j ni8dbmo4 stjgntxs l9j0dhe7 oi732d6d ik7dh3pa d2edcug0 qv66sw1b c1et5uql muag1w35 enqfppq2 jq4qci2q a3bd9o3v knj5qynh oo9gr5id\" dir=\"auto\" style=\"-webkit-box-orient: vertical; -webkit-line-clamp: 2; display: -webkit-box;\">2016 Nissan Sentra S</span></div></span></div><div class=\"aahdfvyu fsotbgu8\"><span aria-hidden=\"true\"><div class=\"a8nywdso e5nlhep0 rz4wbd8a ecm0bbzt\"><span class=\"a8c37x1j ni8dbmo4 stjgntxs l9j0dhe7 ltmttdrg g0qnabr5 oi732d6d ik7dh3pa d2edcug0 qv66sw1b c1et5uql hop8lmos enqfppq2 e9vueds3 j5wam9gi knj5qynh m9osqain\" dir=\"auto\">Richmond, TX</span></div></span></div><div class=\"aahdfvyu fsotbgu8\"><div class=\"a8nywdso e5nlhep0 rz4wbd8a ecm0bbzt\"><span class=\"a8c37x1j ni8dbmo4 stjgntxs l9j0dhe7 ltmttdrg g0qnabr5 oi732d6d ik7dh3pa d2edcug0 qv66sw1b c1et5uql hop8lmos enqfppq2 e9vueds3 j5wam9gi knj5qynh m9osqain\" dir=\"auto\"></span></div></div></div></div></a></div>"
      ],
      "text/plain": [
       "<IPython.core.display.HTML object>"
      ]
     },
     "metadata": {},
     "output_type": "display_data"
    },
    {
     "name": "stdout",
     "output_type": "stream",
     "text": [
      "-------------------\n",
      "$3,000\n",
      "2015 Toyota tundra. down payment $ 3000\n",
      "Houston, TX\n",
      "55K miles\n",
      "-------------------\n",
      "None\n",
      "-------------------\n"
     ]
    },
    {
     "data": {
      "text/html": [
       "<div class=\"kbiprv82\"><a class=\"oajrlxb2 g5ia77u1 qu0x051f esr5mh6w e9989ue4 r7d6kgcz rq0escxv nhd2j8a9 nc684nl6 p7hjln8o kvgmc6g5 cxmmr5t8 oygrvhab hcukyx3x jb3vyjys rz4wbd8a qt6c0cv9 a8nywdso i1ao9s8h esuyzwwr f1sip0of lzcic4wl gmql0nx0 p8dawk7l\" href=\"/marketplace/item/748236619322602/\" role=\"link\" tabindex=\"0\"><div class=\"j83agx80 cbu4d94t l9j0dhe7\"><div class=\"l9j0dhe7\"><div class=\"k4urcfbm l9j0dhe7\"><div class=\"kr520xx4 j9ispegn l9j0dhe7 stjgntxs ni8dbmo4 n7fi1qx3 i09qtzwb kzx2olss aot14ch1 p86d2i9g beltcj47 t63ysoy8 linmgsc8 hop1g133 opwvks06\"><div class=\"beltcj47 p86d2i9g aot14ch1 kzx2olss ni8dbmo4 stjgntxs d5it6em2 l9j0dhe7 k4urcfbm\"><div class=\"j83agx80 lhclo0ds ihdl84by pmk7jnqg h119xb3h iylxurvu bo2ra7bd\"><div class=\"rq0escxv j83agx80 buofh1pr datstx6m ggysqto6 exrn9cbp ojkyduve abpf7j7b l9j0dhe7 k4urcfbm\"><img alt=\"2015 Toyota tundra. down payment $ 3000 in Houston, TX\" class=\"idiwt2bm bixrwtb6 ni8dbmo4 stjgntxs k4urcfbm\" src=\"https://scontent.fhou1-1.fna.fbcdn.net/v/t1.0-0/c101.0.260.260a/p261x260/115804683_10213643733768184_882907692377755691_o.jpg?_nc_cat=104&amp;_nc_sid=843cd7&amp;_nc_ohc=0mh40negxhcAX_lOVy6&amp;_nc_ht=scontent.fhou1-1.fna&amp;oh=add1456615edc167ffa03c6ad58373a9&amp;oe=5F6E1ABE\"></div></div></div></div></div></div><div class=\"rq0escxv j83agx80 cbu4d94t i1fnvgqd muag1w35 pybr56ya f10w8fjw k4urcfbm c7r68pdi suyy3zvx\"><div class=\"aahdfvyu fsotbgu8\"><span class=\"j83agx80\"><div class=\"a8nywdso e5nlhep0 rz4wbd8a ecm0bbzt btwxx1t3 j83agx80\"><div class=\"hlyrhctz\"><span class=\"oi732d6d ik7dh3pa d2edcug0 qv66sw1b c1et5uql a8c37x1j s89635nw ew0dbk1b a5q79mjw g1cxx5fr lrazzd5p oo9gr5id\" dir=\"auto\">$3,000</span></div><div class=\"f0t0fhil mkhogb32\"><span class=\"oi732d6d ik7dh3pa d2edcug0 qv66sw1b c1et5uql a8c37x1j muag1w35 enqfppq2 jq4qci2q a3bd9o3v ekzkrbhg oo9gr5id\" dir=\"auto\">$3,000</span></div></div></span></div><div class=\"aahdfvyu fsotbgu8\"><span aria-hidden=\"true\"><div class=\"a8nywdso e5nlhep0 rz4wbd8a linoseic\"><span class=\"a8c37x1j ni8dbmo4 stjgntxs l9j0dhe7 oi732d6d ik7dh3pa d2edcug0 qv66sw1b c1et5uql muag1w35 enqfppq2 jq4qci2q a3bd9o3v knj5qynh oo9gr5id\" dir=\"auto\" style=\"-webkit-box-orient: vertical; -webkit-line-clamp: 2; display: -webkit-box;\">2015 Toyota tundra. down payment $ 3000</span></div></span></div><div class=\"aahdfvyu fsotbgu8\"><span aria-hidden=\"true\"><div class=\"a8nywdso e5nlhep0 rz4wbd8a ecm0bbzt\"><span class=\"a8c37x1j ni8dbmo4 stjgntxs l9j0dhe7 ltmttdrg g0qnabr5 oi732d6d ik7dh3pa d2edcug0 qv66sw1b c1et5uql hop8lmos enqfppq2 e9vueds3 j5wam9gi knj5qynh m9osqain\" dir=\"auto\">Houston, TX</span></div></span></div><div class=\"aahdfvyu fsotbgu8\"><div class=\"a8nywdso e5nlhep0 rz4wbd8a ecm0bbzt\"><span class=\"a8c37x1j ni8dbmo4 stjgntxs l9j0dhe7 ltmttdrg g0qnabr5 oi732d6d ik7dh3pa d2edcug0 qv66sw1b c1et5uql hop8lmos enqfppq2 e9vueds3 j5wam9gi knj5qynh m9osqain\" dir=\"auto\">55K miles</span></div></div></div></div></a></div>"
      ],
      "text/plain": [
       "<IPython.core.display.HTML object>"
      ]
     },
     "metadata": {},
     "output_type": "display_data"
    },
    {
     "name": "stdout",
     "output_type": "stream",
     "text": [
      "-------------------\n",
      "$4,000\n",
      "2013 Dodge Dart SE Sedan 4D\n",
      "Stafford, TX\n",
      "75K miles\n",
      "-------------------\n",
      "None\n",
      "-------------------\n"
     ]
    },
    {
     "data": {
      "text/html": [
       "<div class=\"kbiprv82\"><a class=\"oajrlxb2 g5ia77u1 qu0x051f esr5mh6w e9989ue4 r7d6kgcz rq0escxv nhd2j8a9 nc684nl6 p7hjln8o kvgmc6g5 cxmmr5t8 oygrvhab hcukyx3x jb3vyjys rz4wbd8a qt6c0cv9 a8nywdso i1ao9s8h esuyzwwr f1sip0of lzcic4wl gmql0nx0 p8dawk7l\" href=\"/marketplace/item/921960761600288/\" role=\"link\" tabindex=\"0\"><div class=\"j83agx80 cbu4d94t l9j0dhe7\"><div class=\"l9j0dhe7\"><div class=\"k4urcfbm l9j0dhe7\"><div class=\"kr520xx4 j9ispegn l9j0dhe7 stjgntxs ni8dbmo4 n7fi1qx3 i09qtzwb kzx2olss aot14ch1 p86d2i9g beltcj47 t63ysoy8 linmgsc8 hop1g133 opwvks06\"><div class=\"beltcj47 p86d2i9g aot14ch1 kzx2olss ni8dbmo4 stjgntxs d5it6em2 l9j0dhe7 k4urcfbm\"><div class=\"j83agx80 lhclo0ds ihdl84by pmk7jnqg h119xb3h iylxurvu bo2ra7bd\"><div class=\"rq0escxv j83agx80 buofh1pr datstx6m ggysqto6 exrn9cbp ojkyduve abpf7j7b l9j0dhe7 k4urcfbm\"><img alt=\"2013 Dodge Dart SE Sedan 4D in Stafford, TX\" class=\"idiwt2bm bixrwtb6 ni8dbmo4 stjgntxs k4urcfbm\" src=\"https://scontent.fhou1-1.fna.fbcdn.net/v/t1.0-0/c43.0.260.260a/p261x260/108047716_10214189681370844_8589348775603099335_o.jpg?_nc_cat=111&amp;_nc_sid=843cd7&amp;_nc_ohc=Gk4BOQ_3S3IAX__zOw4&amp;_nc_ht=scontent.fhou1-1.fna&amp;oh=9b7faf02aa1b453d006c3f1eaec91bd1&amp;oe=5F6B5D97\"></div></div></div></div></div></div><div class=\"rq0escxv j83agx80 cbu4d94t i1fnvgqd muag1w35 pybr56ya f10w8fjw k4urcfbm c7r68pdi suyy3zvx\"><div class=\"aahdfvyu fsotbgu8\"><span class=\"j83agx80\"><div class=\"a8nywdso e5nlhep0 rz4wbd8a ecm0bbzt btwxx1t3 j83agx80\"><div class=\"hlyrhctz\"><span class=\"oi732d6d ik7dh3pa d2edcug0 qv66sw1b c1et5uql a8c37x1j s89635nw ew0dbk1b a5q79mjw g1cxx5fr lrazzd5p oo9gr5id\" dir=\"auto\">$4,000</span></div><div class=\"f0t0fhil mkhogb32\"><span class=\"oi732d6d ik7dh3pa d2edcug0 qv66sw1b c1et5uql a8c37x1j muag1w35 enqfppq2 jq4qci2q a3bd9o3v ekzkrbhg oo9gr5id\" dir=\"auto\">$4,000</span></div></div></span></div><div class=\"aahdfvyu fsotbgu8\"><span aria-hidden=\"true\"><div class=\"a8nywdso e5nlhep0 rz4wbd8a linoseic\"><span class=\"a8c37x1j ni8dbmo4 stjgntxs l9j0dhe7 oi732d6d ik7dh3pa d2edcug0 qv66sw1b c1et5uql muag1w35 enqfppq2 jq4qci2q a3bd9o3v knj5qynh oo9gr5id\" dir=\"auto\" style=\"-webkit-box-orient: vertical; -webkit-line-clamp: 2; display: -webkit-box;\">2013 Dodge Dart SE Sedan 4D</span></div></span></div><div class=\"aahdfvyu fsotbgu8\"><span aria-hidden=\"true\"><div class=\"a8nywdso e5nlhep0 rz4wbd8a ecm0bbzt\"><span class=\"a8c37x1j ni8dbmo4 stjgntxs l9j0dhe7 ltmttdrg g0qnabr5 oi732d6d ik7dh3pa d2edcug0 qv66sw1b c1et5uql hop8lmos enqfppq2 e9vueds3 j5wam9gi knj5qynh m9osqain\" dir=\"auto\">Stafford, TX</span></div></span></div><div class=\"aahdfvyu fsotbgu8\"><div class=\"a8nywdso e5nlhep0 rz4wbd8a ecm0bbzt\"><span class=\"a8c37x1j ni8dbmo4 stjgntxs l9j0dhe7 ltmttdrg g0qnabr5 oi732d6d ik7dh3pa d2edcug0 qv66sw1b c1et5uql hop8lmos enqfppq2 e9vueds3 j5wam9gi knj5qynh m9osqain\" dir=\"auto\">75K miles</span></div></div></div></div></a></div>"
      ],
      "text/plain": [
       "<IPython.core.display.HTML object>"
      ]
     },
     "metadata": {},
     "output_type": "display_data"
    },
    {
     "name": "stdout",
     "output_type": "stream",
     "text": [
      "-------------------\n",
      "Contact Seller\n",
      "2019 Chevrolet Camaro SS Coupe 2D\n",
      "Houston, TX\n",
      "31K miles\n",
      "-------------------\n",
      "None\n",
      "-------------------\n"
     ]
    },
    {
     "data": {
      "text/html": [
       "<div class=\"kbiprv82\"><a class=\"oajrlxb2 g5ia77u1 qu0x051f esr5mh6w e9989ue4 r7d6kgcz rq0escxv nhd2j8a9 nc684nl6 p7hjln8o kvgmc6g5 cxmmr5t8 oygrvhab hcukyx3x jb3vyjys rz4wbd8a qt6c0cv9 a8nywdso i1ao9s8h esuyzwwr f1sip0of lzcic4wl gmql0nx0 p8dawk7l\" href=\"/marketplace/item/620486078577914/\" role=\"link\" tabindex=\"0\"><div class=\"j83agx80 cbu4d94t l9j0dhe7\"><div class=\"l9j0dhe7\"><div class=\"k4urcfbm l9j0dhe7\"><div class=\"kr520xx4 j9ispegn l9j0dhe7 stjgntxs ni8dbmo4 n7fi1qx3 i09qtzwb kzx2olss aot14ch1 p86d2i9g beltcj47 t63ysoy8 linmgsc8 hop1g133 opwvks06\"><div class=\"beltcj47 p86d2i9g aot14ch1 kzx2olss ni8dbmo4 stjgntxs d5it6em2 l9j0dhe7 k4urcfbm\"><div class=\"j83agx80 lhclo0ds ihdl84by pmk7jnqg h119xb3h iylxurvu bo2ra7bd\"><div class=\"rq0escxv j83agx80 buofh1pr datstx6m ggysqto6 exrn9cbp ojkyduve abpf7j7b l9j0dhe7 k4urcfbm\"><img alt=\"2019 Chevrolet Camaro SS Coupe 2D in Houston, TX\" class=\"idiwt2bm bixrwtb6 ni8dbmo4 stjgntxs k4urcfbm\" src=\"https://scontent.fhou1-1.fna.fbcdn.net/v/t1.0-0/c0.214.720.720a/s261x260/106665794_586959988907752_4416581972471363705_o.jpg?_nc_cat=111&amp;_nc_sid=843cd7&amp;_nc_ohc=HtH-TlEH_qYAX9Jh4GJ&amp;_nc_ht=scontent.fhou1-1.fna&amp;oh=d5d546eb1c1bb0f20a20d3787e37d697&amp;oe=5F6C43F2\"></div></div></div></div></div></div><div class=\"rq0escxv j83agx80 cbu4d94t i1fnvgqd muag1w35 pybr56ya f10w8fjw k4urcfbm c7r68pdi suyy3zvx\"><div class=\"aahdfvyu fsotbgu8\"><span class=\"j83agx80\"><div class=\"a8nywdso e5nlhep0 rz4wbd8a ecm0bbzt btwxx1t3 j83agx80\"><div class=\"hlyrhctz\"><span class=\"oi732d6d ik7dh3pa d2edcug0 qv66sw1b c1et5uql a8c37x1j s89635nw ew0dbk1b a5q79mjw g1cxx5fr lrazzd5p oo9gr5id\" dir=\"auto\">Contact Seller</span></div><div class=\"f0t0fhil mkhogb32\"><span class=\"oi732d6d ik7dh3pa d2edcug0 qv66sw1b c1et5uql a8c37x1j muag1w35 enqfppq2 jq4qci2q a3bd9o3v ekzkrbhg oo9gr5id\" dir=\"auto\">Contact Seller</span></div></div></span></div><div class=\"aahdfvyu fsotbgu8\"><span aria-hidden=\"true\"><div class=\"a8nywdso e5nlhep0 rz4wbd8a linoseic\"><span class=\"a8c37x1j ni8dbmo4 stjgntxs l9j0dhe7 oi732d6d ik7dh3pa d2edcug0 qv66sw1b c1et5uql muag1w35 enqfppq2 jq4qci2q a3bd9o3v knj5qynh oo9gr5id\" dir=\"auto\" style=\"-webkit-box-orient: vertical; -webkit-line-clamp: 2; display: -webkit-box;\">2019 Chevrolet Camaro SS Coupe 2D</span></div></span></div><div class=\"aahdfvyu fsotbgu8\"><span aria-hidden=\"true\"><div class=\"a8nywdso e5nlhep0 rz4wbd8a ecm0bbzt\"><span class=\"a8c37x1j ni8dbmo4 stjgntxs l9j0dhe7 ltmttdrg g0qnabr5 oi732d6d ik7dh3pa d2edcug0 qv66sw1b c1et5uql hop8lmos enqfppq2 e9vueds3 j5wam9gi knj5qynh m9osqain\" dir=\"auto\">Houston, TX</span></div></span></div><div class=\"aahdfvyu fsotbgu8\"><div class=\"a8nywdso e5nlhep0 rz4wbd8a ecm0bbzt\"><span class=\"a8c37x1j ni8dbmo4 stjgntxs l9j0dhe7 ltmttdrg g0qnabr5 oi732d6d ik7dh3pa d2edcug0 qv66sw1b c1et5uql hop8lmos enqfppq2 e9vueds3 j5wam9gi knj5qynh m9osqain\" dir=\"auto\">31K miles</span></div></div></div></div></a></div>"
      ],
      "text/plain": [
       "<IPython.core.display.HTML object>"
      ]
     },
     "metadata": {},
     "output_type": "display_data"
    },
    {
     "name": "stdout",
     "output_type": "stream",
     "text": [
      "-------------------\n",
      "$4,000\n",
      "2016 Ford F150 SuperCrew Cab XLT Pickup 4D 6 1/2 ft\n",
      "Houston, TX\n",
      "300 miles\n",
      "-------------------\n",
      "None\n",
      "-------------------\n"
     ]
    },
    {
     "data": {
      "text/html": [
       "<div class=\"kbiprv82\"><a class=\"oajrlxb2 g5ia77u1 qu0x051f esr5mh6w e9989ue4 r7d6kgcz rq0escxv nhd2j8a9 nc684nl6 p7hjln8o kvgmc6g5 cxmmr5t8 oygrvhab hcukyx3x jb3vyjys rz4wbd8a qt6c0cv9 a8nywdso i1ao9s8h esuyzwwr f1sip0of lzcic4wl gmql0nx0 p8dawk7l\" href=\"/marketplace/item/440579486800436/\" role=\"link\" tabindex=\"0\"><div class=\"j83agx80 cbu4d94t l9j0dhe7\"><div class=\"l9j0dhe7\"><div class=\"k4urcfbm l9j0dhe7\"><div class=\"kr520xx4 j9ispegn l9j0dhe7 stjgntxs ni8dbmo4 n7fi1qx3 i09qtzwb kzx2olss aot14ch1 p86d2i9g beltcj47 t63ysoy8 linmgsc8 hop1g133 opwvks06\"><div class=\"beltcj47 p86d2i9g aot14ch1 kzx2olss ni8dbmo4 stjgntxs d5it6em2 l9j0dhe7 k4urcfbm\"><div class=\"j83agx80 lhclo0ds ihdl84by pmk7jnqg h119xb3h iylxurvu bo2ra7bd\"><div class=\"rq0escxv j83agx80 buofh1pr datstx6m ggysqto6 exrn9cbp ojkyduve abpf7j7b l9j0dhe7 k4urcfbm\"><img alt=\"2016 Ford F150 SuperCrew Cab XLT Pickup 4D 6 1/2 ft in Houston, TX\" class=\"idiwt2bm bixrwtb6 ni8dbmo4 stjgntxs k4urcfbm\" src=\"https://scontent.fhou1-2.fna.fbcdn.net/v/t1.0-0/c43.0.260.260a/p261x260/69904606_10162332305210381_5879475405458505728_n.jpg?_nc_cat=107&amp;_nc_sid=843cd7&amp;_nc_ohc=LoVaca8oT3EAX-AFuWF&amp;_nc_ht=scontent.fhou1-2.fna&amp;oh=fe97950b1391a6d085d00b8001a9bd20&amp;oe=5F6CFB4E\"></div></div></div></div></div></div><div class=\"rq0escxv j83agx80 cbu4d94t i1fnvgqd muag1w35 pybr56ya f10w8fjw k4urcfbm c7r68pdi suyy3zvx\"><div class=\"aahdfvyu fsotbgu8\"><span class=\"j83agx80\"><div class=\"a8nywdso e5nlhep0 rz4wbd8a ecm0bbzt btwxx1t3 j83agx80\"><div class=\"hlyrhctz\"><span class=\"oi732d6d ik7dh3pa d2edcug0 qv66sw1b c1et5uql a8c37x1j s89635nw ew0dbk1b a5q79mjw g1cxx5fr lrazzd5p oo9gr5id\" dir=\"auto\">$4,000</span></div><div class=\"f0t0fhil mkhogb32\"><span class=\"oi732d6d ik7dh3pa d2edcug0 qv66sw1b c1et5uql a8c37x1j muag1w35 enqfppq2 jq4qci2q a3bd9o3v ekzkrbhg oo9gr5id\" dir=\"auto\">$4,000</span></div></div></span></div><div class=\"aahdfvyu fsotbgu8\"><span aria-hidden=\"true\"><div class=\"a8nywdso e5nlhep0 rz4wbd8a linoseic\"><span class=\"a8c37x1j ni8dbmo4 stjgntxs l9j0dhe7 oi732d6d ik7dh3pa d2edcug0 qv66sw1b c1et5uql muag1w35 enqfppq2 jq4qci2q a3bd9o3v knj5qynh oo9gr5id\" dir=\"auto\" style=\"-webkit-box-orient: vertical; -webkit-line-clamp: 2; display: -webkit-box;\">2016 Ford F150 SuperCrew Cab XLT Pickup 4D 6 1/2 ft</span></div></span></div><div class=\"aahdfvyu fsotbgu8\"><span aria-hidden=\"true\"><div class=\"a8nywdso e5nlhep0 rz4wbd8a ecm0bbzt\"><span class=\"a8c37x1j ni8dbmo4 stjgntxs l9j0dhe7 ltmttdrg g0qnabr5 oi732d6d ik7dh3pa d2edcug0 qv66sw1b c1et5uql hop8lmos enqfppq2 e9vueds3 j5wam9gi knj5qynh m9osqain\" dir=\"auto\">Houston, TX</span></div></span></div><div class=\"aahdfvyu fsotbgu8\"><div class=\"a8nywdso e5nlhep0 rz4wbd8a ecm0bbzt\"><span class=\"a8c37x1j ni8dbmo4 stjgntxs l9j0dhe7 ltmttdrg g0qnabr5 oi732d6d ik7dh3pa d2edcug0 qv66sw1b c1et5uql hop8lmos enqfppq2 e9vueds3 j5wam9gi knj5qynh m9osqain\" dir=\"auto\">300 miles</span></div></div></div></div></a></div>"
      ],
      "text/plain": [
       "<IPython.core.display.HTML object>"
      ]
     },
     "metadata": {},
     "output_type": "display_data"
    },
    {
     "name": "stdout",
     "output_type": "stream",
     "text": [
      "-------------------\n",
      "$4,000\n",
      "2015 Dodge Dart\n",
      "Houston, TX\n",
      "68K miles\n",
      "-------------------\n",
      "None\n",
      "-------------------\n"
     ]
    },
    {
     "data": {
      "text/html": [
       "<div class=\"kbiprv82\"><a class=\"oajrlxb2 g5ia77u1 qu0x051f esr5mh6w e9989ue4 r7d6kgcz rq0escxv nhd2j8a9 nc684nl6 p7hjln8o kvgmc6g5 cxmmr5t8 oygrvhab hcukyx3x jb3vyjys rz4wbd8a qt6c0cv9 a8nywdso i1ao9s8h esuyzwwr f1sip0of lzcic4wl gmql0nx0 p8dawk7l\" href=\"/marketplace/item/617628192279762/\" role=\"link\" tabindex=\"0\"><div class=\"j83agx80 cbu4d94t l9j0dhe7\"><div class=\"l9j0dhe7\"><div class=\"k4urcfbm l9j0dhe7\"><div class=\"kr520xx4 j9ispegn l9j0dhe7 stjgntxs ni8dbmo4 n7fi1qx3 i09qtzwb kzx2olss aot14ch1 p86d2i9g beltcj47 t63ysoy8 linmgsc8 hop1g133 opwvks06\"><div class=\"beltcj47 p86d2i9g aot14ch1 kzx2olss ni8dbmo4 stjgntxs d5it6em2 l9j0dhe7 k4urcfbm\"><div class=\"j83agx80 lhclo0ds ihdl84by pmk7jnqg h119xb3h iylxurvu bo2ra7bd\"><div class=\"rq0escxv j83agx80 buofh1pr datstx6m ggysqto6 exrn9cbp ojkyduve abpf7j7b l9j0dhe7 k4urcfbm\"><img alt=\"2015 Dodge Dart in Houston, TX\" class=\"idiwt2bm bixrwtb6 ni8dbmo4 stjgntxs k4urcfbm\" src=\"https://scontent.fhou1-1.fna.fbcdn.net/v/t1.0-0/c0.79.720.720a/s261x260/118136591_2774621479484249_7251352530504102078_n.jpg?_nc_cat=100&amp;_nc_sid=843cd7&amp;_nc_ohc=Urp23HgxsJMAX_RZcdT&amp;_nc_ht=scontent.fhou1-1.fna&amp;oh=9ba92f7d37b4685b00609fdac0f80e37&amp;oe=5F6AC6B7\"></div></div></div></div></div></div><div class=\"rq0escxv j83agx80 cbu4d94t i1fnvgqd muag1w35 pybr56ya f10w8fjw k4urcfbm c7r68pdi suyy3zvx\"><div class=\"aahdfvyu fsotbgu8\"><span class=\"j83agx80\"><div class=\"a8nywdso e5nlhep0 rz4wbd8a ecm0bbzt btwxx1t3 j83agx80\"><div class=\"hlyrhctz\"><span class=\"oi732d6d ik7dh3pa d2edcug0 qv66sw1b c1et5uql a8c37x1j s89635nw ew0dbk1b a5q79mjw g1cxx5fr lrazzd5p oo9gr5id\" dir=\"auto\">$4,000</span></div><div class=\"f0t0fhil mkhogb32\"><span class=\"oi732d6d ik7dh3pa d2edcug0 qv66sw1b c1et5uql a8c37x1j muag1w35 enqfppq2 jq4qci2q a3bd9o3v ekzkrbhg oo9gr5id\" dir=\"auto\">$4,000</span></div></div></span></div><div class=\"aahdfvyu fsotbgu8\"><span aria-hidden=\"true\"><div class=\"a8nywdso e5nlhep0 rz4wbd8a linoseic\"><span class=\"a8c37x1j ni8dbmo4 stjgntxs l9j0dhe7 oi732d6d ik7dh3pa d2edcug0 qv66sw1b c1et5uql muag1w35 enqfppq2 jq4qci2q a3bd9o3v knj5qynh oo9gr5id\" dir=\"auto\" style=\"-webkit-box-orient: vertical; -webkit-line-clamp: 2; display: -webkit-box;\">2015 Dodge Dart</span></div></span></div><div class=\"aahdfvyu fsotbgu8\"><span aria-hidden=\"true\"><div class=\"a8nywdso e5nlhep0 rz4wbd8a ecm0bbzt\"><span class=\"a8c37x1j ni8dbmo4 stjgntxs l9j0dhe7 ltmttdrg g0qnabr5 oi732d6d ik7dh3pa d2edcug0 qv66sw1b c1et5uql hop8lmos enqfppq2 e9vueds3 j5wam9gi knj5qynh m9osqain\" dir=\"auto\">Houston, TX</span></div></span></div><div class=\"aahdfvyu fsotbgu8\"><div class=\"a8nywdso e5nlhep0 rz4wbd8a ecm0bbzt\"><span class=\"a8c37x1j ni8dbmo4 stjgntxs l9j0dhe7 ltmttdrg g0qnabr5 oi732d6d ik7dh3pa d2edcug0 qv66sw1b c1et5uql hop8lmos enqfppq2 e9vueds3 j5wam9gi knj5qynh m9osqain\" dir=\"auto\">68K miles</span></div></div></div></div></a></div>"
      ],
      "text/plain": [
       "<IPython.core.display.HTML object>"
      ]
     },
     "metadata": {},
     "output_type": "display_data"
    },
    {
     "name": "stdout",
     "output_type": "stream",
     "text": [
      "-------------------\n",
      "$1,995\n",
      "2012 Dodge ram laramie Familiar\n",
      "Houston, TX\n",
      "174K miles\n",
      "-------------------\n",
      "None\n",
      "-------------------\n"
     ]
    },
    {
     "data": {
      "text/html": [
       "<div class=\"kbiprv82\"><a class=\"oajrlxb2 g5ia77u1 qu0x051f esr5mh6w e9989ue4 r7d6kgcz rq0escxv nhd2j8a9 nc684nl6 p7hjln8o kvgmc6g5 cxmmr5t8 oygrvhab hcukyx3x jb3vyjys rz4wbd8a qt6c0cv9 a8nywdso i1ao9s8h esuyzwwr f1sip0of lzcic4wl gmql0nx0 p8dawk7l\" href=\"/marketplace/item/3070693929654581/\" role=\"link\" tabindex=\"0\"><div class=\"j83agx80 cbu4d94t l9j0dhe7\"><div class=\"l9j0dhe7\"><div class=\"k4urcfbm l9j0dhe7\"><div class=\"kr520xx4 j9ispegn l9j0dhe7 stjgntxs ni8dbmo4 n7fi1qx3 i09qtzwb kzx2olss aot14ch1 p86d2i9g beltcj47 t63ysoy8 linmgsc8 hop1g133 opwvks06\"><div class=\"beltcj47 p86d2i9g aot14ch1 kzx2olss ni8dbmo4 stjgntxs d5it6em2 l9j0dhe7 k4urcfbm\"><div class=\"j83agx80 lhclo0ds ihdl84by pmk7jnqg h119xb3h iylxurvu bo2ra7bd\"><div class=\"rq0escxv j83agx80 buofh1pr datstx6m ggysqto6 exrn9cbp ojkyduve abpf7j7b l9j0dhe7 k4urcfbm\"><img alt=\"2012 Dodge ram laramie Familiar in Houston, TX\" class=\"idiwt2bm bixrwtb6 ni8dbmo4 stjgntxs k4urcfbm\" src=\"https://scontent.fhou1-1.fna.fbcdn.net/v/t1.0-0/c101.0.260.260a/p261x260/95559569_10216226805199812_1205206061351436288_o.jpg?_nc_cat=104&amp;_nc_sid=843cd7&amp;_nc_ohc=mMit9SphxPgAX9fbMLH&amp;_nc_ht=scontent.fhou1-1.fna&amp;oh=c2943ab2fe07a2e7df730891bf4e7bfb&amp;oe=5F6E6282\"></div></div></div></div></div></div><div class=\"rq0escxv j83agx80 cbu4d94t i1fnvgqd muag1w35 pybr56ya f10w8fjw k4urcfbm c7r68pdi suyy3zvx\"><div class=\"aahdfvyu fsotbgu8\"><span class=\"j83agx80\"><div class=\"a8nywdso e5nlhep0 rz4wbd8a ecm0bbzt btwxx1t3 j83agx80\"><div class=\"hlyrhctz\"><span class=\"oi732d6d ik7dh3pa d2edcug0 qv66sw1b c1et5uql a8c37x1j s89635nw ew0dbk1b a5q79mjw g1cxx5fr lrazzd5p oo9gr5id\" dir=\"auto\">$1,995</span></div><div class=\"f0t0fhil mkhogb32\"><span class=\"oi732d6d ik7dh3pa d2edcug0 qv66sw1b c1et5uql a8c37x1j muag1w35 enqfppq2 jq4qci2q a3bd9o3v ekzkrbhg oo9gr5id\" dir=\"auto\">$1,995</span></div></div></span></div><div class=\"aahdfvyu fsotbgu8\"><span aria-hidden=\"true\"><div class=\"a8nywdso e5nlhep0 rz4wbd8a linoseic\"><span class=\"a8c37x1j ni8dbmo4 stjgntxs l9j0dhe7 oi732d6d ik7dh3pa d2edcug0 qv66sw1b c1et5uql muag1w35 enqfppq2 jq4qci2q a3bd9o3v knj5qynh oo9gr5id\" dir=\"auto\" style=\"-webkit-box-orient: vertical; -webkit-line-clamp: 2; display: -webkit-box;\">2012 Dodge ram laramie Familiar</span></div></span></div><div class=\"aahdfvyu fsotbgu8\"><span aria-hidden=\"true\"><div class=\"a8nywdso e5nlhep0 rz4wbd8a ecm0bbzt\"><span class=\"a8c37x1j ni8dbmo4 stjgntxs l9j0dhe7 ltmttdrg g0qnabr5 oi732d6d ik7dh3pa d2edcug0 qv66sw1b c1et5uql hop8lmos enqfppq2 e9vueds3 j5wam9gi knj5qynh m9osqain\" dir=\"auto\">Houston, TX</span></div></span></div><div class=\"aahdfvyu fsotbgu8\"><div class=\"a8nywdso e5nlhep0 rz4wbd8a ecm0bbzt\"><span class=\"a8c37x1j ni8dbmo4 stjgntxs l9j0dhe7 ltmttdrg g0qnabr5 oi732d6d ik7dh3pa d2edcug0 qv66sw1b c1et5uql hop8lmos enqfppq2 e9vueds3 j5wam9gi knj5qynh m9osqain\" dir=\"auto\">174K miles</span></div></div></div></div></a></div>"
      ],
      "text/plain": [
       "<IPython.core.display.HTML object>"
      ]
     },
     "metadata": {},
     "output_type": "display_data"
    },
    {
     "name": "stdout",
     "output_type": "stream",
     "text": [
      "-------------------\n",
      "$1,190\n",
      "2016 Volkswagen Jetta\n",
      "Houston, TX\n",
      "1.1K miles\n",
      "-------------------\n",
      "None\n",
      "-------------------\n"
     ]
    },
    {
     "data": {
      "text/html": [
       "<div class=\"kbiprv82\"><a class=\"oajrlxb2 g5ia77u1 qu0x051f esr5mh6w e9989ue4 r7d6kgcz rq0escxv nhd2j8a9 nc684nl6 p7hjln8o kvgmc6g5 cxmmr5t8 oygrvhab hcukyx3x jb3vyjys rz4wbd8a qt6c0cv9 a8nywdso i1ao9s8h esuyzwwr f1sip0of lzcic4wl gmql0nx0 p8dawk7l\" href=\"/marketplace/item/1365910790238453/\" role=\"link\" tabindex=\"0\"><div class=\"j83agx80 cbu4d94t l9j0dhe7\"><div class=\"l9j0dhe7\"><div class=\"k4urcfbm l9j0dhe7\"><div class=\"kr520xx4 j9ispegn l9j0dhe7 stjgntxs ni8dbmo4 n7fi1qx3 i09qtzwb kzx2olss aot14ch1 p86d2i9g beltcj47 t63ysoy8 linmgsc8 hop1g133 opwvks06\"><div class=\"beltcj47 p86d2i9g aot14ch1 kzx2olss ni8dbmo4 stjgntxs d5it6em2 l9j0dhe7 k4urcfbm\"><div class=\"j83agx80 lhclo0ds ihdl84by pmk7jnqg h119xb3h iylxurvu bo2ra7bd\"><div class=\"rq0escxv j83agx80 buofh1pr datstx6m ggysqto6 exrn9cbp ojkyduve abpf7j7b l9j0dhe7 k4urcfbm\"><img alt=\"2016 Volkswagen Jetta in Houston, TX\" class=\"idiwt2bm bixrwtb6 ni8dbmo4 stjgntxs k4urcfbm\" src=\"https://scontent.fhou1-1.fna.fbcdn.net/v/t1.0-0/c43.0.260.260a/p261x260/78711384_618272148709715_7394810519699324928_n.jpg?_nc_cat=110&amp;_nc_sid=843cd7&amp;_nc_ohc=xBytIQZ-7MUAX_L07_P&amp;_nc_ht=scontent.fhou1-1.fna&amp;oh=d8173c8b07b81d25ee5d3d0fd0224a43&amp;oe=5F6CED25\"></div></div></div></div></div></div><div class=\"rq0escxv j83agx80 cbu4d94t i1fnvgqd muag1w35 pybr56ya f10w8fjw k4urcfbm c7r68pdi suyy3zvx\"><div class=\"aahdfvyu fsotbgu8\"><span class=\"j83agx80\"><div class=\"a8nywdso e5nlhep0 rz4wbd8a ecm0bbzt btwxx1t3 j83agx80\"><div class=\"hlyrhctz\"><span class=\"oi732d6d ik7dh3pa d2edcug0 qv66sw1b c1et5uql a8c37x1j s89635nw ew0dbk1b a5q79mjw g1cxx5fr lrazzd5p oo9gr5id\" dir=\"auto\">$1,190</span></div><div class=\"f0t0fhil mkhogb32\"><span class=\"oi732d6d ik7dh3pa d2edcug0 qv66sw1b c1et5uql a8c37x1j muag1w35 enqfppq2 jq4qci2q a3bd9o3v ekzkrbhg oo9gr5id\" dir=\"auto\">$1,190</span></div></div></span></div><div class=\"aahdfvyu fsotbgu8\"><span aria-hidden=\"true\"><div class=\"a8nywdso e5nlhep0 rz4wbd8a linoseic\"><span class=\"a8c37x1j ni8dbmo4 stjgntxs l9j0dhe7 oi732d6d ik7dh3pa d2edcug0 qv66sw1b c1et5uql muag1w35 enqfppq2 jq4qci2q a3bd9o3v knj5qynh oo9gr5id\" dir=\"auto\" style=\"-webkit-box-orient: vertical; -webkit-line-clamp: 2; display: -webkit-box;\">2016 Volkswagen Jetta</span></div></span></div><div class=\"aahdfvyu fsotbgu8\"><span aria-hidden=\"true\"><div class=\"a8nywdso e5nlhep0 rz4wbd8a ecm0bbzt\"><span class=\"a8c37x1j ni8dbmo4 stjgntxs l9j0dhe7 ltmttdrg g0qnabr5 oi732d6d ik7dh3pa d2edcug0 qv66sw1b c1et5uql hop8lmos enqfppq2 e9vueds3 j5wam9gi knj5qynh m9osqain\" dir=\"auto\">Houston, TX</span></div></span></div><div class=\"aahdfvyu fsotbgu8\"><div class=\"a8nywdso e5nlhep0 rz4wbd8a ecm0bbzt\"><span class=\"a8c37x1j ni8dbmo4 stjgntxs l9j0dhe7 ltmttdrg g0qnabr5 oi732d6d ik7dh3pa d2edcug0 qv66sw1b c1et5uql hop8lmos enqfppq2 e9vueds3 j5wam9gi knj5qynh m9osqain\" dir=\"auto\">1.1K miles</span></div></div></div></div></a></div>"
      ],
      "text/plain": [
       "<IPython.core.display.HTML object>"
      ]
     },
     "metadata": {},
     "output_type": "display_data"
    },
    {
     "name": "stdout",
     "output_type": "stream",
     "text": [
      "-------------------\n",
      "$3,000\n",
      "2019 Chevrolet Malibu\n",
      "Houston, TX\n",
      "49K miles\n",
      "-------------------\n",
      "None\n",
      "-------------------\n"
     ]
    },
    {
     "data": {
      "text/html": [
       "<div class=\"kbiprv82\"><a class=\"oajrlxb2 g5ia77u1 qu0x051f esr5mh6w e9989ue4 r7d6kgcz rq0escxv nhd2j8a9 nc684nl6 p7hjln8o kvgmc6g5 cxmmr5t8 oygrvhab hcukyx3x jb3vyjys rz4wbd8a qt6c0cv9 a8nywdso i1ao9s8h esuyzwwr f1sip0of lzcic4wl gmql0nx0 p8dawk7l\" href=\"/marketplace/item/317916029590172/\" role=\"link\" tabindex=\"0\"><div class=\"j83agx80 cbu4d94t l9j0dhe7\"><div class=\"l9j0dhe7\"><div class=\"k4urcfbm l9j0dhe7\"><div class=\"kr520xx4 j9ispegn l9j0dhe7 stjgntxs ni8dbmo4 n7fi1qx3 i09qtzwb kzx2olss aot14ch1 p86d2i9g beltcj47 t63ysoy8 linmgsc8 hop1g133 opwvks06\"><div class=\"beltcj47 p86d2i9g aot14ch1 kzx2olss ni8dbmo4 stjgntxs d5it6em2 l9j0dhe7 k4urcfbm\"><div class=\"j83agx80 lhclo0ds ihdl84by pmk7jnqg h119xb3h iylxurvu bo2ra7bd\"><div class=\"rq0escxv j83agx80 buofh1pr datstx6m ggysqto6 exrn9cbp ojkyduve abpf7j7b l9j0dhe7 k4urcfbm\"><img alt=\"2019 Chevrolet Malibu in Houston, TX\" class=\"idiwt2bm bixrwtb6 ni8dbmo4 stjgntxs k4urcfbm\" src=\"https://scontent.fhou1-1.fna.fbcdn.net/v/t1.0-0/c65.0.260.260a/p261x260/116796635_3260796400681979_6083240402023406413_n.jpg?_nc_cat=100&amp;_nc_sid=843cd7&amp;_nc_ohc=8aPlvfczbIIAX91yRhv&amp;_nc_ht=scontent.fhou1-1.fna&amp;oh=4ea8bac23673f27b3544e9668cb29339&amp;oe=5F6D2A30\"></div></div></div></div></div></div><div class=\"rq0escxv j83agx80 cbu4d94t i1fnvgqd muag1w35 pybr56ya f10w8fjw k4urcfbm c7r68pdi suyy3zvx\"><div class=\"aahdfvyu fsotbgu8\"><span class=\"j83agx80\"><div class=\"a8nywdso e5nlhep0 rz4wbd8a ecm0bbzt btwxx1t3 j83agx80\"><div class=\"hlyrhctz\"><span class=\"oi732d6d ik7dh3pa d2edcug0 qv66sw1b c1et5uql a8c37x1j s89635nw ew0dbk1b a5q79mjw g1cxx5fr lrazzd5p oo9gr5id\" dir=\"auto\">$3,000</span></div><div class=\"f0t0fhil mkhogb32\"><span class=\"oi732d6d ik7dh3pa d2edcug0 qv66sw1b c1et5uql a8c37x1j muag1w35 enqfppq2 jq4qci2q a3bd9o3v ekzkrbhg oo9gr5id\" dir=\"auto\">$3,000</span></div></div></span></div><div class=\"aahdfvyu fsotbgu8\"><span aria-hidden=\"true\"><div class=\"a8nywdso e5nlhep0 rz4wbd8a linoseic\"><span class=\"a8c37x1j ni8dbmo4 stjgntxs l9j0dhe7 oi732d6d ik7dh3pa d2edcug0 qv66sw1b c1et5uql muag1w35 enqfppq2 jq4qci2q a3bd9o3v knj5qynh oo9gr5id\" dir=\"auto\" style=\"-webkit-box-orient: vertical; -webkit-line-clamp: 2; display: -webkit-box;\">2019 Chevrolet Malibu</span></div></span></div><div class=\"aahdfvyu fsotbgu8\"><span aria-hidden=\"true\"><div class=\"a8nywdso e5nlhep0 rz4wbd8a ecm0bbzt\"><span class=\"a8c37x1j ni8dbmo4 stjgntxs l9j0dhe7 ltmttdrg g0qnabr5 oi732d6d ik7dh3pa d2edcug0 qv66sw1b c1et5uql hop8lmos enqfppq2 e9vueds3 j5wam9gi knj5qynh m9osqain\" dir=\"auto\">Houston, TX</span></div></span></div><div class=\"aahdfvyu fsotbgu8\"><div class=\"a8nywdso e5nlhep0 rz4wbd8a ecm0bbzt\"><span class=\"a8c37x1j ni8dbmo4 stjgntxs l9j0dhe7 ltmttdrg g0qnabr5 oi732d6d ik7dh3pa d2edcug0 qv66sw1b c1et5uql hop8lmos enqfppq2 e9vueds3 j5wam9gi knj5qynh m9osqain\" dir=\"auto\">49K miles</span></div></div></div></div></a></div>"
      ],
      "text/plain": [
       "<IPython.core.display.HTML object>"
      ]
     },
     "metadata": {},
     "output_type": "display_data"
    },
    {
     "name": "stdout",
     "output_type": "stream",
     "text": [
      "-------------------\n",
      "$4,000\n",
      "2013 Ford Fiesta S Sedan 4D\n",
      "Houston, TX\n",
      "77K miles\n",
      "-------------------\n",
      "None\n",
      "-------------------\n"
     ]
    },
    {
     "data": {
      "text/html": [
       "<div class=\"kbiprv82\"><a class=\"oajrlxb2 g5ia77u1 qu0x051f esr5mh6w e9989ue4 r7d6kgcz rq0escxv nhd2j8a9 nc684nl6 p7hjln8o kvgmc6g5 cxmmr5t8 oygrvhab hcukyx3x jb3vyjys rz4wbd8a qt6c0cv9 a8nywdso i1ao9s8h esuyzwwr f1sip0of lzcic4wl gmql0nx0 p8dawk7l\" href=\"/marketplace/item/368897384104459/\" role=\"link\" tabindex=\"0\"><div class=\"j83agx80 cbu4d94t l9j0dhe7\"><div class=\"l9j0dhe7\"><div class=\"k4urcfbm l9j0dhe7\"><div class=\"kr520xx4 j9ispegn l9j0dhe7 stjgntxs ni8dbmo4 n7fi1qx3 i09qtzwb kzx2olss aot14ch1 p86d2i9g beltcj47 t63ysoy8 linmgsc8 hop1g133 opwvks06\"><div class=\"beltcj47 p86d2i9g aot14ch1 kzx2olss ni8dbmo4 stjgntxs d5it6em2 l9j0dhe7 k4urcfbm\"><div class=\"j83agx80 lhclo0ds ihdl84by pmk7jnqg h119xb3h iylxurvu bo2ra7bd\"><div class=\"rq0escxv j83agx80 buofh1pr datstx6m ggysqto6 exrn9cbp ojkyduve abpf7j7b l9j0dhe7 k4urcfbm\"><img alt=\"2013 Ford Fiesta S Sedan 4D in Houston, TX\" class=\"idiwt2bm bixrwtb6 ni8dbmo4 stjgntxs k4urcfbm\" src=\"https://scontent.fhou1-1.fna.fbcdn.net/v/t1.0-0/c0.138.541.541a/s261x260/118129146_3772105002805517_4632843962509670247_n.jpg?_nc_cat=111&amp;_nc_sid=843cd7&amp;_nc_ohc=slEkch-otIYAX-Hut4l&amp;_nc_ht=scontent.fhou1-1.fna&amp;oh=348574de11e18afe5e96d59c76e2ddb5&amp;oe=5F6E7613\"></div></div></div></div></div></div><div class=\"rq0escxv j83agx80 cbu4d94t i1fnvgqd muag1w35 pybr56ya f10w8fjw k4urcfbm c7r68pdi suyy3zvx\"><div class=\"aahdfvyu fsotbgu8\"><span class=\"j83agx80\"><div class=\"a8nywdso e5nlhep0 rz4wbd8a ecm0bbzt btwxx1t3 j83agx80\"><div class=\"hlyrhctz\"><span class=\"oi732d6d ik7dh3pa d2edcug0 qv66sw1b c1et5uql a8c37x1j s89635nw ew0dbk1b a5q79mjw g1cxx5fr lrazzd5p oo9gr5id\" dir=\"auto\">$4,000</span></div><div class=\"f0t0fhil mkhogb32\"><span class=\"oi732d6d ik7dh3pa d2edcug0 qv66sw1b c1et5uql a8c37x1j muag1w35 enqfppq2 jq4qci2q a3bd9o3v ekzkrbhg oo9gr5id\" dir=\"auto\">$4,000</span></div></div></span></div><div class=\"aahdfvyu fsotbgu8\"><span aria-hidden=\"true\"><div class=\"a8nywdso e5nlhep0 rz4wbd8a linoseic\"><span class=\"a8c37x1j ni8dbmo4 stjgntxs l9j0dhe7 oi732d6d ik7dh3pa d2edcug0 qv66sw1b c1et5uql muag1w35 enqfppq2 jq4qci2q a3bd9o3v knj5qynh oo9gr5id\" dir=\"auto\" style=\"-webkit-box-orient: vertical; -webkit-line-clamp: 2; display: -webkit-box;\">2013 Ford Fiesta S Sedan 4D</span></div></span></div><div class=\"aahdfvyu fsotbgu8\"><span aria-hidden=\"true\"><div class=\"a8nywdso e5nlhep0 rz4wbd8a ecm0bbzt\"><span class=\"a8c37x1j ni8dbmo4 stjgntxs l9j0dhe7 ltmttdrg g0qnabr5 oi732d6d ik7dh3pa d2edcug0 qv66sw1b c1et5uql hop8lmos enqfppq2 e9vueds3 j5wam9gi knj5qynh m9osqain\" dir=\"auto\">Houston, TX</span></div></span></div><div class=\"aahdfvyu fsotbgu8\"><div class=\"a8nywdso e5nlhep0 rz4wbd8a ecm0bbzt\"><span class=\"a8c37x1j ni8dbmo4 stjgntxs l9j0dhe7 ltmttdrg g0qnabr5 oi732d6d ik7dh3pa d2edcug0 qv66sw1b c1et5uql hop8lmos enqfppq2 e9vueds3 j5wam9gi knj5qynh m9osqain\" dir=\"auto\">77K miles</span></div></div></div></div></a></div>"
      ],
      "text/plain": [
       "<IPython.core.display.HTML object>"
      ]
     },
     "metadata": {},
     "output_type": "display_data"
    },
    {
     "name": "stdout",
     "output_type": "stream",
     "text": [
      "-------------------\n",
      "$2,000\n",
      "2015 Chevrolet Malibu\n",
      "Houston, TX\n",
      "66K miles\n",
      "-------------------\n",
      "None\n",
      "-------------------\n"
     ]
    },
    {
     "data": {
      "text/html": [
       "<div class=\"kbiprv82\"><a class=\"oajrlxb2 g5ia77u1 qu0x051f esr5mh6w e9989ue4 r7d6kgcz rq0escxv nhd2j8a9 nc684nl6 p7hjln8o kvgmc6g5 cxmmr5t8 oygrvhab hcukyx3x jb3vyjys rz4wbd8a qt6c0cv9 a8nywdso i1ao9s8h esuyzwwr f1sip0of lzcic4wl gmql0nx0 p8dawk7l\" href=\"/marketplace/item/2375861619374703/\" role=\"link\" tabindex=\"0\"><div class=\"j83agx80 cbu4d94t l9j0dhe7\"><div class=\"l9j0dhe7\"><div class=\"k4urcfbm l9j0dhe7\"><div class=\"kr520xx4 j9ispegn l9j0dhe7 stjgntxs ni8dbmo4 n7fi1qx3 i09qtzwb kzx2olss aot14ch1 p86d2i9g beltcj47 t63ysoy8 linmgsc8 hop1g133 opwvks06\"><div class=\"beltcj47 p86d2i9g aot14ch1 kzx2olss ni8dbmo4 stjgntxs d5it6em2 l9j0dhe7 k4urcfbm\"><div class=\"j83agx80 lhclo0ds ihdl84by pmk7jnqg h119xb3h iylxurvu bo2ra7bd\"><div class=\"rq0escxv j83agx80 buofh1pr datstx6m ggysqto6 exrn9cbp ojkyduve abpf7j7b l9j0dhe7 k4urcfbm\"><img alt=\"2015 Chevrolet Malibu in Houston, TX\" class=\"idiwt2bm bixrwtb6 ni8dbmo4 stjgntxs k4urcfbm\" src=\"https://scontent.fhou1-1.fna.fbcdn.net/v/t1.0-0/c43.0.260.260a/p261x260/118384248_3269123893167590_7044001727248555020_o.jpg?_nc_cat=100&amp;_nc_sid=843cd7&amp;_nc_ohc=opiBnwsVFR4AX9_aMo5&amp;_nc_ht=scontent.fhou1-1.fna&amp;oh=8961ed65411994c57c4165c1f39be163&amp;oe=5F6E61A3\"></div></div></div></div></div></div><div class=\"rq0escxv j83agx80 cbu4d94t i1fnvgqd muag1w35 pybr56ya f10w8fjw k4urcfbm c7r68pdi suyy3zvx\"><div class=\"aahdfvyu fsotbgu8\"><span class=\"j83agx80\"><div class=\"a8nywdso e5nlhep0 rz4wbd8a ecm0bbzt btwxx1t3 j83agx80\"><div class=\"hlyrhctz\"><span class=\"oi732d6d ik7dh3pa d2edcug0 qv66sw1b c1et5uql a8c37x1j s89635nw ew0dbk1b a5q79mjw g1cxx5fr lrazzd5p oo9gr5id\" dir=\"auto\">$2,000</span></div><div class=\"f0t0fhil mkhogb32\"><span class=\"oi732d6d ik7dh3pa d2edcug0 qv66sw1b c1et5uql a8c37x1j muag1w35 enqfppq2 jq4qci2q a3bd9o3v ekzkrbhg oo9gr5id\" dir=\"auto\">$2,000</span></div></div></span></div><div class=\"aahdfvyu fsotbgu8\"><span aria-hidden=\"true\"><div class=\"a8nywdso e5nlhep0 rz4wbd8a linoseic\"><span class=\"a8c37x1j ni8dbmo4 stjgntxs l9j0dhe7 oi732d6d ik7dh3pa d2edcug0 qv66sw1b c1et5uql muag1w35 enqfppq2 jq4qci2q a3bd9o3v knj5qynh oo9gr5id\" dir=\"auto\" style=\"-webkit-box-orient: vertical; -webkit-line-clamp: 2; display: -webkit-box;\">2015 Chevrolet Malibu</span></div></span></div><div class=\"aahdfvyu fsotbgu8\"><span aria-hidden=\"true\"><div class=\"a8nywdso e5nlhep0 rz4wbd8a ecm0bbzt\"><span class=\"a8c37x1j ni8dbmo4 stjgntxs l9j0dhe7 ltmttdrg g0qnabr5 oi732d6d ik7dh3pa d2edcug0 qv66sw1b c1et5uql hop8lmos enqfppq2 e9vueds3 j5wam9gi knj5qynh m9osqain\" dir=\"auto\">Houston, TX</span></div></span></div><div class=\"aahdfvyu fsotbgu8\"><div class=\"a8nywdso e5nlhep0 rz4wbd8a ecm0bbzt\"><span class=\"a8c37x1j ni8dbmo4 stjgntxs l9j0dhe7 ltmttdrg g0qnabr5 oi732d6d ik7dh3pa d2edcug0 qv66sw1b c1et5uql hop8lmos enqfppq2 e9vueds3 j5wam9gi knj5qynh m9osqain\" dir=\"auto\">66K miles</span></div></div></div></div></a></div>"
      ],
      "text/plain": [
       "<IPython.core.display.HTML object>"
      ]
     },
     "metadata": {},
     "output_type": "display_data"
    },
    {
     "name": "stdout",
     "output_type": "stream",
     "text": [
      "-------------------\n",
      "$1,500\n",
      "2018 Nissan ALTIMA 2.5 RS\n",
      "Houston, TX\n",
      "34K miles\n",
      "-------------------\n",
      "None\n",
      "-------------------\n"
     ]
    },
    {
     "data": {
      "text/html": [
       "<div class=\"kbiprv82\"><a class=\"oajrlxb2 g5ia77u1 qu0x051f esr5mh6w e9989ue4 r7d6kgcz rq0escxv nhd2j8a9 nc684nl6 p7hjln8o kvgmc6g5 cxmmr5t8 oygrvhab hcukyx3x jb3vyjys rz4wbd8a qt6c0cv9 a8nywdso i1ao9s8h esuyzwwr f1sip0of lzcic4wl gmql0nx0 p8dawk7l\" href=\"/marketplace/item/181922499547155/\" role=\"link\" tabindex=\"0\"><div class=\"j83agx80 cbu4d94t l9j0dhe7\"><div class=\"l9j0dhe7\"><div class=\"k4urcfbm l9j0dhe7\"><div class=\"kr520xx4 j9ispegn l9j0dhe7 stjgntxs ni8dbmo4 n7fi1qx3 i09qtzwb kzx2olss aot14ch1 p86d2i9g beltcj47 t63ysoy8 linmgsc8 hop1g133 opwvks06\"><div class=\"beltcj47 p86d2i9g aot14ch1 kzx2olss ni8dbmo4 stjgntxs d5it6em2 l9j0dhe7 k4urcfbm\"><div class=\"j83agx80 lhclo0ds ihdl84by pmk7jnqg h119xb3h iylxurvu bo2ra7bd\"><div class=\"rq0escxv j83agx80 buofh1pr datstx6m ggysqto6 exrn9cbp ojkyduve abpf7j7b l9j0dhe7 k4urcfbm\"><img alt=\"2018 Nissan ALTIMA 2.5 RS in Houston, TX\" class=\"idiwt2bm bixrwtb6 ni8dbmo4 stjgntxs k4urcfbm\" src=\"https://scontent.fhou1-1.fna.fbcdn.net/v/t1.0-0/c65.0.260.260a/p261x260/83850510_2771979632868445_5799660877145702400_n.jpg?_nc_cat=111&amp;_nc_sid=843cd7&amp;_nc_ohc=mBdCOJK45pMAX8oDZ10&amp;_nc_ht=scontent.fhou1-1.fna&amp;oh=8acdb3e31fcaab873dbf4ab76783f883&amp;oe=5F6D1336\"></div></div></div></div></div></div><div class=\"rq0escxv j83agx80 cbu4d94t i1fnvgqd muag1w35 pybr56ya f10w8fjw k4urcfbm c7r68pdi suyy3zvx\"><div class=\"aahdfvyu fsotbgu8\"><span class=\"j83agx80\"><div class=\"a8nywdso e5nlhep0 rz4wbd8a ecm0bbzt btwxx1t3 j83agx80\"><div class=\"hlyrhctz\"><span class=\"oi732d6d ik7dh3pa d2edcug0 qv66sw1b c1et5uql a8c37x1j s89635nw ew0dbk1b a5q79mjw g1cxx5fr lrazzd5p oo9gr5id\" dir=\"auto\">$1,500</span></div><div class=\"f0t0fhil mkhogb32\"><span class=\"oi732d6d ik7dh3pa d2edcug0 qv66sw1b c1et5uql a8c37x1j muag1w35 enqfppq2 jq4qci2q a3bd9o3v ekzkrbhg oo9gr5id\" dir=\"auto\">$1,500</span></div></div></span></div><div class=\"aahdfvyu fsotbgu8\"><span aria-hidden=\"true\"><div class=\"a8nywdso e5nlhep0 rz4wbd8a linoseic\"><span class=\"a8c37x1j ni8dbmo4 stjgntxs l9j0dhe7 oi732d6d ik7dh3pa d2edcug0 qv66sw1b c1et5uql muag1w35 enqfppq2 jq4qci2q a3bd9o3v knj5qynh oo9gr5id\" dir=\"auto\" style=\"-webkit-box-orient: vertical; -webkit-line-clamp: 2; display: -webkit-box;\">2018 Nissan ALTIMA 2.5 RS</span></div></span></div><div class=\"aahdfvyu fsotbgu8\"><span aria-hidden=\"true\"><div class=\"a8nywdso e5nlhep0 rz4wbd8a ecm0bbzt\"><span class=\"a8c37x1j ni8dbmo4 stjgntxs l9j0dhe7 ltmttdrg g0qnabr5 oi732d6d ik7dh3pa d2edcug0 qv66sw1b c1et5uql hop8lmos enqfppq2 e9vueds3 j5wam9gi knj5qynh m9osqain\" dir=\"auto\">Houston, TX</span></div></span></div><div class=\"aahdfvyu fsotbgu8\"><div class=\"a8nywdso e5nlhep0 rz4wbd8a ecm0bbzt\"><span class=\"a8c37x1j ni8dbmo4 stjgntxs l9j0dhe7 ltmttdrg g0qnabr5 oi732d6d ik7dh3pa d2edcug0 qv66sw1b c1et5uql hop8lmos enqfppq2 e9vueds3 j5wam9gi knj5qynh m9osqain\" dir=\"auto\">34K miles</span></div></div></div></div></a></div>"
      ],
      "text/plain": [
       "<IPython.core.display.HTML object>"
      ]
     },
     "metadata": {},
     "output_type": "display_data"
    },
    {
     "name": "stdout",
     "output_type": "stream",
     "text": [
      "-------------------\n",
      "$3,500\n",
      "2012 Toyota Yaris LE Hatchback 3D\n",
      "Houston, TX\n",
      "219K miles\n",
      "-------------------\n",
      "None\n",
      "-------------------\n"
     ]
    },
    {
     "data": {
      "text/html": [
       "<div class=\"kbiprv82\"><a class=\"oajrlxb2 g5ia77u1 qu0x051f esr5mh6w e9989ue4 r7d6kgcz rq0escxv nhd2j8a9 nc684nl6 p7hjln8o kvgmc6g5 cxmmr5t8 oygrvhab hcukyx3x jb3vyjys rz4wbd8a qt6c0cv9 a8nywdso i1ao9s8h esuyzwwr f1sip0of lzcic4wl gmql0nx0 p8dawk7l\" href=\"/marketplace/item/583752422273737/\" role=\"link\" tabindex=\"0\"><div class=\"j83agx80 cbu4d94t l9j0dhe7\"><div class=\"l9j0dhe7\"><div class=\"k4urcfbm l9j0dhe7\"><div class=\"kr520xx4 j9ispegn l9j0dhe7 stjgntxs ni8dbmo4 n7fi1qx3 i09qtzwb kzx2olss aot14ch1 p86d2i9g beltcj47 t63ysoy8 linmgsc8 hop1g133 opwvks06\"><div class=\"beltcj47 p86d2i9g aot14ch1 kzx2olss ni8dbmo4 stjgntxs d5it6em2 l9j0dhe7 k4urcfbm\"><div class=\"j83agx80 lhclo0ds ihdl84by pmk7jnqg h119xb3h iylxurvu bo2ra7bd\"><div class=\"rq0escxv j83agx80 buofh1pr datstx6m ggysqto6 exrn9cbp ojkyduve abpf7j7b l9j0dhe7 k4urcfbm\"><img alt=\"2012 Toyota Yaris LE Hatchback 3D in Houston, TX\" class=\"idiwt2bm bixrwtb6 ni8dbmo4 stjgntxs k4urcfbm\" src=\"https://scontent.fhou1-1.fna.fbcdn.net/v/t1.0-0/c0.79.720.720a/s261x260/117336606_10221914691230419_4608879972570774252_n.jpg?_nc_cat=104&amp;_nc_sid=843cd7&amp;_nc_ohc=zl2VD-7ziEIAX9aml6J&amp;_nc_ht=scontent.fhou1-1.fna&amp;oh=e479664024c62b3df724c65fe0823423&amp;oe=5F6CC632\"></div></div></div></div></div></div><div class=\"rq0escxv j83agx80 cbu4d94t i1fnvgqd muag1w35 pybr56ya f10w8fjw k4urcfbm c7r68pdi suyy3zvx\"><div class=\"aahdfvyu fsotbgu8\"><span class=\"j83agx80\"><div class=\"a8nywdso e5nlhep0 rz4wbd8a ecm0bbzt btwxx1t3 j83agx80\"><div class=\"hlyrhctz\"><span class=\"oi732d6d ik7dh3pa d2edcug0 qv66sw1b c1et5uql a8c37x1j s89635nw ew0dbk1b a5q79mjw g1cxx5fr lrazzd5p oo9gr5id\" dir=\"auto\">$3,500</span></div><div class=\"f0t0fhil mkhogb32\"><span class=\"oi732d6d ik7dh3pa d2edcug0 qv66sw1b c1et5uql a8c37x1j muag1w35 enqfppq2 jq4qci2q a3bd9o3v ekzkrbhg oo9gr5id\" dir=\"auto\">$3,500</span></div></div></span></div><div class=\"aahdfvyu fsotbgu8\"><span aria-hidden=\"true\"><div class=\"a8nywdso e5nlhep0 rz4wbd8a linoseic\"><span class=\"a8c37x1j ni8dbmo4 stjgntxs l9j0dhe7 oi732d6d ik7dh3pa d2edcug0 qv66sw1b c1et5uql muag1w35 enqfppq2 jq4qci2q a3bd9o3v knj5qynh oo9gr5id\" dir=\"auto\" style=\"-webkit-box-orient: vertical; -webkit-line-clamp: 2; display: -webkit-box;\">2012 Toyota Yaris LE Hatchback 3D</span></div></span></div><div class=\"aahdfvyu fsotbgu8\"><span aria-hidden=\"true\"><div class=\"a8nywdso e5nlhep0 rz4wbd8a ecm0bbzt\"><span class=\"a8c37x1j ni8dbmo4 stjgntxs l9j0dhe7 ltmttdrg g0qnabr5 oi732d6d ik7dh3pa d2edcug0 qv66sw1b c1et5uql hop8lmos enqfppq2 e9vueds3 j5wam9gi knj5qynh m9osqain\" dir=\"auto\">Houston, TX</span></div></span></div><div class=\"aahdfvyu fsotbgu8\"><div class=\"a8nywdso e5nlhep0 rz4wbd8a ecm0bbzt\"><span class=\"a8c37x1j ni8dbmo4 stjgntxs l9j0dhe7 ltmttdrg g0qnabr5 oi732d6d ik7dh3pa d2edcug0 qv66sw1b c1et5uql hop8lmos enqfppq2 e9vueds3 j5wam9gi knj5qynh m9osqain\" dir=\"auto\">219K miles</span></div></div></div></div></a></div>"
      ],
      "text/plain": [
       "<IPython.core.display.HTML object>"
      ]
     },
     "metadata": {},
     "output_type": "display_data"
    },
    {
     "name": "stdout",
     "output_type": "stream",
     "text": [
      "-------------------\n",
      "$500\n",
      "2018 Jeep Wrangler RUBICON\n",
      "Houston, TX\n",
      "13K miles\n",
      "-------------------\n",
      "None\n",
      "-------------------\n"
     ]
    },
    {
     "data": {
      "text/html": [
       "<div class=\"kbiprv82\"><a class=\"oajrlxb2 g5ia77u1 qu0x051f esr5mh6w e9989ue4 r7d6kgcz rq0escxv nhd2j8a9 nc684nl6 p7hjln8o kvgmc6g5 cxmmr5t8 oygrvhab hcukyx3x jb3vyjys rz4wbd8a qt6c0cv9 a8nywdso i1ao9s8h esuyzwwr f1sip0of lzcic4wl gmql0nx0 p8dawk7l\" href=\"/marketplace/item/1785673111564390/\" role=\"link\" tabindex=\"0\"><div class=\"j83agx80 cbu4d94t l9j0dhe7\"><div class=\"l9j0dhe7\"><div class=\"k4urcfbm l9j0dhe7\"><div class=\"kr520xx4 j9ispegn l9j0dhe7 stjgntxs ni8dbmo4 n7fi1qx3 i09qtzwb kzx2olss aot14ch1 p86d2i9g beltcj47 t63ysoy8 linmgsc8 hop1g133 opwvks06\"><div class=\"beltcj47 p86d2i9g aot14ch1 kzx2olss ni8dbmo4 stjgntxs d5it6em2 l9j0dhe7 k4urcfbm\"><div class=\"j83agx80 lhclo0ds ihdl84by pmk7jnqg h119xb3h iylxurvu bo2ra7bd\"><div class=\"rq0escxv j83agx80 buofh1pr datstx6m ggysqto6 exrn9cbp ojkyduve abpf7j7b l9j0dhe7 k4urcfbm\"><img alt=\"2018 Jeep Wrangler RUBICON in Houston, TX\" class=\"idiwt2bm bixrwtb6 ni8dbmo4 stjgntxs k4urcfbm\" src=\"https://scontent.fhou1-1.fna.fbcdn.net/v/t1.0-0/c43.0.260.260a/p261x260/80261311_142541153845993_3668292899923034112_o.jpg?_nc_cat=100&amp;_nc_sid=843cd7&amp;_nc_ohc=d7Q4vV6AJwwAX-NYTTV&amp;_nc_ht=scontent.fhou1-1.fna&amp;oh=f8df4f50a18d7c9b425c6fa82f6ed76d&amp;oe=5F6CB51B\"></div></div></div></div></div></div><div class=\"rq0escxv j83agx80 cbu4d94t i1fnvgqd muag1w35 pybr56ya f10w8fjw k4urcfbm c7r68pdi suyy3zvx\"><div class=\"aahdfvyu fsotbgu8\"><span class=\"j83agx80\"><div class=\"a8nywdso e5nlhep0 rz4wbd8a ecm0bbzt btwxx1t3 j83agx80\"><div class=\"hlyrhctz\"><span class=\"oi732d6d ik7dh3pa d2edcug0 qv66sw1b c1et5uql a8c37x1j s89635nw ew0dbk1b a5q79mjw g1cxx5fr lrazzd5p oo9gr5id\" dir=\"auto\">$500</span></div><div class=\"f0t0fhil mkhogb32\"><span class=\"oi732d6d ik7dh3pa d2edcug0 qv66sw1b c1et5uql a8c37x1j muag1w35 enqfppq2 jq4qci2q a3bd9o3v ekzkrbhg oo9gr5id\" dir=\"auto\">$500</span></div></div></span></div><div class=\"aahdfvyu fsotbgu8\"><span aria-hidden=\"true\"><div class=\"a8nywdso e5nlhep0 rz4wbd8a linoseic\"><span class=\"a8c37x1j ni8dbmo4 stjgntxs l9j0dhe7 oi732d6d ik7dh3pa d2edcug0 qv66sw1b c1et5uql muag1w35 enqfppq2 jq4qci2q a3bd9o3v knj5qynh oo9gr5id\" dir=\"auto\" style=\"-webkit-box-orient: vertical; -webkit-line-clamp: 2; display: -webkit-box;\">2018 Jeep Wrangler RUBICON</span></div></span></div><div class=\"aahdfvyu fsotbgu8\"><span aria-hidden=\"true\"><div class=\"a8nywdso e5nlhep0 rz4wbd8a ecm0bbzt\"><span class=\"a8c37x1j ni8dbmo4 stjgntxs l9j0dhe7 ltmttdrg g0qnabr5 oi732d6d ik7dh3pa d2edcug0 qv66sw1b c1et5uql hop8lmos enqfppq2 e9vueds3 j5wam9gi knj5qynh m9osqain\" dir=\"auto\">Houston, TX</span></div></span></div><div class=\"aahdfvyu fsotbgu8\"><div class=\"a8nywdso e5nlhep0 rz4wbd8a ecm0bbzt\"><span class=\"a8c37x1j ni8dbmo4 stjgntxs l9j0dhe7 ltmttdrg g0qnabr5 oi732d6d ik7dh3pa d2edcug0 qv66sw1b c1et5uql hop8lmos enqfppq2 e9vueds3 j5wam9gi knj5qynh m9osqain\" dir=\"auto\">13K miles</span></div></div></div></div></a></div>"
      ],
      "text/plain": [
       "<IPython.core.display.HTML object>"
      ]
     },
     "metadata": {},
     "output_type": "display_data"
    },
    {
     "name": "stdout",
     "output_type": "stream",
     "text": [
      "-------------------\n",
      "$990\n",
      "2012 Volkswagen Jetta\n",
      "Houston, TX\n",
      "1.8K miles\n",
      "-------------------\n",
      "None\n",
      "-------------------\n"
     ]
    },
    {
     "data": {
      "text/html": [
       "<div class=\"kbiprv82\"><a class=\"oajrlxb2 g5ia77u1 qu0x051f esr5mh6w e9989ue4 r7d6kgcz rq0escxv nhd2j8a9 nc684nl6 p7hjln8o kvgmc6g5 cxmmr5t8 oygrvhab hcukyx3x jb3vyjys rz4wbd8a qt6c0cv9 a8nywdso i1ao9s8h esuyzwwr f1sip0of lzcic4wl gmql0nx0 p8dawk7l\" href=\"/marketplace/item/773854870048612/\" role=\"link\" tabindex=\"0\"><div class=\"j83agx80 cbu4d94t l9j0dhe7\"><div class=\"l9j0dhe7\"><div class=\"k4urcfbm l9j0dhe7\"><div class=\"kr520xx4 j9ispegn l9j0dhe7 stjgntxs ni8dbmo4 n7fi1qx3 i09qtzwb kzx2olss aot14ch1 p86d2i9g beltcj47 t63ysoy8 linmgsc8 hop1g133 opwvks06\"><div class=\"beltcj47 p86d2i9g aot14ch1 kzx2olss ni8dbmo4 stjgntxs d5it6em2 l9j0dhe7 k4urcfbm\"><div class=\"j83agx80 lhclo0ds ihdl84by pmk7jnqg h119xb3h iylxurvu bo2ra7bd\"><div class=\"rq0escxv j83agx80 buofh1pr datstx6m ggysqto6 exrn9cbp ojkyduve abpf7j7b l9j0dhe7 k4urcfbm\"><img alt=\"2012 Volkswagen Jetta in Houston, TX\" class=\"idiwt2bm bixrwtb6 ni8dbmo4 stjgntxs k4urcfbm\" src=\"https://scontent.fhou1-2.fna.fbcdn.net/v/t1.0-0/c43.0.260.260a/p261x260/115731480_795099561026972_27675076005173651_n.jpg?_nc_cat=105&amp;_nc_sid=843cd7&amp;_nc_ohc=PGh7dH9SFXEAX-0ApMi&amp;_nc_ht=scontent.fhou1-2.fna&amp;oh=0ad2ca88600851aff2f187b6a92f573c&amp;oe=5F6D415E\"></div></div></div></div></div></div><div class=\"rq0escxv j83agx80 cbu4d94t i1fnvgqd muag1w35 pybr56ya f10w8fjw k4urcfbm c7r68pdi suyy3zvx\"><div class=\"aahdfvyu fsotbgu8\"><span class=\"j83agx80\"><div class=\"a8nywdso e5nlhep0 rz4wbd8a ecm0bbzt btwxx1t3 j83agx80\"><div class=\"hlyrhctz\"><span class=\"oi732d6d ik7dh3pa d2edcug0 qv66sw1b c1et5uql a8c37x1j s89635nw ew0dbk1b a5q79mjw g1cxx5fr lrazzd5p oo9gr5id\" dir=\"auto\">$990</span></div><div class=\"f0t0fhil mkhogb32\"><span class=\"oi732d6d ik7dh3pa d2edcug0 qv66sw1b c1et5uql a8c37x1j muag1w35 enqfppq2 jq4qci2q a3bd9o3v ekzkrbhg oo9gr5id\" dir=\"auto\">$990</span></div></div></span></div><div class=\"aahdfvyu fsotbgu8\"><span aria-hidden=\"true\"><div class=\"a8nywdso e5nlhep0 rz4wbd8a linoseic\"><span class=\"a8c37x1j ni8dbmo4 stjgntxs l9j0dhe7 oi732d6d ik7dh3pa d2edcug0 qv66sw1b c1et5uql muag1w35 enqfppq2 jq4qci2q a3bd9o3v knj5qynh oo9gr5id\" dir=\"auto\" style=\"-webkit-box-orient: vertical; -webkit-line-clamp: 2; display: -webkit-box;\">2012 Volkswagen Jetta</span></div></span></div><div class=\"aahdfvyu fsotbgu8\"><span aria-hidden=\"true\"><div class=\"a8nywdso e5nlhep0 rz4wbd8a ecm0bbzt\"><span class=\"a8c37x1j ni8dbmo4 stjgntxs l9j0dhe7 ltmttdrg g0qnabr5 oi732d6d ik7dh3pa d2edcug0 qv66sw1b c1et5uql hop8lmos enqfppq2 e9vueds3 j5wam9gi knj5qynh m9osqain\" dir=\"auto\">Houston, TX</span></div></span></div><div class=\"aahdfvyu fsotbgu8\"><div class=\"a8nywdso e5nlhep0 rz4wbd8a ecm0bbzt\"><span class=\"a8c37x1j ni8dbmo4 stjgntxs l9j0dhe7 ltmttdrg g0qnabr5 oi732d6d ik7dh3pa d2edcug0 qv66sw1b c1et5uql hop8lmos enqfppq2 e9vueds3 j5wam9gi knj5qynh m9osqain\" dir=\"auto\">1.8K miles</span></div></div></div></div></a></div>"
      ],
      "text/plain": [
       "<IPython.core.display.HTML object>"
      ]
     },
     "metadata": {},
     "output_type": "display_data"
    },
    {
     "name": "stdout",
     "output_type": "stream",
     "text": [
      "-------------------\n",
      "$699\n",
      "2018 Toyota avalon. XLE Sedan 4D\n",
      "Houston, TX\n",
      "28K miles\n",
      "-------------------\n",
      "None\n",
      "-------------------\n"
     ]
    },
    {
     "data": {
      "text/html": [
       "<div class=\"kbiprv82\"><a class=\"oajrlxb2 g5ia77u1 qu0x051f esr5mh6w e9989ue4 r7d6kgcz rq0escxv nhd2j8a9 nc684nl6 p7hjln8o kvgmc6g5 cxmmr5t8 oygrvhab hcukyx3x jb3vyjys rz4wbd8a qt6c0cv9 a8nywdso i1ao9s8h esuyzwwr f1sip0of lzcic4wl gmql0nx0 p8dawk7l\" href=\"/marketplace/item/195023801905175/\" role=\"link\" tabindex=\"0\"><div class=\"j83agx80 cbu4d94t l9j0dhe7\"><div class=\"l9j0dhe7\"><div class=\"k4urcfbm l9j0dhe7\"><div class=\"kr520xx4 j9ispegn l9j0dhe7 stjgntxs ni8dbmo4 n7fi1qx3 i09qtzwb kzx2olss aot14ch1 p86d2i9g beltcj47 t63ysoy8 linmgsc8 hop1g133 opwvks06\"><div class=\"beltcj47 p86d2i9g aot14ch1 kzx2olss ni8dbmo4 stjgntxs d5it6em2 l9j0dhe7 k4urcfbm\"><div class=\"j83agx80 lhclo0ds ihdl84by pmk7jnqg h119xb3h iylxurvu bo2ra7bd\"><div class=\"rq0escxv j83agx80 buofh1pr datstx6m ggysqto6 exrn9cbp ojkyduve abpf7j7b l9j0dhe7 k4urcfbm\"><img alt=\"2018 Toyota avalon. XLE Sedan 4D in Houston, TX\" class=\"idiwt2bm bixrwtb6 ni8dbmo4 stjgntxs k4urcfbm\" src=\"https://scontent.fhou1-1.fna.fbcdn.net/v/t1.0-0/c0.31.280.280a/s261x260/106454697_2975097209206896_59247987331638406_n.jpg?_nc_cat=111&amp;_nc_sid=843cd7&amp;_nc_ohc=LINgLbtqpmsAX-VYRRK&amp;_nc_ht=scontent.fhou1-1.fna&amp;oh=3308e1927656c4a72086b4a93e3a93f4&amp;oe=5F6B7DFA\"></div></div></div></div></div></div><div class=\"rq0escxv j83agx80 cbu4d94t i1fnvgqd muag1w35 pybr56ya f10w8fjw k4urcfbm c7r68pdi suyy3zvx\"><div class=\"aahdfvyu fsotbgu8\"><span class=\"j83agx80\"><div class=\"a8nywdso e5nlhep0 rz4wbd8a ecm0bbzt btwxx1t3 j83agx80\"><div class=\"hlyrhctz\"><span class=\"oi732d6d ik7dh3pa d2edcug0 qv66sw1b c1et5uql a8c37x1j s89635nw ew0dbk1b a5q79mjw g1cxx5fr lrazzd5p oo9gr5id\" dir=\"auto\">$699</span></div><div class=\"f0t0fhil mkhogb32\"><span class=\"oi732d6d ik7dh3pa d2edcug0 qv66sw1b c1et5uql a8c37x1j muag1w35 enqfppq2 jq4qci2q a3bd9o3v ekzkrbhg oo9gr5id\" dir=\"auto\">$699</span></div></div></span></div><div class=\"aahdfvyu fsotbgu8\"><span aria-hidden=\"true\"><div class=\"a8nywdso e5nlhep0 rz4wbd8a linoseic\"><span class=\"a8c37x1j ni8dbmo4 stjgntxs l9j0dhe7 oi732d6d ik7dh3pa d2edcug0 qv66sw1b c1et5uql muag1w35 enqfppq2 jq4qci2q a3bd9o3v knj5qynh oo9gr5id\" dir=\"auto\" style=\"-webkit-box-orient: vertical; -webkit-line-clamp: 2; display: -webkit-box;\">2018 Toyota avalon. XLE Sedan 4D</span></div></span></div><div class=\"aahdfvyu fsotbgu8\"><span aria-hidden=\"true\"><div class=\"a8nywdso e5nlhep0 rz4wbd8a ecm0bbzt\"><span class=\"a8c37x1j ni8dbmo4 stjgntxs l9j0dhe7 ltmttdrg g0qnabr5 oi732d6d ik7dh3pa d2edcug0 qv66sw1b c1et5uql hop8lmos enqfppq2 e9vueds3 j5wam9gi knj5qynh m9osqain\" dir=\"auto\">Houston, TX</span></div></span></div><div class=\"aahdfvyu fsotbgu8\"><div class=\"a8nywdso e5nlhep0 rz4wbd8a ecm0bbzt\"><span class=\"a8c37x1j ni8dbmo4 stjgntxs l9j0dhe7 ltmttdrg g0qnabr5 oi732d6d ik7dh3pa d2edcug0 qv66sw1b c1et5uql hop8lmos enqfppq2 e9vueds3 j5wam9gi knj5qynh m9osqain\" dir=\"auto\">28K miles</span></div></div></div></div></a></div>"
      ],
      "text/plain": [
       "<IPython.core.display.HTML object>"
      ]
     },
     "metadata": {},
     "output_type": "display_data"
    },
    {
     "name": "stdout",
     "output_type": "stream",
     "text": [
      "-------------------\n",
      "$2,500\n",
      "2013 Ford Explorer Other\n",
      "Houston, TX\n",
      "300 miles\n",
      "-------------------\n",
      "None\n",
      "-------------------\n"
     ]
    },
    {
     "data": {
      "text/html": [
       "<div class=\"kbiprv82\"><a class=\"oajrlxb2 g5ia77u1 qu0x051f esr5mh6w e9989ue4 r7d6kgcz rq0escxv nhd2j8a9 nc684nl6 p7hjln8o kvgmc6g5 cxmmr5t8 oygrvhab hcukyx3x jb3vyjys rz4wbd8a qt6c0cv9 a8nywdso i1ao9s8h esuyzwwr f1sip0of lzcic4wl gmql0nx0 p8dawk7l\" href=\"/marketplace/item/1025884471140747/\" role=\"link\" tabindex=\"0\"><div class=\"j83agx80 cbu4d94t l9j0dhe7\"><div class=\"l9j0dhe7\"><div class=\"k4urcfbm l9j0dhe7\"><div class=\"kr520xx4 j9ispegn l9j0dhe7 stjgntxs ni8dbmo4 n7fi1qx3 i09qtzwb kzx2olss aot14ch1 p86d2i9g beltcj47 t63ysoy8 linmgsc8 hop1g133 opwvks06\"><div class=\"beltcj47 p86d2i9g aot14ch1 kzx2olss ni8dbmo4 stjgntxs d5it6em2 l9j0dhe7 k4urcfbm\"><div class=\"j83agx80 lhclo0ds ihdl84by pmk7jnqg h119xb3h iylxurvu bo2ra7bd\"><div class=\"rq0escxv j83agx80 buofh1pr datstx6m ggysqto6 exrn9cbp ojkyduve abpf7j7b l9j0dhe7 k4urcfbm\"><img alt=\"2013 Ford Explorer Other in Houston, TX\" class=\"idiwt2bm bixrwtb6 ni8dbmo4 stjgntxs k4urcfbm\" src=\"https://scontent.fhou1-1.fna.fbcdn.net/v/t1.0-0/c43.0.260.260a/p261x260/106986441_281063279770240_9209334443791205402_o.jpg?_nc_cat=104&amp;_nc_sid=843cd7&amp;_nc_ohc=8ZjJb0g-v8kAX9KWWjD&amp;_nc_ht=scontent.fhou1-1.fna&amp;oh=67bbb3d271d57b761cda1c4cf9396dd1&amp;oe=5F6BD9C6\"></div></div></div></div></div></div><div class=\"rq0escxv j83agx80 cbu4d94t i1fnvgqd muag1w35 pybr56ya f10w8fjw k4urcfbm c7r68pdi suyy3zvx\"><div class=\"aahdfvyu fsotbgu8\"><span class=\"j83agx80\"><div class=\"a8nywdso e5nlhep0 rz4wbd8a ecm0bbzt btwxx1t3 j83agx80\"><div class=\"hlyrhctz\"><span class=\"oi732d6d ik7dh3pa d2edcug0 qv66sw1b c1et5uql a8c37x1j s89635nw ew0dbk1b a5q79mjw g1cxx5fr lrazzd5p oo9gr5id\" dir=\"auto\">$2,500</span></div><div class=\"f0t0fhil mkhogb32\"><span class=\"oi732d6d ik7dh3pa d2edcug0 qv66sw1b c1et5uql a8c37x1j muag1w35 enqfppq2 jq4qci2q a3bd9o3v ekzkrbhg oo9gr5id\" dir=\"auto\">$2,500</span></div></div></span></div><div class=\"aahdfvyu fsotbgu8\"><span aria-hidden=\"true\"><div class=\"a8nywdso e5nlhep0 rz4wbd8a linoseic\"><span class=\"a8c37x1j ni8dbmo4 stjgntxs l9j0dhe7 oi732d6d ik7dh3pa d2edcug0 qv66sw1b c1et5uql muag1w35 enqfppq2 jq4qci2q a3bd9o3v knj5qynh oo9gr5id\" dir=\"auto\" style=\"-webkit-box-orient: vertical; -webkit-line-clamp: 2; display: -webkit-box;\">2013 Ford Explorer Other</span></div></span></div><div class=\"aahdfvyu fsotbgu8\"><span aria-hidden=\"true\"><div class=\"a8nywdso e5nlhep0 rz4wbd8a ecm0bbzt\"><span class=\"a8c37x1j ni8dbmo4 stjgntxs l9j0dhe7 ltmttdrg g0qnabr5 oi732d6d ik7dh3pa d2edcug0 qv66sw1b c1et5uql hop8lmos enqfppq2 e9vueds3 j5wam9gi knj5qynh m9osqain\" dir=\"auto\">Houston, TX</span></div></span></div><div class=\"aahdfvyu fsotbgu8\"><div class=\"a8nywdso e5nlhep0 rz4wbd8a ecm0bbzt\"><span class=\"a8c37x1j ni8dbmo4 stjgntxs l9j0dhe7 ltmttdrg g0qnabr5 oi732d6d ik7dh3pa d2edcug0 qv66sw1b c1et5uql hop8lmos enqfppq2 e9vueds3 j5wam9gi knj5qynh m9osqain\" dir=\"auto\">300 miles</span></div></div></div></div></a></div>"
      ],
      "text/plain": [
       "<IPython.core.display.HTML object>"
      ]
     },
     "metadata": {},
     "output_type": "display_data"
    },
    {
     "name": "stdout",
     "output_type": "stream",
     "text": [
      "-------------------\n",
      "$4,000\n",
      "2015 GMC yukon. down payment $ 4000\n",
      "Houston, TX\n",
      "44K miles\n",
      "-------------------\n",
      "None\n",
      "-------------------\n"
     ]
    },
    {
     "data": {
      "text/html": [
       "<div class=\"kbiprv82\"><a class=\"oajrlxb2 g5ia77u1 qu0x051f esr5mh6w e9989ue4 r7d6kgcz rq0escxv nhd2j8a9 nc684nl6 p7hjln8o kvgmc6g5 cxmmr5t8 oygrvhab hcukyx3x jb3vyjys rz4wbd8a qt6c0cv9 a8nywdso i1ao9s8h esuyzwwr f1sip0of lzcic4wl gmql0nx0 p8dawk7l\" href=\"/marketplace/item/674965883099737/\" role=\"link\" tabindex=\"0\"><div class=\"j83agx80 cbu4d94t l9j0dhe7\"><div class=\"l9j0dhe7\"><div class=\"k4urcfbm l9j0dhe7\"><div class=\"kr520xx4 j9ispegn l9j0dhe7 stjgntxs ni8dbmo4 n7fi1qx3 i09qtzwb kzx2olss aot14ch1 p86d2i9g beltcj47 t63ysoy8 linmgsc8 hop1g133 opwvks06\"><div class=\"beltcj47 p86d2i9g aot14ch1 kzx2olss ni8dbmo4 stjgntxs d5it6em2 l9j0dhe7 k4urcfbm\"><div class=\"j83agx80 lhclo0ds ihdl84by pmk7jnqg h119xb3h iylxurvu bo2ra7bd\"><div class=\"rq0escxv j83agx80 buofh1pr datstx6m ggysqto6 exrn9cbp ojkyduve abpf7j7b l9j0dhe7 k4urcfbm\"><img alt=\"2015 GMC yukon. down payment $ 4000 in Houston, TX\" class=\"idiwt2bm bixrwtb6 ni8dbmo4 stjgntxs k4urcfbm\" src=\"https://scontent.fhou1-2.fna.fbcdn.net/v/t1.0-0/c43.0.260.260a/p261x260/116042442_10213643751568629_753508432949720186_o.jpg?_nc_cat=109&amp;_nc_sid=843cd7&amp;_nc_ohc=6U4EVPQIq-sAX-O_3mE&amp;_nc_ht=scontent.fhou1-2.fna&amp;oh=83e1a741c1ea1f231aa58518f7cfa00c&amp;oe=5F6BF67D\"></div></div></div></div></div></div><div class=\"rq0escxv j83agx80 cbu4d94t i1fnvgqd muag1w35 pybr56ya f10w8fjw k4urcfbm c7r68pdi suyy3zvx\"><div class=\"aahdfvyu fsotbgu8\"><span class=\"j83agx80\"><div class=\"a8nywdso e5nlhep0 rz4wbd8a ecm0bbzt btwxx1t3 j83agx80\"><div class=\"hlyrhctz\"><span class=\"oi732d6d ik7dh3pa d2edcug0 qv66sw1b c1et5uql a8c37x1j s89635nw ew0dbk1b a5q79mjw g1cxx5fr lrazzd5p oo9gr5id\" dir=\"auto\">$4,000</span></div><div class=\"f0t0fhil mkhogb32\"><span class=\"oi732d6d ik7dh3pa d2edcug0 qv66sw1b c1et5uql a8c37x1j muag1w35 enqfppq2 jq4qci2q a3bd9o3v ekzkrbhg oo9gr5id\" dir=\"auto\">$4,000</span></div></div></span></div><div class=\"aahdfvyu fsotbgu8\"><span aria-hidden=\"true\"><div class=\"a8nywdso e5nlhep0 rz4wbd8a linoseic\"><span class=\"a8c37x1j ni8dbmo4 stjgntxs l9j0dhe7 oi732d6d ik7dh3pa d2edcug0 qv66sw1b c1et5uql muag1w35 enqfppq2 jq4qci2q a3bd9o3v knj5qynh oo9gr5id\" dir=\"auto\" style=\"-webkit-box-orient: vertical; -webkit-line-clamp: 2; display: -webkit-box;\">2015 GMC yukon. down payment $ 4000</span></div></span></div><div class=\"aahdfvyu fsotbgu8\"><span aria-hidden=\"true\"><div class=\"a8nywdso e5nlhep0 rz4wbd8a ecm0bbzt\"><span class=\"a8c37x1j ni8dbmo4 stjgntxs l9j0dhe7 ltmttdrg g0qnabr5 oi732d6d ik7dh3pa d2edcug0 qv66sw1b c1et5uql hop8lmos enqfppq2 e9vueds3 j5wam9gi knj5qynh m9osqain\" dir=\"auto\">Houston, TX</span></div></span></div><div class=\"aahdfvyu fsotbgu8\"><div class=\"a8nywdso e5nlhep0 rz4wbd8a ecm0bbzt\"><span class=\"a8c37x1j ni8dbmo4 stjgntxs l9j0dhe7 ltmttdrg g0qnabr5 oi732d6d ik7dh3pa d2edcug0 qv66sw1b c1et5uql hop8lmos enqfppq2 e9vueds3 j5wam9gi knj5qynh m9osqain\" dir=\"auto\">44K miles</span></div></div></div></div></a></div>"
      ],
      "text/plain": [
       "<IPython.core.display.HTML object>"
      ]
     },
     "metadata": {},
     "output_type": "display_data"
    },
    {
     "name": "stdout",
     "output_type": "stream",
     "text": [
      "-------------------\n",
      "$1,500\n",
      "2013 Ford Fiesta\n",
      "Houston, TX\n",
      "77K miles\n",
      "-------------------\n",
      "None\n",
      "-------------------\n"
     ]
    },
    {
     "data": {
      "text/html": [
       "<div class=\"kbiprv82\"><a class=\"oajrlxb2 g5ia77u1 qu0x051f esr5mh6w e9989ue4 r7d6kgcz rq0escxv nhd2j8a9 nc684nl6 p7hjln8o kvgmc6g5 cxmmr5t8 oygrvhab hcukyx3x jb3vyjys rz4wbd8a qt6c0cv9 a8nywdso i1ao9s8h esuyzwwr f1sip0of lzcic4wl gmql0nx0 p8dawk7l\" href=\"/marketplace/item/330323718157562/\" role=\"link\" tabindex=\"0\"><div class=\"j83agx80 cbu4d94t l9j0dhe7\"><div class=\"l9j0dhe7\"><div class=\"k4urcfbm l9j0dhe7\"><div class=\"kr520xx4 j9ispegn l9j0dhe7 stjgntxs ni8dbmo4 n7fi1qx3 i09qtzwb kzx2olss aot14ch1 p86d2i9g beltcj47 t63ysoy8 linmgsc8 hop1g133 opwvks06\"><div class=\"beltcj47 p86d2i9g aot14ch1 kzx2olss ni8dbmo4 stjgntxs d5it6em2 l9j0dhe7 k4urcfbm\"><div class=\"j83agx80 lhclo0ds ihdl84by pmk7jnqg h119xb3h iylxurvu bo2ra7bd\"><div class=\"rq0escxv j83agx80 buofh1pr datstx6m ggysqto6 exrn9cbp ojkyduve abpf7j7b l9j0dhe7 k4urcfbm\"><img alt=\"2013 Ford Fiesta in Houston, TX\" class=\"idiwt2bm bixrwtb6 ni8dbmo4 stjgntxs k4urcfbm\" src=\"https://scontent.fhou1-2.fna.fbcdn.net/v/t1.0-0/c115.0.260.260a/p261x260/118397257_3576447145719622_3053759070452689052_n.jpg?_nc_cat=105&amp;_nc_sid=843cd7&amp;_nc_ohc=HvhjNkOW2GIAX-Mz8IH&amp;_nc_oc=AQmu-QWWkYobVp-G92wgphGqKP0XhkfcSeRIfNR8y2Td-4h0SxTHXn7rBLx2GvwTvL0&amp;_nc_ht=scontent.fhou1-2.fna&amp;oh=24f0be05d8b5c9466383be997e10ec33&amp;oe=5F6C7602\"></div></div></div></div></div></div><div class=\"rq0escxv j83agx80 cbu4d94t i1fnvgqd muag1w35 pybr56ya f10w8fjw k4urcfbm c7r68pdi suyy3zvx\"><div class=\"aahdfvyu fsotbgu8\"><span class=\"j83agx80\"><div class=\"a8nywdso e5nlhep0 rz4wbd8a ecm0bbzt btwxx1t3 j83agx80\"><div class=\"hlyrhctz\"><span class=\"oi732d6d ik7dh3pa d2edcug0 qv66sw1b c1et5uql a8c37x1j s89635nw ew0dbk1b a5q79mjw g1cxx5fr lrazzd5p oo9gr5id\" dir=\"auto\">$1,500</span></div><div class=\"f0t0fhil mkhogb32\"><span class=\"oi732d6d ik7dh3pa d2edcug0 qv66sw1b c1et5uql a8c37x1j muag1w35 enqfppq2 jq4qci2q a3bd9o3v ekzkrbhg oo9gr5id\" dir=\"auto\">$1,500</span></div></div></span></div><div class=\"aahdfvyu fsotbgu8\"><span aria-hidden=\"true\"><div class=\"a8nywdso e5nlhep0 rz4wbd8a linoseic\"><span class=\"a8c37x1j ni8dbmo4 stjgntxs l9j0dhe7 oi732d6d ik7dh3pa d2edcug0 qv66sw1b c1et5uql muag1w35 enqfppq2 jq4qci2q a3bd9o3v knj5qynh oo9gr5id\" dir=\"auto\" style=\"-webkit-box-orient: vertical; -webkit-line-clamp: 2; display: -webkit-box;\">2013 Ford Fiesta</span></div></span></div><div class=\"aahdfvyu fsotbgu8\"><span aria-hidden=\"true\"><div class=\"a8nywdso e5nlhep0 rz4wbd8a ecm0bbzt\"><span class=\"a8c37x1j ni8dbmo4 stjgntxs l9j0dhe7 ltmttdrg g0qnabr5 oi732d6d ik7dh3pa d2edcug0 qv66sw1b c1et5uql hop8lmos enqfppq2 e9vueds3 j5wam9gi knj5qynh m9osqain\" dir=\"auto\">Houston, TX</span></div></span></div><div class=\"aahdfvyu fsotbgu8\"><div class=\"a8nywdso e5nlhep0 rz4wbd8a ecm0bbzt\"><span class=\"a8c37x1j ni8dbmo4 stjgntxs l9j0dhe7 ltmttdrg g0qnabr5 oi732d6d ik7dh3pa d2edcug0 qv66sw1b c1et5uql hop8lmos enqfppq2 e9vueds3 j5wam9gi knj5qynh m9osqain\" dir=\"auto\">77K miles</span></div></div></div></div></a></div>"
      ],
      "text/plain": [
       "<IPython.core.display.HTML object>"
      ]
     },
     "metadata": {},
     "output_type": "display_data"
    },
    {
     "name": "stdout",
     "output_type": "stream",
     "text": [
      "-------------------\n",
      "$1,490\n",
      "2016 Volkswagen Jetta\n",
      "Houston, TX\n",
      "1.4K miles\n",
      "-------------------\n",
      "None\n",
      "-------------------\n"
     ]
    },
    {
     "data": {
      "text/html": [
       "<div class=\"kbiprv82\"><a class=\"oajrlxb2 g5ia77u1 qu0x051f esr5mh6w e9989ue4 r7d6kgcz rq0escxv nhd2j8a9 nc684nl6 p7hjln8o kvgmc6g5 cxmmr5t8 oygrvhab hcukyx3x jb3vyjys rz4wbd8a qt6c0cv9 a8nywdso i1ao9s8h esuyzwwr f1sip0of lzcic4wl gmql0nx0 p8dawk7l\" href=\"/marketplace/item/642074366324349/\" role=\"link\" tabindex=\"0\"><div class=\"j83agx80 cbu4d94t l9j0dhe7\"><div class=\"l9j0dhe7\"><div class=\"k4urcfbm l9j0dhe7\"><div class=\"kr520xx4 j9ispegn l9j0dhe7 stjgntxs ni8dbmo4 n7fi1qx3 i09qtzwb kzx2olss aot14ch1 p86d2i9g beltcj47 t63ysoy8 linmgsc8 hop1g133 opwvks06\"><div class=\"beltcj47 p86d2i9g aot14ch1 kzx2olss ni8dbmo4 stjgntxs d5it6em2 l9j0dhe7 k4urcfbm\"><div class=\"j83agx80 lhclo0ds ihdl84by pmk7jnqg h119xb3h iylxurvu bo2ra7bd\"><div class=\"rq0escxv j83agx80 buofh1pr datstx6m ggysqto6 exrn9cbp ojkyduve abpf7j7b l9j0dhe7 k4urcfbm\"><img alt=\"2016 Volkswagen Jetta in Houston, TX\" class=\"idiwt2bm bixrwtb6 ni8dbmo4 stjgntxs k4urcfbm\" src=\"https://scontent.fhou1-2.fna.fbcdn.net/v/t1.0-0/c43.0.260.260a/p261x260/71571304_609328699604060_2195028540829728768_n.jpg?_nc_cat=109&amp;_nc_sid=843cd7&amp;_nc_ohc=U0kf-BIv1KkAX8TOw8Z&amp;_nc_ht=scontent.fhou1-2.fna&amp;oh=4ccb1e5a26f8b48466e5e238edbae721&amp;oe=5F6C7359\"></div></div></div></div></div></div><div class=\"rq0escxv j83agx80 cbu4d94t i1fnvgqd muag1w35 pybr56ya f10w8fjw k4urcfbm c7r68pdi suyy3zvx\"><div class=\"aahdfvyu fsotbgu8\"><span class=\"j83agx80\"><div class=\"a8nywdso e5nlhep0 rz4wbd8a ecm0bbzt btwxx1t3 j83agx80\"><div class=\"hlyrhctz\"><span class=\"oi732d6d ik7dh3pa d2edcug0 qv66sw1b c1et5uql a8c37x1j s89635nw ew0dbk1b a5q79mjw g1cxx5fr lrazzd5p oo9gr5id\" dir=\"auto\">$1,490</span></div><div class=\"f0t0fhil mkhogb32\"><span class=\"oi732d6d ik7dh3pa d2edcug0 qv66sw1b c1et5uql a8c37x1j muag1w35 enqfppq2 jq4qci2q a3bd9o3v ekzkrbhg oo9gr5id\" dir=\"auto\">$1,490</span></div></div></span></div><div class=\"aahdfvyu fsotbgu8\"><span aria-hidden=\"true\"><div class=\"a8nywdso e5nlhep0 rz4wbd8a linoseic\"><span class=\"a8c37x1j ni8dbmo4 stjgntxs l9j0dhe7 oi732d6d ik7dh3pa d2edcug0 qv66sw1b c1et5uql muag1w35 enqfppq2 jq4qci2q a3bd9o3v knj5qynh oo9gr5id\" dir=\"auto\" style=\"-webkit-box-orient: vertical; -webkit-line-clamp: 2; display: -webkit-box;\">2016 Volkswagen Jetta</span></div></span></div><div class=\"aahdfvyu fsotbgu8\"><span aria-hidden=\"true\"><div class=\"a8nywdso e5nlhep0 rz4wbd8a ecm0bbzt\"><span class=\"a8c37x1j ni8dbmo4 stjgntxs l9j0dhe7 ltmttdrg g0qnabr5 oi732d6d ik7dh3pa d2edcug0 qv66sw1b c1et5uql hop8lmos enqfppq2 e9vueds3 j5wam9gi knj5qynh m9osqain\" dir=\"auto\">Houston, TX</span></div></span></div><div class=\"aahdfvyu fsotbgu8\"><div class=\"a8nywdso e5nlhep0 rz4wbd8a ecm0bbzt\"><span class=\"a8c37x1j ni8dbmo4 stjgntxs l9j0dhe7 ltmttdrg g0qnabr5 oi732d6d ik7dh3pa d2edcug0 qv66sw1b c1et5uql hop8lmos enqfppq2 e9vueds3 j5wam9gi knj5qynh m9osqain\" dir=\"auto\">1.4K miles</span></div></div></div></div></a></div>"
      ],
      "text/plain": [
       "<IPython.core.display.HTML object>"
      ]
     },
     "metadata": {},
     "output_type": "display_data"
    },
    {
     "name": "stdout",
     "output_type": "stream",
     "text": [
      "-------------------\n",
      "$1,490\n",
      "2016 Volkswagen Jetta\n",
      "Houston, TX\n",
      "1.4K miles\n",
      "-------------------\n",
      "None\n",
      "-------------------\n"
     ]
    },
    {
     "data": {
      "text/html": [
       "<div class=\"kbiprv82\"><a class=\"oajrlxb2 g5ia77u1 qu0x051f esr5mh6w e9989ue4 r7d6kgcz rq0escxv nhd2j8a9 nc684nl6 p7hjln8o kvgmc6g5 cxmmr5t8 oygrvhab hcukyx3x jb3vyjys rz4wbd8a qt6c0cv9 a8nywdso i1ao9s8h esuyzwwr f1sip0of lzcic4wl gmql0nx0 p8dawk7l\" href=\"/marketplace/item/494759881470887/\" role=\"link\" tabindex=\"0\"><div class=\"j83agx80 cbu4d94t l9j0dhe7\"><div class=\"l9j0dhe7\"><div class=\"k4urcfbm l9j0dhe7\"><div class=\"kr520xx4 j9ispegn l9j0dhe7 stjgntxs ni8dbmo4 n7fi1qx3 i09qtzwb kzx2olss aot14ch1 p86d2i9g beltcj47 t63ysoy8 linmgsc8 hop1g133 opwvks06\"><div class=\"beltcj47 p86d2i9g aot14ch1 kzx2olss ni8dbmo4 stjgntxs d5it6em2 l9j0dhe7 k4urcfbm\"><div class=\"j83agx80 lhclo0ds ihdl84by pmk7jnqg h119xb3h iylxurvu bo2ra7bd\"><div class=\"rq0escxv j83agx80 buofh1pr datstx6m ggysqto6 exrn9cbp ojkyduve abpf7j7b l9j0dhe7 k4urcfbm\"><img alt=\"2016 Volkswagen Jetta in Houston, TX\" class=\"idiwt2bm bixrwtb6 ni8dbmo4 stjgntxs k4urcfbm\" src=\"https://scontent.fhou1-1.fna.fbcdn.net/v/t1.0-0/c43.0.260.260a/p261x260/84359394_675990656271197_4893417460520189952_n.jpg?_nc_cat=106&amp;_nc_sid=843cd7&amp;_nc_ohc=sCGhI0aQ4ywAX-V_xPJ&amp;_nc_ht=scontent.fhou1-1.fna&amp;oh=34ff4254c741c32d50dfc75d6fabb616&amp;oe=5F6B1A8D\"></div></div></div></div></div></div><div class=\"rq0escxv j83agx80 cbu4d94t i1fnvgqd muag1w35 pybr56ya f10w8fjw k4urcfbm c7r68pdi suyy3zvx\"><div class=\"aahdfvyu fsotbgu8\"><span class=\"j83agx80\"><div class=\"a8nywdso e5nlhep0 rz4wbd8a ecm0bbzt btwxx1t3 j83agx80\"><div class=\"hlyrhctz\"><span class=\"oi732d6d ik7dh3pa d2edcug0 qv66sw1b c1et5uql a8c37x1j s89635nw ew0dbk1b a5q79mjw g1cxx5fr lrazzd5p oo9gr5id\" dir=\"auto\">$1,490</span></div><div class=\"f0t0fhil mkhogb32\"><span class=\"oi732d6d ik7dh3pa d2edcug0 qv66sw1b c1et5uql a8c37x1j muag1w35 enqfppq2 jq4qci2q a3bd9o3v ekzkrbhg oo9gr5id\" dir=\"auto\">$1,490</span></div></div></span></div><div class=\"aahdfvyu fsotbgu8\"><span aria-hidden=\"true\"><div class=\"a8nywdso e5nlhep0 rz4wbd8a linoseic\"><span class=\"a8c37x1j ni8dbmo4 stjgntxs l9j0dhe7 oi732d6d ik7dh3pa d2edcug0 qv66sw1b c1et5uql muag1w35 enqfppq2 jq4qci2q a3bd9o3v knj5qynh oo9gr5id\" dir=\"auto\" style=\"-webkit-box-orient: vertical; -webkit-line-clamp: 2; display: -webkit-box;\">2016 Volkswagen Jetta</span></div></span></div><div class=\"aahdfvyu fsotbgu8\"><span aria-hidden=\"true\"><div class=\"a8nywdso e5nlhep0 rz4wbd8a ecm0bbzt\"><span class=\"a8c37x1j ni8dbmo4 stjgntxs l9j0dhe7 ltmttdrg g0qnabr5 oi732d6d ik7dh3pa d2edcug0 qv66sw1b c1et5uql hop8lmos enqfppq2 e9vueds3 j5wam9gi knj5qynh m9osqain\" dir=\"auto\">Houston, TX</span></div></span></div><div class=\"aahdfvyu fsotbgu8\"><div class=\"a8nywdso e5nlhep0 rz4wbd8a ecm0bbzt\"><span class=\"a8c37x1j ni8dbmo4 stjgntxs l9j0dhe7 ltmttdrg g0qnabr5 oi732d6d ik7dh3pa d2edcug0 qv66sw1b c1et5uql hop8lmos enqfppq2 e9vueds3 j5wam9gi knj5qynh m9osqain\" dir=\"auto\">1.4K miles</span></div></div></div></div></a></div>"
      ],
      "text/plain": [
       "<IPython.core.display.HTML object>"
      ]
     },
     "metadata": {},
     "output_type": "display_data"
    },
    {
     "name": "stdout",
     "output_type": "stream",
     "text": [
      "-------------------\n",
      "$25\n",
      "2019 Cadillac Rims\n",
      "Houston, TX\n",
      "2.5K miles\n",
      "-------------------\n",
      "None\n",
      "-------------------\n"
     ]
    },
    {
     "data": {
      "text/html": [
       "<div class=\"kbiprv82\"><a class=\"oajrlxb2 g5ia77u1 qu0x051f esr5mh6w e9989ue4 r7d6kgcz rq0escxv nhd2j8a9 nc684nl6 p7hjln8o kvgmc6g5 cxmmr5t8 oygrvhab hcukyx3x jb3vyjys rz4wbd8a qt6c0cv9 a8nywdso i1ao9s8h esuyzwwr f1sip0of lzcic4wl gmql0nx0 p8dawk7l\" href=\"/marketplace/item/380023905988976/\" role=\"link\" tabindex=\"0\"><div class=\"j83agx80 cbu4d94t l9j0dhe7\"><div class=\"l9j0dhe7\"><div class=\"k4urcfbm l9j0dhe7\"><div class=\"kr520xx4 j9ispegn l9j0dhe7 stjgntxs ni8dbmo4 n7fi1qx3 i09qtzwb kzx2olss aot14ch1 p86d2i9g beltcj47 t63ysoy8 linmgsc8 hop1g133 opwvks06\"><div class=\"beltcj47 p86d2i9g aot14ch1 kzx2olss ni8dbmo4 stjgntxs d5it6em2 l9j0dhe7 k4urcfbm\"><div class=\"j83agx80 lhclo0ds ihdl84by pmk7jnqg h119xb3h iylxurvu bo2ra7bd\"><div class=\"rq0escxv j83agx80 buofh1pr datstx6m ggysqto6 exrn9cbp ojkyduve abpf7j7b l9j0dhe7 k4urcfbm\"><img alt=\"2019 Cadillac Rims in Houston, TX\" class=\"idiwt2bm bixrwtb6 ni8dbmo4 stjgntxs k4urcfbm\" src=\"https://scontent.fhou1-2.fna.fbcdn.net/v/t1.0-0/c0.296.1152.1152a/s261x260/68487021_2428866860485396_5761017535965167616_o.jpg?_nc_cat=108&amp;_nc_sid=843cd7&amp;_nc_ohc=K2eFrRE2JOMAX8DCjzX&amp;_nc_ht=scontent.fhou1-2.fna&amp;oh=8bb121330aed7b55b1fb5388aac7073d&amp;oe=5F6A922F\"></div></div></div></div></div></div><div class=\"rq0escxv j83agx80 cbu4d94t i1fnvgqd muag1w35 pybr56ya f10w8fjw k4urcfbm c7r68pdi suyy3zvx\"><div class=\"aahdfvyu fsotbgu8\"><span class=\"j83agx80\"><div class=\"a8nywdso e5nlhep0 rz4wbd8a ecm0bbzt btwxx1t3 j83agx80\"><div class=\"hlyrhctz\"><span class=\"oi732d6d ik7dh3pa d2edcug0 qv66sw1b c1et5uql a8c37x1j s89635nw ew0dbk1b a5q79mjw g1cxx5fr lrazzd5p oo9gr5id\" dir=\"auto\">$25</span></div><div class=\"f0t0fhil mkhogb32\"><span class=\"oi732d6d ik7dh3pa d2edcug0 qv66sw1b c1et5uql a8c37x1j muag1w35 enqfppq2 jq4qci2q a3bd9o3v ekzkrbhg oo9gr5id\" dir=\"auto\">$25</span></div></div></span></div><div class=\"aahdfvyu fsotbgu8\"><span aria-hidden=\"true\"><div class=\"a8nywdso e5nlhep0 rz4wbd8a linoseic\"><span class=\"a8c37x1j ni8dbmo4 stjgntxs l9j0dhe7 oi732d6d ik7dh3pa d2edcug0 qv66sw1b c1et5uql muag1w35 enqfppq2 jq4qci2q a3bd9o3v knj5qynh oo9gr5id\" dir=\"auto\" style=\"-webkit-box-orient: vertical; -webkit-line-clamp: 2; display: -webkit-box;\">2019 Cadillac Rims</span></div></span></div><div class=\"aahdfvyu fsotbgu8\"><span aria-hidden=\"true\"><div class=\"a8nywdso e5nlhep0 rz4wbd8a ecm0bbzt\"><span class=\"a8c37x1j ni8dbmo4 stjgntxs l9j0dhe7 ltmttdrg g0qnabr5 oi732d6d ik7dh3pa d2edcug0 qv66sw1b c1et5uql hop8lmos enqfppq2 e9vueds3 j5wam9gi knj5qynh m9osqain\" dir=\"auto\">Houston, TX</span></div></span></div><div class=\"aahdfvyu fsotbgu8\"><div class=\"a8nywdso e5nlhep0 rz4wbd8a ecm0bbzt\"><span class=\"a8c37x1j ni8dbmo4 stjgntxs l9j0dhe7 ltmttdrg g0qnabr5 oi732d6d ik7dh3pa d2edcug0 qv66sw1b c1et5uql hop8lmos enqfppq2 e9vueds3 j5wam9gi knj5qynh m9osqain\" dir=\"auto\">2.5K miles</span></div></div></div></div></a></div>"
      ],
      "text/plain": [
       "<IPython.core.display.HTML object>"
      ]
     },
     "metadata": {},
     "output_type": "display_data"
    },
    {
     "name": "stdout",
     "output_type": "stream",
     "text": [
      "-------------------\n",
      "$3,890\n",
      "2014 Chevrolet Silverado 2500 Z714x4\n",
      "Houston, TX\n",
      "1K miles\n",
      "-------------------\n",
      "None\n",
      "-------------------\n"
     ]
    },
    {
     "data": {
      "text/html": [
       "<div class=\"kbiprv82\"><a class=\"oajrlxb2 g5ia77u1 qu0x051f esr5mh6w e9989ue4 r7d6kgcz rq0escxv nhd2j8a9 nc684nl6 p7hjln8o kvgmc6g5 cxmmr5t8 oygrvhab hcukyx3x jb3vyjys rz4wbd8a qt6c0cv9 a8nywdso i1ao9s8h esuyzwwr f1sip0of lzcic4wl gmql0nx0 p8dawk7l\" href=\"/marketplace/item/2629317210663381/\" role=\"link\" tabindex=\"0\"><div class=\"j83agx80 cbu4d94t l9j0dhe7\"><div class=\"l9j0dhe7\"><div class=\"k4urcfbm l9j0dhe7\"><div class=\"kr520xx4 j9ispegn l9j0dhe7 stjgntxs ni8dbmo4 n7fi1qx3 i09qtzwb kzx2olss aot14ch1 p86d2i9g beltcj47 t63ysoy8 linmgsc8 hop1g133 opwvks06\"><div class=\"beltcj47 p86d2i9g aot14ch1 kzx2olss ni8dbmo4 stjgntxs d5it6em2 l9j0dhe7 k4urcfbm\"><div class=\"j83agx80 lhclo0ds ihdl84by pmk7jnqg h119xb3h iylxurvu bo2ra7bd\"><div class=\"rq0escxv j83agx80 buofh1pr datstx6m ggysqto6 exrn9cbp ojkyduve abpf7j7b l9j0dhe7 k4urcfbm\"><img alt=\"2014 Chevrolet Silverado 2500 Z714x4 in Houston, TX\" class=\"idiwt2bm bixrwtb6 ni8dbmo4 stjgntxs k4urcfbm\" src=\"https://scontent.fhou1-1.fna.fbcdn.net/v/t1.0-0/c0.84.768.768a/s261x260/117796643_2954527841319835_7115017721804085389_o.jpg?_nc_cat=111&amp;_nc_sid=843cd7&amp;_nc_ohc=C9PUV5U_Rc8AX_5kj95&amp;_nc_ht=scontent.fhou1-1.fna&amp;oh=294cd72e044b8630a87662ed833c6dc3&amp;oe=5F6D1530\"></div></div></div></div></div></div><div class=\"rq0escxv j83agx80 cbu4d94t i1fnvgqd muag1w35 pybr56ya f10w8fjw k4urcfbm c7r68pdi suyy3zvx\"><div class=\"aahdfvyu fsotbgu8\"><span class=\"j83agx80\"><div class=\"a8nywdso e5nlhep0 rz4wbd8a ecm0bbzt btwxx1t3 j83agx80\"><div class=\"hlyrhctz\"><span class=\"oi732d6d ik7dh3pa d2edcug0 qv66sw1b c1et5uql a8c37x1j s89635nw ew0dbk1b a5q79mjw g1cxx5fr lrazzd5p oo9gr5id\" dir=\"auto\">$3,890</span></div><div class=\"f0t0fhil mkhogb32\"><span class=\"oi732d6d ik7dh3pa d2edcug0 qv66sw1b c1et5uql a8c37x1j muag1w35 enqfppq2 jq4qci2q a3bd9o3v ekzkrbhg oo9gr5id\" dir=\"auto\">$3,890</span></div></div></span></div><div class=\"aahdfvyu fsotbgu8\"><span aria-hidden=\"true\"><div class=\"a8nywdso e5nlhep0 rz4wbd8a linoseic\"><span class=\"a8c37x1j ni8dbmo4 stjgntxs l9j0dhe7 oi732d6d ik7dh3pa d2edcug0 qv66sw1b c1et5uql muag1w35 enqfppq2 jq4qci2q a3bd9o3v knj5qynh oo9gr5id\" dir=\"auto\" style=\"-webkit-box-orient: vertical; -webkit-line-clamp: 2; display: -webkit-box;\">2014 Chevrolet Silverado 2500 Z714x4</span></div></span></div><div class=\"aahdfvyu fsotbgu8\"><span aria-hidden=\"true\"><div class=\"a8nywdso e5nlhep0 rz4wbd8a ecm0bbzt\"><span class=\"a8c37x1j ni8dbmo4 stjgntxs l9j0dhe7 ltmttdrg g0qnabr5 oi732d6d ik7dh3pa d2edcug0 qv66sw1b c1et5uql hop8lmos enqfppq2 e9vueds3 j5wam9gi knj5qynh m9osqain\" dir=\"auto\">Houston, TX</span></div></span></div><div class=\"aahdfvyu fsotbgu8\"><div class=\"a8nywdso e5nlhep0 rz4wbd8a ecm0bbzt\"><span class=\"a8c37x1j ni8dbmo4 stjgntxs l9j0dhe7 ltmttdrg g0qnabr5 oi732d6d ik7dh3pa d2edcug0 qv66sw1b c1et5uql hop8lmos enqfppq2 e9vueds3 j5wam9gi knj5qynh m9osqain\" dir=\"auto\">1K miles</span></div></div></div></div></a></div>"
      ],
      "text/plain": [
       "<IPython.core.display.HTML object>"
      ]
     },
     "metadata": {},
     "output_type": "display_data"
    },
    {
     "name": "stdout",
     "output_type": "stream",
     "text": [
      "-------------------\n",
      "$500\n",
      "2017 Buick\n",
      "Pasadena, TX\n",
      "28K miles\n",
      "-------------------\n",
      "None\n",
      "-------------------\n"
     ]
    },
    {
     "data": {
      "text/html": [
       "<div class=\"kbiprv82\"><a class=\"oajrlxb2 g5ia77u1 qu0x051f esr5mh6w e9989ue4 r7d6kgcz rq0escxv nhd2j8a9 nc684nl6 p7hjln8o kvgmc6g5 cxmmr5t8 oygrvhab hcukyx3x jb3vyjys rz4wbd8a qt6c0cv9 a8nywdso i1ao9s8h esuyzwwr f1sip0of lzcic4wl gmql0nx0 p8dawk7l\" href=\"/marketplace/item/610239876382018/\" role=\"link\" tabindex=\"0\"><div class=\"j83agx80 cbu4d94t l9j0dhe7\"><div class=\"l9j0dhe7\"><div class=\"k4urcfbm l9j0dhe7\"><div class=\"kr520xx4 j9ispegn l9j0dhe7 stjgntxs ni8dbmo4 n7fi1qx3 i09qtzwb kzx2olss aot14ch1 p86d2i9g beltcj47 t63ysoy8 linmgsc8 hop1g133 opwvks06\"><div class=\"beltcj47 p86d2i9g aot14ch1 kzx2olss ni8dbmo4 stjgntxs d5it6em2 l9j0dhe7 k4urcfbm\"><div class=\"j83agx80 lhclo0ds ihdl84by pmk7jnqg h119xb3h iylxurvu bo2ra7bd\"><div class=\"rq0escxv j83agx80 buofh1pr datstx6m ggysqto6 exrn9cbp ojkyduve abpf7j7b l9j0dhe7 k4urcfbm\"><img alt=\"2017 Buick in Pasadena, TX\" class=\"idiwt2bm bixrwtb6 ni8dbmo4 stjgntxs k4urcfbm\" src=\"https://scontent.fhou1-1.fna.fbcdn.net/v/t1.0-0/c43.0.260.260a/p261x260/78105376_1018251891854881_590432418356264960_n.jpg?_nc_cat=111&amp;_nc_sid=843cd7&amp;_nc_ohc=lNP8kmETwQ8AX_qvuSy&amp;_nc_ht=scontent.fhou1-1.fna&amp;oh=df4a9d8426491990b454ca8b7a6ca926&amp;oe=5F6CBEB4\"></div></div></div></div></div></div><div class=\"rq0escxv j83agx80 cbu4d94t i1fnvgqd muag1w35 pybr56ya f10w8fjw k4urcfbm c7r68pdi suyy3zvx\"><div class=\"aahdfvyu fsotbgu8\"><span class=\"j83agx80\"><div class=\"a8nywdso e5nlhep0 rz4wbd8a ecm0bbzt btwxx1t3 j83agx80\"><div class=\"hlyrhctz\"><span class=\"oi732d6d ik7dh3pa d2edcug0 qv66sw1b c1et5uql a8c37x1j s89635nw ew0dbk1b a5q79mjw g1cxx5fr lrazzd5p oo9gr5id\" dir=\"auto\">$500</span></div><div class=\"f0t0fhil mkhogb32\"><span class=\"oi732d6d ik7dh3pa d2edcug0 qv66sw1b c1et5uql a8c37x1j muag1w35 enqfppq2 jq4qci2q a3bd9o3v ekzkrbhg oo9gr5id\" dir=\"auto\">$500</span></div></div></span></div><div class=\"aahdfvyu fsotbgu8\"><span aria-hidden=\"true\"><div class=\"a8nywdso e5nlhep0 rz4wbd8a linoseic\"><span class=\"a8c37x1j ni8dbmo4 stjgntxs l9j0dhe7 oi732d6d ik7dh3pa d2edcug0 qv66sw1b c1et5uql muag1w35 enqfppq2 jq4qci2q a3bd9o3v knj5qynh oo9gr5id\" dir=\"auto\" style=\"-webkit-box-orient: vertical; -webkit-line-clamp: 2; display: -webkit-box;\">2017 Buick</span></div></span></div><div class=\"aahdfvyu fsotbgu8\"><span aria-hidden=\"true\"><div class=\"a8nywdso e5nlhep0 rz4wbd8a ecm0bbzt\"><span class=\"a8c37x1j ni8dbmo4 stjgntxs l9j0dhe7 ltmttdrg g0qnabr5 oi732d6d ik7dh3pa d2edcug0 qv66sw1b c1et5uql hop8lmos enqfppq2 e9vueds3 j5wam9gi knj5qynh m9osqain\" dir=\"auto\">Pasadena, TX</span></div></span></div><div class=\"aahdfvyu fsotbgu8\"><div class=\"a8nywdso e5nlhep0 rz4wbd8a ecm0bbzt\"><span class=\"a8c37x1j ni8dbmo4 stjgntxs l9j0dhe7 ltmttdrg g0qnabr5 oi732d6d ik7dh3pa d2edcug0 qv66sw1b c1et5uql hop8lmos enqfppq2 e9vueds3 j5wam9gi knj5qynh m9osqain\" dir=\"auto\">28K miles</span></div></div></div></div></a></div>"
      ],
      "text/plain": [
       "<IPython.core.display.HTML object>"
      ]
     },
     "metadata": {},
     "output_type": "display_data"
    },
    {
     "name": "stdout",
     "output_type": "stream",
     "text": [
      "-------------------\n",
      "$3,500\n",
      "2014 Ram 3500 Lonestar Longbed 4x4\n",
      "Rosenberg, TX\n",
      "50K miles\n",
      "-------------------\n",
      "None\n",
      "-------------------\n"
     ]
    },
    {
     "data": {
      "text/html": [
       "<div class=\"kbiprv82\"><a class=\"oajrlxb2 g5ia77u1 qu0x051f esr5mh6w e9989ue4 r7d6kgcz rq0escxv nhd2j8a9 nc684nl6 p7hjln8o kvgmc6g5 cxmmr5t8 oygrvhab hcukyx3x jb3vyjys rz4wbd8a qt6c0cv9 a8nywdso i1ao9s8h esuyzwwr f1sip0of lzcic4wl gmql0nx0 p8dawk7l\" href=\"/marketplace/item/506422483334447/\" role=\"link\" tabindex=\"0\"><div class=\"j83agx80 cbu4d94t l9j0dhe7\"><div class=\"l9j0dhe7\"><div class=\"k4urcfbm l9j0dhe7\"><div class=\"kr520xx4 j9ispegn l9j0dhe7 stjgntxs ni8dbmo4 n7fi1qx3 i09qtzwb kzx2olss aot14ch1 p86d2i9g beltcj47 t63ysoy8 linmgsc8 hop1g133 opwvks06\"><div class=\"beltcj47 p86d2i9g aot14ch1 kzx2olss ni8dbmo4 stjgntxs d5it6em2 l9j0dhe7 k4urcfbm\"><div class=\"j83agx80 lhclo0ds ihdl84by pmk7jnqg h119xb3h iylxurvu bo2ra7bd\"><div class=\"rq0escxv j83agx80 buofh1pr datstx6m ggysqto6 exrn9cbp ojkyduve abpf7j7b l9j0dhe7 k4urcfbm\"><img alt=\"2014 Ram 3500 Lonestar Longbed 4x4 in Rosenberg, TX\" class=\"idiwt2bm bixrwtb6 ni8dbmo4 stjgntxs k4urcfbm\" src=\"https://scontent.fhou1-1.fna.fbcdn.net/v/t1.0-0/c43.0.260.260a/p261x260/82416994_2861918273838462_8384522975000395776_n.jpg?_nc_cat=106&amp;_nc_sid=843cd7&amp;_nc_ohc=5ILKAs5Pa3UAX9_azB8&amp;_nc_ht=scontent.fhou1-1.fna&amp;oh=b2111472a32222902a0d0fad0a3f1e35&amp;oe=5F6B0E4E\"></div></div></div></div></div></div><div class=\"rq0escxv j83agx80 cbu4d94t i1fnvgqd muag1w35 pybr56ya f10w8fjw k4urcfbm c7r68pdi suyy3zvx\"><div class=\"aahdfvyu fsotbgu8\"><span class=\"j83agx80\"><div class=\"a8nywdso e5nlhep0 rz4wbd8a ecm0bbzt btwxx1t3 j83agx80\"><div class=\"hlyrhctz\"><span class=\"oi732d6d ik7dh3pa d2edcug0 qv66sw1b c1et5uql a8c37x1j s89635nw ew0dbk1b a5q79mjw g1cxx5fr lrazzd5p oo9gr5id\" dir=\"auto\">$3,500</span></div><div class=\"f0t0fhil mkhogb32\"><span class=\"oi732d6d ik7dh3pa d2edcug0 qv66sw1b c1et5uql a8c37x1j muag1w35 enqfppq2 jq4qci2q a3bd9o3v ekzkrbhg oo9gr5id\" dir=\"auto\">$3,500</span></div></div></span></div><div class=\"aahdfvyu fsotbgu8\"><span aria-hidden=\"true\"><div class=\"a8nywdso e5nlhep0 rz4wbd8a linoseic\"><span class=\"a8c37x1j ni8dbmo4 stjgntxs l9j0dhe7 oi732d6d ik7dh3pa d2edcug0 qv66sw1b c1et5uql muag1w35 enqfppq2 jq4qci2q a3bd9o3v knj5qynh oo9gr5id\" dir=\"auto\" style=\"-webkit-box-orient: vertical; -webkit-line-clamp: 2; display: -webkit-box;\">2014 Ram 3500 Lonestar Longbed 4x4</span></div></span></div><div class=\"aahdfvyu fsotbgu8\"><span aria-hidden=\"true\"><div class=\"a8nywdso e5nlhep0 rz4wbd8a ecm0bbzt\"><span class=\"a8c37x1j ni8dbmo4 stjgntxs l9j0dhe7 ltmttdrg g0qnabr5 oi732d6d ik7dh3pa d2edcug0 qv66sw1b c1et5uql hop8lmos enqfppq2 e9vueds3 j5wam9gi knj5qynh m9osqain\" dir=\"auto\">Rosenberg, TX</span></div></span></div><div class=\"aahdfvyu fsotbgu8\"><div class=\"a8nywdso e5nlhep0 rz4wbd8a ecm0bbzt\"><span class=\"a8c37x1j ni8dbmo4 stjgntxs l9j0dhe7 ltmttdrg g0qnabr5 oi732d6d ik7dh3pa d2edcug0 qv66sw1b c1et5uql hop8lmos enqfppq2 e9vueds3 j5wam9gi knj5qynh m9osqain\" dir=\"auto\">50K miles</span></div></div></div></div></a></div>"
      ],
      "text/plain": [
       "<IPython.core.display.HTML object>"
      ]
     },
     "metadata": {},
     "output_type": "display_data"
    },
    {
     "name": "stdout",
     "output_type": "stream",
     "text": [
      "-------------------\n",
      "$3,800\n",
      "2012 Chevrolet Sonic LS Hatchback Sedan 4D\n",
      "Houston, TX\n",
      "85K miles\n",
      "-------------------\n",
      "None\n",
      "-------------------\n"
     ]
    },
    {
     "data": {
      "text/html": [
       "<div class=\"kbiprv82\"><a class=\"oajrlxb2 g5ia77u1 qu0x051f esr5mh6w e9989ue4 r7d6kgcz rq0escxv nhd2j8a9 nc684nl6 p7hjln8o kvgmc6g5 cxmmr5t8 oygrvhab hcukyx3x jb3vyjys rz4wbd8a qt6c0cv9 a8nywdso i1ao9s8h esuyzwwr f1sip0of lzcic4wl gmql0nx0 p8dawk7l\" href=\"/marketplace/item/2167045646933150/\" role=\"link\" tabindex=\"0\"><div class=\"j83agx80 cbu4d94t l9j0dhe7\"><div class=\"l9j0dhe7\"><div class=\"k4urcfbm l9j0dhe7\"><div class=\"kr520xx4 j9ispegn l9j0dhe7 stjgntxs ni8dbmo4 n7fi1qx3 i09qtzwb kzx2olss aot14ch1 p86d2i9g beltcj47 t63ysoy8 linmgsc8 hop1g133 opwvks06\"><div class=\"beltcj47 p86d2i9g aot14ch1 kzx2olss ni8dbmo4 stjgntxs d5it6em2 l9j0dhe7 k4urcfbm\"><div class=\"j83agx80 lhclo0ds ihdl84by pmk7jnqg h119xb3h iylxurvu bo2ra7bd\"><div class=\"rq0escxv j83agx80 buofh1pr datstx6m ggysqto6 exrn9cbp ojkyduve abpf7j7b l9j0dhe7 k4urcfbm\"><img alt=\"2012 Chevrolet Sonic LS Hatchback Sedan 4D in Houston, TX\" class=\"idiwt2bm bixrwtb6 ni8dbmo4 stjgntxs k4urcfbm\" src=\"https://scontent.fhou1-2.fna.fbcdn.net/v/t1.0-0/c43.0.260.260a/p261x260/70254294_2508349485915674_1432748360632107008_n.jpg?_nc_cat=107&amp;_nc_sid=843cd7&amp;_nc_ohc=GVnetBX8Ts8AX9Yzz_a&amp;_nc_ht=scontent.fhou1-2.fna&amp;oh=febd4dff144cdc80d4f6af4de1fef360&amp;oe=5F6BF4CA\"></div></div></div></div></div></div><div class=\"rq0escxv j83agx80 cbu4d94t i1fnvgqd muag1w35 pybr56ya f10w8fjw k4urcfbm c7r68pdi suyy3zvx\"><div class=\"aahdfvyu fsotbgu8\"><span class=\"j83agx80\"><div class=\"a8nywdso e5nlhep0 rz4wbd8a ecm0bbzt btwxx1t3 j83agx80\"><div class=\"hlyrhctz\"><span class=\"oi732d6d ik7dh3pa d2edcug0 qv66sw1b c1et5uql a8c37x1j s89635nw ew0dbk1b a5q79mjw g1cxx5fr lrazzd5p oo9gr5id\" dir=\"auto\">$3,800</span></div><div class=\"f0t0fhil mkhogb32\"><span class=\"oi732d6d ik7dh3pa d2edcug0 qv66sw1b c1et5uql a8c37x1j muag1w35 enqfppq2 jq4qci2q a3bd9o3v ekzkrbhg oo9gr5id\" dir=\"auto\">$3,800</span></div></div></span></div><div class=\"aahdfvyu fsotbgu8\"><span aria-hidden=\"true\"><div class=\"a8nywdso e5nlhep0 rz4wbd8a linoseic\"><span class=\"a8c37x1j ni8dbmo4 stjgntxs l9j0dhe7 oi732d6d ik7dh3pa d2edcug0 qv66sw1b c1et5uql muag1w35 enqfppq2 jq4qci2q a3bd9o3v knj5qynh oo9gr5id\" dir=\"auto\" style=\"-webkit-box-orient: vertical; -webkit-line-clamp: 2; display: -webkit-box;\">2012 Chevrolet Sonic LS Hatchback Sedan 4D</span></div></span></div><div class=\"aahdfvyu fsotbgu8\"><span aria-hidden=\"true\"><div class=\"a8nywdso e5nlhep0 rz4wbd8a ecm0bbzt\"><span class=\"a8c37x1j ni8dbmo4 stjgntxs l9j0dhe7 ltmttdrg g0qnabr5 oi732d6d ik7dh3pa d2edcug0 qv66sw1b c1et5uql hop8lmos enqfppq2 e9vueds3 j5wam9gi knj5qynh m9osqain\" dir=\"auto\">Houston, TX</span></div></span></div><div class=\"aahdfvyu fsotbgu8\"><div class=\"a8nywdso e5nlhep0 rz4wbd8a ecm0bbzt\"><span class=\"a8c37x1j ni8dbmo4 stjgntxs l9j0dhe7 ltmttdrg g0qnabr5 oi732d6d ik7dh3pa d2edcug0 qv66sw1b c1et5uql hop8lmos enqfppq2 e9vueds3 j5wam9gi knj5qynh m9osqain\" dir=\"auto\">85K miles</span></div></div></div></div></a></div>"
      ],
      "text/plain": [
       "<IPython.core.display.HTML object>"
      ]
     },
     "metadata": {},
     "output_type": "display_data"
    },
    {
     "name": "stdout",
     "output_type": "stream",
     "text": [
      "-------------------\n",
      "$2,500\n",
      "2020 Kia Rio\n",
      "Houston, TX\n",
      "-------------------\n",
      "None\n",
      "-------------------\n"
     ]
    },
    {
     "data": {
      "text/html": [
       "<div class=\"kbiprv82\"><a class=\"oajrlxb2 g5ia77u1 qu0x051f esr5mh6w e9989ue4 r7d6kgcz rq0escxv nhd2j8a9 nc684nl6 p7hjln8o kvgmc6g5 cxmmr5t8 oygrvhab hcukyx3x jb3vyjys rz4wbd8a qt6c0cv9 a8nywdso i1ao9s8h esuyzwwr f1sip0of lzcic4wl gmql0nx0 p8dawk7l\" href=\"/marketplace/item/345959113060608/\" role=\"link\" tabindex=\"0\"><div class=\"j83agx80 cbu4d94t l9j0dhe7\"><div class=\"l9j0dhe7\"><div class=\"k4urcfbm l9j0dhe7\"><div class=\"kr520xx4 j9ispegn l9j0dhe7 stjgntxs ni8dbmo4 n7fi1qx3 i09qtzwb kzx2olss aot14ch1 p86d2i9g beltcj47 t63ysoy8 linmgsc8 hop1g133 opwvks06\"><div class=\"beltcj47 p86d2i9g aot14ch1 kzx2olss ni8dbmo4 stjgntxs d5it6em2 l9j0dhe7 k4urcfbm\"><div class=\"j83agx80 lhclo0ds ihdl84by pmk7jnqg h119xb3h iylxurvu bo2ra7bd\"><div class=\"rq0escxv j83agx80 buofh1pr datstx6m ggysqto6 exrn9cbp ojkyduve abpf7j7b l9j0dhe7 k4urcfbm\"><img alt=\"2020 Kia Rio in Houston, TX\" class=\"idiwt2bm bixrwtb6 ni8dbmo4 stjgntxs k4urcfbm\" src=\"https://scontent.fhou1-1.fna.fbcdn.net/v/t1.0-0/c43.0.260.260a/p261x260/115987804_10217826053022496_6968382681064685495_n.jpg?_nc_cat=110&amp;_nc_sid=843cd7&amp;_nc_ohc=swCLMzlmIY0AX-xQrq0&amp;_nc_ht=scontent.fhou1-1.fna&amp;oh=9a32c7b8354c9bb904b19d5a7e37d079&amp;oe=5F6D6926\"></div></div></div></div></div></div><div class=\"rq0escxv j83agx80 cbu4d94t i1fnvgqd muag1w35 pybr56ya f10w8fjw k4urcfbm c7r68pdi suyy3zvx\"><div class=\"aahdfvyu fsotbgu8\"><span class=\"j83agx80\"><div class=\"a8nywdso e5nlhep0 rz4wbd8a ecm0bbzt btwxx1t3 j83agx80\"><div class=\"hlyrhctz\"><span class=\"oi732d6d ik7dh3pa d2edcug0 qv66sw1b c1et5uql a8c37x1j s89635nw ew0dbk1b a5q79mjw g1cxx5fr lrazzd5p oo9gr5id\" dir=\"auto\">$2,500</span></div><div class=\"f0t0fhil mkhogb32\"><span class=\"oi732d6d ik7dh3pa d2edcug0 qv66sw1b c1et5uql a8c37x1j muag1w35 enqfppq2 jq4qci2q a3bd9o3v ekzkrbhg oo9gr5id\" dir=\"auto\">$2,500</span></div></div></span></div><div class=\"aahdfvyu fsotbgu8\"><span aria-hidden=\"true\"><div class=\"a8nywdso e5nlhep0 rz4wbd8a linoseic\"><span class=\"a8c37x1j ni8dbmo4 stjgntxs l9j0dhe7 oi732d6d ik7dh3pa d2edcug0 qv66sw1b c1et5uql muag1w35 enqfppq2 jq4qci2q a3bd9o3v knj5qynh oo9gr5id\" dir=\"auto\" style=\"-webkit-box-orient: vertical; -webkit-line-clamp: 2; display: -webkit-box;\">2020 Kia Rio</span></div></span></div><div class=\"aahdfvyu fsotbgu8\"><span aria-hidden=\"true\"><div class=\"a8nywdso e5nlhep0 rz4wbd8a ecm0bbzt\"><span class=\"a8c37x1j ni8dbmo4 stjgntxs l9j0dhe7 ltmttdrg g0qnabr5 oi732d6d ik7dh3pa d2edcug0 qv66sw1b c1et5uql hop8lmos enqfppq2 e9vueds3 j5wam9gi knj5qynh m9osqain\" dir=\"auto\">Houston, TX</span></div></span></div><div class=\"aahdfvyu fsotbgu8\"><div class=\"a8nywdso e5nlhep0 rz4wbd8a ecm0bbzt\"><span class=\"a8c37x1j ni8dbmo4 stjgntxs l9j0dhe7 ltmttdrg g0qnabr5 oi732d6d ik7dh3pa d2edcug0 qv66sw1b c1et5uql hop8lmos enqfppq2 e9vueds3 j5wam9gi knj5qynh m9osqain\" dir=\"auto\"></span></div></div></div></div></a></div>"
      ],
      "text/plain": [
       "<IPython.core.display.HTML object>"
      ]
     },
     "metadata": {},
     "output_type": "display_data"
    },
    {
     "name": "stdout",
     "output_type": "stream",
     "text": [
      "-------------------\n",
      "$4,000\n",
      "2018 Chevrolet SILVERADO\n",
      "Houston, TX\n",
      "100K miles\n",
      "-------------------\n",
      "None\n",
      "-------------------\n"
     ]
    },
    {
     "data": {
      "text/html": [
       "<div class=\"kbiprv82\"><a class=\"oajrlxb2 g5ia77u1 qu0x051f esr5mh6w e9989ue4 r7d6kgcz rq0escxv nhd2j8a9 nc684nl6 p7hjln8o kvgmc6g5 cxmmr5t8 oygrvhab hcukyx3x jb3vyjys rz4wbd8a qt6c0cv9 a8nywdso i1ao9s8h esuyzwwr f1sip0of lzcic4wl gmql0nx0 p8dawk7l\" href=\"/marketplace/item/2583035058646564/\" role=\"link\" tabindex=\"0\"><div class=\"j83agx80 cbu4d94t l9j0dhe7\"><div class=\"l9j0dhe7\"><div class=\"k4urcfbm l9j0dhe7\"><div class=\"kr520xx4 j9ispegn l9j0dhe7 stjgntxs ni8dbmo4 n7fi1qx3 i09qtzwb kzx2olss aot14ch1 p86d2i9g beltcj47 t63ysoy8 linmgsc8 hop1g133 opwvks06\"><div class=\"beltcj47 p86d2i9g aot14ch1 kzx2olss ni8dbmo4 stjgntxs d5it6em2 l9j0dhe7 k4urcfbm\"><div class=\"j83agx80 lhclo0ds ihdl84by pmk7jnqg h119xb3h iylxurvu bo2ra7bd\"><div class=\"rq0escxv j83agx80 buofh1pr datstx6m ggysqto6 exrn9cbp ojkyduve abpf7j7b l9j0dhe7 k4urcfbm\"><img alt=\"2018 Chevrolet SILVERADO in Houston, TX\" class=\"idiwt2bm bixrwtb6 ni8dbmo4 stjgntxs k4urcfbm\" src=\"https://scontent.fhou1-2.fna.fbcdn.net/v/t1.0-0/c43.0.260.260a/p261x260/79256674_10215940711293071_4060867238788333568_o.jpg?_nc_cat=105&amp;_nc_sid=843cd7&amp;_nc_ohc=qIrnUitXaX0AX_gWqFX&amp;_nc_ht=scontent.fhou1-2.fna&amp;oh=f266587ae2c9785c72caa7b3de3e158f&amp;oe=5F6D4845\"></div></div></div></div></div></div><div class=\"rq0escxv j83agx80 cbu4d94t i1fnvgqd muag1w35 pybr56ya f10w8fjw k4urcfbm c7r68pdi suyy3zvx\"><div class=\"aahdfvyu fsotbgu8\"><span class=\"j83agx80\"><div class=\"a8nywdso e5nlhep0 rz4wbd8a ecm0bbzt btwxx1t3 j83agx80\"><div class=\"hlyrhctz\"><span class=\"oi732d6d ik7dh3pa d2edcug0 qv66sw1b c1et5uql a8c37x1j s89635nw ew0dbk1b a5q79mjw g1cxx5fr lrazzd5p oo9gr5id\" dir=\"auto\">$4,000</span></div><div class=\"f0t0fhil mkhogb32\"><span class=\"oi732d6d ik7dh3pa d2edcug0 qv66sw1b c1et5uql a8c37x1j muag1w35 enqfppq2 jq4qci2q a3bd9o3v ekzkrbhg oo9gr5id\" dir=\"auto\">$4,000</span></div></div></span></div><div class=\"aahdfvyu fsotbgu8\"><span aria-hidden=\"true\"><div class=\"a8nywdso e5nlhep0 rz4wbd8a linoseic\"><span class=\"a8c37x1j ni8dbmo4 stjgntxs l9j0dhe7 oi732d6d ik7dh3pa d2edcug0 qv66sw1b c1et5uql muag1w35 enqfppq2 jq4qci2q a3bd9o3v knj5qynh oo9gr5id\" dir=\"auto\" style=\"-webkit-box-orient: vertical; -webkit-line-clamp: 2; display: -webkit-box;\">2018 Chevrolet SILVERADO</span></div></span></div><div class=\"aahdfvyu fsotbgu8\"><span aria-hidden=\"true\"><div class=\"a8nywdso e5nlhep0 rz4wbd8a ecm0bbzt\"><span class=\"a8c37x1j ni8dbmo4 stjgntxs l9j0dhe7 ltmttdrg g0qnabr5 oi732d6d ik7dh3pa d2edcug0 qv66sw1b c1et5uql hop8lmos enqfppq2 e9vueds3 j5wam9gi knj5qynh m9osqain\" dir=\"auto\">Houston, TX</span></div></span></div><div class=\"aahdfvyu fsotbgu8\"><div class=\"a8nywdso e5nlhep0 rz4wbd8a ecm0bbzt\"><span class=\"a8c37x1j ni8dbmo4 stjgntxs l9j0dhe7 ltmttdrg g0qnabr5 oi732d6d ik7dh3pa d2edcug0 qv66sw1b c1et5uql hop8lmos enqfppq2 e9vueds3 j5wam9gi knj5qynh m9osqain\" dir=\"auto\">100K miles</span></div></div></div></div></a></div>"
      ],
      "text/plain": [
       "<IPython.core.display.HTML object>"
      ]
     },
     "metadata": {},
     "output_type": "display_data"
    },
    {
     "name": "stdout",
     "output_type": "stream",
     "text": [
      "-------------------\n",
      "$3,950\n",
      "2014 Toyota Tundra Double Cab Limited Pickup 4D 6 1/2 ft\n",
      "Houston, TX\n",
      "300 miles\n",
      "-------------------\n",
      "None\n",
      "-------------------\n"
     ]
    },
    {
     "data": {
      "text/html": [
       "<div class=\"kbiprv82\"><a class=\"oajrlxb2 g5ia77u1 qu0x051f esr5mh6w e9989ue4 r7d6kgcz rq0escxv nhd2j8a9 nc684nl6 p7hjln8o kvgmc6g5 cxmmr5t8 oygrvhab hcukyx3x jb3vyjys rz4wbd8a qt6c0cv9 a8nywdso i1ao9s8h esuyzwwr f1sip0of lzcic4wl gmql0nx0 p8dawk7l\" href=\"/marketplace/item/498906367553249/\" role=\"link\" tabindex=\"0\"><div class=\"j83agx80 cbu4d94t l9j0dhe7\"><div class=\"l9j0dhe7\"><div class=\"k4urcfbm l9j0dhe7\"><div class=\"kr520xx4 j9ispegn l9j0dhe7 stjgntxs ni8dbmo4 n7fi1qx3 i09qtzwb kzx2olss aot14ch1 p86d2i9g beltcj47 t63ysoy8 linmgsc8 hop1g133 opwvks06\"><div class=\"beltcj47 p86d2i9g aot14ch1 kzx2olss ni8dbmo4 stjgntxs d5it6em2 l9j0dhe7 k4urcfbm\"><div class=\"j83agx80 lhclo0ds ihdl84by pmk7jnqg h119xb3h iylxurvu bo2ra7bd\"><div class=\"rq0escxv j83agx80 buofh1pr datstx6m ggysqto6 exrn9cbp ojkyduve abpf7j7b l9j0dhe7 k4urcfbm\"><img alt=\"2014 Toyota Tundra Double Cab Limited Pickup 4D 6 1/2 ft in Houston, TX\" class=\"idiwt2bm bixrwtb6 ni8dbmo4 stjgntxs k4urcfbm\" src=\"https://scontent.fhou1-2.fna.fbcdn.net/v/t1.0-9/c32.0.256.256a/69654092_10162308813505381_4889436644312088576_n.jpg?_nc_cat=103&amp;_nc_sid=843cd7&amp;_nc_ohc=0U34O2W4sXIAX8EPuV_&amp;_nc_ht=scontent.fhou1-2.fna&amp;oh=85c4d0ae9ea83f78b21bae4efce5c319&amp;oe=5F6AE1DC\"></div></div></div></div></div></div><div class=\"rq0escxv j83agx80 cbu4d94t i1fnvgqd muag1w35 pybr56ya f10w8fjw k4urcfbm c7r68pdi suyy3zvx\"><div class=\"aahdfvyu fsotbgu8\"><span class=\"j83agx80\"><div class=\"a8nywdso e5nlhep0 rz4wbd8a ecm0bbzt btwxx1t3 j83agx80\"><div class=\"hlyrhctz\"><span class=\"oi732d6d ik7dh3pa d2edcug0 qv66sw1b c1et5uql a8c37x1j s89635nw ew0dbk1b a5q79mjw g1cxx5fr lrazzd5p oo9gr5id\" dir=\"auto\">$3,950</span></div><div class=\"f0t0fhil mkhogb32\"><span class=\"oi732d6d ik7dh3pa d2edcug0 qv66sw1b c1et5uql a8c37x1j muag1w35 enqfppq2 jq4qci2q a3bd9o3v ekzkrbhg oo9gr5id\" dir=\"auto\">$3,950</span></div></div></span></div><div class=\"aahdfvyu fsotbgu8\"><span aria-hidden=\"true\"><div class=\"a8nywdso e5nlhep0 rz4wbd8a linoseic\"><span class=\"a8c37x1j ni8dbmo4 stjgntxs l9j0dhe7 oi732d6d ik7dh3pa d2edcug0 qv66sw1b c1et5uql muag1w35 enqfppq2 jq4qci2q a3bd9o3v knj5qynh oo9gr5id\" dir=\"auto\" style=\"-webkit-box-orient: vertical; -webkit-line-clamp: 2; display: -webkit-box;\">2014 Toyota Tundra Double Cab Limited Pickup 4D 6 1/2 ft</span></div></span></div><div class=\"aahdfvyu fsotbgu8\"><span aria-hidden=\"true\"><div class=\"a8nywdso e5nlhep0 rz4wbd8a ecm0bbzt\"><span class=\"a8c37x1j ni8dbmo4 stjgntxs l9j0dhe7 ltmttdrg g0qnabr5 oi732d6d ik7dh3pa d2edcug0 qv66sw1b c1et5uql hop8lmos enqfppq2 e9vueds3 j5wam9gi knj5qynh m9osqain\" dir=\"auto\">Houston, TX</span></div></span></div><div class=\"aahdfvyu fsotbgu8\"><div class=\"a8nywdso e5nlhep0 rz4wbd8a ecm0bbzt\"><span class=\"a8c37x1j ni8dbmo4 stjgntxs l9j0dhe7 ltmttdrg g0qnabr5 oi732d6d ik7dh3pa d2edcug0 qv66sw1b c1et5uql hop8lmos enqfppq2 e9vueds3 j5wam9gi knj5qynh m9osqain\" dir=\"auto\">300 miles</span></div></div></div></div></a></div>"
      ],
      "text/plain": [
       "<IPython.core.display.HTML object>"
      ]
     },
     "metadata": {},
     "output_type": "display_data"
    },
    {
     "name": "stdout",
     "output_type": "stream",
     "text": [
      "-------------------\n",
      "$2,500\n",
      "2016 Chevrolet Equinox LTZ Sport Utility 4D\n",
      "Houston, TX\n",
      "66K miles\n",
      "-------------------\n",
      "None\n",
      "-------------------\n"
     ]
    },
    {
     "data": {
      "text/html": [
       "<div class=\"kbiprv82\"><a class=\"oajrlxb2 g5ia77u1 qu0x051f esr5mh6w e9989ue4 r7d6kgcz rq0escxv nhd2j8a9 nc684nl6 p7hjln8o kvgmc6g5 cxmmr5t8 oygrvhab hcukyx3x jb3vyjys rz4wbd8a qt6c0cv9 a8nywdso i1ao9s8h esuyzwwr f1sip0of lzcic4wl gmql0nx0 p8dawk7l\" href=\"/marketplace/item/457143045039071/\" role=\"link\" tabindex=\"0\"><div class=\"j83agx80 cbu4d94t l9j0dhe7\"><div class=\"l9j0dhe7\"><div class=\"k4urcfbm l9j0dhe7\"><div class=\"kr520xx4 j9ispegn l9j0dhe7 stjgntxs ni8dbmo4 n7fi1qx3 i09qtzwb kzx2olss aot14ch1 p86d2i9g beltcj47 t63ysoy8 linmgsc8 hop1g133 opwvks06\"><div class=\"beltcj47 p86d2i9g aot14ch1 kzx2olss ni8dbmo4 stjgntxs d5it6em2 l9j0dhe7 k4urcfbm\"><div class=\"j83agx80 lhclo0ds ihdl84by pmk7jnqg h119xb3h iylxurvu bo2ra7bd\"><div class=\"rq0escxv j83agx80 buofh1pr datstx6m ggysqto6 exrn9cbp ojkyduve abpf7j7b l9j0dhe7 k4urcfbm\"><img alt=\"2016 Chevrolet Equinox LTZ Sport Utility 4D in Houston, TX\" class=\"idiwt2bm bixrwtb6 ni8dbmo4 stjgntxs k4urcfbm\" src=\"https://scontent.fhou1-1.fna.fbcdn.net/v/t1.0-0/c43.0.260.260a/p261x260/61184951_194255651557750_4465341909828632576_n.jpg?_nc_cat=100&amp;_nc_sid=843cd7&amp;_nc_ohc=WJZ5HXCrqcsAX_Y2zdd&amp;_nc_ht=scontent.fhou1-1.fna&amp;oh=bd2d894d463e3032459b3179d78efc7c&amp;oe=5F6DA5C8\"></div></div></div></div></div></div><div class=\"rq0escxv j83agx80 cbu4d94t i1fnvgqd muag1w35 pybr56ya f10w8fjw k4urcfbm c7r68pdi suyy3zvx\"><div class=\"aahdfvyu fsotbgu8\"><span class=\"j83agx80\"><div class=\"a8nywdso e5nlhep0 rz4wbd8a ecm0bbzt btwxx1t3 j83agx80\"><div class=\"hlyrhctz\"><span class=\"oi732d6d ik7dh3pa d2edcug0 qv66sw1b c1et5uql a8c37x1j s89635nw ew0dbk1b a5q79mjw g1cxx5fr lrazzd5p oo9gr5id\" dir=\"auto\">$2,500</span></div><div class=\"f0t0fhil mkhogb32\"><span class=\"oi732d6d ik7dh3pa d2edcug0 qv66sw1b c1et5uql a8c37x1j muag1w35 enqfppq2 jq4qci2q a3bd9o3v ekzkrbhg oo9gr5id\" dir=\"auto\">$2,500</span></div></div></span></div><div class=\"aahdfvyu fsotbgu8\"><span aria-hidden=\"true\"><div class=\"a8nywdso e5nlhep0 rz4wbd8a linoseic\"><span class=\"a8c37x1j ni8dbmo4 stjgntxs l9j0dhe7 oi732d6d ik7dh3pa d2edcug0 qv66sw1b c1et5uql muag1w35 enqfppq2 jq4qci2q a3bd9o3v knj5qynh oo9gr5id\" dir=\"auto\" style=\"-webkit-box-orient: vertical; -webkit-line-clamp: 2; display: -webkit-box;\">2016 Chevrolet Equinox LTZ Sport Utility 4D</span></div></span></div><div class=\"aahdfvyu fsotbgu8\"><span aria-hidden=\"true\"><div class=\"a8nywdso e5nlhep0 rz4wbd8a ecm0bbzt\"><span class=\"a8c37x1j ni8dbmo4 stjgntxs l9j0dhe7 ltmttdrg g0qnabr5 oi732d6d ik7dh3pa d2edcug0 qv66sw1b c1et5uql hop8lmos enqfppq2 e9vueds3 j5wam9gi knj5qynh m9osqain\" dir=\"auto\">Houston, TX</span></div></span></div><div class=\"aahdfvyu fsotbgu8\"><div class=\"a8nywdso e5nlhep0 rz4wbd8a ecm0bbzt\"><span class=\"a8c37x1j ni8dbmo4 stjgntxs l9j0dhe7 ltmttdrg g0qnabr5 oi732d6d ik7dh3pa d2edcug0 qv66sw1b c1et5uql hop8lmos enqfppq2 e9vueds3 j5wam9gi knj5qynh m9osqain\" dir=\"auto\">66K miles</span></div></div></div></div></a></div>"
      ],
      "text/plain": [
       "<IPython.core.display.HTML object>"
      ]
     },
     "metadata": {},
     "output_type": "display_data"
    },
    {
     "name": "stdout",
     "output_type": "stream",
     "text": [
      "-------------------\n",
      "$2,300\n",
      "2017 Toyota Corolla\n",
      "Houston, TX\n",
      "20K miles\n",
      "-------------------\n",
      "None\n",
      "-------------------\n"
     ]
    },
    {
     "data": {
      "text/html": [
       "<div class=\"kbiprv82\"><a class=\"oajrlxb2 g5ia77u1 qu0x051f esr5mh6w e9989ue4 r7d6kgcz rq0escxv nhd2j8a9 nc684nl6 p7hjln8o kvgmc6g5 cxmmr5t8 oygrvhab hcukyx3x jb3vyjys rz4wbd8a qt6c0cv9 a8nywdso i1ao9s8h esuyzwwr f1sip0of lzcic4wl gmql0nx0 p8dawk7l\" href=\"/marketplace/item/751577365664175/\" role=\"link\" tabindex=\"0\"><div class=\"j83agx80 cbu4d94t l9j0dhe7\"><div class=\"l9j0dhe7\"><div class=\"k4urcfbm l9j0dhe7\"><div class=\"kr520xx4 j9ispegn l9j0dhe7 stjgntxs ni8dbmo4 n7fi1qx3 i09qtzwb kzx2olss aot14ch1 p86d2i9g beltcj47 t63ysoy8 linmgsc8 hop1g133 opwvks06\"><div class=\"beltcj47 p86d2i9g aot14ch1 kzx2olss ni8dbmo4 stjgntxs d5it6em2 l9j0dhe7 k4urcfbm\"><div class=\"j83agx80 lhclo0ds ihdl84by pmk7jnqg h119xb3h iylxurvu bo2ra7bd\"><div class=\"rq0escxv j83agx80 buofh1pr datstx6m ggysqto6 exrn9cbp ojkyduve abpf7j7b l9j0dhe7 k4urcfbm\"><img alt=\"2017 Toyota Corolla in Houston, TX\" class=\"idiwt2bm bixrwtb6 ni8dbmo4 stjgntxs k4urcfbm\" src=\"https://scontent.fhou1-2.fna.fbcdn.net/v/t1.0-0/c84.0.260.260a/p261x260/117954060_3539961352701001_3111244684481296751_n.jpg?_nc_cat=102&amp;_nc_sid=843cd7&amp;_nc_ohc=KKa7wBctIFEAX-treVE&amp;_nc_ht=scontent.fhou1-2.fna&amp;oh=b22a443ad76c40dae77c57cf8ed84149&amp;oe=5F6A984D\"></div></div></div></div></div></div><div class=\"rq0escxv j83agx80 cbu4d94t i1fnvgqd muag1w35 pybr56ya f10w8fjw k4urcfbm c7r68pdi suyy3zvx\"><div class=\"aahdfvyu fsotbgu8\"><span class=\"j83agx80\"><div class=\"a8nywdso e5nlhep0 rz4wbd8a ecm0bbzt btwxx1t3 j83agx80\"><div class=\"hlyrhctz\"><span class=\"oi732d6d ik7dh3pa d2edcug0 qv66sw1b c1et5uql a8c37x1j s89635nw ew0dbk1b a5q79mjw g1cxx5fr lrazzd5p oo9gr5id\" dir=\"auto\">$2,300</span></div><div class=\"f0t0fhil mkhogb32\"><span class=\"oi732d6d ik7dh3pa d2edcug0 qv66sw1b c1et5uql a8c37x1j muag1w35 enqfppq2 jq4qci2q a3bd9o3v ekzkrbhg oo9gr5id\" dir=\"auto\">$2,300</span></div></div></span></div><div class=\"aahdfvyu fsotbgu8\"><span aria-hidden=\"true\"><div class=\"a8nywdso e5nlhep0 rz4wbd8a linoseic\"><span class=\"a8c37x1j ni8dbmo4 stjgntxs l9j0dhe7 oi732d6d ik7dh3pa d2edcug0 qv66sw1b c1et5uql muag1w35 enqfppq2 jq4qci2q a3bd9o3v knj5qynh oo9gr5id\" dir=\"auto\" style=\"-webkit-box-orient: vertical; -webkit-line-clamp: 2; display: -webkit-box;\">2017 Toyota Corolla</span></div></span></div><div class=\"aahdfvyu fsotbgu8\"><span aria-hidden=\"true\"><div class=\"a8nywdso e5nlhep0 rz4wbd8a ecm0bbzt\"><span class=\"a8c37x1j ni8dbmo4 stjgntxs l9j0dhe7 ltmttdrg g0qnabr5 oi732d6d ik7dh3pa d2edcug0 qv66sw1b c1et5uql hop8lmos enqfppq2 e9vueds3 j5wam9gi knj5qynh m9osqain\" dir=\"auto\">Houston, TX</span></div></span></div><div class=\"aahdfvyu fsotbgu8\"><div class=\"a8nywdso e5nlhep0 rz4wbd8a ecm0bbzt\"><span class=\"a8c37x1j ni8dbmo4 stjgntxs l9j0dhe7 ltmttdrg g0qnabr5 oi732d6d ik7dh3pa d2edcug0 qv66sw1b c1et5uql hop8lmos enqfppq2 e9vueds3 j5wam9gi knj5qynh m9osqain\" dir=\"auto\">20K miles</span></div></div></div></div></a></div>"
      ],
      "text/plain": [
       "<IPython.core.display.HTML object>"
      ]
     },
     "metadata": {},
     "output_type": "display_data"
    },
    {
     "name": "stdout",
     "output_type": "stream",
     "text": [
      "-------------------\n",
      "$3,890\n",
      "2014 Chevrolet Silverado 2500 Z71 4x4\n",
      "Houston, TX\n",
      "1K miles\n",
      "-------------------\n",
      "None\n",
      "-------------------\n"
     ]
    },
    {
     "data": {
      "text/html": [
       "<div class=\"kbiprv82\"><a class=\"oajrlxb2 g5ia77u1 qu0x051f esr5mh6w e9989ue4 r7d6kgcz rq0escxv nhd2j8a9 nc684nl6 p7hjln8o kvgmc6g5 cxmmr5t8 oygrvhab hcukyx3x jb3vyjys rz4wbd8a qt6c0cv9 a8nywdso i1ao9s8h esuyzwwr f1sip0of lzcic4wl gmql0nx0 p8dawk7l\" href=\"/marketplace/item/305326870717762/\" role=\"link\" tabindex=\"0\"><div class=\"j83agx80 cbu4d94t l9j0dhe7\"><div class=\"l9j0dhe7\"><div class=\"k4urcfbm l9j0dhe7\"><div class=\"kr520xx4 j9ispegn l9j0dhe7 stjgntxs ni8dbmo4 n7fi1qx3 i09qtzwb kzx2olss aot14ch1 p86d2i9g beltcj47 t63ysoy8 linmgsc8 hop1g133 opwvks06\"><div class=\"beltcj47 p86d2i9g aot14ch1 kzx2olss ni8dbmo4 stjgntxs d5it6em2 l9j0dhe7 k4urcfbm\"><div class=\"j83agx80 lhclo0ds ihdl84by pmk7jnqg h119xb3h iylxurvu bo2ra7bd\"><div class=\"rq0escxv j83agx80 buofh1pr datstx6m ggysqto6 exrn9cbp ojkyduve abpf7j7b l9j0dhe7 k4urcfbm\"><img alt=\"2014 Chevrolet Silverado 2500 Z71 4x4 in Houston, TX\" class=\"idiwt2bm bixrwtb6 ni8dbmo4 stjgntxs k4urcfbm\" src=\"https://scontent.fhou1-1.fna.fbcdn.net/v/t1.0-0/c0.84.768.768a/s261x260/117769254_184980899706754_1114870456088599707_o.jpg?_nc_cat=110&amp;_nc_sid=843cd7&amp;_nc_ohc=Mjd7AUSq768AX8qZBU7&amp;_nc_ht=scontent.fhou1-1.fna&amp;oh=9fc9a6c3517dfc97d400e7a04cd51354&amp;oe=5F6D3BA4\"></div></div></div></div></div></div><div class=\"rq0escxv j83agx80 cbu4d94t i1fnvgqd muag1w35 pybr56ya f10w8fjw k4urcfbm c7r68pdi suyy3zvx\"><div class=\"aahdfvyu fsotbgu8\"><span class=\"j83agx80\"><div class=\"a8nywdso e5nlhep0 rz4wbd8a ecm0bbzt btwxx1t3 j83agx80\"><div class=\"hlyrhctz\"><span class=\"oi732d6d ik7dh3pa d2edcug0 qv66sw1b c1et5uql a8c37x1j s89635nw ew0dbk1b a5q79mjw g1cxx5fr lrazzd5p oo9gr5id\" dir=\"auto\">$3,890</span></div><div class=\"f0t0fhil mkhogb32\"><span class=\"oi732d6d ik7dh3pa d2edcug0 qv66sw1b c1et5uql a8c37x1j muag1w35 enqfppq2 jq4qci2q a3bd9o3v ekzkrbhg oo9gr5id\" dir=\"auto\">$3,890</span></div></div></span></div><div class=\"aahdfvyu fsotbgu8\"><span aria-hidden=\"true\"><div class=\"a8nywdso e5nlhep0 rz4wbd8a linoseic\"><span class=\"a8c37x1j ni8dbmo4 stjgntxs l9j0dhe7 oi732d6d ik7dh3pa d2edcug0 qv66sw1b c1et5uql muag1w35 enqfppq2 jq4qci2q a3bd9o3v knj5qynh oo9gr5id\" dir=\"auto\" style=\"-webkit-box-orient: vertical; -webkit-line-clamp: 2; display: -webkit-box;\">2014 Chevrolet Silverado 2500 Z71 4x4</span></div></span></div><div class=\"aahdfvyu fsotbgu8\"><span aria-hidden=\"true\"><div class=\"a8nywdso e5nlhep0 rz4wbd8a ecm0bbzt\"><span class=\"a8c37x1j ni8dbmo4 stjgntxs l9j0dhe7 ltmttdrg g0qnabr5 oi732d6d ik7dh3pa d2edcug0 qv66sw1b c1et5uql hop8lmos enqfppq2 e9vueds3 j5wam9gi knj5qynh m9osqain\" dir=\"auto\">Houston, TX</span></div></span></div><div class=\"aahdfvyu fsotbgu8\"><div class=\"a8nywdso e5nlhep0 rz4wbd8a ecm0bbzt\"><span class=\"a8c37x1j ni8dbmo4 stjgntxs l9j0dhe7 ltmttdrg g0qnabr5 oi732d6d ik7dh3pa d2edcug0 qv66sw1b c1et5uql hop8lmos enqfppq2 e9vueds3 j5wam9gi knj5qynh m9osqain\" dir=\"auto\">1K miles</span></div></div></div></div></a></div>"
      ],
      "text/plain": [
       "<IPython.core.display.HTML object>"
      ]
     },
     "metadata": {},
     "output_type": "display_data"
    },
    {
     "name": "stdout",
     "output_type": "stream",
     "text": [
      "-------------------\n",
      "$1,500\n",
      "2018 Nissan Altima\n",
      "Houston, TX\n",
      "44K miles\n",
      "-------------------\n",
      "None\n",
      "-------------------\n"
     ]
    },
    {
     "data": {
      "text/html": [
       "<div class=\"kbiprv82\"><a class=\"oajrlxb2 g5ia77u1 qu0x051f esr5mh6w e9989ue4 r7d6kgcz rq0escxv nhd2j8a9 nc684nl6 p7hjln8o kvgmc6g5 cxmmr5t8 oygrvhab hcukyx3x jb3vyjys rz4wbd8a qt6c0cv9 a8nywdso i1ao9s8h esuyzwwr f1sip0of lzcic4wl gmql0nx0 p8dawk7l\" href=\"/marketplace/item/167211531253896/\" role=\"link\" tabindex=\"0\"><div class=\"j83agx80 cbu4d94t l9j0dhe7\"><div class=\"l9j0dhe7\"><div class=\"k4urcfbm l9j0dhe7\"><div class=\"kr520xx4 j9ispegn l9j0dhe7 stjgntxs ni8dbmo4 n7fi1qx3 i09qtzwb kzx2olss aot14ch1 p86d2i9g beltcj47 t63ysoy8 linmgsc8 hop1g133 opwvks06\"><div class=\"beltcj47 p86d2i9g aot14ch1 kzx2olss ni8dbmo4 stjgntxs d5it6em2 l9j0dhe7 k4urcfbm\"><div class=\"j83agx80 lhclo0ds ihdl84by pmk7jnqg h119xb3h iylxurvu bo2ra7bd\"><div class=\"rq0escxv j83agx80 buofh1pr datstx6m ggysqto6 exrn9cbp ojkyduve abpf7j7b l9j0dhe7 k4urcfbm\"><img alt=\"2018 Nissan Altima in Houston, TX\" class=\"idiwt2bm bixrwtb6 ni8dbmo4 stjgntxs k4urcfbm\" src=\"https://scontent.fhou1-2.fna.fbcdn.net/v/t1.0-0/c65.0.260.260a/p261x260/83606455_2771968612869547_6440192224994000896_n.jpg?_nc_cat=103&amp;_nc_sid=843cd7&amp;_nc_ohc=AcUmTu3RWGMAX-Uqqn5&amp;_nc_ht=scontent.fhou1-2.fna&amp;oh=c680fbcc6f3f5c8cdfb7be3a52500d8a&amp;oe=5F6E6700\"></div></div></div></div></div></div><div class=\"rq0escxv j83agx80 cbu4d94t i1fnvgqd muag1w35 pybr56ya f10w8fjw k4urcfbm c7r68pdi suyy3zvx\"><div class=\"aahdfvyu fsotbgu8\"><span class=\"j83agx80\"><div class=\"a8nywdso e5nlhep0 rz4wbd8a ecm0bbzt btwxx1t3 j83agx80\"><div class=\"hlyrhctz\"><span class=\"oi732d6d ik7dh3pa d2edcug0 qv66sw1b c1et5uql a8c37x1j s89635nw ew0dbk1b a5q79mjw g1cxx5fr lrazzd5p oo9gr5id\" dir=\"auto\">$1,500</span></div><div class=\"f0t0fhil mkhogb32\"><span class=\"oi732d6d ik7dh3pa d2edcug0 qv66sw1b c1et5uql a8c37x1j muag1w35 enqfppq2 jq4qci2q a3bd9o3v ekzkrbhg oo9gr5id\" dir=\"auto\">$1,500</span></div></div></span></div><div class=\"aahdfvyu fsotbgu8\"><span aria-hidden=\"true\"><div class=\"a8nywdso e5nlhep0 rz4wbd8a linoseic\"><span class=\"a8c37x1j ni8dbmo4 stjgntxs l9j0dhe7 oi732d6d ik7dh3pa d2edcug0 qv66sw1b c1et5uql muag1w35 enqfppq2 jq4qci2q a3bd9o3v knj5qynh oo9gr5id\" dir=\"auto\" style=\"-webkit-box-orient: vertical; -webkit-line-clamp: 2; display: -webkit-box;\">2018 Nissan Altima</span></div></span></div><div class=\"aahdfvyu fsotbgu8\"><span aria-hidden=\"true\"><div class=\"a8nywdso e5nlhep0 rz4wbd8a ecm0bbzt\"><span class=\"a8c37x1j ni8dbmo4 stjgntxs l9j0dhe7 ltmttdrg g0qnabr5 oi732d6d ik7dh3pa d2edcug0 qv66sw1b c1et5uql hop8lmos enqfppq2 e9vueds3 j5wam9gi knj5qynh m9osqain\" dir=\"auto\">Houston, TX</span></div></span></div><div class=\"aahdfvyu fsotbgu8\"><div class=\"a8nywdso e5nlhep0 rz4wbd8a ecm0bbzt\"><span class=\"a8c37x1j ni8dbmo4 stjgntxs l9j0dhe7 ltmttdrg g0qnabr5 oi732d6d ik7dh3pa d2edcug0 qv66sw1b c1et5uql hop8lmos enqfppq2 e9vueds3 j5wam9gi knj5qynh m9osqain\" dir=\"auto\">44K miles</span></div></div></div></div></a></div>"
      ],
      "text/plain": [
       "<IPython.core.display.HTML object>"
      ]
     },
     "metadata": {},
     "output_type": "display_data"
    },
    {
     "name": "stdout",
     "output_type": "stream",
     "text": [
      "-------------------\n",
      "$1,000\n",
      "2018 Dodge journey. SE Sport Utility 4D\n",
      "Houston, TX\n",
      "21K miles\n",
      "-------------------\n",
      "None\n",
      "-------------------\n"
     ]
    },
    {
     "data": {
      "text/html": [
       "<div class=\"kbiprv82\"><a class=\"oajrlxb2 g5ia77u1 qu0x051f esr5mh6w e9989ue4 r7d6kgcz rq0escxv nhd2j8a9 nc684nl6 p7hjln8o kvgmc6g5 cxmmr5t8 oygrvhab hcukyx3x jb3vyjys rz4wbd8a qt6c0cv9 a8nywdso i1ao9s8h esuyzwwr f1sip0of lzcic4wl gmql0nx0 p8dawk7l\" href=\"/marketplace/item/992231157893290/\" role=\"link\" tabindex=\"0\"><div class=\"j83agx80 cbu4d94t l9j0dhe7\"><div class=\"l9j0dhe7\"><div class=\"k4urcfbm l9j0dhe7\"><div class=\"kr520xx4 j9ispegn l9j0dhe7 stjgntxs ni8dbmo4 n7fi1qx3 i09qtzwb kzx2olss aot14ch1 p86d2i9g beltcj47 t63ysoy8 linmgsc8 hop1g133 opwvks06\"><div class=\"beltcj47 p86d2i9g aot14ch1 kzx2olss ni8dbmo4 stjgntxs d5it6em2 l9j0dhe7 k4urcfbm\"><div class=\"j83agx80 lhclo0ds ihdl84by pmk7jnqg h119xb3h iylxurvu bo2ra7bd\"><div class=\"rq0escxv j83agx80 buofh1pr datstx6m ggysqto6 exrn9cbp ojkyduve abpf7j7b l9j0dhe7 k4urcfbm\"><img alt=\"2018 Dodge journey. SE Sport Utility 4D in Houston, TX\" class=\"idiwt2bm bixrwtb6 ni8dbmo4 stjgntxs k4urcfbm\" src=\"https://scontent.fhou1-1.fna.fbcdn.net/v/t1.0-9/c58.0.234.234a/117147931_3266586066730789_3154122829599965254_n.jpg?_nc_cat=110&amp;_nc_sid=843cd7&amp;_nc_ohc=JUdSk7MAFGkAX_k-9Px&amp;_nc_ht=scontent.fhou1-1.fna&amp;oh=d7ceb625f6794419f268c2fcc2e86196&amp;oe=5F6D0249\"></div></div></div></div></div></div><div class=\"rq0escxv j83agx80 cbu4d94t i1fnvgqd muag1w35 pybr56ya f10w8fjw k4urcfbm c7r68pdi suyy3zvx\"><div class=\"aahdfvyu fsotbgu8\"><span class=\"j83agx80\"><div class=\"a8nywdso e5nlhep0 rz4wbd8a ecm0bbzt btwxx1t3 j83agx80\"><div class=\"hlyrhctz\"><span class=\"oi732d6d ik7dh3pa d2edcug0 qv66sw1b c1et5uql a8c37x1j s89635nw ew0dbk1b a5q79mjw g1cxx5fr lrazzd5p oo9gr5id\" dir=\"auto\">$1,000</span></div><div class=\"f0t0fhil mkhogb32\"><span class=\"oi732d6d ik7dh3pa d2edcug0 qv66sw1b c1et5uql a8c37x1j muag1w35 enqfppq2 jq4qci2q a3bd9o3v ekzkrbhg oo9gr5id\" dir=\"auto\">$1,000</span></div></div></span></div><div class=\"aahdfvyu fsotbgu8\"><span aria-hidden=\"true\"><div class=\"a8nywdso e5nlhep0 rz4wbd8a linoseic\"><span class=\"a8c37x1j ni8dbmo4 stjgntxs l9j0dhe7 oi732d6d ik7dh3pa d2edcug0 qv66sw1b c1et5uql muag1w35 enqfppq2 jq4qci2q a3bd9o3v knj5qynh oo9gr5id\" dir=\"auto\" style=\"-webkit-box-orient: vertical; -webkit-line-clamp: 2; display: -webkit-box;\">2018 Dodge journey. SE Sport Utility 4D</span></div></span></div><div class=\"aahdfvyu fsotbgu8\"><span aria-hidden=\"true\"><div class=\"a8nywdso e5nlhep0 rz4wbd8a ecm0bbzt\"><span class=\"a8c37x1j ni8dbmo4 stjgntxs l9j0dhe7 ltmttdrg g0qnabr5 oi732d6d ik7dh3pa d2edcug0 qv66sw1b c1et5uql hop8lmos enqfppq2 e9vueds3 j5wam9gi knj5qynh m9osqain\" dir=\"auto\">Houston, TX</span></div></span></div><div class=\"aahdfvyu fsotbgu8\"><div class=\"a8nywdso e5nlhep0 rz4wbd8a ecm0bbzt\"><span class=\"a8c37x1j ni8dbmo4 stjgntxs l9j0dhe7 ltmttdrg g0qnabr5 oi732d6d ik7dh3pa d2edcug0 qv66sw1b c1et5uql hop8lmos enqfppq2 e9vueds3 j5wam9gi knj5qynh m9osqain\" dir=\"auto\">21K miles</span></div></div></div></div></a></div>"
      ],
      "text/plain": [
       "<IPython.core.display.HTML object>"
      ]
     },
     "metadata": {},
     "output_type": "display_data"
    },
    {
     "name": "stdout",
     "output_type": "stream",
     "text": [
      "-------------------\n",
      "$2,000\n",
      "2015 Financiamos financiamos\n",
      "Houston, TX\n",
      "-------------------\n",
      "None\n",
      "-------------------\n"
     ]
    },
    {
     "data": {
      "text/html": [
       "<div class=\"kbiprv82\"><a class=\"oajrlxb2 g5ia77u1 qu0x051f esr5mh6w e9989ue4 r7d6kgcz rq0escxv nhd2j8a9 nc684nl6 p7hjln8o kvgmc6g5 cxmmr5t8 oygrvhab hcukyx3x jb3vyjys rz4wbd8a qt6c0cv9 a8nywdso i1ao9s8h esuyzwwr f1sip0of lzcic4wl gmql0nx0 p8dawk7l\" href=\"/marketplace/item/667355134138571/\" role=\"link\" tabindex=\"0\"><div class=\"j83agx80 cbu4d94t l9j0dhe7\"><div class=\"l9j0dhe7\"><div class=\"k4urcfbm l9j0dhe7\"><div class=\"kr520xx4 j9ispegn l9j0dhe7 stjgntxs ni8dbmo4 n7fi1qx3 i09qtzwb kzx2olss aot14ch1 p86d2i9g beltcj47 t63ysoy8 linmgsc8 hop1g133 opwvks06\"><div class=\"beltcj47 p86d2i9g aot14ch1 kzx2olss ni8dbmo4 stjgntxs d5it6em2 l9j0dhe7 k4urcfbm\"><div class=\"j83agx80 lhclo0ds ihdl84by pmk7jnqg h119xb3h iylxurvu bo2ra7bd\"><div class=\"rq0escxv j83agx80 buofh1pr datstx6m ggysqto6 exrn9cbp ojkyduve abpf7j7b l9j0dhe7 k4urcfbm\"><img alt=\"2015 Financiamos financiamos in Houston, TX\" class=\"idiwt2bm bixrwtb6 ni8dbmo4 stjgntxs k4urcfbm\" src=\"https://scontent.fhou1-2.fna.fbcdn.net/v/t1.0-0/c43.0.260.260a/p261x260/118326273_1695697933915929_950898959749345253_n.jpg?_nc_cat=107&amp;_nc_sid=843cd7&amp;_nc_ohc=XHd2Z_Aiv0UAX-aAGpf&amp;_nc_ht=scontent.fhou1-2.fna&amp;oh=58d274e62d2223aa912957b47c226342&amp;oe=5F6CF1C2\"></div></div></div></div></div></div><div class=\"rq0escxv j83agx80 cbu4d94t i1fnvgqd muag1w35 pybr56ya f10w8fjw k4urcfbm c7r68pdi suyy3zvx\"><div class=\"aahdfvyu fsotbgu8\"><span class=\"j83agx80\"><div class=\"a8nywdso e5nlhep0 rz4wbd8a ecm0bbzt btwxx1t3 j83agx80\"><div class=\"hlyrhctz\"><span class=\"oi732d6d ik7dh3pa d2edcug0 qv66sw1b c1et5uql a8c37x1j s89635nw ew0dbk1b a5q79mjw g1cxx5fr lrazzd5p oo9gr5id\" dir=\"auto\">$2,000</span></div><div class=\"f0t0fhil mkhogb32\"><span class=\"oi732d6d ik7dh3pa d2edcug0 qv66sw1b c1et5uql a8c37x1j muag1w35 enqfppq2 jq4qci2q a3bd9o3v ekzkrbhg oo9gr5id\" dir=\"auto\">$2,000</span></div></div></span></div><div class=\"aahdfvyu fsotbgu8\"><span aria-hidden=\"true\"><div class=\"a8nywdso e5nlhep0 rz4wbd8a linoseic\"><span class=\"a8c37x1j ni8dbmo4 stjgntxs l9j0dhe7 oi732d6d ik7dh3pa d2edcug0 qv66sw1b c1et5uql muag1w35 enqfppq2 jq4qci2q a3bd9o3v knj5qynh oo9gr5id\" dir=\"auto\" style=\"-webkit-box-orient: vertical; -webkit-line-clamp: 2; display: -webkit-box;\">2015 Financiamos financiamos</span></div></span></div><div class=\"aahdfvyu fsotbgu8\"><span aria-hidden=\"true\"><div class=\"a8nywdso e5nlhep0 rz4wbd8a ecm0bbzt\"><span class=\"a8c37x1j ni8dbmo4 stjgntxs l9j0dhe7 ltmttdrg g0qnabr5 oi732d6d ik7dh3pa d2edcug0 qv66sw1b c1et5uql hop8lmos enqfppq2 e9vueds3 j5wam9gi knj5qynh m9osqain\" dir=\"auto\">Houston, TX</span></div></span></div><div class=\"aahdfvyu fsotbgu8\"><div class=\"a8nywdso e5nlhep0 rz4wbd8a ecm0bbzt\"><span class=\"a8c37x1j ni8dbmo4 stjgntxs l9j0dhe7 ltmttdrg g0qnabr5 oi732d6d ik7dh3pa d2edcug0 qv66sw1b c1et5uql hop8lmos enqfppq2 e9vueds3 j5wam9gi knj5qynh m9osqain\" dir=\"auto\"></span></div></div></div></div></a></div>"
      ],
      "text/plain": [
       "<IPython.core.display.HTML object>"
      ]
     },
     "metadata": {},
     "output_type": "display_data"
    },
    {
     "name": "stdout",
     "output_type": "stream",
     "text": [
      "-------------------\n",
      "$1,399\n",
      "2016 Ford Fusion SE Hybrid Sedan 4D\n",
      "Tomball, TX\n",
      "39K miles\n",
      "-------------------\n",
      "None\n",
      "-------------------\n"
     ]
    },
    {
     "data": {
      "text/html": [
       "<div class=\"kbiprv82\"><a class=\"oajrlxb2 g5ia77u1 qu0x051f esr5mh6w e9989ue4 r7d6kgcz rq0escxv nhd2j8a9 nc684nl6 p7hjln8o kvgmc6g5 cxmmr5t8 oygrvhab hcukyx3x jb3vyjys rz4wbd8a qt6c0cv9 a8nywdso i1ao9s8h esuyzwwr f1sip0of lzcic4wl gmql0nx0 p8dawk7l\" href=\"/marketplace/item/660576751088913/\" role=\"link\" tabindex=\"0\"><div class=\"j83agx80 cbu4d94t l9j0dhe7\"><div class=\"l9j0dhe7\"><div class=\"k4urcfbm l9j0dhe7\"><div class=\"kr520xx4 j9ispegn l9j0dhe7 stjgntxs ni8dbmo4 n7fi1qx3 i09qtzwb kzx2olss aot14ch1 p86d2i9g beltcj47 t63ysoy8 linmgsc8 hop1g133 opwvks06\"><div class=\"beltcj47 p86d2i9g aot14ch1 kzx2olss ni8dbmo4 stjgntxs d5it6em2 l9j0dhe7 k4urcfbm\"><div class=\"j83agx80 lhclo0ds ihdl84by pmk7jnqg h119xb3h iylxurvu bo2ra7bd\"><div class=\"rq0escxv j83agx80 buofh1pr datstx6m ggysqto6 exrn9cbp ojkyduve abpf7j7b l9j0dhe7 k4urcfbm\"><img alt=\"2016 Ford Fusion SE Hybrid Sedan 4D in Tomball, TX\" class=\"idiwt2bm bixrwtb6 ni8dbmo4 stjgntxs k4urcfbm\" src=\"https://scontent.fhou1-2.fna.fbcdn.net/v/t1.0-0/c43.0.260.260a/p261x260/69407782_10157648311441079_146343116461309952_n.jpg?_nc_cat=109&amp;_nc_sid=843cd7&amp;_nc_ohc=yfis_JmusJAAX_q66L0&amp;_nc_ht=scontent.fhou1-2.fna&amp;oh=61191ee0eaf5eb47aeeaa59ff14ca7a2&amp;oe=5F6CDDAE\"></div></div></div></div></div></div><div class=\"rq0escxv j83agx80 cbu4d94t i1fnvgqd muag1w35 pybr56ya f10w8fjw k4urcfbm c7r68pdi suyy3zvx\"><div class=\"aahdfvyu fsotbgu8\"><span class=\"j83agx80\"><div class=\"a8nywdso e5nlhep0 rz4wbd8a ecm0bbzt btwxx1t3 j83agx80\"><div class=\"hlyrhctz\"><span class=\"oi732d6d ik7dh3pa d2edcug0 qv66sw1b c1et5uql a8c37x1j s89635nw ew0dbk1b a5q79mjw g1cxx5fr lrazzd5p oo9gr5id\" dir=\"auto\">$1,399</span></div><div class=\"f0t0fhil mkhogb32\"><span class=\"oi732d6d ik7dh3pa d2edcug0 qv66sw1b c1et5uql a8c37x1j muag1w35 enqfppq2 jq4qci2q a3bd9o3v ekzkrbhg oo9gr5id\" dir=\"auto\">$1,399</span></div></div></span></div><div class=\"aahdfvyu fsotbgu8\"><span aria-hidden=\"true\"><div class=\"a8nywdso e5nlhep0 rz4wbd8a linoseic\"><span class=\"a8c37x1j ni8dbmo4 stjgntxs l9j0dhe7 oi732d6d ik7dh3pa d2edcug0 qv66sw1b c1et5uql muag1w35 enqfppq2 jq4qci2q a3bd9o3v knj5qynh oo9gr5id\" dir=\"auto\" style=\"-webkit-box-orient: vertical; -webkit-line-clamp: 2; display: -webkit-box;\">2016 Ford Fusion SE Hybrid Sedan 4D</span></div></span></div><div class=\"aahdfvyu fsotbgu8\"><span aria-hidden=\"true\"><div class=\"a8nywdso e5nlhep0 rz4wbd8a ecm0bbzt\"><span class=\"a8c37x1j ni8dbmo4 stjgntxs l9j0dhe7 ltmttdrg g0qnabr5 oi732d6d ik7dh3pa d2edcug0 qv66sw1b c1et5uql hop8lmos enqfppq2 e9vueds3 j5wam9gi knj5qynh m9osqain\" dir=\"auto\">Tomball, TX</span></div></span></div><div class=\"aahdfvyu fsotbgu8\"><div class=\"a8nywdso e5nlhep0 rz4wbd8a ecm0bbzt\"><span class=\"a8c37x1j ni8dbmo4 stjgntxs l9j0dhe7 ltmttdrg g0qnabr5 oi732d6d ik7dh3pa d2edcug0 qv66sw1b c1et5uql hop8lmos enqfppq2 e9vueds3 j5wam9gi knj5qynh m9osqain\" dir=\"auto\">39K miles</span></div></div></div></div></a></div>"
      ],
      "text/plain": [
       "<IPython.core.display.HTML object>"
      ]
     },
     "metadata": {},
     "output_type": "display_data"
    },
    {
     "name": "stdout",
     "output_type": "stream",
     "text": [
      "-------------------\n",
      "$3,700\n",
      "2012 Ford Focus SE Sedan 4D\n",
      "Houston, TX\n",
      "117K miles\n",
      "-------------------\n",
      "None\n",
      "-------------------\n"
     ]
    },
    {
     "data": {
      "text/html": [
       "<div class=\"kbiprv82\"><a class=\"oajrlxb2 g5ia77u1 qu0x051f esr5mh6w e9989ue4 r7d6kgcz rq0escxv nhd2j8a9 nc684nl6 p7hjln8o kvgmc6g5 cxmmr5t8 oygrvhab hcukyx3x jb3vyjys rz4wbd8a qt6c0cv9 a8nywdso i1ao9s8h esuyzwwr f1sip0of lzcic4wl gmql0nx0 p8dawk7l\" href=\"/marketplace/item/509484526550272/\" role=\"link\" tabindex=\"0\"><div class=\"j83agx80 cbu4d94t l9j0dhe7\"><div class=\"l9j0dhe7\"><div class=\"k4urcfbm l9j0dhe7\"><div class=\"kr520xx4 j9ispegn l9j0dhe7 stjgntxs ni8dbmo4 n7fi1qx3 i09qtzwb kzx2olss aot14ch1 p86d2i9g beltcj47 t63ysoy8 linmgsc8 hop1g133 opwvks06\"><div class=\"beltcj47 p86d2i9g aot14ch1 kzx2olss ni8dbmo4 stjgntxs d5it6em2 l9j0dhe7 k4urcfbm\"><div class=\"j83agx80 lhclo0ds ihdl84by pmk7jnqg h119xb3h iylxurvu bo2ra7bd\"><div class=\"rq0escxv j83agx80 buofh1pr datstx6m ggysqto6 exrn9cbp ojkyduve abpf7j7b l9j0dhe7 k4urcfbm\"><img alt=\"2012 Ford Focus SE Sedan 4D in Houston, TX\" class=\"idiwt2bm bixrwtb6 ni8dbmo4 stjgntxs k4urcfbm\" src=\"https://scontent.fhou1-2.fna.fbcdn.net/v/t1.0-0/c0.223.640.640a/s261x260/72563580_2548391875253933_6293012015111733248_o.jpg?_nc_cat=109&amp;_nc_sid=843cd7&amp;_nc_ohc=1bngWnHmMuEAX_NsCLN&amp;_nc_ht=scontent.fhou1-2.fna&amp;oh=317a87bbe258941bcf7d095d9b8780e0&amp;oe=5F6DD348\"></div></div></div></div></div></div><div class=\"rq0escxv j83agx80 cbu4d94t i1fnvgqd muag1w35 pybr56ya f10w8fjw k4urcfbm c7r68pdi suyy3zvx\"><div class=\"aahdfvyu fsotbgu8\"><span class=\"j83agx80\"><div class=\"a8nywdso e5nlhep0 rz4wbd8a ecm0bbzt btwxx1t3 j83agx80\"><div class=\"hlyrhctz\"><span class=\"oi732d6d ik7dh3pa d2edcug0 qv66sw1b c1et5uql a8c37x1j s89635nw ew0dbk1b a5q79mjw g1cxx5fr lrazzd5p oo9gr5id\" dir=\"auto\">$3,700</span></div><div class=\"f0t0fhil mkhogb32\"><span class=\"oi732d6d ik7dh3pa d2edcug0 qv66sw1b c1et5uql a8c37x1j muag1w35 enqfppq2 jq4qci2q a3bd9o3v ekzkrbhg oo9gr5id\" dir=\"auto\">$3,700</span></div></div></span></div><div class=\"aahdfvyu fsotbgu8\"><span aria-hidden=\"true\"><div class=\"a8nywdso e5nlhep0 rz4wbd8a linoseic\"><span class=\"a8c37x1j ni8dbmo4 stjgntxs l9j0dhe7 oi732d6d ik7dh3pa d2edcug0 qv66sw1b c1et5uql muag1w35 enqfppq2 jq4qci2q a3bd9o3v knj5qynh oo9gr5id\" dir=\"auto\" style=\"-webkit-box-orient: vertical; -webkit-line-clamp: 2; display: -webkit-box;\">2012 Ford Focus SE Sedan 4D</span></div></span></div><div class=\"aahdfvyu fsotbgu8\"><span aria-hidden=\"true\"><div class=\"a8nywdso e5nlhep0 rz4wbd8a ecm0bbzt\"><span class=\"a8c37x1j ni8dbmo4 stjgntxs l9j0dhe7 ltmttdrg g0qnabr5 oi732d6d ik7dh3pa d2edcug0 qv66sw1b c1et5uql hop8lmos enqfppq2 e9vueds3 j5wam9gi knj5qynh m9osqain\" dir=\"auto\">Houston, TX</span></div></span></div><div class=\"aahdfvyu fsotbgu8\"><div class=\"a8nywdso e5nlhep0 rz4wbd8a ecm0bbzt\"><span class=\"a8c37x1j ni8dbmo4 stjgntxs l9j0dhe7 ltmttdrg g0qnabr5 oi732d6d ik7dh3pa d2edcug0 qv66sw1b c1et5uql hop8lmos enqfppq2 e9vueds3 j5wam9gi knj5qynh m9osqain\" dir=\"auto\">117K miles</span></div></div></div></div></a></div>"
      ],
      "text/plain": [
       "<IPython.core.display.HTML object>"
      ]
     },
     "metadata": {},
     "output_type": "display_data"
    },
    {
     "name": "stdout",
     "output_type": "stream",
     "text": [
      "-------------------\n",
      "$799\n",
      "2019 Chrysler 300. 300 Limited Sedan 4D\n",
      "Houston, TX\n",
      "29K miles\n",
      "-------------------\n",
      "None\n",
      "-------------------\n"
     ]
    },
    {
     "data": {
      "text/html": [
       "<div class=\"kbiprv82\"><a class=\"oajrlxb2 g5ia77u1 qu0x051f esr5mh6w e9989ue4 r7d6kgcz rq0escxv nhd2j8a9 nc684nl6 p7hjln8o kvgmc6g5 cxmmr5t8 oygrvhab hcukyx3x jb3vyjys rz4wbd8a qt6c0cv9 a8nywdso i1ao9s8h esuyzwwr f1sip0of lzcic4wl gmql0nx0 p8dawk7l\" href=\"/marketplace/item/642038823083672/\" role=\"link\" tabindex=\"0\"><div class=\"j83agx80 cbu4d94t l9j0dhe7\"><div class=\"l9j0dhe7\"><div class=\"k4urcfbm l9j0dhe7\"><div class=\"kr520xx4 j9ispegn l9j0dhe7 stjgntxs ni8dbmo4 n7fi1qx3 i09qtzwb kzx2olss aot14ch1 p86d2i9g beltcj47 t63ysoy8 linmgsc8 hop1g133 opwvks06\"><div class=\"beltcj47 p86d2i9g aot14ch1 kzx2olss ni8dbmo4 stjgntxs d5it6em2 l9j0dhe7 k4urcfbm\"><div class=\"j83agx80 lhclo0ds ihdl84by pmk7jnqg h119xb3h iylxurvu bo2ra7bd\"><div class=\"rq0escxv j83agx80 buofh1pr datstx6m ggysqto6 exrn9cbp ojkyduve abpf7j7b l9j0dhe7 k4urcfbm\"><img alt=\"2019 Chrysler 300. 300 Limited Sedan 4D in Houston, TX\" class=\"idiwt2bm bixrwtb6 ni8dbmo4 stjgntxs k4urcfbm\" src=\"https://scontent.fhou1-1.fna.fbcdn.net/v/t1.0-0/c43.0.260.260a/p261x260/117235141_3475776429119799_2797684747052302738_n.jpg?_nc_cat=100&amp;_nc_sid=843cd7&amp;_nc_ohc=bWRFzLLnfw8AX-liBgR&amp;_nc_ht=scontent.fhou1-1.fna&amp;oh=26abcce017ccd050ec2e78f03faf0f22&amp;oe=5F6CF746\"></div></div></div></div></div></div><div class=\"rq0escxv j83agx80 cbu4d94t i1fnvgqd muag1w35 pybr56ya f10w8fjw k4urcfbm c7r68pdi suyy3zvx\"><div class=\"aahdfvyu fsotbgu8\"><span class=\"j83agx80\"><div class=\"a8nywdso e5nlhep0 rz4wbd8a ecm0bbzt btwxx1t3 j83agx80\"><div class=\"hlyrhctz\"><span class=\"oi732d6d ik7dh3pa d2edcug0 qv66sw1b c1et5uql a8c37x1j s89635nw ew0dbk1b a5q79mjw g1cxx5fr lrazzd5p oo9gr5id\" dir=\"auto\">$799</span></div><div class=\"f0t0fhil mkhogb32\"><span class=\"oi732d6d ik7dh3pa d2edcug0 qv66sw1b c1et5uql a8c37x1j muag1w35 enqfppq2 jq4qci2q a3bd9o3v ekzkrbhg oo9gr5id\" dir=\"auto\">$799</span></div></div></span></div><div class=\"aahdfvyu fsotbgu8\"><span aria-hidden=\"true\"><div class=\"a8nywdso e5nlhep0 rz4wbd8a linoseic\"><span class=\"a8c37x1j ni8dbmo4 stjgntxs l9j0dhe7 oi732d6d ik7dh3pa d2edcug0 qv66sw1b c1et5uql muag1w35 enqfppq2 jq4qci2q a3bd9o3v knj5qynh oo9gr5id\" dir=\"auto\" style=\"-webkit-box-orient: vertical; -webkit-line-clamp: 2; display: -webkit-box;\">2019 Chrysler 300. 300 Limited Sedan 4D</span></div></span></div><div class=\"aahdfvyu fsotbgu8\"><span aria-hidden=\"true\"><div class=\"a8nywdso e5nlhep0 rz4wbd8a ecm0bbzt\"><span class=\"a8c37x1j ni8dbmo4 stjgntxs l9j0dhe7 ltmttdrg g0qnabr5 oi732d6d ik7dh3pa d2edcug0 qv66sw1b c1et5uql hop8lmos enqfppq2 e9vueds3 j5wam9gi knj5qynh m9osqain\" dir=\"auto\">Houston, TX</span></div></span></div><div class=\"aahdfvyu fsotbgu8\"><div class=\"a8nywdso e5nlhep0 rz4wbd8a ecm0bbzt\"><span class=\"a8c37x1j ni8dbmo4 stjgntxs l9j0dhe7 ltmttdrg g0qnabr5 oi732d6d ik7dh3pa d2edcug0 qv66sw1b c1et5uql hop8lmos enqfppq2 e9vueds3 j5wam9gi knj5qynh m9osqain\" dir=\"auto\">29K miles</span></div></div></div></div></a></div>"
      ],
      "text/plain": [
       "<IPython.core.display.HTML object>"
      ]
     },
     "metadata": {},
     "output_type": "display_data"
    },
    {
     "name": "stdout",
     "output_type": "stream",
     "text": [
      "-------------------\n",
      "$3,999\n",
      "2012 Nissan Versa\n",
      "Houston, TX\n",
      "61K miles\n",
      "-------------------\n",
      "None\n",
      "-------------------\n"
     ]
    },
    {
     "data": {
      "text/html": [
       "<div class=\"kbiprv82\"><a class=\"oajrlxb2 g5ia77u1 qu0x051f esr5mh6w e9989ue4 r7d6kgcz rq0escxv nhd2j8a9 nc684nl6 p7hjln8o kvgmc6g5 cxmmr5t8 oygrvhab hcukyx3x jb3vyjys rz4wbd8a qt6c0cv9 a8nywdso i1ao9s8h esuyzwwr f1sip0of lzcic4wl gmql0nx0 p8dawk7l\" href=\"/marketplace/item/364471224494858/\" role=\"link\" tabindex=\"0\"><div class=\"j83agx80 cbu4d94t l9j0dhe7\"><div class=\"l9j0dhe7\"><div class=\"k4urcfbm l9j0dhe7\"><div class=\"kr520xx4 j9ispegn l9j0dhe7 stjgntxs ni8dbmo4 n7fi1qx3 i09qtzwb kzx2olss aot14ch1 p86d2i9g beltcj47 t63ysoy8 linmgsc8 hop1g133 opwvks06\"><div class=\"beltcj47 p86d2i9g aot14ch1 kzx2olss ni8dbmo4 stjgntxs d5it6em2 l9j0dhe7 k4urcfbm\"><div class=\"j83agx80 lhclo0ds ihdl84by pmk7jnqg h119xb3h iylxurvu bo2ra7bd\"><div class=\"rq0escxv j83agx80 buofh1pr datstx6m ggysqto6 exrn9cbp ojkyduve abpf7j7b l9j0dhe7 k4urcfbm\"><img alt=\"2012 Nissan Versa in Houston, TX\" class=\"idiwt2bm bixrwtb6 ni8dbmo4 stjgntxs k4urcfbm\" src=\"https://scontent.fhou1-2.fna.fbcdn.net/v/t1.0-0/c0.79.720.720a/s261x260/69541352_678458249319415_5194338112116883456_n.jpg?_nc_cat=109&amp;_nc_sid=843cd7&amp;_nc_ohc=E3gVMfSjgOYAX_UULgN&amp;_nc_ht=scontent.fhou1-2.fna&amp;oh=f3dab3de6098e239c7f277cb97c92365&amp;oe=5F6E3DD1\"></div></div></div></div></div></div><div class=\"rq0escxv j83agx80 cbu4d94t i1fnvgqd muag1w35 pybr56ya f10w8fjw k4urcfbm c7r68pdi suyy3zvx\"><div class=\"aahdfvyu fsotbgu8\"><span class=\"j83agx80\"><div class=\"a8nywdso e5nlhep0 rz4wbd8a ecm0bbzt btwxx1t3 j83agx80\"><div class=\"hlyrhctz\"><span class=\"oi732d6d ik7dh3pa d2edcug0 qv66sw1b c1et5uql a8c37x1j s89635nw ew0dbk1b a5q79mjw g1cxx5fr lrazzd5p oo9gr5id\" dir=\"auto\">$3,999</span></div><div class=\"f0t0fhil mkhogb32\"><span class=\"oi732d6d ik7dh3pa d2edcug0 qv66sw1b c1et5uql a8c37x1j muag1w35 enqfppq2 jq4qci2q a3bd9o3v ekzkrbhg oo9gr5id\" dir=\"auto\">$3,999</span></div></div></span></div><div class=\"aahdfvyu fsotbgu8\"><span aria-hidden=\"true\"><div class=\"a8nywdso e5nlhep0 rz4wbd8a linoseic\"><span class=\"a8c37x1j ni8dbmo4 stjgntxs l9j0dhe7 oi732d6d ik7dh3pa d2edcug0 qv66sw1b c1et5uql muag1w35 enqfppq2 jq4qci2q a3bd9o3v knj5qynh oo9gr5id\" dir=\"auto\" style=\"-webkit-box-orient: vertical; -webkit-line-clamp: 2; display: -webkit-box;\">2012 Nissan Versa</span></div></span></div><div class=\"aahdfvyu fsotbgu8\"><span aria-hidden=\"true\"><div class=\"a8nywdso e5nlhep0 rz4wbd8a ecm0bbzt\"><span class=\"a8c37x1j ni8dbmo4 stjgntxs l9j0dhe7 ltmttdrg g0qnabr5 oi732d6d ik7dh3pa d2edcug0 qv66sw1b c1et5uql hop8lmos enqfppq2 e9vueds3 j5wam9gi knj5qynh m9osqain\" dir=\"auto\">Houston, TX</span></div></span></div><div class=\"aahdfvyu fsotbgu8\"><div class=\"a8nywdso e5nlhep0 rz4wbd8a ecm0bbzt\"><span class=\"a8c37x1j ni8dbmo4 stjgntxs l9j0dhe7 ltmttdrg g0qnabr5 oi732d6d ik7dh3pa d2edcug0 qv66sw1b c1et5uql hop8lmos enqfppq2 e9vueds3 j5wam9gi knj5qynh m9osqain\" dir=\"auto\">61K miles</span></div></div></div></div></a></div>"
      ],
      "text/plain": [
       "<IPython.core.display.HTML object>"
      ]
     },
     "metadata": {},
     "output_type": "display_data"
    },
    {
     "name": "stdout",
     "output_type": "stream",
     "text": [
      "-------------------\n",
      "$3,850\n",
      "2015 Nissan Versa S Sedan 4D\n",
      "Houston, TX\n",
      "120K miles\n",
      "-------------------\n",
      "None\n",
      "-------------------\n"
     ]
    },
    {
     "data": {
      "text/html": [
       "<div class=\"kbiprv82\"><a class=\"oajrlxb2 g5ia77u1 qu0x051f esr5mh6w e9989ue4 r7d6kgcz rq0escxv nhd2j8a9 nc684nl6 p7hjln8o kvgmc6g5 cxmmr5t8 oygrvhab hcukyx3x jb3vyjys rz4wbd8a qt6c0cv9 a8nywdso i1ao9s8h esuyzwwr f1sip0of lzcic4wl gmql0nx0 p8dawk7l\" href=\"/marketplace/item/2579193512331597/\" role=\"link\" tabindex=\"0\"><div class=\"j83agx80 cbu4d94t l9j0dhe7\"><div class=\"l9j0dhe7\"><div class=\"k4urcfbm l9j0dhe7\"><div class=\"kr520xx4 j9ispegn l9j0dhe7 stjgntxs ni8dbmo4 n7fi1qx3 i09qtzwb kzx2olss aot14ch1 p86d2i9g beltcj47 t63ysoy8 linmgsc8 hop1g133 opwvks06\"><div class=\"beltcj47 p86d2i9g aot14ch1 kzx2olss ni8dbmo4 stjgntxs d5it6em2 l9j0dhe7 k4urcfbm\"><div class=\"j83agx80 lhclo0ds ihdl84by pmk7jnqg h119xb3h iylxurvu bo2ra7bd\"><div class=\"rq0escxv j83agx80 buofh1pr datstx6m ggysqto6 exrn9cbp ojkyduve abpf7j7b l9j0dhe7 k4urcfbm\"><img alt=\"2015 Nissan Versa S Sedan 4D in Houston, TX\" class=\"idiwt2bm bixrwtb6 ni8dbmo4 stjgntxs k4urcfbm\" src=\"https://scontent.fhou1-1.fna.fbcdn.net/v/t1.0-0/s261x260/104730073_3613909998638655_2552853711733068195_n.jpg?_nc_cat=100&amp;_nc_sid=843cd7&amp;_nc_ohc=WmBZ3tKr3MIAX9DhLUW&amp;_nc_ht=scontent.fhou1-1.fna&amp;tp=7&amp;oh=220736e01cc62df9fc90601c0f7ce802&amp;oe=5F6DA02F\"></div></div></div></div></div></div><div class=\"rq0escxv j83agx80 cbu4d94t i1fnvgqd muag1w35 pybr56ya f10w8fjw k4urcfbm c7r68pdi suyy3zvx\"><div class=\"aahdfvyu fsotbgu8\"><span class=\"j83agx80\"><div class=\"a8nywdso e5nlhep0 rz4wbd8a ecm0bbzt btwxx1t3 j83agx80\"><div class=\"hlyrhctz\"><span class=\"oi732d6d ik7dh3pa d2edcug0 qv66sw1b c1et5uql a8c37x1j s89635nw ew0dbk1b a5q79mjw g1cxx5fr lrazzd5p oo9gr5id\" dir=\"auto\">$3,850</span></div><div class=\"f0t0fhil mkhogb32\"><span class=\"oi732d6d ik7dh3pa d2edcug0 qv66sw1b c1et5uql a8c37x1j muag1w35 enqfppq2 jq4qci2q a3bd9o3v ekzkrbhg oo9gr5id\" dir=\"auto\">$3,850</span></div></div></span></div><div class=\"aahdfvyu fsotbgu8\"><span aria-hidden=\"true\"><div class=\"a8nywdso e5nlhep0 rz4wbd8a linoseic\"><span class=\"a8c37x1j ni8dbmo4 stjgntxs l9j0dhe7 oi732d6d ik7dh3pa d2edcug0 qv66sw1b c1et5uql muag1w35 enqfppq2 jq4qci2q a3bd9o3v knj5qynh oo9gr5id\" dir=\"auto\" style=\"-webkit-box-orient: vertical; -webkit-line-clamp: 2; display: -webkit-box;\">2015 Nissan Versa S Sedan 4D</span></div></span></div><div class=\"aahdfvyu fsotbgu8\"><span aria-hidden=\"true\"><div class=\"a8nywdso e5nlhep0 rz4wbd8a ecm0bbzt\"><span class=\"a8c37x1j ni8dbmo4 stjgntxs l9j0dhe7 ltmttdrg g0qnabr5 oi732d6d ik7dh3pa d2edcug0 qv66sw1b c1et5uql hop8lmos enqfppq2 e9vueds3 j5wam9gi knj5qynh m9osqain\" dir=\"auto\">Houston, TX</span></div></span></div><div class=\"aahdfvyu fsotbgu8\"><div class=\"a8nywdso e5nlhep0 rz4wbd8a ecm0bbzt\"><span class=\"a8c37x1j ni8dbmo4 stjgntxs l9j0dhe7 ltmttdrg g0qnabr5 oi732d6d ik7dh3pa d2edcug0 qv66sw1b c1et5uql hop8lmos enqfppq2 e9vueds3 j5wam9gi knj5qynh m9osqain\" dir=\"auto\">120K miles</span></div></div></div></div></a></div>"
      ],
      "text/plain": [
       "<IPython.core.display.HTML object>"
      ]
     },
     "metadata": {},
     "output_type": "display_data"
    },
    {
     "name": "stdout",
     "output_type": "stream",
     "text": [
      "-------------------\n",
      "$1,500\n",
      "2019 Dodge durango. SXT Sport Utility 4D\n",
      "Houston, TX\n",
      "25K miles\n",
      "-------------------\n",
      "None\n",
      "-------------------\n"
     ]
    },
    {
     "data": {
      "text/html": [
       "<div class=\"kbiprv82\"><a class=\"oajrlxb2 g5ia77u1 qu0x051f esr5mh6w e9989ue4 r7d6kgcz rq0escxv nhd2j8a9 nc684nl6 p7hjln8o kvgmc6g5 cxmmr5t8 oygrvhab hcukyx3x jb3vyjys rz4wbd8a qt6c0cv9 a8nywdso i1ao9s8h esuyzwwr f1sip0of lzcic4wl gmql0nx0 p8dawk7l\" href=\"/marketplace/item/939648419882938/\" role=\"link\" tabindex=\"0\"><div class=\"j83agx80 cbu4d94t l9j0dhe7\"><div class=\"l9j0dhe7\"><div class=\"k4urcfbm l9j0dhe7\"><div class=\"kr520xx4 j9ispegn l9j0dhe7 stjgntxs ni8dbmo4 n7fi1qx3 i09qtzwb kzx2olss aot14ch1 p86d2i9g beltcj47 t63ysoy8 linmgsc8 hop1g133 opwvks06\"><div class=\"beltcj47 p86d2i9g aot14ch1 kzx2olss ni8dbmo4 stjgntxs d5it6em2 l9j0dhe7 k4urcfbm\"><div class=\"j83agx80 lhclo0ds ihdl84by pmk7jnqg h119xb3h iylxurvu bo2ra7bd\"><div class=\"rq0escxv j83agx80 buofh1pr datstx6m ggysqto6 exrn9cbp ojkyduve abpf7j7b l9j0dhe7 k4urcfbm\"><img alt=\"2019 Dodge durango. SXT Sport Utility 4D in Houston, TX\" class=\"idiwt2bm bixrwtb6 ni8dbmo4 stjgntxs k4urcfbm\" src=\"https://scontent.fhou1-2.fna.fbcdn.net/v/t1.0-0/c43.0.260.260a/p261x260/116860900_3257878544268208_9185757719303452597_n.jpg?_nc_cat=108&amp;_nc_sid=843cd7&amp;_nc_ohc=778LdvntuT0AX8DHNn0&amp;_nc_ht=scontent.fhou1-2.fna&amp;oh=7c4fbee3fcf17f049eebb0602a8d5c38&amp;oe=5F6C2F58\"></div></div></div></div></div></div><div class=\"rq0escxv j83agx80 cbu4d94t i1fnvgqd muag1w35 pybr56ya f10w8fjw k4urcfbm c7r68pdi suyy3zvx\"><div class=\"aahdfvyu fsotbgu8\"><span class=\"j83agx80\"><div class=\"a8nywdso e5nlhep0 rz4wbd8a ecm0bbzt btwxx1t3 j83agx80\"><div class=\"hlyrhctz\"><span class=\"oi732d6d ik7dh3pa d2edcug0 qv66sw1b c1et5uql a8c37x1j s89635nw ew0dbk1b a5q79mjw g1cxx5fr lrazzd5p oo9gr5id\" dir=\"auto\">$1,500</span></div><div class=\"f0t0fhil mkhogb32\"><span class=\"oi732d6d ik7dh3pa d2edcug0 qv66sw1b c1et5uql a8c37x1j muag1w35 enqfppq2 jq4qci2q a3bd9o3v ekzkrbhg oo9gr5id\" dir=\"auto\">$1,500</span></div></div></span></div><div class=\"aahdfvyu fsotbgu8\"><span aria-hidden=\"true\"><div class=\"a8nywdso e5nlhep0 rz4wbd8a linoseic\"><span class=\"a8c37x1j ni8dbmo4 stjgntxs l9j0dhe7 oi732d6d ik7dh3pa d2edcug0 qv66sw1b c1et5uql muag1w35 enqfppq2 jq4qci2q a3bd9o3v knj5qynh oo9gr5id\" dir=\"auto\" style=\"-webkit-box-orient: vertical; -webkit-line-clamp: 2; display: -webkit-box;\">2019 Dodge durango. SXT Sport Utility 4D</span></div></span></div><div class=\"aahdfvyu fsotbgu8\"><span aria-hidden=\"true\"><div class=\"a8nywdso e5nlhep0 rz4wbd8a ecm0bbzt\"><span class=\"a8c37x1j ni8dbmo4 stjgntxs l9j0dhe7 ltmttdrg g0qnabr5 oi732d6d ik7dh3pa d2edcug0 qv66sw1b c1et5uql hop8lmos enqfppq2 e9vueds3 j5wam9gi knj5qynh m9osqain\" dir=\"auto\">Houston, TX</span></div></span></div><div class=\"aahdfvyu fsotbgu8\"><div class=\"a8nywdso e5nlhep0 rz4wbd8a ecm0bbzt\"><span class=\"a8c37x1j ni8dbmo4 stjgntxs l9j0dhe7 ltmttdrg g0qnabr5 oi732d6d ik7dh3pa d2edcug0 qv66sw1b c1et5uql hop8lmos enqfppq2 e9vueds3 j5wam9gi knj5qynh m9osqain\" dir=\"auto\">25K miles</span></div></div></div></div></a></div>"
      ],
      "text/plain": [
       "<IPython.core.display.HTML object>"
      ]
     },
     "metadata": {},
     "output_type": "display_data"
    },
    {
     "name": "stdout",
     "output_type": "stream",
     "text": [
      "-------------------\n",
      "$1,000\n",
      "2019 Dodge journey. SE Sport Utility 4D\n",
      "Houston, TX\n",
      "32K miles\n",
      "-------------------\n",
      "None\n",
      "-------------------\n"
     ]
    },
    {
     "data": {
      "text/html": [
       "<div class=\"kbiprv82\"><a class=\"oajrlxb2 g5ia77u1 qu0x051f esr5mh6w e9989ue4 r7d6kgcz rq0escxv nhd2j8a9 nc684nl6 p7hjln8o kvgmc6g5 cxmmr5t8 oygrvhab hcukyx3x jb3vyjys rz4wbd8a qt6c0cv9 a8nywdso i1ao9s8h esuyzwwr f1sip0of lzcic4wl gmql0nx0 p8dawk7l\" href=\"/marketplace/item/222516072254119/\" role=\"link\" tabindex=\"0\"><div class=\"j83agx80 cbu4d94t l9j0dhe7\"><div class=\"l9j0dhe7\"><div class=\"k4urcfbm l9j0dhe7\"><div class=\"kr520xx4 j9ispegn l9j0dhe7 stjgntxs ni8dbmo4 n7fi1qx3 i09qtzwb kzx2olss aot14ch1 p86d2i9g beltcj47 t63ysoy8 linmgsc8 hop1g133 opwvks06\"><div class=\"beltcj47 p86d2i9g aot14ch1 kzx2olss ni8dbmo4 stjgntxs d5it6em2 l9j0dhe7 k4urcfbm\"><div class=\"j83agx80 lhclo0ds ihdl84by pmk7jnqg h119xb3h iylxurvu bo2ra7bd\"><div class=\"rq0escxv j83agx80 buofh1pr datstx6m ggysqto6 exrn9cbp ojkyduve abpf7j7b l9j0dhe7 k4urcfbm\"><img alt=\"2019 Dodge journey. SE Sport Utility 4D in Houston, TX\" class=\"idiwt2bm bixrwtb6 ni8dbmo4 stjgntxs k4urcfbm\" src=\"https://scontent.fhou1-2.fna.fbcdn.net/v/t1.0-0/c37.0.260.260a/p261x260/109478519_3217130915009638_5141875105357219156_n.jpg?_nc_cat=103&amp;_nc_sid=843cd7&amp;_nc_ohc=SDGIFb24_4AAX9KFolV&amp;_nc_ht=scontent.fhou1-2.fna&amp;oh=84ddbb3d3cc23dfe8e0c7f867079674e&amp;oe=5F6E065F\"></div></div></div></div></div></div><div class=\"rq0escxv j83agx80 cbu4d94t i1fnvgqd muag1w35 pybr56ya f10w8fjw k4urcfbm c7r68pdi suyy3zvx\"><div class=\"aahdfvyu fsotbgu8\"><span class=\"j83agx80\"><div class=\"a8nywdso e5nlhep0 rz4wbd8a ecm0bbzt btwxx1t3 j83agx80\"><div class=\"hlyrhctz\"><span class=\"oi732d6d ik7dh3pa d2edcug0 qv66sw1b c1et5uql a8c37x1j s89635nw ew0dbk1b a5q79mjw g1cxx5fr lrazzd5p oo9gr5id\" dir=\"auto\">$1,000</span></div><div class=\"f0t0fhil mkhogb32\"><span class=\"oi732d6d ik7dh3pa d2edcug0 qv66sw1b c1et5uql a8c37x1j muag1w35 enqfppq2 jq4qci2q a3bd9o3v ekzkrbhg oo9gr5id\" dir=\"auto\">$1,000</span></div></div></span></div><div class=\"aahdfvyu fsotbgu8\"><span aria-hidden=\"true\"><div class=\"a8nywdso e5nlhep0 rz4wbd8a linoseic\"><span class=\"a8c37x1j ni8dbmo4 stjgntxs l9j0dhe7 oi732d6d ik7dh3pa d2edcug0 qv66sw1b c1et5uql muag1w35 enqfppq2 jq4qci2q a3bd9o3v knj5qynh oo9gr5id\" dir=\"auto\" style=\"-webkit-box-orient: vertical; -webkit-line-clamp: 2; display: -webkit-box;\">2019 Dodge journey. SE Sport Utility 4D</span></div></span></div><div class=\"aahdfvyu fsotbgu8\"><span aria-hidden=\"true\"><div class=\"a8nywdso e5nlhep0 rz4wbd8a ecm0bbzt\"><span class=\"a8c37x1j ni8dbmo4 stjgntxs l9j0dhe7 ltmttdrg g0qnabr5 oi732d6d ik7dh3pa d2edcug0 qv66sw1b c1et5uql hop8lmos enqfppq2 e9vueds3 j5wam9gi knj5qynh m9osqain\" dir=\"auto\">Houston, TX</span></div></span></div><div class=\"aahdfvyu fsotbgu8\"><div class=\"a8nywdso e5nlhep0 rz4wbd8a ecm0bbzt\"><span class=\"a8c37x1j ni8dbmo4 stjgntxs l9j0dhe7 ltmttdrg g0qnabr5 oi732d6d ik7dh3pa d2edcug0 qv66sw1b c1et5uql hop8lmos enqfppq2 e9vueds3 j5wam9gi knj5qynh m9osqain\" dir=\"auto\">32K miles</span></div></div></div></div></a></div>"
      ],
      "text/plain": [
       "<IPython.core.display.HTML object>"
      ]
     },
     "metadata": {},
     "output_type": "display_data"
    },
    {
     "name": "stdout",
     "output_type": "stream",
     "text": [
      "-------------------\n",
      "$1,000\n",
      "2016 Ram 1500 Crew Cab Big Horn Pickup 4D 5 1/2 ft\n",
      "Pasadena, TX\n",
      "34K miles\n",
      "-------------------\n",
      "None\n",
      "-------------------\n"
     ]
    },
    {
     "data": {
      "text/html": [
       "<div class=\"kbiprv82\"><a class=\"oajrlxb2 g5ia77u1 qu0x051f esr5mh6w e9989ue4 r7d6kgcz rq0escxv nhd2j8a9 nc684nl6 p7hjln8o kvgmc6g5 cxmmr5t8 oygrvhab hcukyx3x jb3vyjys rz4wbd8a qt6c0cv9 a8nywdso i1ao9s8h esuyzwwr f1sip0of lzcic4wl gmql0nx0 p8dawk7l\" href=\"/marketplace/item/1193175110869130/\" role=\"link\" tabindex=\"0\"><div class=\"j83agx80 cbu4d94t l9j0dhe7\"><div class=\"l9j0dhe7\"><div class=\"k4urcfbm l9j0dhe7\"><div class=\"kr520xx4 j9ispegn l9j0dhe7 stjgntxs ni8dbmo4 n7fi1qx3 i09qtzwb kzx2olss aot14ch1 p86d2i9g beltcj47 t63ysoy8 linmgsc8 hop1g133 opwvks06\"><div class=\"beltcj47 p86d2i9g aot14ch1 kzx2olss ni8dbmo4 stjgntxs d5it6em2 l9j0dhe7 k4urcfbm\"><div class=\"j83agx80 lhclo0ds ihdl84by pmk7jnqg h119xb3h iylxurvu bo2ra7bd\"><div class=\"rq0escxv j83agx80 buofh1pr datstx6m ggysqto6 exrn9cbp ojkyduve abpf7j7b l9j0dhe7 k4urcfbm\"><img alt=\"2016 Ram 1500 Crew Cab Big Horn Pickup 4D 5 1/2 ft in Pasadena, TX\" class=\"idiwt2bm bixrwtb6 ni8dbmo4 stjgntxs k4urcfbm\" src=\"https://scontent.fhou1-1.fna.fbcdn.net/v/t1.0-0/c43.0.260.260a/p261x260/69873316_2495393220516748_25313201507794944_n.jpg?_nc_cat=110&amp;_nc_sid=843cd7&amp;_nc_ohc=vYl0bI90z8QAX_WndfV&amp;_nc_ht=scontent.fhou1-1.fna&amp;oh=e09af0c8e4765f0199c4247c3c152cf5&amp;oe=5F6E1D10\"></div></div></div></div></div></div><div class=\"rq0escxv j83agx80 cbu4d94t i1fnvgqd muag1w35 pybr56ya f10w8fjw k4urcfbm c7r68pdi suyy3zvx\"><div class=\"aahdfvyu fsotbgu8\"><span class=\"j83agx80\"><div class=\"a8nywdso e5nlhep0 rz4wbd8a ecm0bbzt btwxx1t3 j83agx80\"><div class=\"hlyrhctz\"><span class=\"oi732d6d ik7dh3pa d2edcug0 qv66sw1b c1et5uql a8c37x1j s89635nw ew0dbk1b a5q79mjw g1cxx5fr lrazzd5p oo9gr5id\" dir=\"auto\">$1,000</span></div><div class=\"f0t0fhil mkhogb32\"><span class=\"oi732d6d ik7dh3pa d2edcug0 qv66sw1b c1et5uql a8c37x1j muag1w35 enqfppq2 jq4qci2q a3bd9o3v ekzkrbhg oo9gr5id\" dir=\"auto\">$1,000</span></div></div></span></div><div class=\"aahdfvyu fsotbgu8\"><span aria-hidden=\"true\"><div class=\"a8nywdso e5nlhep0 rz4wbd8a linoseic\"><span class=\"a8c37x1j ni8dbmo4 stjgntxs l9j0dhe7 oi732d6d ik7dh3pa d2edcug0 qv66sw1b c1et5uql muag1w35 enqfppq2 jq4qci2q a3bd9o3v knj5qynh oo9gr5id\" dir=\"auto\" style=\"-webkit-box-orient: vertical; -webkit-line-clamp: 2; display: -webkit-box;\">2016 Ram 1500 Crew Cab Big Horn Pickup 4D 5 1/2 ft</span></div></span></div><div class=\"aahdfvyu fsotbgu8\"><span aria-hidden=\"true\"><div class=\"a8nywdso e5nlhep0 rz4wbd8a ecm0bbzt\"><span class=\"a8c37x1j ni8dbmo4 stjgntxs l9j0dhe7 ltmttdrg g0qnabr5 oi732d6d ik7dh3pa d2edcug0 qv66sw1b c1et5uql hop8lmos enqfppq2 e9vueds3 j5wam9gi knj5qynh m9osqain\" dir=\"auto\">Pasadena, TX</span></div></span></div><div class=\"aahdfvyu fsotbgu8\"><div class=\"a8nywdso e5nlhep0 rz4wbd8a ecm0bbzt\"><span class=\"a8c37x1j ni8dbmo4 stjgntxs l9j0dhe7 ltmttdrg g0qnabr5 oi732d6d ik7dh3pa d2edcug0 qv66sw1b c1et5uql hop8lmos enqfppq2 e9vueds3 j5wam9gi knj5qynh m9osqain\" dir=\"auto\">34K miles</span></div></div></div></div></a></div>"
      ],
      "text/plain": [
       "<IPython.core.display.HTML object>"
      ]
     },
     "metadata": {},
     "output_type": "display_data"
    },
    {
     "name": "stdout",
     "output_type": "stream",
     "text": [
      "-------------------\n",
      "$500\n",
      "2018 Chrysler 300 Touring Sedan 4D\n",
      "Houston, TX\n",
      "23K miles\n",
      "-------------------\n",
      "None\n",
      "-------------------\n"
     ]
    },
    {
     "data": {
      "text/html": [
       "<div class=\"kbiprv82\"><a class=\"oajrlxb2 g5ia77u1 qu0x051f esr5mh6w e9989ue4 r7d6kgcz rq0escxv nhd2j8a9 nc684nl6 p7hjln8o kvgmc6g5 cxmmr5t8 oygrvhab hcukyx3x jb3vyjys rz4wbd8a qt6c0cv9 a8nywdso i1ao9s8h esuyzwwr f1sip0of lzcic4wl gmql0nx0 p8dawk7l\" href=\"/marketplace/item/328137511475554/\" role=\"link\" tabindex=\"0\"><div class=\"j83agx80 cbu4d94t l9j0dhe7\"><div class=\"l9j0dhe7\"><div class=\"k4urcfbm l9j0dhe7\"><div class=\"kr520xx4 j9ispegn l9j0dhe7 stjgntxs ni8dbmo4 n7fi1qx3 i09qtzwb kzx2olss aot14ch1 p86d2i9g beltcj47 t63ysoy8 linmgsc8 hop1g133 opwvks06\"><div class=\"beltcj47 p86d2i9g aot14ch1 kzx2olss ni8dbmo4 stjgntxs d5it6em2 l9j0dhe7 k4urcfbm\"><div class=\"j83agx80 lhclo0ds ihdl84by pmk7jnqg h119xb3h iylxurvu bo2ra7bd\"><div class=\"rq0escxv j83agx80 buofh1pr datstx6m ggysqto6 exrn9cbp ojkyduve abpf7j7b l9j0dhe7 k4urcfbm\"><img alt=\"2018 Chrysler 300 Touring Sedan 4D in Houston, TX\" class=\"idiwt2bm bixrwtb6 ni8dbmo4 stjgntxs k4urcfbm\" src=\"https://scontent.fhou1-1.fna.fbcdn.net/v/t1.0-0/c43.0.260.260a/p261x260/87575365_179004503532991_7247819352802590720_o.jpg?_nc_cat=106&amp;_nc_sid=843cd7&amp;_nc_ohc=gTXjWYt3QKoAX_rnw2f&amp;_nc_ht=scontent.fhou1-1.fna&amp;oh=58c41588bffca63412318a79e32f4c76&amp;oe=5F6AD394\"></div></div></div></div></div></div><div class=\"rq0escxv j83agx80 cbu4d94t i1fnvgqd muag1w35 pybr56ya f10w8fjw k4urcfbm c7r68pdi suyy3zvx\"><div class=\"aahdfvyu fsotbgu8\"><span class=\"j83agx80\"><div class=\"a8nywdso e5nlhep0 rz4wbd8a ecm0bbzt btwxx1t3 j83agx80\"><div class=\"hlyrhctz\"><span class=\"oi732d6d ik7dh3pa d2edcug0 qv66sw1b c1et5uql a8c37x1j s89635nw ew0dbk1b a5q79mjw g1cxx5fr lrazzd5p oo9gr5id\" dir=\"auto\">$500</span></div><div class=\"f0t0fhil mkhogb32\"><span class=\"oi732d6d ik7dh3pa d2edcug0 qv66sw1b c1et5uql a8c37x1j muag1w35 enqfppq2 jq4qci2q a3bd9o3v ekzkrbhg oo9gr5id\" dir=\"auto\">$500</span></div></div></span></div><div class=\"aahdfvyu fsotbgu8\"><span aria-hidden=\"true\"><div class=\"a8nywdso e5nlhep0 rz4wbd8a linoseic\"><span class=\"a8c37x1j ni8dbmo4 stjgntxs l9j0dhe7 oi732d6d ik7dh3pa d2edcug0 qv66sw1b c1et5uql muag1w35 enqfppq2 jq4qci2q a3bd9o3v knj5qynh oo9gr5id\" dir=\"auto\" style=\"-webkit-box-orient: vertical; -webkit-line-clamp: 2; display: -webkit-box;\">2018 Chrysler 300 Touring Sedan 4D</span></div></span></div><div class=\"aahdfvyu fsotbgu8\"><span aria-hidden=\"true\"><div class=\"a8nywdso e5nlhep0 rz4wbd8a ecm0bbzt\"><span class=\"a8c37x1j ni8dbmo4 stjgntxs l9j0dhe7 ltmttdrg g0qnabr5 oi732d6d ik7dh3pa d2edcug0 qv66sw1b c1et5uql hop8lmos enqfppq2 e9vueds3 j5wam9gi knj5qynh m9osqain\" dir=\"auto\">Houston, TX</span></div></span></div><div class=\"aahdfvyu fsotbgu8\"><div class=\"a8nywdso e5nlhep0 rz4wbd8a ecm0bbzt\"><span class=\"a8c37x1j ni8dbmo4 stjgntxs l9j0dhe7 ltmttdrg g0qnabr5 oi732d6d ik7dh3pa d2edcug0 qv66sw1b c1et5uql hop8lmos enqfppq2 e9vueds3 j5wam9gi knj5qynh m9osqain\" dir=\"auto\">23K miles</span></div></div></div></div></a></div>"
      ],
      "text/plain": [
       "<IPython.core.display.HTML object>"
      ]
     },
     "metadata": {},
     "output_type": "display_data"
    },
    {
     "name": "stdout",
     "output_type": "stream",
     "text": [
      "-------------------\n"
     ]
    }
   ],
   "source": [
    "from IPython.core.display import display, HTML\n",
    "\n",
    "for ele in elements:\n",
    "    if not 'Dealership' in ele.text:\n",
    "        print(ele.text)\n",
    "        print(\"-------------------\")\n",
    "        print(ele.get_attribute('Href'))\n",
    "        print(\"-------------------\")\n",
    "        display(HTML(ele.get_attribute('outerHTML')))\n",
    "        print(\"-------------------\")"
   ]
  },
  {
   "cell_type": "code",
   "execution_count": null,
   "metadata": {},
   "outputs": [],
   "source": []
  }
 ],
 "metadata": {
  "kernelspec": {
   "display_name": "Python 3",
   "language": "python",
   "name": "python3"
  },
  "language_info": {
   "codemirror_mode": {
    "name": "ipython",
    "version": 3
   },
   "file_extension": ".py",
   "mimetype": "text/x-python",
   "name": "python",
   "nbconvert_exporter": "python",
   "pygments_lexer": "ipython3",
   "version": "3.6.8"
  }
 },
 "nbformat": 4,
 "nbformat_minor": 4
}
